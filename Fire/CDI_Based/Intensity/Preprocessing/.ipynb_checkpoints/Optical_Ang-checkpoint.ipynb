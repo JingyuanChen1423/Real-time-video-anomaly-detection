{
 "cells": [
  {
   "cell_type": "code",
   "execution_count": 1,
   "metadata": {
    "ExecuteTime": {
     "end_time": "2020-09-19T23:25:25.876163Z",
     "start_time": "2020-09-19T23:25:22.907394Z"
    }
   },
   "outputs": [
    {
     "name": "stdout",
     "output_type": "stream",
     "text": [
      "importing Jupyter notebook from C:\\Users\\jingy\\Jupyter\\Crime\\Fire\\CDI_Based\\Intensity\\Preprocessing\\image_preprocessing\\cdi_process.ipynb\n",
      "importing Jupyter notebook from C:\\Users\\jingy\\Jupyter\\Crime\\Fire\\CDI_Based\\Intensity\\Preprocessing\\image_preprocessing\\calc_entropy.ipynb\n",
      "importing Jupyter notebook from C:\\Users\\jingy\\Jupyter\\Crime\\Fire\\CDI_Based\\Intensity\\Preprocessing\\image_preprocessing\\edge_process.ipynb\n"
     ]
    }
   ],
   "source": [
    "import Ipynb_importer\n",
    "import cv2 as cv\n",
    "import sys,os\n",
    "import time\n",
    "import numpy as np\n",
    "import matplotlib.pyplot as plt\n",
    "import pandas as pd\n",
    "import seaborn as sns\n",
    "from collections import Counter\n",
    "from numba import jit\n",
    "\n",
    "from image_preprocessing import cdi_process,calc_entropy,edge_process\n",
    "from sklearn.preprocessing import StandardScaler,MinMaxScaler\n",
    "\n",
    "%matplotlib inline\n",
    "sns.set_style('darkgrid')\n",
    "Dataset='/Fire/'\n",
    "Home_os='C:/Users/jingy/Jupyter/Crime/Fire/Dataset/video/'\n",
    "negative_os=Home_os+'negative/'\n",
    "positive_os=Home_os+'positive/'\n"
   ]
  },
  {
   "cell_type": "code",
   "execution_count": null,
   "metadata": {
    "ExecuteTime": {
     "start_time": "2020-09-19T23:25:22.909Z"
    }
   },
   "outputs": [],
   "source": [
    "video=os.listdir(negative_os)\n",
    "#My_CDI=cdi_process.CDI_lib(cap,Threshold=True,mythold=[0,255])\n",
    "Intensity_list=[]\n",
    "for i in video:\n",
    "    start=5\n",
    "    video_name=negative_os+i\n",
    "    cap = cv.VideoCapture(video_name)\n",
    "    My_CDI=cdi_process.CDI_lib(cap,Threshold=False,mythold=[0,255])\n",
    "    in_list=[]\n",
    "    while 1:\n",
    "        if start<=21:\n",
    "            cdi,frame=My_CDI.CDI(start,methods='OPTICAL')\n",
    "            Intensity=My_CDI.CDI_Intensity(cdi,Normalization=False)\n",
    "            in_list.append(Intensity)\n",
    "            cv.imshow('frame',frame)\n",
    "            cv.imshow('cdi',cdi)\n",
    "            k = cv.waitKey(1) \n",
    "            start+=1\n",
    "            if k ==27:     \n",
    "                break \n",
    "        else:\n",
    "            break\n",
    "    Intensity_list.append(in_list)\n",
    "    cap.release()\n",
    "cv.destroyAllWindows() "
   ]
  },
  {
   "cell_type": "code",
   "execution_count": null,
   "metadata": {
    "ExecuteTime": {
     "start_time": "2020-09-19T23:25:22.912Z"
    }
   },
   "outputs": [],
   "source": [
    "print(len(Intensity_list))\n",
    "\n",
    "intensity_dict={'intensity':Intensity_list}\n",
    "df=pd.DataFrame(intensity_dict)\n",
    "#df['label']=0\n",
    "display(df)\n",
    "print(type(df['intensity']))\n",
    "# k=df['intensity'].values\n",
    "# g=[len(k[i]) for i in range(800)]\n",
    "# print(g)"
   ]
  },
  {
   "cell_type": "code",
   "execution_count": null,
   "metadata": {
    "ExecuteTime": {
     "start_time": "2020-09-19T23:25:22.914Z"
    }
   },
   "outputs": [],
   "source": [
    "p_video=os.listdir(positive_os)\n",
    "#My_CDI=cdi_process.CDI_lib(cap,Threshold=True,mythold=[0,255])\n",
    "P_Intensity_list=[]\n",
    "for i in p_video:\n",
    "    start=5\n",
    "    video_name=positive_os+i\n",
    "    cap = cv.VideoCapture(video_name)\n",
    "    My_CDI=cdi_process.CDI_lib(cap,Threshold=False,mythold=[0,255])\n",
    "    in_list=[]\n",
    "    while 1:\n",
    "        if start<=21:\n",
    "            cdi,frame=My_CDI.CDI(start,methods='OPTICAL')\n",
    "            Intensity=My_CDI.CDI_Intensity(cdi,Normalization=False)\n",
    "            in_list.append(Intensity)\n",
    "            cv.imshow('frame',frame)\n",
    "            cv.imshow('cdi',cdi)\n",
    "            k = cv.waitKey(1) \n",
    "            start+=1\n",
    "            if k ==27:     \n",
    "                break \n",
    "        else:\n",
    "            break\n",
    "    P_Intensity_list.append(in_list)\n",
    "    cap.release()\n",
    "cv.destroyAllWindows() "
   ]
  },
  {
   "cell_type": "code",
   "execution_count": null,
   "metadata": {
    "ExecuteTime": {
     "start_time": "2020-09-19T23:25:22.916Z"
    }
   },
   "outputs": [],
   "source": [
    "print(len(P_Intensity_list))\n",
    "P_intensity_dict={'intensity':P_Intensity_list}\n",
    "df=pd.DataFrame(P_intensity_dict)\n",
    "#df['label']=0\n",
    "display(df)\n",
    "print(type(df['intensity']))\n",
    "# k=df['intensity'].values\n",
    "# g=[len(k[i]) for i in range(800)]\n",
    "# print(g)"
   ]
  },
  {
   "cell_type": "code",
   "execution_count": null,
   "metadata": {
    "ExecuteTime": {
     "start_time": "2020-09-19T23:25:22.918Z"
    }
   },
   "outputs": [],
   "source": [
    "\n",
    "Combine_Intensity=Intensity_list+P_Intensity_list\n",
    "# min_max_scaler =MinMaxScaler()\n",
    "# for i in range(len(Combine_Intensity)):\n",
    "#     Combine_Intensity[i] = ((min_max_scaler.fit_transform(np.array(Combine_Intensity[i]).reshape(-1,1)))).reshape(-1).tolist()\n",
    "new_list=[]\n",
    "for i in Combine_Intensity:\n",
    "        str1 = ' '.join([str(x) for x in i])\n",
    "        new_list.append(str1)\n",
    "\n",
    "print(len(new_list))\n"
   ]
  },
  {
   "cell_type": "code",
   "execution_count": null,
   "metadata": {
    "ExecuteTime": {
     "start_time": "2020-09-19T23:25:22.920Z"
    }
   },
   "outputs": [],
   "source": [
    "x = [0] * len(video)\n",
    "y =[1]*len(p_video)\n",
    "z=x+y"
   ]
  },
  {
   "cell_type": "code",
   "execution_count": null,
   "metadata": {
    "ExecuteTime": {
     "start_time": "2020-09-19T23:25:22.922Z"
    }
   },
   "outputs": [],
   "source": [
    "combine_dict={'intensity':new_list,'label':z}\n",
    "df=pd.DataFrame(combine_dict)\n",
    "\n",
    "display(df)\n",
    "y=df['label'].values"
   ]
  },
  {
   "cell_type": "code",
   "execution_count": null,
   "metadata": {
    "ExecuteTime": {
     "start_time": "2020-09-19T23:25:22.925Z"
    }
   },
   "outputs": [],
   "source": [
    "data_df = df['intensity'].str.split(' ', expand=True)\n",
    "\n",
    "data_df['Class'] =y\n",
    "data_df.to_csv('C:/Users/jingy/Jupyter/Crime/Combine/20/CDI_Based/Intensity/CSV'+Dataset+'Optical_Ang.csv')\n",
    "display(data_df)"
   ]
  },
  {
   "cell_type": "code",
   "execution_count": null,
   "metadata": {},
   "outputs": [],
   "source": []
  }
 ],
 "metadata": {
  "kernelspec": {
   "display_name": "Python [conda env:crowd] *",
   "language": "python",
   "name": "conda-env-crowd-py"
  },
  "language_info": {
   "codemirror_mode": {
    "name": "ipython",
    "version": 3
   },
   "file_extension": ".py",
   "mimetype": "text/x-python",
   "name": "python",
   "nbconvert_exporter": "python",
   "pygments_lexer": "ipython3",
   "version": "3.8.3"
  },
  "toc": {
   "base_numbering": 1,
   "nav_menu": {},
   "number_sections": true,
   "sideBar": true,
   "skip_h1_title": false,
   "title_cell": "Table of Contents",
   "title_sidebar": "Contents",
   "toc_cell": false,
   "toc_position": {},
   "toc_section_display": true,
   "toc_window_display": false
  }
 },
 "nbformat": 4,
 "nbformat_minor": 4
}
