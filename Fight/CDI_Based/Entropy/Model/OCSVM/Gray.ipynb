{
 "cells": [
  {
   "cell_type": "code",
   "execution_count": 1,
   "metadata": {
    "ExecuteTime": {
     "end_time": "2020-09-15T23:44:33.630725Z",
     "start_time": "2020-09-15T23:44:32.171905Z"
    }
   },
   "outputs": [],
   "source": [
    "import numpy as np  \n",
    "import matplotlib.pyplot as plt  \n",
    "import matplotlib.font_manager  \n",
    "import pandas as pd\n",
    "from sklearn import svm  \n",
    "from sklearn.model_selection import train_test_split\n",
    "from sklearn.preprocessing import StandardScaler,MinMaxScaler\n",
    "from sklearn import metrics\n",
    "from sklearn.metrics import roc_curve, auc, precision_recall_curve,confusion_matrix,classification_report\n",
    "plt.style.use('seaborn')"
   ]
  },
  {
   "cell_type": "code",
   "execution_count": 2,
   "metadata": {
    "ExecuteTime": {
     "end_time": "2020-09-15T23:44:33.677601Z",
     "start_time": "2020-09-15T23:44:33.632034Z"
    }
   },
   "outputs": [
    {
     "name": "stderr",
     "output_type": "stream",
     "text": [
      "<ipython-input-2-5c402b8d9240>:2: SettingWithCopyWarning: \n",
      "A value is trying to be set on a copy of a slice from a DataFrame\n",
      "\n",
      "See the caveats in the documentation: https://pandas.pydata.org/pandas-docs/stable/user_guide/indexing.html#returning-a-view-versus-a-copy\n",
      "  d.Class[d['Class']==1] = -1\n",
      "<ipython-input-2-5c402b8d9240>:3: SettingWithCopyWarning: \n",
      "A value is trying to be set on a copy of a slice from a DataFrame\n",
      "\n",
      "See the caveats in the documentation: https://pandas.pydata.org/pandas-docs/stable/user_guide/indexing.html#returning-a-view-versus-a-copy\n",
      "  d.Class[d['Class'] == 0] = 1\n"
     ]
    },
    {
     "data": {
      "text/html": [
       "<div>\n",
       "<style scoped>\n",
       "    .dataframe tbody tr th:only-of-type {\n",
       "        vertical-align: middle;\n",
       "    }\n",
       "\n",
       "    .dataframe tbody tr th {\n",
       "        vertical-align: top;\n",
       "    }\n",
       "\n",
       "    .dataframe thead th {\n",
       "        text-align: right;\n",
       "    }\n",
       "</style>\n",
       "<table border=\"1\" class=\"dataframe\">\n",
       "  <thead>\n",
       "    <tr style=\"text-align: right;\">\n",
       "      <th></th>\n",
       "      <th>0</th>\n",
       "      <th>1</th>\n",
       "      <th>2</th>\n",
       "      <th>3</th>\n",
       "      <th>4</th>\n",
       "      <th>5</th>\n",
       "      <th>6</th>\n",
       "      <th>7</th>\n",
       "      <th>8</th>\n",
       "      <th>9</th>\n",
       "      <th>...</th>\n",
       "      <th>19</th>\n",
       "      <th>20</th>\n",
       "      <th>21</th>\n",
       "      <th>22</th>\n",
       "      <th>23</th>\n",
       "      <th>24</th>\n",
       "      <th>25</th>\n",
       "      <th>26</th>\n",
       "      <th>27</th>\n",
       "      <th>Class</th>\n",
       "    </tr>\n",
       "  </thead>\n",
       "  <tbody>\n",
       "    <tr>\n",
       "      <th>0</th>\n",
       "      <td>0.298890</td>\n",
       "      <td>0.243555</td>\n",
       "      <td>0.368200</td>\n",
       "      <td>0.141075</td>\n",
       "      <td>0.026745</td>\n",
       "      <td>0.024165</td>\n",
       "      <td>0.025299</td>\n",
       "      <td>0.013294</td>\n",
       "      <td>0.007776</td>\n",
       "      <td>0.005610</td>\n",
       "      <td>...</td>\n",
       "      <td>0.594919</td>\n",
       "      <td>0.571297</td>\n",
       "      <td>0.498230</td>\n",
       "      <td>0.651810</td>\n",
       "      <td>0.795108</td>\n",
       "      <td>0.513392</td>\n",
       "      <td>0.456466</td>\n",
       "      <td>0.563778</td>\n",
       "      <td>0.333603</td>\n",
       "      <td>1</td>\n",
       "    </tr>\n",
       "    <tr>\n",
       "      <th>1</th>\n",
       "      <td>1.154551</td>\n",
       "      <td>1.082385</td>\n",
       "      <td>1.195876</td>\n",
       "      <td>1.143801</td>\n",
       "      <td>0.853417</td>\n",
       "      <td>0.948769</td>\n",
       "      <td>1.165595</td>\n",
       "      <td>1.111884</td>\n",
       "      <td>1.151807</td>\n",
       "      <td>1.222546</td>\n",
       "      <td>...</td>\n",
       "      <td>0.903411</td>\n",
       "      <td>0.940838</td>\n",
       "      <td>1.018594</td>\n",
       "      <td>1.198660</td>\n",
       "      <td>0.956089</td>\n",
       "      <td>0.703548</td>\n",
       "      <td>0.800044</td>\n",
       "      <td>0.878147</td>\n",
       "      <td>0.780885</td>\n",
       "      <td>1</td>\n",
       "    </tr>\n",
       "    <tr>\n",
       "      <th>2</th>\n",
       "      <td>0.522846</td>\n",
       "      <td>0.577450</td>\n",
       "      <td>0.432822</td>\n",
       "      <td>0.562827</td>\n",
       "      <td>0.658966</td>\n",
       "      <td>0.246311</td>\n",
       "      <td>0.242812</td>\n",
       "      <td>0.226420</td>\n",
       "      <td>0.373526</td>\n",
       "      <td>0.528662</td>\n",
       "      <td>...</td>\n",
       "      <td>1.104311</td>\n",
       "      <td>0.713043</td>\n",
       "      <td>0.617966</td>\n",
       "      <td>0.746172</td>\n",
       "      <td>1.553118</td>\n",
       "      <td>0.988400</td>\n",
       "      <td>0.587547</td>\n",
       "      <td>0.428557</td>\n",
       "      <td>0.377591</td>\n",
       "      <td>1</td>\n",
       "    </tr>\n",
       "    <tr>\n",
       "      <th>3</th>\n",
       "      <td>0.845232</td>\n",
       "      <td>0.455117</td>\n",
       "      <td>0.393453</td>\n",
       "      <td>0.333030</td>\n",
       "      <td>0.395732</td>\n",
       "      <td>0.692572</td>\n",
       "      <td>0.407177</td>\n",
       "      <td>0.317000</td>\n",
       "      <td>0.253929</td>\n",
       "      <td>0.311912</td>\n",
       "      <td>...</td>\n",
       "      <td>0.399332</td>\n",
       "      <td>0.519333</td>\n",
       "      <td>0.127358</td>\n",
       "      <td>0.186973</td>\n",
       "      <td>0.247690</td>\n",
       "      <td>0.279265</td>\n",
       "      <td>0.789419</td>\n",
       "      <td>0.415539</td>\n",
       "      <td>0.330283</td>\n",
       "      <td>1</td>\n",
       "    </tr>\n",
       "    <tr>\n",
       "      <th>4</th>\n",
       "      <td>0.461526</td>\n",
       "      <td>0.787535</td>\n",
       "      <td>0.256154</td>\n",
       "      <td>0.170589</td>\n",
       "      <td>0.754727</td>\n",
       "      <td>0.368296</td>\n",
       "      <td>0.234785</td>\n",
       "      <td>0.771885</td>\n",
       "      <td>0.181732</td>\n",
       "      <td>0.186883</td>\n",
       "      <td>...</td>\n",
       "      <td>0.706019</td>\n",
       "      <td>0.289519</td>\n",
       "      <td>0.199781</td>\n",
       "      <td>0.711980</td>\n",
       "      <td>0.198858</td>\n",
       "      <td>0.141775</td>\n",
       "      <td>0.589598</td>\n",
       "      <td>0.233741</td>\n",
       "      <td>0.151662</td>\n",
       "      <td>1</td>\n",
       "    </tr>\n",
       "  </tbody>\n",
       "</table>\n",
       "<p>5 rows × 29 columns</p>\n",
       "</div>"
      ],
      "text/plain": [
       "          0         1         2         3         4         5         6  \\\n",
       "0  0.298890  0.243555  0.368200  0.141075  0.026745  0.024165  0.025299   \n",
       "1  1.154551  1.082385  1.195876  1.143801  0.853417  0.948769  1.165595   \n",
       "2  0.522846  0.577450  0.432822  0.562827  0.658966  0.246311  0.242812   \n",
       "3  0.845232  0.455117  0.393453  0.333030  0.395732  0.692572  0.407177   \n",
       "4  0.461526  0.787535  0.256154  0.170589  0.754727  0.368296  0.234785   \n",
       "\n",
       "          7         8         9  ...        19        20        21        22  \\\n",
       "0  0.013294  0.007776  0.005610  ...  0.594919  0.571297  0.498230  0.651810   \n",
       "1  1.111884  1.151807  1.222546  ...  0.903411  0.940838  1.018594  1.198660   \n",
       "2  0.226420  0.373526  0.528662  ...  1.104311  0.713043  0.617966  0.746172   \n",
       "3  0.317000  0.253929  0.311912  ...  0.399332  0.519333  0.127358  0.186973   \n",
       "4  0.771885  0.181732  0.186883  ...  0.706019  0.289519  0.199781  0.711980   \n",
       "\n",
       "         23        24        25        26        27  Class  \n",
       "0  0.795108  0.513392  0.456466  0.563778  0.333603      1  \n",
       "1  0.956089  0.703548  0.800044  0.878147  0.780885      1  \n",
       "2  1.553118  0.988400  0.587547  0.428557  0.377591      1  \n",
       "3  0.247690  0.279265  0.789419  0.415539  0.330283      1  \n",
       "4  0.198858  0.141775  0.589598  0.233741  0.151662      1  \n",
       "\n",
       "[5 rows x 29 columns]"
      ]
     },
     "metadata": {},
     "output_type": "display_data"
    }
   ],
   "source": [
    "d = pd.read_csv('C:/Users/jingy/Jupyter/Crime/Fight/CDI_Based/Entropy/CSV/Gray.csv',index_col=0)\n",
    "d.Class[d['Class']==1] = -1\n",
    "d.Class[d['Class'] == 0] = 1\n",
    "display(d.head())"
   ]
  },
  {
   "cell_type": "code",
   "execution_count": 3,
   "metadata": {
    "ExecuteTime": {
     "end_time": "2020-09-15T23:44:33.693551Z",
     "start_time": "2020-09-15T23:44:33.679595Z"
    }
   },
   "outputs": [],
   "source": [
    "data = d\n",
    "mask = (data['Class'] == 1)\n",
    "\n",
    "X_train, X_test = train_test_split(data[mask], test_size=0.2, random_state=2)\n",
    "X_train = X_train.drop(['Class'], axis=1)\n",
    "X_test = X_test.drop(['Class'], axis=1)\n",
    "X_fraud = data[~mask].drop(['Class'], axis=1)\n",
    "\n",
    "x_test=np.vstack((X_test,X_fraud))\n",
    "y_test=[1]*len(X_test)+[-1]*len(X_fraud)"
   ]
  },
  {
   "cell_type": "code",
   "execution_count": 4,
   "metadata": {
    "ExecuteTime": {
     "end_time": "2020-09-15T23:44:33.709503Z",
     "start_time": "2020-09-15T23:44:33.695519Z"
    }
   },
   "outputs": [
    {
     "name": "stdout",
     "output_type": "stream",
     "text": [
      "0.725\n",
      "              precision    recall  f1-score   support\n",
      "\n",
      "          -1       0.76      0.91      0.83        88\n",
      "           1       0.47      0.22      0.30        32\n",
      "\n",
      "    accuracy                           0.73       120\n",
      "   macro avg       0.61      0.56      0.56       120\n",
      "weighted avg       0.68      0.72      0.69       120\n",
      "\n"
     ]
    }
   ],
   "source": [
    "clf = svm.OneClassSVM(kernel='rbf',nu=0.7)  \n",
    "clf.fit(X_train)  \n",
    "\n",
    "y_pred = clf.predict(x_test)  \n",
    "y_prob = clf.decision_function(x_test)  # the lower, the more normal\n",
    "\n",
    "fpr,tpr,threshold_svc = metrics.roc_curve(y_test,y_prob)     \n",
    "auc_svc = metrics.auc(fpr,tpr)   \n",
    "\n",
    "precision, recall, _ = precision_recall_curve(y_test,y_prob)\n",
    "pr_auc = auc(recall, precision)\n",
    "\n",
    "score_svc = metrics.accuracy_score(y_test,y_pred)\n",
    "\n",
    "print(score_svc)\n",
    "print(classification_report(y_test, y_pred))"
   ]
  },
  {
   "cell_type": "code",
   "execution_count": 5,
   "metadata": {
    "ExecuteTime": {
     "end_time": "2020-09-15T23:44:33.962130Z",
     "start_time": "2020-09-15T23:44:33.711478Z"
    }
   },
   "outputs": [
    {
     "data": {
      "image/png": "[encoded data removed]",
      "text/plain": [
       "<Figure size 1008x432 with 2 Axes>"
      ]
     },
     "metadata": {},
     "output_type": "display_data"
    }
   ],
   "source": [
    "plt.figure(figsize=(14, 6))\n",
    "plt.subplot(121)\n",
    "#plt.figure(figsize=(14, 6))\n",
    "plt.title('Receiver Operating Characteristic \\nAUC = %0.2f'% auc_svc)   \n",
    "plt.plot(fpr, tpr, c='coral', lw=3)\n",
    "plt.plot([0,1],[0,1], c='dodgerblue', ls='--')\n",
    "plt.ylabel('TPR'); plt.xlabel('FPR')\n",
    "\n",
    "plt.subplot(122)\n",
    "plt.title('Precision-Recall curve based on \\nAUC = %0.2f'% pr_auc)\n",
    "plt.plot(recall[:-2], precision[:-2], c='coral', lw=3)\n",
    "plt.xlabel('Recall'); plt.ylabel('Precision')\n",
    "plt.show()"
   ]
  },
  {
   "cell_type": "code",
   "execution_count": null,
   "metadata": {},
   "outputs": [],
   "source": []
  }
 ],
 "metadata": {
  "kernelspec": {
   "display_name": "Python [conda env:crowd] *",
   "language": "python",
   "name": "conda-env-crowd-py"
  },
  "language_info": {
   "codemirror_mode": {
    "name": "ipython",
    "version": 3
   },
   "file_extension": ".py",
   "mimetype": "text/x-python",
   "name": "python",
   "nbconvert_exporter": "python",
   "pygments_lexer": "ipython3",
   "version": "3.8.3"
  },
  "toc": {
   "base_numbering": 1,
   "nav_menu": {},
   "number_sections": true,
   "sideBar": true,
   "skip_h1_title": false,
   "title_cell": "Table of Contents",
   "title_sidebar": "Contents",
   "toc_cell": false,
   "toc_position": {},
   "toc_section_display": true,
   "toc_window_display": false
  }
 },
 "nbformat": 4,
 "nbformat_minor": 4
}
