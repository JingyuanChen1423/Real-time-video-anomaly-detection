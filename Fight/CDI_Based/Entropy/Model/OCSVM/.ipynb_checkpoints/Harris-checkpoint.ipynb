{
 "cells": [
  {
   "cell_type": "code",
   "execution_count": 6,
   "metadata": {
    "ExecuteTime": {
     "end_time": "2020-09-15T23:44:53.652699Z",
     "start_time": "2020-09-15T23:44:53.636779Z"
    }
   },
   "outputs": [],
   "source": [
    "import numpy as np  \n",
    "import matplotlib.pyplot as plt  \n",
    "import matplotlib.font_manager  \n",
    "import pandas as pd\n",
    "from sklearn import svm  \n",
    "from sklearn.model_selection import train_test_split\n",
    "from sklearn.preprocessing import StandardScaler,MinMaxScaler\n",
    "from sklearn import metrics\n",
    "from sklearn.metrics import roc_curve, auc, precision_recall_curve,confusion_matrix,classification_report\n",
    "plt.style.use('seaborn')"
   ]
  },
  {
   "cell_type": "code",
   "execution_count": 7,
   "metadata": {
    "ExecuteTime": {
     "end_time": "2020-09-15T23:44:53.698607Z",
     "start_time": "2020-09-15T23:44:53.654725Z"
    }
   },
   "outputs": [
    {
     "name": "stderr",
     "output_type": "stream",
     "text": [
      "<ipython-input-7-1e78ac36c29d>:2: SettingWithCopyWarning: \n",
      "A value is trying to be set on a copy of a slice from a DataFrame\n",
      "\n",
      "See the caveats in the documentation: https://pandas.pydata.org/pandas-docs/stable/user_guide/indexing.html#returning-a-view-versus-a-copy\n",
      "  d.Class[d['Class']==1] = -1\n",
      "<ipython-input-7-1e78ac36c29d>:3: SettingWithCopyWarning: \n",
      "A value is trying to be set on a copy of a slice from a DataFrame\n",
      "\n",
      "See the caveats in the documentation: https://pandas.pydata.org/pandas-docs/stable/user_guide/indexing.html#returning-a-view-versus-a-copy\n",
      "  d.Class[d['Class'] == 0] = 1\n"
     ]
    },
    {
     "data": {
      "text/html": [
       "<div>\n",
       "<style scoped>\n",
       "    .dataframe tbody tr th:only-of-type {\n",
       "        vertical-align: middle;\n",
       "    }\n",
       "\n",
       "    .dataframe tbody tr th {\n",
       "        vertical-align: top;\n",
       "    }\n",
       "\n",
       "    .dataframe thead th {\n",
       "        text-align: right;\n",
       "    }\n",
       "</style>\n",
       "<table border=\"1\" class=\"dataframe\">\n",
       "  <thead>\n",
       "    <tr style=\"text-align: right;\">\n",
       "      <th></th>\n",
       "      <th>0</th>\n",
       "      <th>1</th>\n",
       "      <th>2</th>\n",
       "      <th>3</th>\n",
       "      <th>4</th>\n",
       "      <th>5</th>\n",
       "      <th>6</th>\n",
       "      <th>7</th>\n",
       "      <th>8</th>\n",
       "      <th>9</th>\n",
       "      <th>...</th>\n",
       "      <th>19</th>\n",
       "      <th>20</th>\n",
       "      <th>21</th>\n",
       "      <th>22</th>\n",
       "      <th>23</th>\n",
       "      <th>24</th>\n",
       "      <th>25</th>\n",
       "      <th>26</th>\n",
       "      <th>27</th>\n",
       "      <th>Class</th>\n",
       "    </tr>\n",
       "  </thead>\n",
       "  <tbody>\n",
       "    <tr>\n",
       "      <th>0</th>\n",
       "      <td>0.202022</td>\n",
       "      <td>0.304452</td>\n",
       "      <td>0.230528</td>\n",
       "      <td>0.182746</td>\n",
       "      <td>0.059950</td>\n",
       "      <td>0.029832</td>\n",
       "      <td>0.045690</td>\n",
       "      <td>0.028934</td>\n",
       "      <td>0.018980</td>\n",
       "      <td>0.020198</td>\n",
       "      <td>...</td>\n",
       "      <td>0.445003</td>\n",
       "      <td>0.348471</td>\n",
       "      <td>0.386618</td>\n",
       "      <td>0.328983</td>\n",
       "      <td>0.401429</td>\n",
       "      <td>0.288535</td>\n",
       "      <td>0.140867</td>\n",
       "      <td>0.282142</td>\n",
       "      <td>0.206918</td>\n",
       "      <td>1</td>\n",
       "    </tr>\n",
       "    <tr>\n",
       "      <th>1</th>\n",
       "      <td>0.247334</td>\n",
       "      <td>0.537483</td>\n",
       "      <td>0.318685</td>\n",
       "      <td>0.393471</td>\n",
       "      <td>0.237784</td>\n",
       "      <td>0.215865</td>\n",
       "      <td>0.207918</td>\n",
       "      <td>0.134780</td>\n",
       "      <td>0.226185</td>\n",
       "      <td>0.218292</td>\n",
       "      <td>...</td>\n",
       "      <td>0.230153</td>\n",
       "      <td>0.213028</td>\n",
       "      <td>0.299468</td>\n",
       "      <td>0.273653</td>\n",
       "      <td>0.728459</td>\n",
       "      <td>0.778864</td>\n",
       "      <td>0.346999</td>\n",
       "      <td>0.361662</td>\n",
       "      <td>0.298757</td>\n",
       "      <td>1</td>\n",
       "    </tr>\n",
       "    <tr>\n",
       "      <th>2</th>\n",
       "      <td>0.353779</td>\n",
       "      <td>0.408357</td>\n",
       "      <td>0.607377</td>\n",
       "      <td>0.446226</td>\n",
       "      <td>0.539834</td>\n",
       "      <td>0.166197</td>\n",
       "      <td>0.160716</td>\n",
       "      <td>0.123563</td>\n",
       "      <td>0.262979</td>\n",
       "      <td>0.465916</td>\n",
       "      <td>...</td>\n",
       "      <td>0.335860</td>\n",
       "      <td>0.203315</td>\n",
       "      <td>0.223471</td>\n",
       "      <td>0.157733</td>\n",
       "      <td>0.524541</td>\n",
       "      <td>0.277304</td>\n",
       "      <td>0.115814</td>\n",
       "      <td>0.071290</td>\n",
       "      <td>0.100076</td>\n",
       "      <td>1</td>\n",
       "    </tr>\n",
       "    <tr>\n",
       "      <th>3</th>\n",
       "      <td>0.612616</td>\n",
       "      <td>0.226134</td>\n",
       "      <td>0.169229</td>\n",
       "      <td>0.160205</td>\n",
       "      <td>0.199230</td>\n",
       "      <td>0.522088</td>\n",
       "      <td>0.201602</td>\n",
       "      <td>0.157590</td>\n",
       "      <td>0.116533</td>\n",
       "      <td>0.078628</td>\n",
       "      <td>...</td>\n",
       "      <td>0.178199</td>\n",
       "      <td>0.564558</td>\n",
       "      <td>0.166065</td>\n",
       "      <td>0.169090</td>\n",
       "      <td>0.096965</td>\n",
       "      <td>0.105894</td>\n",
       "      <td>0.381938</td>\n",
       "      <td>0.249440</td>\n",
       "      <td>0.181556</td>\n",
       "      <td>1</td>\n",
       "    </tr>\n",
       "    <tr>\n",
       "      <th>4</th>\n",
       "      <td>0.320776</td>\n",
       "      <td>0.318750</td>\n",
       "      <td>0.223112</td>\n",
       "      <td>0.153014</td>\n",
       "      <td>0.190272</td>\n",
       "      <td>0.157910</td>\n",
       "      <td>0.181436</td>\n",
       "      <td>0.305717</td>\n",
       "      <td>0.099961</td>\n",
       "      <td>0.089792</td>\n",
       "      <td>...</td>\n",
       "      <td>0.264970</td>\n",
       "      <td>0.281821</td>\n",
       "      <td>0.190057</td>\n",
       "      <td>0.151929</td>\n",
       "      <td>0.070791</td>\n",
       "      <td>0.094613</td>\n",
       "      <td>0.178786</td>\n",
       "      <td>0.147989</td>\n",
       "      <td>0.097888</td>\n",
       "      <td>1</td>\n",
       "    </tr>\n",
       "  </tbody>\n",
       "</table>\n",
       "<p>5 rows × 29 columns</p>\n",
       "</div>"
      ],
      "text/plain": [
       "          0         1         2         3         4         5         6  \\\n",
       "0  0.202022  0.304452  0.230528  0.182746  0.059950  0.029832  0.045690   \n",
       "1  0.247334  0.537483  0.318685  0.393471  0.237784  0.215865  0.207918   \n",
       "2  0.353779  0.408357  0.607377  0.446226  0.539834  0.166197  0.160716   \n",
       "3  0.612616  0.226134  0.169229  0.160205  0.199230  0.522088  0.201602   \n",
       "4  0.320776  0.318750  0.223112  0.153014  0.190272  0.157910  0.181436   \n",
       "\n",
       "          7         8         9  ...        19        20        21        22  \\\n",
       "0  0.028934  0.018980  0.020198  ...  0.445003  0.348471  0.386618  0.328983   \n",
       "1  0.134780  0.226185  0.218292  ...  0.230153  0.213028  0.299468  0.273653   \n",
       "2  0.123563  0.262979  0.465916  ...  0.335860  0.203315  0.223471  0.157733   \n",
       "3  0.157590  0.116533  0.078628  ...  0.178199  0.564558  0.166065  0.169090   \n",
       "4  0.305717  0.099961  0.089792  ...  0.264970  0.281821  0.190057  0.151929   \n",
       "\n",
       "         23        24        25        26        27  Class  \n",
       "0  0.401429  0.288535  0.140867  0.282142  0.206918      1  \n",
       "1  0.728459  0.778864  0.346999  0.361662  0.298757      1  \n",
       "2  0.524541  0.277304  0.115814  0.071290  0.100076      1  \n",
       "3  0.096965  0.105894  0.381938  0.249440  0.181556      1  \n",
       "4  0.070791  0.094613  0.178786  0.147989  0.097888      1  \n",
       "\n",
       "[5 rows x 29 columns]"
      ]
     },
     "metadata": {},
     "output_type": "display_data"
    }
   ],
   "source": [
    "d = pd.read_csv('C:/Users/jingy/Jupyter/Crime/Fight/CDI_Based/Entropy/CSV/Harris.csv',index_col=0)\n",
    "d.Class[d['Class']==1] = -1\n",
    "d.Class[d['Class'] == 0] = 1\n",
    "display(d.head())"
   ]
  },
  {
   "cell_type": "code",
   "execution_count": 8,
   "metadata": {
    "ExecuteTime": {
     "end_time": "2020-09-15T23:44:53.714556Z",
     "start_time": "2020-09-15T23:44:53.700571Z"
    }
   },
   "outputs": [],
   "source": [
    "data = d\n",
    "mask = (data['Class'] == 1)\n",
    "\n",
    "X_train, X_test = train_test_split(data[mask], test_size=0.2, random_state=2)\n",
    "X_train = X_train.drop(['Class'], axis=1)\n",
    "X_test = X_test.drop(['Class'], axis=1)\n",
    "X_fraud = data[~mask].drop(['Class'], axis=1)\n",
    "\n",
    "x_test=np.vstack((X_test,X_fraud))\n",
    "y_test=[1]*len(X_test)+[-1]*len(X_fraud)\n",
    "std=StandardScaler()\n",
    "X_train=std.fit_transform(X_train)\n",
    "x_test=std.transform(x_test)"
   ]
  },
  {
   "cell_type": "code",
   "execution_count": 9,
   "metadata": {
    "ExecuteTime": {
     "end_time": "2020-09-15T23:44:53.730514Z",
     "start_time": "2020-09-15T23:44:53.715531Z"
    }
   },
   "outputs": [
    {
     "name": "stdout",
     "output_type": "stream",
     "text": [
      "0.5\n",
      "              precision    recall  f1-score   support\n",
      "\n",
      "          -1       0.69      0.58      0.63        88\n",
      "           1       0.20      0.28      0.23        32\n",
      "\n",
      "    accuracy                           0.50       120\n",
      "   macro avg       0.44      0.43      0.43       120\n",
      "weighted avg       0.56      0.50      0.52       120\n",
      "\n"
     ]
    }
   ],
   "source": [
    "clf = svm.OneClassSVM(kernel='rbf',nu=0.6)  \n",
    "clf.fit(X_train)  \n",
    "\n",
    "y_pred = clf.predict(x_test)  \n",
    "y_prob = clf.decision_function(x_test)  # the lower, the more normal\n",
    "\n",
    "fpr,tpr,threshold_svc = metrics.roc_curve(y_test,y_prob)     \n",
    "auc_svc = metrics.auc(fpr,tpr)   \n",
    "\n",
    "precision, recall, _ = precision_recall_curve(y_test,y_prob)\n",
    "pr_auc = auc(recall, precision)\n",
    "\n",
    "score_svc = metrics.accuracy_score(y_test,y_pred)\n",
    "\n",
    "print(score_svc)\n",
    "print(classification_report(y_test, y_pred))"
   ]
  },
  {
   "cell_type": "code",
   "execution_count": 10,
   "metadata": {
    "ExecuteTime": {
     "end_time": "2020-09-15T23:44:53.965890Z",
     "start_time": "2020-09-15T23:44:53.732510Z"
    }
   },
   "outputs": [
    {
     "data": {
      "image/png": "[encoded data removed]",
      "text/plain": [
       "<Figure size 1008x432 with 2 Axes>"
      ]
     },
     "metadata": {},
     "output_type": "display_data"
    }
   ],
   "source": [
    "plt.figure(figsize=(14, 6))\n",
    "plt.subplot(121)\n",
    "#plt.figure(figsize=(14, 6))\n",
    "plt.title('Receiver Operating Characteristic \\nAUC = %0.2f'% auc_svc)   \n",
    "plt.plot(fpr, tpr, c='coral', lw=3)\n",
    "plt.plot([0,1],[0,1], c='dodgerblue', ls='--')\n",
    "plt.ylabel('TPR'); plt.xlabel('FPR')\n",
    "\n",
    "plt.subplot(122)\n",
    "plt.title('Precision-Recall curve based on \\nAUC = %0.2f'% pr_auc)\n",
    "plt.plot(recall[:-2], precision[:-2], c='coral', lw=3)\n",
    "plt.xlabel('Recall'); plt.ylabel('Precision')\n",
    "plt.show()"
   ]
  },
  {
   "cell_type": "code",
   "execution_count": null,
   "metadata": {},
   "outputs": [],
   "source": []
  }
 ],
 "metadata": {
  "kernelspec": {
   "display_name": "Python [conda env:crowd] *",
   "language": "python",
   "name": "conda-env-crowd-py"
  },
  "language_info": {
   "codemirror_mode": {
    "name": "ipython",
    "version": 3
   },
   "file_extension": ".py",
   "mimetype": "text/x-python",
   "name": "python",
   "nbconvert_exporter": "python",
   "pygments_lexer": "ipython3",
   "version": "3.8.3"
  },
  "toc": {
   "base_numbering": 1,
   "nav_menu": {},
   "number_sections": true,
   "sideBar": true,
   "skip_h1_title": false,
   "title_cell": "Table of Contents",
   "title_sidebar": "Contents",
   "toc_cell": false,
   "toc_position": {},
   "toc_section_display": true,
   "toc_window_display": false
  }
 },
 "nbformat": 4,
 "nbformat_minor": 4
}
