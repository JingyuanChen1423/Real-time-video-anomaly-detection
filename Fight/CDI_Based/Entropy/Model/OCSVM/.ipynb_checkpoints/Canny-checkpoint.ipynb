{
 "cells": [
  {
   "cell_type": "code",
   "execution_count": 1,
   "metadata": {
    "ExecuteTime": {
     "end_time": "2020-09-15T23:44:24.221627Z",
     "start_time": "2020-09-15T23:44:22.670810Z"
    }
   },
   "outputs": [],
   "source": [
    "import numpy as np  \n",
    "import matplotlib.pyplot as plt  \n",
    "import matplotlib.font_manager  \n",
    "import pandas as pd\n",
    "from sklearn import svm  \n",
    "from sklearn.model_selection import train_test_split\n",
    "from sklearn.preprocessing import StandardScaler,MinMaxScaler\n",
    "from sklearn import metrics\n",
    "from sklearn.metrics import roc_curve, auc, precision_recall_curve,confusion_matrix,classification_report\n",
    "plt.style.use('seaborn')"
   ]
  },
  {
   "cell_type": "code",
   "execution_count": 2,
   "metadata": {
    "ExecuteTime": {
     "end_time": "2020-09-15T23:44:24.283296Z",
     "start_time": "2020-09-15T23:44:24.222619Z"
    }
   },
   "outputs": [
    {
     "name": "stderr",
     "output_type": "stream",
     "text": [
      "<ipython-input-2-80299bd32f41>:2: SettingWithCopyWarning: \n",
      "A value is trying to be set on a copy of a slice from a DataFrame\n",
      "\n",
      "See the caveats in the documentation: https://pandas.pydata.org/pandas-docs/stable/user_guide/indexing.html#returning-a-view-versus-a-copy\n",
      "  d.Class[d['Class']==1] = -1\n",
      "<ipython-input-2-80299bd32f41>:3: SettingWithCopyWarning: \n",
      "A value is trying to be set on a copy of a slice from a DataFrame\n",
      "\n",
      "See the caveats in the documentation: https://pandas.pydata.org/pandas-docs/stable/user_guide/indexing.html#returning-a-view-versus-a-copy\n",
      "  d.Class[d['Class'] == 0] = 1\n"
     ]
    },
    {
     "data": {
      "text/html": [
       "<div>\n",
       "<style scoped>\n",
       "    .dataframe tbody tr th:only-of-type {\n",
       "        vertical-align: middle;\n",
       "    }\n",
       "\n",
       "    .dataframe tbody tr th {\n",
       "        vertical-align: top;\n",
       "    }\n",
       "\n",
       "    .dataframe thead th {\n",
       "        text-align: right;\n",
       "    }\n",
       "</style>\n",
       "<table border=\"1\" class=\"dataframe\">\n",
       "  <thead>\n",
       "    <tr style=\"text-align: right;\">\n",
       "      <th></th>\n",
       "      <th>0</th>\n",
       "      <th>1</th>\n",
       "      <th>2</th>\n",
       "      <th>3</th>\n",
       "      <th>4</th>\n",
       "      <th>5</th>\n",
       "      <th>6</th>\n",
       "      <th>7</th>\n",
       "      <th>8</th>\n",
       "      <th>9</th>\n",
       "      <th>...</th>\n",
       "      <th>19</th>\n",
       "      <th>20</th>\n",
       "      <th>21</th>\n",
       "      <th>22</th>\n",
       "      <th>23</th>\n",
       "      <th>24</th>\n",
       "      <th>25</th>\n",
       "      <th>26</th>\n",
       "      <th>27</th>\n",
       "      <th>Class</th>\n",
       "    </tr>\n",
       "  </thead>\n",
       "  <tbody>\n",
       "    <tr>\n",
       "      <th>0</th>\n",
       "      <td>0.004937</td>\n",
       "      <td>0.002155</td>\n",
       "      <td>0.005796</td>\n",
       "      <td>0.002987</td>\n",
       "      <td>0.000690</td>\n",
       "      <td>0.000029</td>\n",
       "      <td>0.000029</td>\n",
       "      <td>0.000029</td>\n",
       "      <td>0.000000</td>\n",
       "      <td>0.000000</td>\n",
       "      <td>...</td>\n",
       "      <td>0.006312</td>\n",
       "      <td>0.005968</td>\n",
       "      <td>0.003331</td>\n",
       "      <td>0.007113</td>\n",
       "      <td>0.008428</td>\n",
       "      <td>0.002901</td>\n",
       "      <td>0.003016</td>\n",
       "      <td>0.003762</td>\n",
       "      <td>0.002758</td>\n",
       "      <td>1</td>\n",
       "    </tr>\n",
       "    <tr>\n",
       "      <th>1</th>\n",
       "      <td>0.016068</td>\n",
       "      <td>0.014987</td>\n",
       "      <td>0.018880</td>\n",
       "      <td>0.017716</td>\n",
       "      <td>0.009486</td>\n",
       "      <td>0.013792</td>\n",
       "      <td>0.023327</td>\n",
       "      <td>0.017034</td>\n",
       "      <td>0.018738</td>\n",
       "      <td>0.019050</td>\n",
       "      <td>...</td>\n",
       "      <td>0.015585</td>\n",
       "      <td>0.015812</td>\n",
       "      <td>0.014134</td>\n",
       "      <td>0.019362</td>\n",
       "      <td>0.011455</td>\n",
       "      <td>0.007170</td>\n",
       "      <td>0.009143</td>\n",
       "      <td>0.012539</td>\n",
       "      <td>0.009971</td>\n",
       "      <td>1</td>\n",
       "    </tr>\n",
       "    <tr>\n",
       "      <th>2</th>\n",
       "      <td>0.003217</td>\n",
       "      <td>0.004478</td>\n",
       "      <td>0.001667</td>\n",
       "      <td>0.003561</td>\n",
       "      <td>0.004364</td>\n",
       "      <td>0.001494</td>\n",
       "      <td>0.001380</td>\n",
       "      <td>0.001896</td>\n",
       "      <td>0.001753</td>\n",
       "      <td>0.002241</td>\n",
       "      <td>...</td>\n",
       "      <td>0.013279</td>\n",
       "      <td>0.009771</td>\n",
       "      <td>0.011027</td>\n",
       "      <td>0.010000</td>\n",
       "      <td>0.021318</td>\n",
       "      <td>0.010228</td>\n",
       "      <td>0.007285</td>\n",
       "      <td>0.004679</td>\n",
       "      <td>0.004278</td>\n",
       "      <td>1</td>\n",
       "    </tr>\n",
       "    <tr>\n",
       "      <th>3</th>\n",
       "      <td>0.007828</td>\n",
       "      <td>0.004163</td>\n",
       "      <td>0.003217</td>\n",
       "      <td>0.003073</td>\n",
       "      <td>0.004220</td>\n",
       "      <td>0.008000</td>\n",
       "      <td>0.004335</td>\n",
       "      <td>0.003475</td>\n",
       "      <td>0.002184</td>\n",
       "      <td>0.002011</td>\n",
       "      <td>...</td>\n",
       "      <td>0.003848</td>\n",
       "      <td>0.004020</td>\n",
       "      <td>0.000086</td>\n",
       "      <td>0.000632</td>\n",
       "      <td>0.001236</td>\n",
       "      <td>0.002212</td>\n",
       "      <td>0.007828</td>\n",
       "      <td>0.004421</td>\n",
       "      <td>0.004564</td>\n",
       "      <td>1</td>\n",
       "    </tr>\n",
       "    <tr>\n",
       "      <th>4</th>\n",
       "      <td>0.002729</td>\n",
       "      <td>0.012539</td>\n",
       "      <td>0.001351</td>\n",
       "      <td>0.000546</td>\n",
       "      <td>0.011284</td>\n",
       "      <td>0.003647</td>\n",
       "      <td>0.001581</td>\n",
       "      <td>0.015158</td>\n",
       "      <td>0.001695</td>\n",
       "      <td>0.000402</td>\n",
       "      <td>...</td>\n",
       "      <td>0.010200</td>\n",
       "      <td>0.001523</td>\n",
       "      <td>0.000862</td>\n",
       "      <td>0.010371</td>\n",
       "      <td>0.000661</td>\n",
       "      <td>0.000431</td>\n",
       "      <td>0.005854</td>\n",
       "      <td>0.000949</td>\n",
       "      <td>0.002184</td>\n",
       "      <td>1</td>\n",
       "    </tr>\n",
       "  </tbody>\n",
       "</table>\n",
       "<p>5 rows × 29 columns</p>\n",
       "</div>"
      ],
      "text/plain": [
       "          0         1         2         3         4         5         6  \\\n",
       "0  0.004937  0.002155  0.005796  0.002987  0.000690  0.000029  0.000029   \n",
       "1  0.016068  0.014987  0.018880  0.017716  0.009486  0.013792  0.023327   \n",
       "2  0.003217  0.004478  0.001667  0.003561  0.004364  0.001494  0.001380   \n",
       "3  0.007828  0.004163  0.003217  0.003073  0.004220  0.008000  0.004335   \n",
       "4  0.002729  0.012539  0.001351  0.000546  0.011284  0.003647  0.001581   \n",
       "\n",
       "          7         8         9  ...        19        20        21        22  \\\n",
       "0  0.000029  0.000000  0.000000  ...  0.006312  0.005968  0.003331  0.007113   \n",
       "1  0.017034  0.018738  0.019050  ...  0.015585  0.015812  0.014134  0.019362   \n",
       "2  0.001896  0.001753  0.002241  ...  0.013279  0.009771  0.011027  0.010000   \n",
       "3  0.003475  0.002184  0.002011  ...  0.003848  0.004020  0.000086  0.000632   \n",
       "4  0.015158  0.001695  0.000402  ...  0.010200  0.001523  0.000862  0.010371   \n",
       "\n",
       "         23        24        25        26        27  Class  \n",
       "0  0.008428  0.002901  0.003016  0.003762  0.002758      1  \n",
       "1  0.011455  0.007170  0.009143  0.012539  0.009971      1  \n",
       "2  0.021318  0.010228  0.007285  0.004679  0.004278      1  \n",
       "3  0.001236  0.002212  0.007828  0.004421  0.004564      1  \n",
       "4  0.000661  0.000431  0.005854  0.000949  0.002184      1  \n",
       "\n",
       "[5 rows x 29 columns]"
      ]
     },
     "metadata": {},
     "output_type": "display_data"
    }
   ],
   "source": [
    "d = pd.read_csv('C:/Users/jingy/Jupyter/Crime/Fight/CDI_Based/Entropy/CSV/Canny.csv',index_col=0)\n",
    "d.Class[d['Class']==1] = -1\n",
    "d.Class[d['Class'] == 0] = 1\n",
    "display(d.head())"
   ]
  },
  {
   "cell_type": "code",
   "execution_count": 3,
   "metadata": {
    "ExecuteTime": {
     "end_time": "2020-09-15T23:44:24.314278Z",
     "start_time": "2020-09-15T23:44:24.285256Z"
    }
   },
   "outputs": [],
   "source": [
    "data = d\n",
    "mask = (data['Class'] == 1)\n",
    "\n",
    "X_train, X_test = train_test_split(data[mask], test_size=0.2, random_state=2)\n",
    "X_train = X_train.drop(['Class'], axis=1)\n",
    "X_test = X_test.drop(['Class'], axis=1)\n",
    "X_fraud = data[~mask].drop(['Class'], axis=1)\n",
    "\n",
    "x_test=np.vstack((X_test,X_fraud))\n",
    "y_test=[1]*len(X_test)+[-1]*len(X_fraud)\n",
    "std=StandardScaler()\n",
    "X_train=std.fit_transform(X_train)\n",
    "x_test=std.transform(x_test)"
   ]
  },
  {
   "cell_type": "code",
   "execution_count": 4,
   "metadata": {
    "ExecuteTime": {
     "end_time": "2020-09-15T23:44:24.345458Z",
     "start_time": "2020-09-15T23:44:24.315297Z"
    }
   },
   "outputs": [
    {
     "name": "stdout",
     "output_type": "stream",
     "text": [
      "0.6916666666666667\n",
      "              precision    recall  f1-score   support\n",
      "\n",
      "          -1       0.77      0.83      0.80        88\n",
      "           1       0.40      0.31      0.35        32\n",
      "\n",
      "    accuracy                           0.69       120\n",
      "   macro avg       0.58      0.57      0.57       120\n",
      "weighted avg       0.67      0.69      0.68       120\n",
      "\n"
     ]
    }
   ],
   "source": [
    "clf = svm.OneClassSVM(kernel='rbf',nu=0.6)  \n",
    "clf.fit(X_train)  \n",
    "\n",
    "y_pred = clf.predict(x_test)  \n",
    "y_prob = clf.decision_function(x_test)  # the lower, the more normal\n",
    "\n",
    "fpr,tpr,threshold_svc = metrics.roc_curve(y_test,y_prob)     \n",
    "auc_svc = metrics.auc(fpr,tpr)   \n",
    "\n",
    "precision, recall, _ = precision_recall_curve(y_test,y_prob)\n",
    "pr_auc = auc(recall, precision)\n",
    "\n",
    "score_svc = metrics.accuracy_score(y_test,y_pred)\n",
    "\n",
    "print(score_svc)\n",
    "print(classification_report(y_test, y_pred))"
   ]
  },
  {
   "cell_type": "code",
   "execution_count": 5,
   "metadata": {
    "ExecuteTime": {
     "end_time": "2020-09-15T23:44:24.612947Z",
     "start_time": "2020-09-15T23:44:24.347419Z"
    }
   },
   "outputs": [
    {
     "data": {
      "image/png": "[encoded data removed]",
      "text/plain": [
       "<Figure size 1008x432 with 2 Axes>"
      ]
     },
     "metadata": {},
     "output_type": "display_data"
    }
   ],
   "source": [
    "plt.figure(figsize=(14, 6))\n",
    "plt.subplot(121)\n",
    "#plt.figure(figsize=(14, 6))\n",
    "plt.title('Receiver Operating Characteristic \\nAUC = %0.2f'% auc_svc)   \n",
    "plt.plot(fpr, tpr, c='coral', lw=3)\n",
    "plt.plot([0,1],[0,1], c='dodgerblue', ls='--')\n",
    "plt.ylabel('TPR'); plt.xlabel('FPR')\n",
    "\n",
    "plt.subplot(122)\n",
    "plt.title('Precision-Recall curve based on \\nAUC = %0.2f'% pr_auc)\n",
    "plt.plot(recall[:-2], precision[:-2], c='coral', lw=3)\n",
    "plt.xlabel('Recall'); plt.ylabel('Precision')\n",
    "plt.show()"
   ]
  },
  {
   "cell_type": "code",
   "execution_count": null,
   "metadata": {},
   "outputs": [],
   "source": []
  }
 ],
 "metadata": {
  "kernelspec": {
   "display_name": "Python [conda env:crowd] *",
   "language": "python",
   "name": "conda-env-crowd-py"
  },
  "language_info": {
   "codemirror_mode": {
    "name": "ipython",
    "version": 3
   },
   "file_extension": ".py",
   "mimetype": "text/x-python",
   "name": "python",
   "nbconvert_exporter": "python",
   "pygments_lexer": "ipython3",
   "version": "3.8.3"
  },
  "toc": {
   "base_numbering": 1,
   "nav_menu": {},
   "number_sections": true,
   "sideBar": true,
   "skip_h1_title": false,
   "title_cell": "Table of Contents",
   "title_sidebar": "Contents",
   "toc_cell": false,
   "toc_position": {},
   "toc_section_display": true,
   "toc_window_display": false
  }
 },
 "nbformat": 4,
 "nbformat_minor": 4
}
