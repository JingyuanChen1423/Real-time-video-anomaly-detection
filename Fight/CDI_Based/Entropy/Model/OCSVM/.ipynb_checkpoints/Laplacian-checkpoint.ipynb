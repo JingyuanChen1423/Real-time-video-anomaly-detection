{
 "cells": [
  {
   "cell_type": "code",
   "execution_count": 1,
   "metadata": {
    "ExecuteTime": {
     "end_time": "2020-09-15T23:44:59.199056Z",
     "start_time": "2020-09-15T23:44:57.746789Z"
    }
   },
   "outputs": [],
   "source": [
    "import numpy as np  \n",
    "import matplotlib.pyplot as plt  \n",
    "import matplotlib.font_manager  \n",
    "import pandas as pd\n",
    "from sklearn import svm  \n",
    "from sklearn.model_selection import train_test_split\n",
    "from sklearn.preprocessing import StandardScaler,MinMaxScaler\n",
    "from sklearn import metrics\n",
    "from sklearn.metrics import roc_curve, auc, precision_recall_curve,confusion_matrix,classification_report\n",
    "plt.style.use('seaborn')"
   ]
  },
  {
   "cell_type": "code",
   "execution_count": 2,
   "metadata": {
    "ExecuteTime": {
     "end_time": "2020-09-15T23:44:59.246918Z",
     "start_time": "2020-09-15T23:44:59.200044Z"
    }
   },
   "outputs": [
    {
     "name": "stderr",
     "output_type": "stream",
     "text": [
      "<ipython-input-2-98d08cab801d>:2: SettingWithCopyWarning: \n",
      "A value is trying to be set on a copy of a slice from a DataFrame\n",
      "\n",
      "See the caveats in the documentation: https://pandas.pydata.org/pandas-docs/stable/user_guide/indexing.html#returning-a-view-versus-a-copy\n",
      "  d.Class[d['Class']==1] = -1\n",
      "<ipython-input-2-98d08cab801d>:3: SettingWithCopyWarning: \n",
      "A value is trying to be set on a copy of a slice from a DataFrame\n",
      "\n",
      "See the caveats in the documentation: https://pandas.pydata.org/pandas-docs/stable/user_guide/indexing.html#returning-a-view-versus-a-copy\n",
      "  d.Class[d['Class'] == 0] = 1\n"
     ]
    },
    {
     "data": {
      "text/html": [
       "<div>\n",
       "<style scoped>\n",
       "    .dataframe tbody tr th:only-of-type {\n",
       "        vertical-align: middle;\n",
       "    }\n",
       "\n",
       "    .dataframe tbody tr th {\n",
       "        vertical-align: top;\n",
       "    }\n",
       "\n",
       "    .dataframe thead th {\n",
       "        text-align: right;\n",
       "    }\n",
       "</style>\n",
       "<table border=\"1\" class=\"dataframe\">\n",
       "  <thead>\n",
       "    <tr style=\"text-align: right;\">\n",
       "      <th></th>\n",
       "      <th>0</th>\n",
       "      <th>1</th>\n",
       "      <th>2</th>\n",
       "      <th>3</th>\n",
       "      <th>4</th>\n",
       "      <th>5</th>\n",
       "      <th>6</th>\n",
       "      <th>7</th>\n",
       "      <th>8</th>\n",
       "      <th>9</th>\n",
       "      <th>...</th>\n",
       "      <th>19</th>\n",
       "      <th>20</th>\n",
       "      <th>21</th>\n",
       "      <th>22</th>\n",
       "      <th>23</th>\n",
       "      <th>24</th>\n",
       "      <th>25</th>\n",
       "      <th>26</th>\n",
       "      <th>27</th>\n",
       "      <th>Class</th>\n",
       "    </tr>\n",
       "  </thead>\n",
       "  <tbody>\n",
       "    <tr>\n",
       "      <th>0</th>\n",
       "      <td>0.398989</td>\n",
       "      <td>0.328476</td>\n",
       "      <td>0.514250</td>\n",
       "      <td>0.199222</td>\n",
       "      <td>0.035868</td>\n",
       "      <td>0.030416</td>\n",
       "      <td>0.036358</td>\n",
       "      <td>0.017103</td>\n",
       "      <td>0.015092</td>\n",
       "      <td>0.009066</td>\n",
       "      <td>...</td>\n",
       "      <td>0.723273</td>\n",
       "      <td>0.690413</td>\n",
       "      <td>0.577098</td>\n",
       "      <td>0.735504</td>\n",
       "      <td>0.913597</td>\n",
       "      <td>0.625661</td>\n",
       "      <td>0.563337</td>\n",
       "      <td>0.683136</td>\n",
       "      <td>0.433916</td>\n",
       "      <td>1</td>\n",
       "    </tr>\n",
       "    <tr>\n",
       "      <th>1</th>\n",
       "      <td>1.342888</td>\n",
       "      <td>1.219414</td>\n",
       "      <td>1.376777</td>\n",
       "      <td>1.306870</td>\n",
       "      <td>0.888887</td>\n",
       "      <td>0.942828</td>\n",
       "      <td>1.237059</td>\n",
       "      <td>1.168532</td>\n",
       "      <td>1.199942</td>\n",
       "      <td>1.287735</td>\n",
       "      <td>...</td>\n",
       "      <td>0.964835</td>\n",
       "      <td>1.065697</td>\n",
       "      <td>1.170498</td>\n",
       "      <td>1.389607</td>\n",
       "      <td>1.293109</td>\n",
       "      <td>0.977175</td>\n",
       "      <td>0.971969</td>\n",
       "      <td>1.070003</td>\n",
       "      <td>0.936512</td>\n",
       "      <td>1</td>\n",
       "    </tr>\n",
       "    <tr>\n",
       "      <th>2</th>\n",
       "      <td>0.659777</td>\n",
       "      <td>0.744846</td>\n",
       "      <td>0.564242</td>\n",
       "      <td>0.681163</td>\n",
       "      <td>0.806393</td>\n",
       "      <td>0.295665</td>\n",
       "      <td>0.256588</td>\n",
       "      <td>0.256642</td>\n",
       "      <td>0.429447</td>\n",
       "      <td>0.636781</td>\n",
       "      <td>...</td>\n",
       "      <td>1.108113</td>\n",
       "      <td>0.629512</td>\n",
       "      <td>0.507655</td>\n",
       "      <td>0.632767</td>\n",
       "      <td>1.534672</td>\n",
       "      <td>1.010578</td>\n",
       "      <td>0.539132</td>\n",
       "      <td>0.389171</td>\n",
       "      <td>0.360254</td>\n",
       "      <td>1</td>\n",
       "    </tr>\n",
       "    <tr>\n",
       "      <th>3</th>\n",
       "      <td>0.916586</td>\n",
       "      <td>0.426540</td>\n",
       "      <td>0.354254</td>\n",
       "      <td>0.311205</td>\n",
       "      <td>0.389764</td>\n",
       "      <td>0.777831</td>\n",
       "      <td>0.386136</td>\n",
       "      <td>0.295532</td>\n",
       "      <td>0.250255</td>\n",
       "      <td>0.300942</td>\n",
       "      <td>...</td>\n",
       "      <td>0.424649</td>\n",
       "      <td>0.646821</td>\n",
       "      <td>0.155386</td>\n",
       "      <td>0.210223</td>\n",
       "      <td>0.250980</td>\n",
       "      <td>0.258353</td>\n",
       "      <td>0.816110</td>\n",
       "      <td>0.419016</td>\n",
       "      <td>0.304590</td>\n",
       "      <td>1</td>\n",
       "    </tr>\n",
       "    <tr>\n",
       "      <th>4</th>\n",
       "      <td>0.620190</td>\n",
       "      <td>0.845107</td>\n",
       "      <td>0.326268</td>\n",
       "      <td>0.214515</td>\n",
       "      <td>0.679320</td>\n",
       "      <td>0.466817</td>\n",
       "      <td>0.300213</td>\n",
       "      <td>0.640683</td>\n",
       "      <td>0.224540</td>\n",
       "      <td>0.225611</td>\n",
       "      <td>...</td>\n",
       "      <td>0.643559</td>\n",
       "      <td>0.364647</td>\n",
       "      <td>0.252590</td>\n",
       "      <td>0.632310</td>\n",
       "      <td>0.254992</td>\n",
       "      <td>0.202292</td>\n",
       "      <td>0.598627</td>\n",
       "      <td>0.277286</td>\n",
       "      <td>0.180036</td>\n",
       "      <td>1</td>\n",
       "    </tr>\n",
       "  </tbody>\n",
       "</table>\n",
       "<p>5 rows × 29 columns</p>\n",
       "</div>"
      ],
      "text/plain": [
       "          0         1         2         3         4         5         6  \\\n",
       "0  0.398989  0.328476  0.514250  0.199222  0.035868  0.030416  0.036358   \n",
       "1  1.342888  1.219414  1.376777  1.306870  0.888887  0.942828  1.237059   \n",
       "2  0.659777  0.744846  0.564242  0.681163  0.806393  0.295665  0.256588   \n",
       "3  0.916586  0.426540  0.354254  0.311205  0.389764  0.777831  0.386136   \n",
       "4  0.620190  0.845107  0.326268  0.214515  0.679320  0.466817  0.300213   \n",
       "\n",
       "          7         8         9  ...        19        20        21        22  \\\n",
       "0  0.017103  0.015092  0.009066  ...  0.723273  0.690413  0.577098  0.735504   \n",
       "1  1.168532  1.199942  1.287735  ...  0.964835  1.065697  1.170498  1.389607   \n",
       "2  0.256642  0.429447  0.636781  ...  1.108113  0.629512  0.507655  0.632767   \n",
       "3  0.295532  0.250255  0.300942  ...  0.424649  0.646821  0.155386  0.210223   \n",
       "4  0.640683  0.224540  0.225611  ...  0.643559  0.364647  0.252590  0.632310   \n",
       "\n",
       "         23        24        25        26        27  Class  \n",
       "0  0.913597  0.625661  0.563337  0.683136  0.433916      1  \n",
       "1  1.293109  0.977175  0.971969  1.070003  0.936512      1  \n",
       "2  1.534672  1.010578  0.539132  0.389171  0.360254      1  \n",
       "3  0.250980  0.258353  0.816110  0.419016  0.304590      1  \n",
       "4  0.254992  0.202292  0.598627  0.277286  0.180036      1  \n",
       "\n",
       "[5 rows x 29 columns]"
      ]
     },
     "metadata": {},
     "output_type": "display_data"
    }
   ],
   "source": [
    "d = pd.read_csv('C:/Users/jingy/Jupyter/Crime/Fight/CDI_Based/Entropy/CSV/Laplacian.csv',index_col=0)\n",
    "d.Class[d['Class']==1] = -1\n",
    "d.Class[d['Class'] == 0] = 1\n",
    "display(d.head())"
   ]
  },
  {
   "cell_type": "code",
   "execution_count": 3,
   "metadata": {
    "ExecuteTime": {
     "end_time": "2020-09-15T23:44:59.262843Z",
     "start_time": "2020-09-15T23:44:59.248910Z"
    }
   },
   "outputs": [],
   "source": [
    "data = d\n",
    "mask = (data['Class'] == 1)\n",
    "\n",
    "X_train, X_test = train_test_split(data[mask], test_size=0.2, random_state=2)\n",
    "X_train = X_train.drop(['Class'], axis=1)\n",
    "X_test = X_test.drop(['Class'], axis=1)\n",
    "X_fraud = data[~mask].drop(['Class'], axis=1)\n",
    "\n",
    "x_test=np.vstack((X_test,X_fraud))\n",
    "y_test=[1]*len(X_test)+[-1]*len(X_fraud)\n",
    "std=MinMaxScaler()\n",
    "X_train=std.fit_transform(X_train)\n",
    "x_test=std.transform(x_test)"
   ]
  },
  {
   "cell_type": "code",
   "execution_count": 4,
   "metadata": {
    "ExecuteTime": {
     "end_time": "2020-09-15T23:44:59.293761Z",
     "start_time": "2020-09-15T23:44:59.265836Z"
    }
   },
   "outputs": [
    {
     "name": "stdout",
     "output_type": "stream",
     "text": [
      "0.6333333333333333\n",
      "              precision    recall  f1-score   support\n",
      "\n",
      "          -1       0.76      0.74      0.75        88\n",
      "           1       0.32      0.34      0.33        32\n",
      "\n",
      "    accuracy                           0.63       120\n",
      "   macro avg       0.54      0.54      0.54       120\n",
      "weighted avg       0.64      0.63      0.64       120\n",
      "\n"
     ]
    }
   ],
   "source": [
    "clf = svm.OneClassSVM(kernel='rbf',nu=0.6)  \n",
    "clf.fit(X_train)  \n",
    "\n",
    "y_pred = clf.predict(x_test)  \n",
    "y_prob = clf.decision_function(x_test)  # the lower, the more normal\n",
    "\n",
    "fpr,tpr,threshold_svc = metrics.roc_curve(y_test,y_prob)     \n",
    "auc_svc = metrics.auc(fpr,tpr)   \n",
    "\n",
    "precision, recall, _ = precision_recall_curve(y_test,y_prob)\n",
    "pr_auc = auc(recall, precision)\n",
    "\n",
    "score_svc = metrics.accuracy_score(y_test,y_pred)\n",
    "\n",
    "print(score_svc)\n",
    "print(classification_report(y_test, y_pred))"
   ]
  },
  {
   "cell_type": "code",
   "execution_count": 5,
   "metadata": {
    "ExecuteTime": {
     "end_time": "2020-09-15T23:44:59.548592Z",
     "start_time": "2020-09-15T23:44:59.295755Z"
    }
   },
   "outputs": [
    {
     "data": {
      "image/png": "[encoded data removed]",
      "text/plain": [
       "<Figure size 1008x432 with 2 Axes>"
      ]
     },
     "metadata": {},
     "output_type": "display_data"
    }
   ],
   "source": [
    "plt.figure(figsize=(14, 6))\n",
    "plt.subplot(121)\n",
    "#plt.figure(figsize=(14, 6))\n",
    "plt.title('Receiver Operating Characteristic \\nAUC = %0.2f'% auc_svc)   \n",
    "plt.plot(fpr, tpr, c='coral', lw=3)\n",
    "plt.plot([0,1],[0,1], c='dodgerblue', ls='--')\n",
    "plt.ylabel('TPR'); plt.xlabel('FPR')\n",
    "\n",
    "plt.subplot(122)\n",
    "plt.title('Precision-Recall curve based on \\nAUC = %0.2f'% pr_auc)\n",
    "plt.plot(recall[:-2], precision[:-2], c='coral', lw=3)\n",
    "plt.xlabel('Recall'); plt.ylabel('Precision')\n",
    "plt.show()"
   ]
  },
  {
   "cell_type": "code",
   "execution_count": null,
   "metadata": {},
   "outputs": [],
   "source": []
  },
  {
   "cell_type": "code",
   "execution_count": null,
   "metadata": {},
   "outputs": [],
   "source": []
  }
 ],
 "metadata": {
  "kernelspec": {
   "display_name": "Python [conda env:crowd] *",
   "language": "python",
   "name": "conda-env-crowd-py"
  },
  "language_info": {
   "codemirror_mode": {
    "name": "ipython",
    "version": 3
   },
   "file_extension": ".py",
   "mimetype": "text/x-python",
   "name": "python",
   "nbconvert_exporter": "python",
   "pygments_lexer": "ipython3",
   "version": "3.8.3"
  },
  "toc": {
   "base_numbering": 1,
   "nav_menu": {},
   "number_sections": true,
   "sideBar": true,
   "skip_h1_title": false,
   "title_cell": "Table of Contents",
   "title_sidebar": "Contents",
   "toc_cell": false,
   "toc_position": {},
   "toc_section_display": true,
   "toc_window_display": false
  }
 },
 "nbformat": 4,
 "nbformat_minor": 4
}
