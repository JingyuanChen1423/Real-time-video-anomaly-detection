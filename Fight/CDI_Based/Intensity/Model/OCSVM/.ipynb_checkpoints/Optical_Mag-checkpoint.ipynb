{
 "cells": [
  {
   "cell_type": "code",
   "execution_count": 11,
   "metadata": {
    "ExecuteTime": {
     "end_time": "2020-09-15T20:15:21.192440Z",
     "start_time": "2020-09-15T20:15:21.183465Z"
    }
   },
   "outputs": [],
   "source": [
    "import numpy as np  \n",
    "import matplotlib.pyplot as plt  \n",
    "import matplotlib.font_manager  \n",
    "import pandas as pd\n",
    "from sklearn import svm  \n",
    "from sklearn.model_selection import train_test_split\n",
    "from sklearn.preprocessing import StandardScaler,MinMaxScaler\n",
    "from sklearn import metrics\n",
    "from sklearn.metrics import roc_curve, auc, precision_recall_curve,confusion_matrix,classification_report\n",
    "plt.style.use('seaborn')"
   ]
  },
  {
   "cell_type": "code",
   "execution_count": 12,
   "metadata": {
    "ExecuteTime": {
     "end_time": "2020-09-15T20:15:21.238286Z",
     "start_time": "2020-09-15T20:15:21.194414Z"
    }
   },
   "outputs": [
    {
     "name": "stderr",
     "output_type": "stream",
     "text": [
      "<ipython-input-12-62cb1c602f8c>:2: SettingWithCopyWarning: \n",
      "A value is trying to be set on a copy of a slice from a DataFrame\n",
      "\n",
      "See the caveats in the documentation: https://pandas.pydata.org/pandas-docs/stable/user_guide/indexing.html#returning-a-view-versus-a-copy\n",
      "  d.Class[d['Class']==1] = -1\n",
      "<ipython-input-12-62cb1c602f8c>:3: SettingWithCopyWarning: \n",
      "A value is trying to be set on a copy of a slice from a DataFrame\n",
      "\n",
      "See the caveats in the documentation: https://pandas.pydata.org/pandas-docs/stable/user_guide/indexing.html#returning-a-view-versus-a-copy\n",
      "  d.Class[d['Class'] == 0] = 1\n"
     ]
    },
    {
     "data": {
      "text/html": [
       "<div>\n",
       "<style scoped>\n",
       "    .dataframe tbody tr th:only-of-type {\n",
       "        vertical-align: middle;\n",
       "    }\n",
       "\n",
       "    .dataframe tbody tr th {\n",
       "        vertical-align: top;\n",
       "    }\n",
       "\n",
       "    .dataframe thead th {\n",
       "        text-align: right;\n",
       "    }\n",
       "</style>\n",
       "<table border=\"1\" class=\"dataframe\">\n",
       "  <thead>\n",
       "    <tr style=\"text-align: right;\">\n",
       "      <th></th>\n",
       "      <th>0</th>\n",
       "      <th>1</th>\n",
       "      <th>2</th>\n",
       "      <th>3</th>\n",
       "      <th>4</th>\n",
       "      <th>5</th>\n",
       "      <th>6</th>\n",
       "      <th>7</th>\n",
       "      <th>8</th>\n",
       "      <th>9</th>\n",
       "      <th>...</th>\n",
       "      <th>18</th>\n",
       "      <th>19</th>\n",
       "      <th>20</th>\n",
       "      <th>21</th>\n",
       "      <th>22</th>\n",
       "      <th>23</th>\n",
       "      <th>24</th>\n",
       "      <th>25</th>\n",
       "      <th>26</th>\n",
       "      <th>Class</th>\n",
       "    </tr>\n",
       "  </thead>\n",
       "  <tbody>\n",
       "    <tr>\n",
       "      <th>0</th>\n",
       "      <td>974.5286</td>\n",
       "      <td>1021.10583</td>\n",
       "      <td>733.94670</td>\n",
       "      <td>323.47324</td>\n",
       "      <td>147.78178</td>\n",
       "      <td>133.92369</td>\n",
       "      <td>225.4314</td>\n",
       "      <td>15.949368</td>\n",
       "      <td>1.129823</td>\n",
       "      <td>7.949558</td>\n",
       "      <td>...</td>\n",
       "      <td>2793.65430</td>\n",
       "      <td>1038.3270</td>\n",
       "      <td>946.93353</td>\n",
       "      <td>1234.8390</td>\n",
       "      <td>2852.7375</td>\n",
       "      <td>1529.4309</td>\n",
       "      <td>1366.3126</td>\n",
       "      <td>1377.7064</td>\n",
       "      <td>2545.5890</td>\n",
       "      <td>1</td>\n",
       "    </tr>\n",
       "    <tr>\n",
       "      <th>1</th>\n",
       "      <td>1940.3961</td>\n",
       "      <td>2075.61280</td>\n",
       "      <td>2021.94320</td>\n",
       "      <td>1901.08800</td>\n",
       "      <td>2507.09620</td>\n",
       "      <td>4273.01100</td>\n",
       "      <td>4342.3267</td>\n",
       "      <td>3514.252700</td>\n",
       "      <td>3018.195800</td>\n",
       "      <td>5977.498000</td>\n",
       "      <td>...</td>\n",
       "      <td>5187.99000</td>\n",
       "      <td>1303.0308</td>\n",
       "      <td>1182.24510</td>\n",
       "      <td>1702.8861</td>\n",
       "      <td>2679.8340</td>\n",
       "      <td>1407.5487</td>\n",
       "      <td>1403.4031</td>\n",
       "      <td>617.9451</td>\n",
       "      <td>702.4869</td>\n",
       "      <td>1</td>\n",
       "    </tr>\n",
       "    <tr>\n",
       "      <th>2</th>\n",
       "      <td>904.7345</td>\n",
       "      <td>612.08810</td>\n",
       "      <td>575.09186</td>\n",
       "      <td>1788.84340</td>\n",
       "      <td>649.33167</td>\n",
       "      <td>915.98790</td>\n",
       "      <td>598.5762</td>\n",
       "      <td>552.894650</td>\n",
       "      <td>2353.095700</td>\n",
       "      <td>1093.030300</td>\n",
       "      <td>...</td>\n",
       "      <td>7964.10100</td>\n",
       "      <td>7612.7266</td>\n",
       "      <td>4893.39000</td>\n",
       "      <td>7428.3447</td>\n",
       "      <td>4419.0740</td>\n",
       "      <td>2546.4014</td>\n",
       "      <td>5731.0366</td>\n",
       "      <td>2850.3994</td>\n",
       "      <td>1404.1722</td>\n",
       "      <td>1</td>\n",
       "    </tr>\n",
       "    <tr>\n",
       "      <th>3</th>\n",
       "      <td>2819.3704</td>\n",
       "      <td>1158.57390</td>\n",
       "      <td>1018.35004</td>\n",
       "      <td>724.50850</td>\n",
       "      <td>2299.93480</td>\n",
       "      <td>1202.89550</td>\n",
       "      <td>1565.5427</td>\n",
       "      <td>766.624700</td>\n",
       "      <td>665.268200</td>\n",
       "      <td>1261.220800</td>\n",
       "      <td>...</td>\n",
       "      <td>405.22372</td>\n",
       "      <td>1990.4294</td>\n",
       "      <td>331.24830</td>\n",
       "      <td>389.2246</td>\n",
       "      <td>2528.3940</td>\n",
       "      <td>1643.2102</td>\n",
       "      <td>2728.2622</td>\n",
       "      <td>6097.5493</td>\n",
       "      <td>2733.3687</td>\n",
       "      <td>1</td>\n",
       "    </tr>\n",
       "    <tr>\n",
       "      <th>4</th>\n",
       "      <td>6376.8130</td>\n",
       "      <td>5647.07670</td>\n",
       "      <td>12177.10800</td>\n",
       "      <td>4188.41260</td>\n",
       "      <td>10041.60300</td>\n",
       "      <td>12163.90600</td>\n",
       "      <td>8177.2520</td>\n",
       "      <td>8884.491000</td>\n",
       "      <td>15412.066000</td>\n",
       "      <td>24045.186000</td>\n",
       "      <td>...</td>\n",
       "      <td>3842.09180</td>\n",
       "      <td>5149.0060</td>\n",
       "      <td>3796.70260</td>\n",
       "      <td>3126.1628</td>\n",
       "      <td>5179.0283</td>\n",
       "      <td>2774.4326</td>\n",
       "      <td>3059.9856</td>\n",
       "      <td>1433.7682</td>\n",
       "      <td>1410.2627</td>\n",
       "      <td>1</td>\n",
       "    </tr>\n",
       "  </tbody>\n",
       "</table>\n",
       "<p>5 rows × 28 columns</p>\n",
       "</div>"
      ],
      "text/plain": [
       "           0           1            2           3            4            5  \\\n",
       "0   974.5286  1021.10583    733.94670   323.47324    147.78178    133.92369   \n",
       "1  1940.3961  2075.61280   2021.94320  1901.08800   2507.09620   4273.01100   \n",
       "2   904.7345   612.08810    575.09186  1788.84340    649.33167    915.98790   \n",
       "3  2819.3704  1158.57390   1018.35004   724.50850   2299.93480   1202.89550   \n",
       "4  6376.8130  5647.07670  12177.10800  4188.41260  10041.60300  12163.90600   \n",
       "\n",
       "           6            7             8             9  ...          18  \\\n",
       "0   225.4314    15.949368      1.129823      7.949558  ...  2793.65430   \n",
       "1  4342.3267  3514.252700   3018.195800   5977.498000  ...  5187.99000   \n",
       "2   598.5762   552.894650   2353.095700   1093.030300  ...  7964.10100   \n",
       "3  1565.5427   766.624700    665.268200   1261.220800  ...   405.22372   \n",
       "4  8177.2520  8884.491000  15412.066000  24045.186000  ...  3842.09180   \n",
       "\n",
       "          19          20         21         22         23         24  \\\n",
       "0  1038.3270   946.93353  1234.8390  2852.7375  1529.4309  1366.3126   \n",
       "1  1303.0308  1182.24510  1702.8861  2679.8340  1407.5487  1403.4031   \n",
       "2  7612.7266  4893.39000  7428.3447  4419.0740  2546.4014  5731.0366   \n",
       "3  1990.4294   331.24830   389.2246  2528.3940  1643.2102  2728.2622   \n",
       "4  5149.0060  3796.70260  3126.1628  5179.0283  2774.4326  3059.9856   \n",
       "\n",
       "          25         26  Class  \n",
       "0  1377.7064  2545.5890      1  \n",
       "1   617.9451   702.4869      1  \n",
       "2  2850.3994  1404.1722      1  \n",
       "3  6097.5493  2733.3687      1  \n",
       "4  1433.7682  1410.2627      1  \n",
       "\n",
       "[5 rows x 28 columns]"
      ]
     },
     "metadata": {},
     "output_type": "display_data"
    }
   ],
   "source": [
    "d = pd.read_csv('C:/Users/jingy/Jupyter/Crime/Fight/CDI_Based/Intensity/CSV/Optical_Mag.csv',index_col=0)\n",
    "d.Class[d['Class']==1] = -1\n",
    "d.Class[d['Class'] == 0] = 1\n",
    "display(d.head())"
   ]
  },
  {
   "cell_type": "code",
   "execution_count": 13,
   "metadata": {
    "ExecuteTime": {
     "end_time": "2020-09-15T20:15:21.254246Z",
     "start_time": "2020-09-15T20:15:21.240281Z"
    }
   },
   "outputs": [],
   "source": [
    "data = d\n",
    "mask = (data['Class'] == 1)\n",
    "\n",
    "X_train, X_test = train_test_split(data[mask], test_size=0.2, random_state=0)\n",
    "X_train = X_train.drop(['Class'], axis=1)\n",
    "X_test = X_test.drop(['Class'], axis=1)\n",
    "X_fraud = data[~mask].drop(['Class'], axis=1)\n",
    "\n",
    "x_test=np.vstack((X_test,X_fraud))\n",
    "y_test=[1]*len(X_test)+[-1]*len(X_fraud)\n",
    "\n",
    "std =StandardScaler()\n",
    "X_train=std.fit_transform(X_train)\n",
    "x_test=std.transform(x_test)\n"
   ]
  },
  {
   "cell_type": "code",
   "execution_count": 14,
   "metadata": {
    "ExecuteTime": {
     "end_time": "2020-09-15T20:15:21.286239Z",
     "start_time": "2020-09-15T20:15:21.256238Z"
    }
   },
   "outputs": [
    {
     "name": "stdout",
     "output_type": "stream",
     "text": [
      "0.743801652892562\n",
      "              precision    recall  f1-score   support\n",
      "\n",
      "          -1       0.83      0.82      0.82        89\n",
      "           1       0.52      0.53      0.52        32\n",
      "\n",
      "    accuracy                           0.74       121\n",
      "   macro avg       0.67      0.68      0.67       121\n",
      "weighted avg       0.75      0.74      0.75       121\n",
      "\n"
     ]
    }
   ],
   "source": [
    "clf = svm.OneClassSVM(kernel='rbf',nu=0.6)  \n",
    "clf.fit(X_train)  \n",
    "\n",
    "y_pred = clf.predict(x_test)  \n",
    "y_prob = clf.decision_function(x_test)  # the lower, the more normal\n",
    "\n",
    "fpr,tpr,threshold_svc = metrics.roc_curve(y_test,y_prob)     \n",
    "auc_svc = metrics.auc(fpr,tpr)   \n",
    "\n",
    "precision, recall, _ = precision_recall_curve(y_test,y_prob)\n",
    "pr_auc = auc(recall, precision)\n",
    "\n",
    "score_svc = metrics.accuracy_score(y_test,y_pred)\n",
    "\n",
    "print(score_svc)\n",
    "print(classification_report(y_test, y_pred))"
   ]
  },
  {
   "cell_type": "code",
   "execution_count": 15,
   "metadata": {
    "ExecuteTime": {
     "end_time": "2020-09-15T20:15:21.572971Z",
     "start_time": "2020-09-15T20:15:21.288183Z"
    }
   },
   "outputs": [
    {
     "data": {
      "image/png": "[encoded data removed]",
      "text/plain": [
       "<Figure size 1008x432 with 2 Axes>"
      ]
     },
     "metadata": {},
     "output_type": "display_data"
    }
   ],
   "source": [
    "plt.figure(figsize=(14, 6))\n",
    "plt.subplot(121)\n",
    "#plt.figure(figsize=(14, 6))\n",
    "plt.title('Receiver Operating Characteristic \\nAUC = %0.2f'% auc_svc)   \n",
    "plt.plot(fpr, tpr, c='coral', lw=3)\n",
    "plt.plot([0,1],[0,1], c='dodgerblue', ls='--')\n",
    "plt.ylabel('TPR'); plt.xlabel('FPR')\n",
    "\n",
    "plt.subplot(122)\n",
    "plt.title('Precision-Recall curve based on \\nAUC = %0.2f'% pr_auc)\n",
    "plt.plot(recall[:-2], precision[:-2], c='coral', lw=3)\n",
    "plt.xlabel('Recall'); plt.ylabel('Precision')\n",
    "plt.show()"
   ]
  },
  {
   "cell_type": "code",
   "execution_count": null,
   "metadata": {},
   "outputs": [],
   "source": []
  }
 ],
 "metadata": {
  "kernelspec": {
   "display_name": "Python [conda env:crowd] *",
   "language": "python",
   "name": "conda-env-crowd-py"
  },
  "language_info": {
   "codemirror_mode": {
    "name": "ipython",
    "version": 3
   },
   "file_extension": ".py",
   "mimetype": "text/x-python",
   "name": "python",
   "nbconvert_exporter": "python",
   "pygments_lexer": "ipython3",
   "version": "3.8.3"
  },
  "toc": {
   "base_numbering": 1,
   "nav_menu": {},
   "number_sections": true,
   "sideBar": true,
   "skip_h1_title": false,
   "title_cell": "Table of Contents",
   "title_sidebar": "Contents",
   "toc_cell": false,
   "toc_position": {},
   "toc_section_display": true,
   "toc_window_display": false
  }
 },
 "nbformat": 4,
 "nbformat_minor": 4
}
