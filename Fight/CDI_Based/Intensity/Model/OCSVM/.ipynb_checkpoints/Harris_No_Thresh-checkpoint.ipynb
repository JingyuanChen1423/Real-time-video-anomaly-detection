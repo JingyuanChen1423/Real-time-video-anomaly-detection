{
 "cells": [
  {
   "cell_type": "code",
   "execution_count": 12,
   "metadata": {
    "ExecuteTime": {
     "end_time": "2020-09-15T22:18:27.989317Z",
     "start_time": "2020-09-15T22:18:27.950969Z"
    }
   },
   "outputs": [],
   "source": [
    "import numpy as np  \n",
    "import matplotlib.pyplot as plt  \n",
    "import matplotlib.font_manager  \n",
    "import pandas as pd\n",
    "from sklearn import svm  \n",
    "from sklearn.model_selection import train_test_split\n",
    "from sklearn.preprocessing import StandardScaler,MinMaxScaler\n",
    "from sklearn import metrics\n",
    "from sklearn.metrics import roc_curve, auc, precision_recall_curve,confusion_matrix,classification_report\n",
    "plt.style.use('seaborn')"
   ]
  },
  {
   "cell_type": "code",
   "execution_count": 13,
   "metadata": {
    "ExecuteTime": {
     "end_time": "2020-09-15T22:18:28.052175Z",
     "start_time": "2020-09-15T22:18:27.991312Z"
    }
   },
   "outputs": [
    {
     "name": "stderr",
     "output_type": "stream",
     "text": [
      "<ipython-input-13-ca7924a54fb8>:2: SettingWithCopyWarning: \n",
      "A value is trying to be set on a copy of a slice from a DataFrame\n",
      "\n",
      "See the caveats in the documentation: https://pandas.pydata.org/pandas-docs/stable/user_guide/indexing.html#returning-a-view-versus-a-copy\n",
      "  d.Class[d['Class']==1] = -1\n",
      "<ipython-input-13-ca7924a54fb8>:3: SettingWithCopyWarning: \n",
      "A value is trying to be set on a copy of a slice from a DataFrame\n",
      "\n",
      "See the caveats in the documentation: https://pandas.pydata.org/pandas-docs/stable/user_guide/indexing.html#returning-a-view-versus-a-copy\n",
      "  d.Class[d['Class'] == 0] = 1\n"
     ]
    },
    {
     "data": {
      "text/html": [
       "<div>\n",
       "<style scoped>\n",
       "    .dataframe tbody tr th:only-of-type {\n",
       "        vertical-align: middle;\n",
       "    }\n",
       "\n",
       "    .dataframe tbody tr th {\n",
       "        vertical-align: top;\n",
       "    }\n",
       "\n",
       "    .dataframe thead th {\n",
       "        text-align: right;\n",
       "    }\n",
       "</style>\n",
       "<table border=\"1\" class=\"dataframe\">\n",
       "  <thead>\n",
       "    <tr style=\"text-align: right;\">\n",
       "      <th></th>\n",
       "      <th>0</th>\n",
       "      <th>1</th>\n",
       "      <th>2</th>\n",
       "      <th>3</th>\n",
       "      <th>4</th>\n",
       "      <th>5</th>\n",
       "      <th>6</th>\n",
       "      <th>7</th>\n",
       "      <th>8</th>\n",
       "      <th>9</th>\n",
       "      <th>...</th>\n",
       "      <th>19</th>\n",
       "      <th>20</th>\n",
       "      <th>21</th>\n",
       "      <th>22</th>\n",
       "      <th>23</th>\n",
       "      <th>24</th>\n",
       "      <th>25</th>\n",
       "      <th>26</th>\n",
       "      <th>27</th>\n",
       "      <th>Class</th>\n",
       "    </tr>\n",
       "  </thead>\n",
       "  <tbody>\n",
       "    <tr>\n",
       "      <th>0</th>\n",
       "      <td>0.001959</td>\n",
       "      <td>0.001393</td>\n",
       "      <td>0.002599</td>\n",
       "      <td>0.000752</td>\n",
       "      <td>0.000272</td>\n",
       "      <td>0.000282</td>\n",
       "      <td>0.000239</td>\n",
       "      <td>0.000177</td>\n",
       "      <td>0.000081</td>\n",
       "      <td>0.000001</td>\n",
       "      <td>...</td>\n",
       "      <td>0.004123</td>\n",
       "      <td>0.003547</td>\n",
       "      <td>0.002460</td>\n",
       "      <td>0.003793</td>\n",
       "      <td>0.009635</td>\n",
       "      <td>0.004550</td>\n",
       "      <td>0.004233</td>\n",
       "      <td>0.004898</td>\n",
       "      <td>0.001733</td>\n",
       "      <td>1</td>\n",
       "    </tr>\n",
       "    <tr>\n",
       "      <th>1</th>\n",
       "      <td>0.120952</td>\n",
       "      <td>0.114808</td>\n",
       "      <td>0.152517</td>\n",
       "      <td>0.145615</td>\n",
       "      <td>0.134129</td>\n",
       "      <td>0.205680</td>\n",
       "      <td>0.264750</td>\n",
       "      <td>0.278481</td>\n",
       "      <td>0.279001</td>\n",
       "      <td>0.358579</td>\n",
       "      <td>...</td>\n",
       "      <td>0.462320</td>\n",
       "      <td>0.378615</td>\n",
       "      <td>0.307700</td>\n",
       "      <td>0.372019</td>\n",
       "      <td>0.078879</td>\n",
       "      <td>0.055815</td>\n",
       "      <td>0.192440</td>\n",
       "      <td>0.232530</td>\n",
       "      <td>0.217166</td>\n",
       "      <td>1</td>\n",
       "    </tr>\n",
       "    <tr>\n",
       "      <th>2</th>\n",
       "      <td>0.032240</td>\n",
       "      <td>0.041921</td>\n",
       "      <td>0.029113</td>\n",
       "      <td>0.039740</td>\n",
       "      <td>0.048271</td>\n",
       "      <td>0.014200</td>\n",
       "      <td>0.015545</td>\n",
       "      <td>0.023968</td>\n",
       "      <td>0.028138</td>\n",
       "      <td>0.038903</td>\n",
       "      <td>...</td>\n",
       "      <td>0.193605</td>\n",
       "      <td>0.147798</td>\n",
       "      <td>0.100960</td>\n",
       "      <td>0.095003</td>\n",
       "      <td>0.196983</td>\n",
       "      <td>0.085734</td>\n",
       "      <td>0.047497</td>\n",
       "      <td>0.022360</td>\n",
       "      <td>0.029682</td>\n",
       "      <td>1</td>\n",
       "    </tr>\n",
       "    <tr>\n",
       "      <th>3</th>\n",
       "      <td>0.146389</td>\n",
       "      <td>0.047551</td>\n",
       "      <td>0.027800</td>\n",
       "      <td>0.019516</td>\n",
       "      <td>0.030474</td>\n",
       "      <td>0.139281</td>\n",
       "      <td>0.047098</td>\n",
       "      <td>0.025817</td>\n",
       "      <td>0.018104</td>\n",
       "      <td>0.028023</td>\n",
       "      <td>...</td>\n",
       "      <td>0.045285</td>\n",
       "      <td>0.111417</td>\n",
       "      <td>0.010543</td>\n",
       "      <td>0.012759</td>\n",
       "      <td>0.011528</td>\n",
       "      <td>0.017618</td>\n",
       "      <td>0.215629</td>\n",
       "      <td>0.042168</td>\n",
       "      <td>0.020227</td>\n",
       "      <td>1</td>\n",
       "    </tr>\n",
       "    <tr>\n",
       "      <th>4</th>\n",
       "      <td>0.042750</td>\n",
       "      <td>0.192896</td>\n",
       "      <td>0.010326</td>\n",
       "      <td>0.007873</td>\n",
       "      <td>0.241848</td>\n",
       "      <td>0.019798</td>\n",
       "      <td>0.006421</td>\n",
       "      <td>0.418650</td>\n",
       "      <td>0.005771</td>\n",
       "      <td>0.005337</td>\n",
       "      <td>...</td>\n",
       "      <td>0.226088</td>\n",
       "      <td>0.018410</td>\n",
       "      <td>0.009965</td>\n",
       "      <td>0.216423</td>\n",
       "      <td>0.001715</td>\n",
       "      <td>0.001734</td>\n",
       "      <td>0.114168</td>\n",
       "      <td>0.008468</td>\n",
       "      <td>0.007153</td>\n",
       "      <td>1</td>\n",
       "    </tr>\n",
       "  </tbody>\n",
       "</table>\n",
       "<p>5 rows × 29 columns</p>\n",
       "</div>"
      ],
      "text/plain": [
       "          0         1         2         3         4         5         6  \\\n",
       "0  0.001959  0.001393  0.002599  0.000752  0.000272  0.000282  0.000239   \n",
       "1  0.120952  0.114808  0.152517  0.145615  0.134129  0.205680  0.264750   \n",
       "2  0.032240  0.041921  0.029113  0.039740  0.048271  0.014200  0.015545   \n",
       "3  0.146389  0.047551  0.027800  0.019516  0.030474  0.139281  0.047098   \n",
       "4  0.042750  0.192896  0.010326  0.007873  0.241848  0.019798  0.006421   \n",
       "\n",
       "          7         8         9  ...        19        20        21        22  \\\n",
       "0  0.000177  0.000081  0.000001  ...  0.004123  0.003547  0.002460  0.003793   \n",
       "1  0.278481  0.279001  0.358579  ...  0.462320  0.378615  0.307700  0.372019   \n",
       "2  0.023968  0.028138  0.038903  ...  0.193605  0.147798  0.100960  0.095003   \n",
       "3  0.025817  0.018104  0.028023  ...  0.045285  0.111417  0.010543  0.012759   \n",
       "4  0.418650  0.005771  0.005337  ...  0.226088  0.018410  0.009965  0.216423   \n",
       "\n",
       "         23        24        25        26        27  Class  \n",
       "0  0.009635  0.004550  0.004233  0.004898  0.001733      1  \n",
       "1  0.078879  0.055815  0.192440  0.232530  0.217166      1  \n",
       "2  0.196983  0.085734  0.047497  0.022360  0.029682      1  \n",
       "3  0.011528  0.017618  0.215629  0.042168  0.020227      1  \n",
       "4  0.001715  0.001734  0.114168  0.008468  0.007153      1  \n",
       "\n",
       "[5 rows x 29 columns]"
      ]
     },
     "metadata": {},
     "output_type": "display_data"
    }
   ],
   "source": [
    "d = pd.read_csv('C:/Users/jingy/Jupyter/Crime/Fight/CDI_Based/Intensity/CSV/Harris_With_Filter.csv',index_col=0)\n",
    "d.Class[d['Class']==1] = -1\n",
    "d.Class[d['Class'] == 0] = 1\n",
    "display(d.head())"
   ]
  },
  {
   "cell_type": "code",
   "execution_count": 14,
   "metadata": {
    "ExecuteTime": {
     "end_time": "2020-09-15T22:18:28.083091Z",
     "start_time": "2020-09-15T22:18:28.054145Z"
    }
   },
   "outputs": [],
   "source": [
    "data = d\n",
    "mask = (data['Class'] == 1)\n",
    "\n",
    "X_train, X_test = train_test_split(data[mask], test_size=0.2, random_state=0)\n",
    "X_train = X_train.drop(['Class'], axis=1)\n",
    "X_test = X_test.drop(['Class'], axis=1)\n",
    "X_fraud = data[~mask].drop(['Class'], axis=1)\n",
    "\n",
    "x_test=np.vstack((X_test,X_fraud))\n",
    "y_test=[1]*len(X_test)+[-1]*len(X_fraud)\n",
    "\n",
    "std =StandardScaler()\n",
    "X_train=std.fit_transform(X_train)\n",
    "x_test=std.transform(x_test)\n"
   ]
  },
  {
   "cell_type": "code",
   "execution_count": 15,
   "metadata": {
    "ExecuteTime": {
     "end_time": "2020-09-15T22:18:28.114016Z",
     "start_time": "2020-09-15T22:18:28.085061Z"
    }
   },
   "outputs": [
    {
     "name": "stdout",
     "output_type": "stream",
     "text": [
      "0.7083333333333334\n",
      "              precision    recall  f1-score   support\n",
      "\n",
      "          -1       0.83      0.76      0.79        88\n",
      "           1       0.46      0.56      0.51        32\n",
      "\n",
      "    accuracy                           0.71       120\n",
      "   macro avg       0.64      0.66      0.65       120\n",
      "weighted avg       0.73      0.71      0.72       120\n",
      "\n"
     ]
    }
   ],
   "source": [
    "clf = svm.OneClassSVM(kernel='rbf',nu=0.6)  \n",
    "clf.fit(X_train)  \n",
    "\n",
    "y_pred = clf.predict(x_test)  \n",
    "y_prob = clf.decision_function(x_test)  # the lower, the more normal\n",
    "\n",
    "fpr,tpr,threshold_svc = metrics.roc_curve(y_test,y_prob)     \n",
    "auc_svc = metrics.auc(fpr,tpr)   \n",
    "\n",
    "precision, recall, _ = precision_recall_curve(y_test,y_prob)\n",
    "pr_auc = auc(recall, precision)\n",
    "\n",
    "score_svc = metrics.accuracy_score(y_test,y_pred)\n",
    "\n",
    "print(score_svc)\n",
    "print(classification_report(y_test, y_pred))"
   ]
  },
  {
   "cell_type": "code",
   "execution_count": 16,
   "metadata": {
    "ExecuteTime": {
     "end_time": "2020-09-15T22:18:28.412228Z",
     "start_time": "2020-09-15T22:18:28.115978Z"
    }
   },
   "outputs": [
    {
     "data": {
      "image/png": "[encoded data removed]",
      "text/plain": [
       "<Figure size 1008x432 with 2 Axes>"
      ]
     },
     "metadata": {},
     "output_type": "display_data"
    }
   ],
   "source": [
    "plt.figure(figsize=(14, 6))\n",
    "plt.subplot(121)\n",
    "#plt.figure(figsize=(14, 6))\n",
    "plt.title('Receiver Operating Characteristic \\nAUC = %0.2f'% auc_svc)   \n",
    "plt.plot(fpr, tpr, c='coral', lw=3)\n",
    "plt.plot([0,1],[0,1], c='dodgerblue', ls='--')\n",
    "plt.ylabel('TPR'); plt.xlabel('FPR')\n",
    "\n",
    "plt.subplot(122)\n",
    "plt.title('Precision-Recall curve based on \\nAUC = %0.2f'% pr_auc)\n",
    "plt.plot(recall[:-2], precision[:-2], c='coral', lw=3)\n",
    "plt.xlabel('Recall'); plt.ylabel('Precision')\n",
    "plt.show()"
   ]
  },
  {
   "cell_type": "code",
   "execution_count": null,
   "metadata": {},
   "outputs": [],
   "source": []
  }
 ],
 "metadata": {
  "kernelspec": {
   "display_name": "Python [conda env:crowd] *",
   "language": "python",
   "name": "conda-env-crowd-py"
  },
  "language_info": {
   "codemirror_mode": {
    "name": "ipython",
    "version": 3
   },
   "file_extension": ".py",
   "mimetype": "text/x-python",
   "name": "python",
   "nbconvert_exporter": "python",
   "pygments_lexer": "ipython3",
   "version": "3.8.3"
  },
  "toc": {
   "base_numbering": 1,
   "nav_menu": {},
   "number_sections": true,
   "sideBar": true,
   "skip_h1_title": false,
   "title_cell": "Table of Contents",
   "title_sidebar": "Contents",
   "toc_cell": false,
   "toc_position": {},
   "toc_section_display": true,
   "toc_window_display": false
  }
 },
 "nbformat": 4,
 "nbformat_minor": 4
}
