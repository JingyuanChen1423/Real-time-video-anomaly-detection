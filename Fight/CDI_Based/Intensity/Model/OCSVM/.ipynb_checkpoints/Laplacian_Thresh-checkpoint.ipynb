{
 "cells": [
  {
   "cell_type": "code",
   "execution_count": 11,
   "metadata": {
    "ExecuteTime": {
     "end_time": "2020-09-15T22:21:17.686101Z",
     "start_time": "2020-09-15T22:21:17.672093Z"
    }
   },
   "outputs": [],
   "source": [
    "import numpy as np  \n",
    "import matplotlib.pyplot as plt  \n",
    "import matplotlib.font_manager  \n",
    "import pandas as pd\n",
    "from sklearn import svm  \n",
    "from sklearn.model_selection import train_test_split\n",
    "from sklearn.preprocessing import StandardScaler,MinMaxScaler\n",
    "from sklearn import metrics\n",
    "from sklearn.metrics import roc_curve, auc, precision_recall_curve,confusion_matrix,classification_report\n",
    "plt.style.use('seaborn')"
   ]
  },
  {
   "cell_type": "code",
   "execution_count": 12,
   "metadata": {
    "ExecuteTime": {
     "end_time": "2020-09-15T22:21:17.717289Z",
     "start_time": "2020-09-15T22:21:17.687055Z"
    }
   },
   "outputs": [
    {
     "data": {
      "text/html": [
       "<div>\n",
       "<style scoped>\n",
       "    .dataframe tbody tr th:only-of-type {\n",
       "        vertical-align: middle;\n",
       "    }\n",
       "\n",
       "    .dataframe tbody tr th {\n",
       "        vertical-align: top;\n",
       "    }\n",
       "\n",
       "    .dataframe thead th {\n",
       "        text-align: right;\n",
       "    }\n",
       "</style>\n",
       "<table border=\"1\" class=\"dataframe\">\n",
       "  <thead>\n",
       "    <tr style=\"text-align: right;\">\n",
       "      <th></th>\n",
       "      <th>0</th>\n",
       "      <th>1</th>\n",
       "      <th>2</th>\n",
       "      <th>3</th>\n",
       "      <th>4</th>\n",
       "      <th>5</th>\n",
       "      <th>6</th>\n",
       "      <th>7</th>\n",
       "      <th>8</th>\n",
       "      <th>9</th>\n",
       "      <th>...</th>\n",
       "      <th>19</th>\n",
       "      <th>20</th>\n",
       "      <th>21</th>\n",
       "      <th>22</th>\n",
       "      <th>23</th>\n",
       "      <th>24</th>\n",
       "      <th>25</th>\n",
       "      <th>26</th>\n",
       "      <th>27</th>\n",
       "      <th>Class</th>\n",
       "    </tr>\n",
       "  </thead>\n",
       "  <tbody>\n",
       "    <tr>\n",
       "      <th>0</th>\n",
       "      <td>1010820</td>\n",
       "      <td>801720</td>\n",
       "      <td>1403010</td>\n",
       "      <td>417435</td>\n",
       "      <td>57630</td>\n",
       "      <td>41310</td>\n",
       "      <td>55845</td>\n",
       "      <td>22440</td>\n",
       "      <td>16065</td>\n",
       "      <td>10455</td>\n",
       "      <td>...</td>\n",
       "      <td>2042295</td>\n",
       "      <td>1956360</td>\n",
       "      <td>1551930</td>\n",
       "      <td>2131035</td>\n",
       "      <td>2750685</td>\n",
       "      <td>1721505</td>\n",
       "      <td>1515465</td>\n",
       "      <td>1973955</td>\n",
       "      <td>1157700</td>\n",
       "      <td>1</td>\n",
       "    </tr>\n",
       "    <tr>\n",
       "      <th>1</th>\n",
       "      <td>4039965</td>\n",
       "      <td>3506760</td>\n",
       "      <td>4048125</td>\n",
       "      <td>3828060</td>\n",
       "      <td>2251140</td>\n",
       "      <td>2338860</td>\n",
       "      <td>3375435</td>\n",
       "      <td>3172710</td>\n",
       "      <td>3262725</td>\n",
       "      <td>3476925</td>\n",
       "      <td>...</td>\n",
       "      <td>2322030</td>\n",
       "      <td>2758590</td>\n",
       "      <td>3217080</td>\n",
       "      <td>3925980</td>\n",
       "      <td>3766350</td>\n",
       "      <td>2788170</td>\n",
       "      <td>2553315</td>\n",
       "      <td>2916945</td>\n",
       "      <td>2469930</td>\n",
       "      <td>1</td>\n",
       "    </tr>\n",
       "    <tr>\n",
       "      <th>2</th>\n",
       "      <td>1825035</td>\n",
       "      <td>2030820</td>\n",
       "      <td>1486905</td>\n",
       "      <td>1871700</td>\n",
       "      <td>2338095</td>\n",
       "      <td>679065</td>\n",
       "      <td>500055</td>\n",
       "      <td>510510</td>\n",
       "      <td>1036320</td>\n",
       "      <td>1776330</td>\n",
       "      <td>...</td>\n",
       "      <td>3044190</td>\n",
       "      <td>1430040</td>\n",
       "      <td>1032495</td>\n",
       "      <td>1435395</td>\n",
       "      <td>4408440</td>\n",
       "      <td>2850135</td>\n",
       "      <td>1250010</td>\n",
       "      <td>784380</td>\n",
       "      <td>735165</td>\n",
       "      <td>1</td>\n",
       "    </tr>\n",
       "    <tr>\n",
       "      <th>3</th>\n",
       "      <td>2680560</td>\n",
       "      <td>921315</td>\n",
       "      <td>734145</td>\n",
       "      <td>644385</td>\n",
       "      <td>850935</td>\n",
       "      <td>2181525</td>\n",
       "      <td>816510</td>\n",
       "      <td>583185</td>\n",
       "      <td>500055</td>\n",
       "      <td>659175</td>\n",
       "      <td>...</td>\n",
       "      <td>1075590</td>\n",
       "      <td>1808460</td>\n",
       "      <td>335325</td>\n",
       "      <td>472005</td>\n",
       "      <td>504645</td>\n",
       "      <td>505665</td>\n",
       "      <td>2266440</td>\n",
       "      <td>995010</td>\n",
       "      <td>626280</td>\n",
       "      <td>1</td>\n",
       "    </tr>\n",
       "    <tr>\n",
       "      <th>4</th>\n",
       "      <td>1604460</td>\n",
       "      <td>2078505</td>\n",
       "      <td>756330</td>\n",
       "      <td>466140</td>\n",
       "      <td>1472115</td>\n",
       "      <td>1233690</td>\n",
       "      <td>695640</td>\n",
       "      <td>1244145</td>\n",
       "      <td>482460</td>\n",
       "      <td>508980</td>\n",
       "      <td>...</td>\n",
       "      <td>1349970</td>\n",
       "      <td>908565</td>\n",
       "      <td>569415</td>\n",
       "      <td>1354815</td>\n",
       "      <td>568905</td>\n",
       "      <td>436050</td>\n",
       "      <td>1455030</td>\n",
       "      <td>601290</td>\n",
       "      <td>363885</td>\n",
       "      <td>1</td>\n",
       "    </tr>\n",
       "  </tbody>\n",
       "</table>\n",
       "<p>5 rows × 29 columns</p>\n",
       "</div>"
      ],
      "text/plain": [
       "         0        1        2        3        4        5        6        7  \\\n",
       "0  1010820   801720  1403010   417435    57630    41310    55845    22440   \n",
       "1  4039965  3506760  4048125  3828060  2251140  2338860  3375435  3172710   \n",
       "2  1825035  2030820  1486905  1871700  2338095   679065   500055   510510   \n",
       "3  2680560   921315   734145   644385   850935  2181525   816510   583185   \n",
       "4  1604460  2078505   756330   466140  1472115  1233690   695640  1244145   \n",
       "\n",
       "         8        9  ...       19       20       21       22       23  \\\n",
       "0    16065    10455  ...  2042295  1956360  1551930  2131035  2750685   \n",
       "1  3262725  3476925  ...  2322030  2758590  3217080  3925980  3766350   \n",
       "2  1036320  1776330  ...  3044190  1430040  1032495  1435395  4408440   \n",
       "3   500055   659175  ...  1075590  1808460   335325   472005   504645   \n",
       "4   482460   508980  ...  1349970   908565   569415  1354815   568905   \n",
       "\n",
       "        24       25       26       27  Class  \n",
       "0  1721505  1515465  1973955  1157700      1  \n",
       "1  2788170  2553315  2916945  2469930      1  \n",
       "2  2850135  1250010   784380   735165      1  \n",
       "3   505665  2266440   995010   626280      1  \n",
       "4   436050  1455030   601290   363885      1  \n",
       "\n",
       "[5 rows x 29 columns]"
      ]
     },
     "metadata": {},
     "output_type": "display_data"
    }
   ],
   "source": [
    "d = pd.read_csv('C:/Users/jingy/Jupyter/Crime/Fight/CDI_Based/Intensity/CSV/Laplacian_No_Filter.csv',index_col=0)\n",
    "d.Class[d['Class']==1] = -1\n",
    "d.Class[d['Class'] == 0] = 1\n",
    "display(d.head())"
   ]
  },
  {
   "cell_type": "code",
   "execution_count": 13,
   "metadata": {
    "ExecuteTime": {
     "end_time": "2020-09-15T22:21:17.748920Z",
     "start_time": "2020-09-15T22:21:17.718969Z"
    }
   },
   "outputs": [],
   "source": [
    "data = d\n",
    "mask = (data['Class'] == 1)\n",
    "\n",
    "X_train, X_test = train_test_split(data[mask], test_size=0.2, random_state=2)\n",
    "X_train = X_train.drop(['Class'], axis=1)\n",
    "X_test = X_test.drop(['Class'], axis=1)\n",
    "X_fraud = data[~mask].drop(['Class'], axis=1)\n",
    "\n",
    "x_test=np.vstack((X_test,X_fraud))\n",
    "y_test=[1]*len(X_test)+[-1]*len(X_fraud)\n",
    "\n",
    "std =StandardScaler()\n",
    "X_train=std.fit_transform(X_train)\n",
    "x_test=std.transform(x_test)\n"
   ]
  },
  {
   "cell_type": "code",
   "execution_count": 14,
   "metadata": {
    "ExecuteTime": {
     "end_time": "2020-09-15T22:21:17.764877Z",
     "start_time": "2020-09-15T22:21:17.750883Z"
    }
   },
   "outputs": [
    {
     "name": "stdout",
     "output_type": "stream",
     "text": [
      "0.7166666666666667\n",
      "              precision    recall  f1-score   support\n",
      "\n",
      "          -1       0.79      0.83      0.81        88\n",
      "           1       0.46      0.41      0.43        32\n",
      "\n",
      "    accuracy                           0.72       120\n",
      "   macro avg       0.63      0.62      0.62       120\n",
      "weighted avg       0.71      0.72      0.71       120\n",
      "\n"
     ]
    }
   ],
   "source": [
    "clf = svm.OneClassSVM(kernel='rbf',nu=0.6)  \n",
    "clf.fit(X_train)  \n",
    "\n",
    "y_pred = clf.predict(x_test)  \n",
    "y_prob = clf.decision_function(x_test)  # the lower, the more normal\n",
    "\n",
    "fpr,tpr,threshold_svc = metrics.roc_curve(y_test,y_prob)     \n",
    "auc_svc = metrics.auc(fpr,tpr)   \n",
    "\n",
    "precision, recall, _ = precision_recall_curve(y_test,y_prob)\n",
    "pr_auc = auc(recall, precision)\n",
    "\n",
    "score_svc = metrics.accuracy_score(y_test,y_pred)\n",
    "\n",
    "print(score_svc)\n",
    "print(classification_report(y_test, y_pred))"
   ]
  },
  {
   "cell_type": "code",
   "execution_count": 15,
   "metadata": {
    "ExecuteTime": {
     "end_time": "2020-09-15T22:21:18.033181Z",
     "start_time": "2020-09-15T22:21:17.766840Z"
    }
   },
   "outputs": [
    {
     "data": {
      "image/png": "[encoded data removed]",
      "text/plain": [
       "<Figure size 1008x432 with 2 Axes>"
      ]
     },
     "metadata": {},
     "output_type": "display_data"
    }
   ],
   "source": [
    "plt.figure(figsize=(14, 6))\n",
    "plt.subplot(121)\n",
    "#plt.figure(figsize=(14, 6))\n",
    "plt.title('Receiver Operating Characteristic \\nAUC = %0.2f'% auc_svc)   \n",
    "plt.plot(fpr, tpr, c='coral', lw=3)\n",
    "plt.plot([0,1],[0,1], c='dodgerblue', ls='--')\n",
    "plt.ylabel('TPR'); plt.xlabel('FPR')\n",
    "\n",
    "plt.subplot(122)\n",
    "plt.title('Precision-Recall curve based on \\nAUC = %0.2f'% pr_auc)\n",
    "plt.plot(recall[:-2], precision[:-2], c='coral', lw=3)\n",
    "plt.xlabel('Recall'); plt.ylabel('Precision')\n",
    "plt.show()"
   ]
  },
  {
   "cell_type": "code",
   "execution_count": null,
   "metadata": {},
   "outputs": [],
   "source": []
  }
 ],
 "metadata": {
  "kernelspec": {
   "display_name": "Python [conda env:crowd] *",
   "language": "python",
   "name": "conda-env-crowd-py"
  },
  "language_info": {
   "codemirror_mode": {
    "name": "ipython",
    "version": 3
   },
   "file_extension": ".py",
   "mimetype": "text/x-python",
   "name": "python",
   "nbconvert_exporter": "python",
   "pygments_lexer": "ipython3",
   "version": "3.8.3"
  },
  "toc": {
   "base_numbering": 1,
   "nav_menu": {},
   "number_sections": true,
   "sideBar": true,
   "skip_h1_title": false,
   "title_cell": "Table of Contents",
   "title_sidebar": "Contents",
   "toc_cell": false,
   "toc_position": {},
   "toc_section_display": true,
   "toc_window_display": false
  }
 },
 "nbformat": 4,
 "nbformat_minor": 4
}
