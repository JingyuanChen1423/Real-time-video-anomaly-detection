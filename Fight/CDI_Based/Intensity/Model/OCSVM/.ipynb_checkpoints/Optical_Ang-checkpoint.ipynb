{
 "cells": [
  {
   "cell_type": "code",
   "execution_count": 1,
   "metadata": {
    "ExecuteTime": {
     "end_time": "2020-09-15T20:15:41.227180Z",
     "start_time": "2020-09-15T20:15:39.686637Z"
    }
   },
   "outputs": [],
   "source": [
    "import numpy as np  \n",
    "import matplotlib.pyplot as plt  \n",
    "import matplotlib.font_manager  \n",
    "import pandas as pd\n",
    "from sklearn import svm  \n",
    "from sklearn.model_selection import train_test_split\n",
    "from sklearn.preprocessing import StandardScaler,MinMaxScaler\n",
    "from sklearn import metrics\n",
    "from sklearn.metrics import roc_curve, auc, precision_recall_curve,confusion_matrix,classification_report\n",
    "plt.style.use('seaborn')"
   ]
  },
  {
   "cell_type": "code",
   "execution_count": 2,
   "metadata": {
    "ExecuteTime": {
     "end_time": "2020-09-15T20:15:41.275051Z",
     "start_time": "2020-09-15T20:15:41.229188Z"
    }
   },
   "outputs": [
    {
     "name": "stderr",
     "output_type": "stream",
     "text": [
      "<ipython-input-2-89addb58d30d>:2: SettingWithCopyWarning: \n",
      "A value is trying to be set on a copy of a slice from a DataFrame\n",
      "\n",
      "See the caveats in the documentation: https://pandas.pydata.org/pandas-docs/stable/user_guide/indexing.html#returning-a-view-versus-a-copy\n",
      "  d.Class[d['Class']==1] = -1\n",
      "<ipython-input-2-89addb58d30d>:3: SettingWithCopyWarning: \n",
      "A value is trying to be set on a copy of a slice from a DataFrame\n",
      "\n",
      "See the caveats in the documentation: https://pandas.pydata.org/pandas-docs/stable/user_guide/indexing.html#returning-a-view-versus-a-copy\n",
      "  d.Class[d['Class'] == 0] = 1\n"
     ]
    },
    {
     "data": {
      "text/html": [
       "<div>\n",
       "<style scoped>\n",
       "    .dataframe tbody tr th:only-of-type {\n",
       "        vertical-align: middle;\n",
       "    }\n",
       "\n",
       "    .dataframe tbody tr th {\n",
       "        vertical-align: top;\n",
       "    }\n",
       "\n",
       "    .dataframe thead th {\n",
       "        text-align: right;\n",
       "    }\n",
       "</style>\n",
       "<table border=\"1\" class=\"dataframe\">\n",
       "  <thead>\n",
       "    <tr style=\"text-align: right;\">\n",
       "      <th></th>\n",
       "      <th>0</th>\n",
       "      <th>1</th>\n",
       "      <th>2</th>\n",
       "      <th>3</th>\n",
       "      <th>4</th>\n",
       "      <th>5</th>\n",
       "      <th>6</th>\n",
       "      <th>7</th>\n",
       "      <th>8</th>\n",
       "      <th>9</th>\n",
       "      <th>...</th>\n",
       "      <th>18</th>\n",
       "      <th>19</th>\n",
       "      <th>20</th>\n",
       "      <th>21</th>\n",
       "      <th>22</th>\n",
       "      <th>23</th>\n",
       "      <th>24</th>\n",
       "      <th>25</th>\n",
       "      <th>26</th>\n",
       "      <th>Class</th>\n",
       "    </tr>\n",
       "  </thead>\n",
       "  <tbody>\n",
       "    <tr>\n",
       "      <th>0</th>\n",
       "      <td>45150.242</td>\n",
       "      <td>48629.625</td>\n",
       "      <td>44090.410</td>\n",
       "      <td>37707.140</td>\n",
       "      <td>28336.334</td>\n",
       "      <td>25038.332</td>\n",
       "      <td>40529.688</td>\n",
       "      <td>33754.860</td>\n",
       "      <td>35617.883</td>\n",
       "      <td>21151.139</td>\n",
       "      <td>...</td>\n",
       "      <td>44247.120</td>\n",
       "      <td>52964.570</td>\n",
       "      <td>49727.105</td>\n",
       "      <td>48713.810</td>\n",
       "      <td>56395.332</td>\n",
       "      <td>51491.280</td>\n",
       "      <td>50960.547</td>\n",
       "      <td>45955.336</td>\n",
       "      <td>48286.680</td>\n",
       "      <td>1</td>\n",
       "    </tr>\n",
       "    <tr>\n",
       "      <th>1</th>\n",
       "      <td>37454.508</td>\n",
       "      <td>40205.250</td>\n",
       "      <td>38159.773</td>\n",
       "      <td>36232.280</td>\n",
       "      <td>35860.934</td>\n",
       "      <td>39269.410</td>\n",
       "      <td>35058.880</td>\n",
       "      <td>37169.617</td>\n",
       "      <td>37897.113</td>\n",
       "      <td>31618.910</td>\n",
       "      <td>...</td>\n",
       "      <td>40190.402</td>\n",
       "      <td>35026.060</td>\n",
       "      <td>35752.227</td>\n",
       "      <td>33197.387</td>\n",
       "      <td>37520.586</td>\n",
       "      <td>44156.050</td>\n",
       "      <td>44806.664</td>\n",
       "      <td>35205.305</td>\n",
       "      <td>37084.760</td>\n",
       "      <td>1</td>\n",
       "    </tr>\n",
       "    <tr>\n",
       "      <th>2</th>\n",
       "      <td>37208.950</td>\n",
       "      <td>42731.900</td>\n",
       "      <td>42513.160</td>\n",
       "      <td>42038.723</td>\n",
       "      <td>36727.484</td>\n",
       "      <td>38190.895</td>\n",
       "      <td>39947.780</td>\n",
       "      <td>39037.527</td>\n",
       "      <td>42288.420</td>\n",
       "      <td>41991.800</td>\n",
       "      <td>...</td>\n",
       "      <td>33230.484</td>\n",
       "      <td>36407.055</td>\n",
       "      <td>40706.960</td>\n",
       "      <td>40104.320</td>\n",
       "      <td>41555.050</td>\n",
       "      <td>45222.957</td>\n",
       "      <td>39997.340</td>\n",
       "      <td>39501.258</td>\n",
       "      <td>35279.770</td>\n",
       "      <td>1</td>\n",
       "    </tr>\n",
       "    <tr>\n",
       "      <th>3</th>\n",
       "      <td>37740.695</td>\n",
       "      <td>31125.031</td>\n",
       "      <td>28135.690</td>\n",
       "      <td>27234.002</td>\n",
       "      <td>36128.035</td>\n",
       "      <td>37315.105</td>\n",
       "      <td>34042.543</td>\n",
       "      <td>26357.703</td>\n",
       "      <td>29350.994</td>\n",
       "      <td>39445.170</td>\n",
       "      <td>...</td>\n",
       "      <td>37488.953</td>\n",
       "      <td>42868.363</td>\n",
       "      <td>38618.938</td>\n",
       "      <td>33114.527</td>\n",
       "      <td>48533.760</td>\n",
       "      <td>36138.816</td>\n",
       "      <td>40070.145</td>\n",
       "      <td>41829.547</td>\n",
       "      <td>40802.390</td>\n",
       "      <td>1</td>\n",
       "    </tr>\n",
       "    <tr>\n",
       "      <th>4</th>\n",
       "      <td>34280.484</td>\n",
       "      <td>40930.110</td>\n",
       "      <td>41556.125</td>\n",
       "      <td>33093.383</td>\n",
       "      <td>36629.727</td>\n",
       "      <td>43054.035</td>\n",
       "      <td>32163.940</td>\n",
       "      <td>34008.402</td>\n",
       "      <td>44126.390</td>\n",
       "      <td>37388.133</td>\n",
       "      <td>...</td>\n",
       "      <td>32284.543</td>\n",
       "      <td>43436.305</td>\n",
       "      <td>44949.500</td>\n",
       "      <td>33699.848</td>\n",
       "      <td>40849.387</td>\n",
       "      <td>45292.210</td>\n",
       "      <td>42355.660</td>\n",
       "      <td>41709.074</td>\n",
       "      <td>39558.242</td>\n",
       "      <td>1</td>\n",
       "    </tr>\n",
       "  </tbody>\n",
       "</table>\n",
       "<p>5 rows × 28 columns</p>\n",
       "</div>"
      ],
      "text/plain": [
       "           0          1          2          3          4          5  \\\n",
       "0  45150.242  48629.625  44090.410  37707.140  28336.334  25038.332   \n",
       "1  37454.508  40205.250  38159.773  36232.280  35860.934  39269.410   \n",
       "2  37208.950  42731.900  42513.160  42038.723  36727.484  38190.895   \n",
       "3  37740.695  31125.031  28135.690  27234.002  36128.035  37315.105   \n",
       "4  34280.484  40930.110  41556.125  33093.383  36629.727  43054.035   \n",
       "\n",
       "           6          7          8          9  ...         18         19  \\\n",
       "0  40529.688  33754.860  35617.883  21151.139  ...  44247.120  52964.570   \n",
       "1  35058.880  37169.617  37897.113  31618.910  ...  40190.402  35026.060   \n",
       "2  39947.780  39037.527  42288.420  41991.800  ...  33230.484  36407.055   \n",
       "3  34042.543  26357.703  29350.994  39445.170  ...  37488.953  42868.363   \n",
       "4  32163.940  34008.402  44126.390  37388.133  ...  32284.543  43436.305   \n",
       "\n",
       "          20         21         22         23         24         25  \\\n",
       "0  49727.105  48713.810  56395.332  51491.280  50960.547  45955.336   \n",
       "1  35752.227  33197.387  37520.586  44156.050  44806.664  35205.305   \n",
       "2  40706.960  40104.320  41555.050  45222.957  39997.340  39501.258   \n",
       "3  38618.938  33114.527  48533.760  36138.816  40070.145  41829.547   \n",
       "4  44949.500  33699.848  40849.387  45292.210  42355.660  41709.074   \n",
       "\n",
       "          26  Class  \n",
       "0  48286.680      1  \n",
       "1  37084.760      1  \n",
       "2  35279.770      1  \n",
       "3  40802.390      1  \n",
       "4  39558.242      1  \n",
       "\n",
       "[5 rows x 28 columns]"
      ]
     },
     "metadata": {},
     "output_type": "display_data"
    }
   ],
   "source": [
    "d = pd.read_csv('C:/Users/jingy/Jupyter/Crime/Fight/CDI_Based/Intensity/CSV/Optical_Ang.csv',index_col=0)\n",
    "d.Class[d['Class']==1] = -1\n",
    "d.Class[d['Class'] == 0] = 1\n",
    "display(d.head())"
   ]
  },
  {
   "cell_type": "code",
   "execution_count": 3,
   "metadata": {
    "ExecuteTime": {
     "end_time": "2020-09-15T20:15:41.291012Z",
     "start_time": "2020-09-15T20:15:41.277046Z"
    }
   },
   "outputs": [],
   "source": [
    "data = d\n",
    "mask = (data['Class'] == 1)\n",
    "\n",
    "X_train, X_test = train_test_split(data[mask], test_size=0.2, random_state=0)\n",
    "X_train = X_train.drop(['Class'], axis=1)\n",
    "X_test = X_test.drop(['Class'], axis=1)\n",
    "X_fraud = data[~mask].drop(['Class'], axis=1)\n",
    "\n",
    "x_test=np.vstack((X_test,X_fraud))\n",
    "y_test=[1]*len(X_test)+[-1]*len(X_fraud)\n",
    "\n",
    "std =StandardScaler()\n",
    "X_train=std.fit_transform(X_train)\n",
    "x_test=std.transform(x_test)\n"
   ]
  },
  {
   "cell_type": "code",
   "execution_count": 4,
   "metadata": {
    "ExecuteTime": {
     "end_time": "2020-09-15T20:15:41.321655Z",
     "start_time": "2020-09-15T20:15:41.294998Z"
    }
   },
   "outputs": [
    {
     "name": "stdout",
     "output_type": "stream",
     "text": [
      "0.71900826446281\n",
      "              precision    recall  f1-score   support\n",
      "\n",
      "          -1       0.87      0.73      0.79        89\n",
      "           1       0.48      0.69      0.56        32\n",
      "\n",
      "    accuracy                           0.72       121\n",
      "   macro avg       0.67      0.71      0.68       121\n",
      "weighted avg       0.76      0.72      0.73       121\n",
      "\n"
     ]
    }
   ],
   "source": [
    "clf = svm.OneClassSVM(kernel='rbf',nu=0.5)  \n",
    "clf.fit(X_train)  \n",
    "\n",
    "y_pred = clf.predict(x_test)  \n",
    "y_prob = clf.decision_function(x_test)  # the lower, the more normal\n",
    "\n",
    "fpr,tpr,threshold_svc = metrics.roc_curve(y_test,y_prob)     \n",
    "auc_svc = metrics.auc(fpr,tpr)   \n",
    "\n",
    "precision, recall, _ = precision_recall_curve(y_test,y_prob)\n",
    "pr_auc = auc(recall, precision)\n",
    "\n",
    "score_svc = metrics.accuracy_score(y_test,y_pred)\n",
    "\n",
    "print(score_svc)\n",
    "print(classification_report(y_test, y_pred))"
   ]
  },
  {
   "cell_type": "code",
   "execution_count": 5,
   "metadata": {
    "ExecuteTime": {
     "end_time": "2020-09-15T20:15:41.573615Z",
     "start_time": "2020-09-15T20:15:41.323631Z"
    }
   },
   "outputs": [
    {
     "data": {
      "image/png": "[encoded data removed]",
      "text/plain": [
       "<Figure size 1008x432 with 2 Axes>"
      ]
     },
     "metadata": {},
     "output_type": "display_data"
    }
   ],
   "source": [
    "plt.figure(figsize=(14, 6))\n",
    "plt.subplot(121)\n",
    "#plt.figure(figsize=(14, 6))\n",
    "plt.title('Receiver Operating Characteristic \\nAUC = %0.2f'% auc_svc)   \n",
    "plt.plot(fpr, tpr, c='coral', lw=3)\n",
    "plt.plot([0,1],[0,1], c='dodgerblue', ls='--')\n",
    "plt.ylabel('TPR'); plt.xlabel('FPR')\n",
    "\n",
    "plt.subplot(122)\n",
    "plt.title('Precision-Recall curve based on \\nAUC = %0.2f'% pr_auc)\n",
    "plt.plot(recall[:-2], precision[:-2], c='coral', lw=3)\n",
    "plt.xlabel('Recall'); plt.ylabel('Precision')\n",
    "plt.show()"
   ]
  },
  {
   "cell_type": "code",
   "execution_count": null,
   "metadata": {},
   "outputs": [],
   "source": []
  }
 ],
 "metadata": {
  "kernelspec": {
   "display_name": "Python [conda env:crowd] *",
   "language": "python",
   "name": "conda-env-crowd-py"
  },
  "language_info": {
   "codemirror_mode": {
    "name": "ipython",
    "version": 3
   },
   "file_extension": ".py",
   "mimetype": "text/x-python",
   "name": "python",
   "nbconvert_exporter": "python",
   "pygments_lexer": "ipython3",
   "version": "3.8.3"
  },
  "toc": {
   "base_numbering": 1,
   "nav_menu": {},
   "number_sections": true,
   "sideBar": true,
   "skip_h1_title": false,
   "title_cell": "Table of Contents",
   "title_sidebar": "Contents",
   "toc_cell": false,
   "toc_position": {},
   "toc_section_display": true,
   "toc_window_display": false
  }
 },
 "nbformat": 4,
 "nbformat_minor": 4
}
