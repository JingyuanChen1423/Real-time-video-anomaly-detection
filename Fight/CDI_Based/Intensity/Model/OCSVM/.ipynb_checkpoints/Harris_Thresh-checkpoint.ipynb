{
 "cells": [
  {
   "cell_type": "code",
   "execution_count": 16,
   "metadata": {
    "ExecuteTime": {
     "end_time": "2020-09-15T22:21:31.888883Z",
     "start_time": "2020-09-15T22:21:31.862952Z"
    }
   },
   "outputs": [],
   "source": [
    "import numpy as np  \n",
    "import matplotlib.pyplot as plt  \n",
    "import matplotlib.font_manager  \n",
    "import pandas as pd\n",
    "from sklearn import svm  \n",
    "from sklearn.model_selection import train_test_split\n",
    "from sklearn.preprocessing import StandardScaler,MinMaxScaler\n",
    "from sklearn import metrics\n",
    "from sklearn.metrics import roc_curve, auc, precision_recall_curve,confusion_matrix,classification_report\n",
    "plt.style.use('seaborn')"
   ]
  },
  {
   "cell_type": "code",
   "execution_count": 17,
   "metadata": {
    "ExecuteTime": {
     "end_time": "2020-09-15T22:21:31.965716Z",
     "start_time": "2020-09-15T22:21:31.891876Z"
    }
   },
   "outputs": [
    {
     "name": "stderr",
     "output_type": "stream",
     "text": [
      "<ipython-input-17-f7d81df2ee91>:2: SettingWithCopyWarning: \n",
      "A value is trying to be set on a copy of a slice from a DataFrame\n",
      "\n",
      "See the caveats in the documentation: https://pandas.pydata.org/pandas-docs/stable/user_guide/indexing.html#returning-a-view-versus-a-copy\n",
      "  d.Class[d['Class']==1] = -1\n",
      "<ipython-input-17-f7d81df2ee91>:3: SettingWithCopyWarning: \n",
      "A value is trying to be set on a copy of a slice from a DataFrame\n",
      "\n",
      "See the caveats in the documentation: https://pandas.pydata.org/pandas-docs/stable/user_guide/indexing.html#returning-a-view-versus-a-copy\n",
      "  d.Class[d['Class'] == 0] = 1\n"
     ]
    },
    {
     "data": {
      "text/html": [
       "<div>\n",
       "<style scoped>\n",
       "    .dataframe tbody tr th:only-of-type {\n",
       "        vertical-align: middle;\n",
       "    }\n",
       "\n",
       "    .dataframe tbody tr th {\n",
       "        vertical-align: top;\n",
       "    }\n",
       "\n",
       "    .dataframe thead th {\n",
       "        text-align: right;\n",
       "    }\n",
       "</style>\n",
       "<table border=\"1\" class=\"dataframe\">\n",
       "  <thead>\n",
       "    <tr style=\"text-align: right;\">\n",
       "      <th></th>\n",
       "      <th>0</th>\n",
       "      <th>1</th>\n",
       "      <th>2</th>\n",
       "      <th>3</th>\n",
       "      <th>4</th>\n",
       "      <th>5</th>\n",
       "      <th>6</th>\n",
       "      <th>7</th>\n",
       "      <th>8</th>\n",
       "      <th>9</th>\n",
       "      <th>...</th>\n",
       "      <th>19</th>\n",
       "      <th>20</th>\n",
       "      <th>21</th>\n",
       "      <th>22</th>\n",
       "      <th>23</th>\n",
       "      <th>24</th>\n",
       "      <th>25</th>\n",
       "      <th>26</th>\n",
       "      <th>27</th>\n",
       "      <th>Class</th>\n",
       "    </tr>\n",
       "  </thead>\n",
       "  <tbody>\n",
       "    <tr>\n",
       "      <th>0</th>\n",
       "      <td>3560310.0</td>\n",
       "      <td>2979675.0</td>\n",
       "      <td>5092350.0</td>\n",
       "      <td>1493535.0</td>\n",
       "      <td>242760.0</td>\n",
       "      <td>160905.0</td>\n",
       "      <td>194055.0</td>\n",
       "      <td>93585.0</td>\n",
       "      <td>62220.0</td>\n",
       "      <td>39270.0</td>\n",
       "      <td>...</td>\n",
       "      <td>6490260.0</td>\n",
       "      <td>6330885.0</td>\n",
       "      <td>5120910.0</td>\n",
       "      <td>6434415.0</td>\n",
       "      <td>8055195.0</td>\n",
       "      <td>5803545.0</td>\n",
       "      <td>5139525.0</td>\n",
       "      <td>6588180.0</td>\n",
       "      <td>3989985.0</td>\n",
       "      <td>1</td>\n",
       "    </tr>\n",
       "    <tr>\n",
       "      <th>1</th>\n",
       "      <td>10315770.0</td>\n",
       "      <td>9446985.0</td>\n",
       "      <td>10219635.0</td>\n",
       "      <td>9846060.0</td>\n",
       "      <td>6166410.0</td>\n",
       "      <td>6322470.0</td>\n",
       "      <td>8988495.0</td>\n",
       "      <td>8540715.0</td>\n",
       "      <td>8793165.0</td>\n",
       "      <td>9222585.0</td>\n",
       "      <td>...</td>\n",
       "      <td>6478530.0</td>\n",
       "      <td>7416930.0</td>\n",
       "      <td>8539695.0</td>\n",
       "      <td>9567600.0</td>\n",
       "      <td>9467895.0</td>\n",
       "      <td>8049585.0</td>\n",
       "      <td>7297590.0</td>\n",
       "      <td>7993740.0</td>\n",
       "      <td>7083135.0</td>\n",
       "      <td>1</td>\n",
       "    </tr>\n",
       "    <tr>\n",
       "      <th>2</th>\n",
       "      <td>5972865.0</td>\n",
       "      <td>6231690.0</td>\n",
       "      <td>4830975.0</td>\n",
       "      <td>5693130.0</td>\n",
       "      <td>7109400.0</td>\n",
       "      <td>2249865.0</td>\n",
       "      <td>1608285.0</td>\n",
       "      <td>1729665.0</td>\n",
       "      <td>3264510.0</td>\n",
       "      <td>5458530.0</td>\n",
       "      <td>...</td>\n",
       "      <td>8048055.0</td>\n",
       "      <td>3971625.0</td>\n",
       "      <td>2737170.0</td>\n",
       "      <td>3747735.0</td>\n",
       "      <td>10261200.0</td>\n",
       "      <td>7899900.0</td>\n",
       "      <td>3675825.0</td>\n",
       "      <td>2102730.0</td>\n",
       "      <td>1919640.0</td>\n",
       "      <td>1</td>\n",
       "    </tr>\n",
       "    <tr>\n",
       "      <th>3</th>\n",
       "      <td>7234860.0</td>\n",
       "      <td>2377620.0</td>\n",
       "      <td>1864305.0</td>\n",
       "      <td>1620780.0</td>\n",
       "      <td>2133075.0</td>\n",
       "      <td>6064410.0</td>\n",
       "      <td>2260065.0</td>\n",
       "      <td>1510110.0</td>\n",
       "      <td>1325490.0</td>\n",
       "      <td>1758225.0</td>\n",
       "      <td>...</td>\n",
       "      <td>3083460.0</td>\n",
       "      <td>5175990.0</td>\n",
       "      <td>1042185.0</td>\n",
       "      <td>1325745.0</td>\n",
       "      <td>1256640.0</td>\n",
       "      <td>1249755.0</td>\n",
       "      <td>6127905.0</td>\n",
       "      <td>2869005.0</td>\n",
       "      <td>1614660.0</td>\n",
       "      <td>1</td>\n",
       "    </tr>\n",
       "    <tr>\n",
       "      <th>4</th>\n",
       "      <td>5065065.0</td>\n",
       "      <td>5948385.0</td>\n",
       "      <td>2515575.0</td>\n",
       "      <td>1640160.0</td>\n",
       "      <td>3749775.0</td>\n",
       "      <td>3906855.0</td>\n",
       "      <td>2305710.0</td>\n",
       "      <td>2943465.0</td>\n",
       "      <td>1567740.0</td>\n",
       "      <td>1695495.0</td>\n",
       "      <td>...</td>\n",
       "      <td>3348150.0</td>\n",
       "      <td>2911590.0</td>\n",
       "      <td>1881390.0</td>\n",
       "      <td>3466215.0</td>\n",
       "      <td>1767150.0</td>\n",
       "      <td>1524390.0</td>\n",
       "      <td>4188120.0</td>\n",
       "      <td>1892610.0</td>\n",
       "      <td>1141125.0</td>\n",
       "      <td>1</td>\n",
       "    </tr>\n",
       "  </tbody>\n",
       "</table>\n",
       "<p>5 rows × 29 columns</p>\n",
       "</div>"
      ],
      "text/plain": [
       "            0          1           2          3          4          5  \\\n",
       "0   3560310.0  2979675.0   5092350.0  1493535.0   242760.0   160905.0   \n",
       "1  10315770.0  9446985.0  10219635.0  9846060.0  6166410.0  6322470.0   \n",
       "2   5972865.0  6231690.0   4830975.0  5693130.0  7109400.0  2249865.0   \n",
       "3   7234860.0  2377620.0   1864305.0  1620780.0  2133075.0  6064410.0   \n",
       "4   5065065.0  5948385.0   2515575.0  1640160.0  3749775.0  3906855.0   \n",
       "\n",
       "           6          7          8          9  ...         19         20  \\\n",
       "0   194055.0    93585.0    62220.0    39270.0  ...  6490260.0  6330885.0   \n",
       "1  8988495.0  8540715.0  8793165.0  9222585.0  ...  6478530.0  7416930.0   \n",
       "2  1608285.0  1729665.0  3264510.0  5458530.0  ...  8048055.0  3971625.0   \n",
       "3  2260065.0  1510110.0  1325490.0  1758225.0  ...  3083460.0  5175990.0   \n",
       "4  2305710.0  2943465.0  1567740.0  1695495.0  ...  3348150.0  2911590.0   \n",
       "\n",
       "          21         22          23         24         25         26  \\\n",
       "0  5120910.0  6434415.0   8055195.0  5803545.0  5139525.0  6588180.0   \n",
       "1  8539695.0  9567600.0   9467895.0  8049585.0  7297590.0  7993740.0   \n",
       "2  2737170.0  3747735.0  10261200.0  7899900.0  3675825.0  2102730.0   \n",
       "3  1042185.0  1325745.0   1256640.0  1249755.0  6127905.0  2869005.0   \n",
       "4  1881390.0  3466215.0   1767150.0  1524390.0  4188120.0  1892610.0   \n",
       "\n",
       "          27  Class  \n",
       "0  3989985.0      1  \n",
       "1  7083135.0      1  \n",
       "2  1919640.0      1  \n",
       "3  1614660.0      1  \n",
       "4  1141125.0      1  \n",
       "\n",
       "[5 rows x 29 columns]"
      ]
     },
     "metadata": {},
     "output_type": "display_data"
    }
   ],
   "source": [
    "d = pd.read_csv('C:/Users/jingy/Jupyter/Crime/Fight/CDI_Based/Intensity/CSV/Harris_No_Filter.csv',index_col=0)\n",
    "d.Class[d['Class']==1] = -1\n",
    "d.Class[d['Class'] == 0] = 1\n",
    "display(d.head())"
   ]
  },
  {
   "cell_type": "code",
   "execution_count": 18,
   "metadata": {
    "ExecuteTime": {
     "end_time": "2020-09-15T22:21:31.997135Z",
     "start_time": "2020-09-15T22:21:31.967671Z"
    }
   },
   "outputs": [],
   "source": [
    "data = d\n",
    "mask = (data['Class'] == 1)\n",
    "\n",
    "X_train, X_test = train_test_split(data[mask], test_size=0.2, random_state=0)\n",
    "X_train = X_train.drop(['Class'], axis=1)\n",
    "X_test = X_test.drop(['Class'], axis=1)\n",
    "X_fraud = data[~mask].drop(['Class'], axis=1)\n",
    "\n",
    "x_test=np.vstack((X_test,X_fraud))\n",
    "y_test=[1]*len(X_test)+[-1]*len(X_fraud)\n",
    "\n",
    "std =StandardScaler()\n",
    "X_train=std.fit_transform(X_train)\n",
    "x_test=std.transform(x_test)\n"
   ]
  },
  {
   "cell_type": "code",
   "execution_count": 19,
   "metadata": {
    "ExecuteTime": {
     "end_time": "2020-09-15T22:21:32.028053Z",
     "start_time": "2020-09-15T22:21:31.999106Z"
    }
   },
   "outputs": [
    {
     "name": "stdout",
     "output_type": "stream",
     "text": [
      "0.7\n",
      "              precision    recall  f1-score   support\n",
      "\n",
      "          -1       0.79      0.81      0.80        88\n",
      "           1       0.43      0.41      0.42        32\n",
      "\n",
      "    accuracy                           0.70       120\n",
      "   macro avg       0.61      0.61      0.61       120\n",
      "weighted avg       0.69      0.70      0.70       120\n",
      "\n"
     ]
    }
   ],
   "source": [
    "clf = svm.OneClassSVM(kernel='rbf',nu=0.6)  \n",
    "clf.fit(X_train)  \n",
    "\n",
    "y_pred = clf.predict(x_test)  \n",
    "y_prob = clf.decision_function(x_test)  # the lower, the more normal\n",
    "\n",
    "fpr,tpr,threshold_svc = metrics.roc_curve(y_test,y_prob)     \n",
    "auc_svc = metrics.auc(fpr,tpr)   \n",
    "\n",
    "precision, recall, _ = precision_recall_curve(y_test,y_prob)\n",
    "pr_auc = auc(recall, precision)\n",
    "\n",
    "score_svc = metrics.accuracy_score(y_test,y_pred)\n",
    "\n",
    "print(score_svc)\n",
    "print(classification_report(y_test, y_pred))"
   ]
  },
  {
   "cell_type": "code",
   "execution_count": 20,
   "metadata": {
    "ExecuteTime": {
     "end_time": "2020-09-15T22:21:32.336457Z",
     "start_time": "2020-09-15T22:21:32.030014Z"
    }
   },
   "outputs": [
    {
     "data": {
      "image/png": "[encoded data removed]",
      "text/plain": [
       "<Figure size 1008x432 with 2 Axes>"
      ]
     },
     "metadata": {},
     "output_type": "display_data"
    }
   ],
   "source": [
    "plt.figure(figsize=(14, 6))\n",
    "plt.subplot(121)\n",
    "#plt.figure(figsize=(14, 6))\n",
    "plt.title('Receiver Operating Characteristic \\nAUC = %0.2f'% auc_svc)   \n",
    "plt.plot(fpr, tpr, c='coral', lw=3)\n",
    "plt.plot([0,1],[0,1], c='dodgerblue', ls='--')\n",
    "plt.ylabel('TPR'); plt.xlabel('FPR')\n",
    "\n",
    "plt.subplot(122)\n",
    "plt.title('Precision-Recall curve based on \\nAUC = %0.2f'% pr_auc)\n",
    "plt.plot(recall[:-2], precision[:-2], c='coral', lw=3)\n",
    "plt.xlabel('Recall'); plt.ylabel('Precision')\n",
    "plt.show()"
   ]
  },
  {
   "cell_type": "code",
   "execution_count": null,
   "metadata": {},
   "outputs": [],
   "source": []
  }
 ],
 "metadata": {
  "kernelspec": {
   "display_name": "Python [conda env:crowd] *",
   "language": "python",
   "name": "conda-env-crowd-py"
  },
  "language_info": {
   "codemirror_mode": {
    "name": "ipython",
    "version": 3
   },
   "file_extension": ".py",
   "mimetype": "text/x-python",
   "name": "python",
   "nbconvert_exporter": "python",
   "pygments_lexer": "ipython3",
   "version": "3.8.3"
  },
  "toc": {
   "base_numbering": 1,
   "nav_menu": {},
   "number_sections": true,
   "sideBar": true,
   "skip_h1_title": false,
   "title_cell": "Table of Contents",
   "title_sidebar": "Contents",
   "toc_cell": false,
   "toc_position": {},
   "toc_section_display": true,
   "toc_window_display": false
  }
 },
 "nbformat": 4,
 "nbformat_minor": 4
}
