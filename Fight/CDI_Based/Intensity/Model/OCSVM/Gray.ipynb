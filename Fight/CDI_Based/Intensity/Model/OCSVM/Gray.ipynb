{
 "cells": [
  {
   "cell_type": "code",
   "execution_count": 21,
   "metadata": {
    "ExecuteTime": {
     "end_time": "2020-09-15T22:17:58.228364Z",
     "start_time": "2020-09-15T22:17:58.213406Z"
    }
   },
   "outputs": [],
   "source": [
    "import numpy as np  \n",
    "import matplotlib.pyplot as plt  \n",
    "import matplotlib.font_manager  \n",
    "import pandas as pd\n",
    "from sklearn import svm  \n",
    "from sklearn.model_selection import train_test_split\n",
    "from sklearn.preprocessing import StandardScaler,MinMaxScaler\n",
    "from sklearn import metrics\n",
    "from sklearn.metrics import roc_curve, auc, precision_recall_curve,confusion_matrix,classification_report\n",
    "plt.style.use('seaborn')"
   ]
  },
  {
   "cell_type": "code",
   "execution_count": 22,
   "metadata": {
    "ExecuteTime": {
     "end_time": "2020-09-15T22:17:58.258283Z",
     "start_time": "2020-09-15T22:17:58.229362Z"
    }
   },
   "outputs": [
    {
     "data": {
      "text/html": [
       "<div>\n",
       "<style scoped>\n",
       "    .dataframe tbody tr th:only-of-type {\n",
       "        vertical-align: middle;\n",
       "    }\n",
       "\n",
       "    .dataframe tbody tr th {\n",
       "        vertical-align: top;\n",
       "    }\n",
       "\n",
       "    .dataframe thead th {\n",
       "        text-align: right;\n",
       "    }\n",
       "</style>\n",
       "<table border=\"1\" class=\"dataframe\">\n",
       "  <thead>\n",
       "    <tr style=\"text-align: right;\">\n",
       "      <th></th>\n",
       "      <th>0</th>\n",
       "      <th>1</th>\n",
       "      <th>2</th>\n",
       "      <th>3</th>\n",
       "      <th>4</th>\n",
       "      <th>5</th>\n",
       "      <th>6</th>\n",
       "      <th>7</th>\n",
       "      <th>8</th>\n",
       "      <th>9</th>\n",
       "      <th>...</th>\n",
       "      <th>19</th>\n",
       "      <th>20</th>\n",
       "      <th>21</th>\n",
       "      <th>22</th>\n",
       "      <th>23</th>\n",
       "      <th>24</th>\n",
       "      <th>25</th>\n",
       "      <th>26</th>\n",
       "      <th>27</th>\n",
       "      <th>Class</th>\n",
       "    </tr>\n",
       "  </thead>\n",
       "  <tbody>\n",
       "    <tr>\n",
       "      <th>0</th>\n",
       "      <td>884850</td>\n",
       "      <td>633930</td>\n",
       "      <td>1092930</td>\n",
       "      <td>309060</td>\n",
       "      <td>45135</td>\n",
       "      <td>31875</td>\n",
       "      <td>42840</td>\n",
       "      <td>17085</td>\n",
       "      <td>10455</td>\n",
       "      <td>6375</td>\n",
       "      <td>...</td>\n",
       "      <td>2025210</td>\n",
       "      <td>1866090</td>\n",
       "      <td>1411425</td>\n",
       "      <td>2273070</td>\n",
       "      <td>3102840</td>\n",
       "      <td>1614405</td>\n",
       "      <td>1373430</td>\n",
       "      <td>1927545</td>\n",
       "      <td>1015665</td>\n",
       "      <td>1</td>\n",
       "    </tr>\n",
       "    <tr>\n",
       "      <th>1</th>\n",
       "      <td>4785330</td>\n",
       "      <td>4045575</td>\n",
       "      <td>4845000</td>\n",
       "      <td>4542825</td>\n",
       "      <td>2681580</td>\n",
       "      <td>2887110</td>\n",
       "      <td>4072860</td>\n",
       "      <td>3846165</td>\n",
       "      <td>4010640</td>\n",
       "      <td>4215405</td>\n",
       "      <td>...</td>\n",
       "      <td>2620890</td>\n",
       "      <td>3143895</td>\n",
       "      <td>3709230</td>\n",
       "      <td>5087760</td>\n",
       "      <td>4491315</td>\n",
       "      <td>2700705</td>\n",
       "      <td>2603295</td>\n",
       "      <td>3078360</td>\n",
       "      <td>2572440</td>\n",
       "      <td>1</td>\n",
       "    </tr>\n",
       "    <tr>\n",
       "      <th>2</th>\n",
       "      <td>1759245</td>\n",
       "      <td>2026740</td>\n",
       "      <td>1386435</td>\n",
       "      <td>2034390</td>\n",
       "      <td>2596410</td>\n",
       "      <td>645150</td>\n",
       "      <td>545445</td>\n",
       "      <td>514335</td>\n",
       "      <td>1118175</td>\n",
       "      <td>1912500</td>\n",
       "      <td>...</td>\n",
       "      <td>3865290</td>\n",
       "      <td>1828605</td>\n",
       "      <td>1423920</td>\n",
       "      <td>2031585</td>\n",
       "      <td>6628215</td>\n",
       "      <td>3529965</td>\n",
       "      <td>1501695</td>\n",
       "      <td>1037085</td>\n",
       "      <td>944775</td>\n",
       "      <td>1</td>\n",
       "    </tr>\n",
       "    <tr>\n",
       "      <th>3</th>\n",
       "      <td>3060255</td>\n",
       "      <td>1117155</td>\n",
       "      <td>928965</td>\n",
       "      <td>818550</td>\n",
       "      <td>1079160</td>\n",
       "      <td>2412300</td>\n",
       "      <td>942225</td>\n",
       "      <td>756330</td>\n",
       "      <td>574260</td>\n",
       "      <td>772395</td>\n",
       "      <td>...</td>\n",
       "      <td>1169685</td>\n",
       "      <td>1854870</td>\n",
       "      <td>294270</td>\n",
       "      <td>494955</td>\n",
       "      <td>615060</td>\n",
       "      <td>643875</td>\n",
       "      <td>2579070</td>\n",
       "      <td>1088850</td>\n",
       "      <td>820845</td>\n",
       "      <td>1</td>\n",
       "    </tr>\n",
       "    <tr>\n",
       "      <th>4</th>\n",
       "      <td>1508325</td>\n",
       "      <td>2239410</td>\n",
       "      <td>694365</td>\n",
       "      <td>450075</td>\n",
       "      <td>2023935</td>\n",
       "      <td>1243890</td>\n",
       "      <td>676770</td>\n",
       "      <td>1760265</td>\n",
       "      <td>497505</td>\n",
       "      <td>554625</td>\n",
       "      <td>...</td>\n",
       "      <td>1841610</td>\n",
       "      <td>876945</td>\n",
       "      <td>509235</td>\n",
       "      <td>1857675</td>\n",
       "      <td>528105</td>\n",
       "      <td>352920</td>\n",
       "      <td>1680195</td>\n",
       "      <td>572985</td>\n",
       "      <td>364140</td>\n",
       "      <td>1</td>\n",
       "    </tr>\n",
       "  </tbody>\n",
       "</table>\n",
       "<p>5 rows × 29 columns</p>\n",
       "</div>"
      ],
      "text/plain": [
       "         0        1        2        3        4        5        6        7  \\\n",
       "0   884850   633930  1092930   309060    45135    31875    42840    17085   \n",
       "1  4785330  4045575  4845000  4542825  2681580  2887110  4072860  3846165   \n",
       "2  1759245  2026740  1386435  2034390  2596410   645150   545445   514335   \n",
       "3  3060255  1117155   928965   818550  1079160  2412300   942225   756330   \n",
       "4  1508325  2239410   694365   450075  2023935  1243890   676770  1760265   \n",
       "\n",
       "         8        9  ...       19       20       21       22       23  \\\n",
       "0    10455     6375  ...  2025210  1866090  1411425  2273070  3102840   \n",
       "1  4010640  4215405  ...  2620890  3143895  3709230  5087760  4491315   \n",
       "2  1118175  1912500  ...  3865290  1828605  1423920  2031585  6628215   \n",
       "3   574260   772395  ...  1169685  1854870   294270   494955   615060   \n",
       "4   497505   554625  ...  1841610   876945   509235  1857675   528105   \n",
       "\n",
       "        24       25       26       27  Class  \n",
       "0  1614405  1373430  1927545  1015665      1  \n",
       "1  2700705  2603295  3078360  2572440      1  \n",
       "2  3529965  1501695  1037085   944775      1  \n",
       "3   643875  2579070  1088850   820845      1  \n",
       "4   352920  1680195   572985   364140      1  \n",
       "\n",
       "[5 rows x 29 columns]"
      ]
     },
     "metadata": {},
     "output_type": "display_data"
    }
   ],
   "source": [
    "d = pd.read_csv('C:/Users/jingy/Jupyter/Crime/Fight/CDI_Based/Intensity/CSV/Gray.csv',index_col=0)\n",
    "d.Class[d['Class']==1] = -1\n",
    "d.Class[d['Class'] == 0] = 1\n",
    "display(d.head())"
   ]
  },
  {
   "cell_type": "code",
   "execution_count": 23,
   "metadata": {
    "ExecuteTime": {
     "end_time": "2020-09-15T22:17:58.290198Z",
     "start_time": "2020-09-15T22:17:58.260281Z"
    }
   },
   "outputs": [],
   "source": [
    "data = d\n",
    "mask = (data['Class'] == 1)\n",
    "\n",
    "X_train, X_test = train_test_split(data[mask], test_size=0.2, random_state=2)\n",
    "X_train = X_train.drop(['Class'], axis=1)\n",
    "X_test = X_test.drop(['Class'], axis=1)\n",
    "X_fraud = data[~mask].drop(['Class'], axis=1)\n",
    "\n",
    "x_test=np.vstack((X_test,X_fraud))\n",
    "y_test=[1]*len(X_test)+[-1]*len(X_fraud)\n",
    "std =StandardScaler()\n",
    "X_train=std.fit_transform(X_train)\n",
    "x_test=std.transform(x_test)\n"
   ]
  },
  {
   "cell_type": "code",
   "execution_count": 24,
   "metadata": {
    "ExecuteTime": {
     "end_time": "2020-09-15T22:17:58.306191Z",
     "start_time": "2020-09-15T22:17:58.291195Z"
    }
   },
   "outputs": [
    {
     "name": "stdout",
     "output_type": "stream",
     "text": [
      "0.7666666666666667\n",
      "              precision    recall  f1-score   support\n",
      "\n",
      "          -1       0.81      0.89      0.85        88\n",
      "           1       0.58      0.44      0.50        32\n",
      "\n",
      "    accuracy                           0.77       120\n",
      "   macro avg       0.70      0.66      0.67       120\n",
      "weighted avg       0.75      0.77      0.76       120\n",
      "\n"
     ]
    }
   ],
   "source": [
    "clf = svm.OneClassSVM(kernel='rbf',nu=0.6)  \n",
    "clf.fit(X_train)  \n",
    "\n",
    "y_pred = clf.predict(x_test)  \n",
    "y_prob = clf.decision_function(x_test)  # the lower, the more normal\n",
    "\n",
    "fpr,tpr,threshold_svc = metrics.roc_curve(y_test,y_prob)     \n",
    "auc_svc = metrics.auc(fpr,tpr)   \n",
    "\n",
    "precision, recall, _ = precision_recall_curve(y_test,y_prob)\n",
    "pr_auc = auc(recall, precision)\n",
    "\n",
    "score_svc = metrics.accuracy_score(y_test,y_pred)\n",
    "\n",
    "print(score_svc)\n",
    "print(classification_report(y_test, y_pred))"
   ]
  },
  {
   "cell_type": "code",
   "execution_count": 25,
   "metadata": {
    "ExecuteTime": {
     "end_time": "2020-09-15T22:17:58.561108Z",
     "start_time": "2020-09-15T22:17:58.308188Z"
    }
   },
   "outputs": [
    {
     "data": {
      "image/png": "[encoded data removed]",
      "text/plain": [
       "<Figure size 1008x432 with 2 Axes>"
      ]
     },
     "metadata": {},
     "output_type": "display_data"
    }
   ],
   "source": [
    "plt.figure(figsize=(14, 6))\n",
    "plt.subplot(121)\n",
    "#plt.figure(figsize=(14, 6))\n",
    "plt.title('Receiver Operating Characteristic \\nAUC = %0.2f'% auc_svc)   \n",
    "plt.plot(fpr, tpr, c='coral', lw=3)\n",
    "plt.plot([0,1],[0,1], c='dodgerblue', ls='--')\n",
    "plt.ylabel('TPR'); plt.xlabel('FPR')\n",
    "\n",
    "plt.subplot(122)\n",
    "plt.title('Precision-Recall curve based on \\nAUC = %0.2f'% pr_auc)\n",
    "plt.plot(recall[:-2], precision[:-2], c='coral', lw=3)\n",
    "plt.xlabel('Recall'); plt.ylabel('Precision')\n",
    "plt.show()"
   ]
  },
  {
   "cell_type": "code",
   "execution_count": null,
   "metadata": {},
   "outputs": [],
   "source": []
  }
 ],
 "metadata": {
  "kernelspec": {
   "display_name": "Python [conda env:crowd] *",
   "language": "python",
   "name": "conda-env-crowd-py"
  },
  "language_info": {
   "codemirror_mode": {
    "name": "ipython",
    "version": 3
   },
   "file_extension": ".py",
   "mimetype": "text/x-python",
   "name": "python",
   "nbconvert_exporter": "python",
   "pygments_lexer": "ipython3",
   "version": "3.8.3"
  },
  "toc": {
   "base_numbering": 1,
   "nav_menu": {},
   "number_sections": true,
   "sideBar": true,
   "skip_h1_title": false,
   "title_cell": "Table of Contents",
   "title_sidebar": "Contents",
   "toc_cell": false,
   "toc_position": {},
   "toc_section_display": true,
   "toc_window_display": false
  }
 },
 "nbformat": 4,
 "nbformat_minor": 4
}
