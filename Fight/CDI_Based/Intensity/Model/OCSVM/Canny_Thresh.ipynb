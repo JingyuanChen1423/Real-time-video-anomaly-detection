{
 "cells": [
  {
   "cell_type": "code",
   "execution_count": 21,
   "metadata": {
    "ExecuteTime": {
     "end_time": "2020-09-15T22:18:12.271463Z",
     "start_time": "2020-09-15T22:18:12.261491Z"
    }
   },
   "outputs": [],
   "source": [
    "import numpy as np  \n",
    "import matplotlib.pyplot as plt  \n",
    "import matplotlib.font_manager  \n",
    "import pandas as pd\n",
    "from sklearn import svm  \n",
    "from sklearn.model_selection import train_test_split\n",
    "from sklearn.preprocessing import StandardScaler,MinMaxScaler\n",
    "from sklearn import metrics\n",
    "from sklearn.metrics import roc_curve, auc, precision_recall_curve,confusion_matrix,classification_report\n",
    "plt.style.use('seaborn')"
   ]
  },
  {
   "cell_type": "code",
   "execution_count": 22,
   "metadata": {
    "ExecuteTime": {
     "end_time": "2020-09-15T22:18:12.317343Z",
     "start_time": "2020-09-15T22:18:12.273469Z"
    }
   },
   "outputs": [
    {
     "data": {
      "text/html": [
       "<div>\n",
       "<style scoped>\n",
       "    .dataframe tbody tr th:only-of-type {\n",
       "        vertical-align: middle;\n",
       "    }\n",
       "\n",
       "    .dataframe tbody tr th {\n",
       "        vertical-align: top;\n",
       "    }\n",
       "\n",
       "    .dataframe thead th {\n",
       "        text-align: right;\n",
       "    }\n",
       "</style>\n",
       "<table border=\"1\" class=\"dataframe\">\n",
       "  <thead>\n",
       "    <tr style=\"text-align: right;\">\n",
       "      <th></th>\n",
       "      <th>0</th>\n",
       "      <th>1</th>\n",
       "      <th>2</th>\n",
       "      <th>3</th>\n",
       "      <th>4</th>\n",
       "      <th>5</th>\n",
       "      <th>6</th>\n",
       "      <th>7</th>\n",
       "      <th>8</th>\n",
       "      <th>9</th>\n",
       "      <th>...</th>\n",
       "      <th>19</th>\n",
       "      <th>20</th>\n",
       "      <th>21</th>\n",
       "      <th>22</th>\n",
       "      <th>23</th>\n",
       "      <th>24</th>\n",
       "      <th>25</th>\n",
       "      <th>26</th>\n",
       "      <th>27</th>\n",
       "      <th>Class</th>\n",
       "    </tr>\n",
       "  </thead>\n",
       "  <tbody>\n",
       "    <tr>\n",
       "      <th>0</th>\n",
       "      <td>43860</td>\n",
       "      <td>19125</td>\n",
       "      <td>51510</td>\n",
       "      <td>26520</td>\n",
       "      <td>6120</td>\n",
       "      <td>255</td>\n",
       "      <td>255</td>\n",
       "      <td>255</td>\n",
       "      <td>0</td>\n",
       "      <td>0</td>\n",
       "      <td>...</td>\n",
       "      <td>56100</td>\n",
       "      <td>53040</td>\n",
       "      <td>29580</td>\n",
       "      <td>63240</td>\n",
       "      <td>74970</td>\n",
       "      <td>25755</td>\n",
       "      <td>26775</td>\n",
       "      <td>33405</td>\n",
       "      <td>24480</td>\n",
       "      <td>1</td>\n",
       "    </tr>\n",
       "    <tr>\n",
       "      <th>1</th>\n",
       "      <td>143310</td>\n",
       "      <td>133620</td>\n",
       "      <td>168555</td>\n",
       "      <td>158100</td>\n",
       "      <td>84405</td>\n",
       "      <td>122910</td>\n",
       "      <td>208590</td>\n",
       "      <td>151980</td>\n",
       "      <td>167280</td>\n",
       "      <td>170085</td>\n",
       "      <td>...</td>\n",
       "      <td>138975</td>\n",
       "      <td>141015</td>\n",
       "      <td>125970</td>\n",
       "      <td>172890</td>\n",
       "      <td>102000</td>\n",
       "      <td>63750</td>\n",
       "      <td>81345</td>\n",
       "      <td>111690</td>\n",
       "      <td>88740</td>\n",
       "      <td>1</td>\n",
       "    </tr>\n",
       "    <tr>\n",
       "      <th>2</th>\n",
       "      <td>28560</td>\n",
       "      <td>39780</td>\n",
       "      <td>14790</td>\n",
       "      <td>31620</td>\n",
       "      <td>38760</td>\n",
       "      <td>13260</td>\n",
       "      <td>12240</td>\n",
       "      <td>16830</td>\n",
       "      <td>15555</td>\n",
       "      <td>19890</td>\n",
       "      <td>...</td>\n",
       "      <td>118320</td>\n",
       "      <td>86955</td>\n",
       "      <td>98175</td>\n",
       "      <td>88995</td>\n",
       "      <td>190485</td>\n",
       "      <td>91035</td>\n",
       "      <td>64770</td>\n",
       "      <td>41565</td>\n",
       "      <td>37995</td>\n",
       "      <td>1</td>\n",
       "    </tr>\n",
       "    <tr>\n",
       "      <th>3</th>\n",
       "      <td>69615</td>\n",
       "      <td>36975</td>\n",
       "      <td>28560</td>\n",
       "      <td>27285</td>\n",
       "      <td>37485</td>\n",
       "      <td>71145</td>\n",
       "      <td>38505</td>\n",
       "      <td>30855</td>\n",
       "      <td>19380</td>\n",
       "      <td>17850</td>\n",
       "      <td>...</td>\n",
       "      <td>34170</td>\n",
       "      <td>35700</td>\n",
       "      <td>765</td>\n",
       "      <td>5610</td>\n",
       "      <td>10965</td>\n",
       "      <td>19635</td>\n",
       "      <td>69615</td>\n",
       "      <td>39270</td>\n",
       "      <td>40545</td>\n",
       "      <td>1</td>\n",
       "    </tr>\n",
       "    <tr>\n",
       "      <th>4</th>\n",
       "      <td>24225</td>\n",
       "      <td>111690</td>\n",
       "      <td>11985</td>\n",
       "      <td>4845</td>\n",
       "      <td>100470</td>\n",
       "      <td>32385</td>\n",
       "      <td>14025</td>\n",
       "      <td>135150</td>\n",
       "      <td>15045</td>\n",
       "      <td>3570</td>\n",
       "      <td>...</td>\n",
       "      <td>90780</td>\n",
       "      <td>13515</td>\n",
       "      <td>7650</td>\n",
       "      <td>92310</td>\n",
       "      <td>5865</td>\n",
       "      <td>3825</td>\n",
       "      <td>52020</td>\n",
       "      <td>8415</td>\n",
       "      <td>19380</td>\n",
       "      <td>1</td>\n",
       "    </tr>\n",
       "  </tbody>\n",
       "</table>\n",
       "<p>5 rows × 29 columns</p>\n",
       "</div>"
      ],
      "text/plain": [
       "        0       1       2       3       4       5       6       7       8  \\\n",
       "0   43860   19125   51510   26520    6120     255     255     255       0   \n",
       "1  143310  133620  168555  158100   84405  122910  208590  151980  167280   \n",
       "2   28560   39780   14790   31620   38760   13260   12240   16830   15555   \n",
       "3   69615   36975   28560   27285   37485   71145   38505   30855   19380   \n",
       "4   24225  111690   11985    4845  100470   32385   14025  135150   15045   \n",
       "\n",
       "        9  ...      19      20      21      22      23     24     25      26  \\\n",
       "0       0  ...   56100   53040   29580   63240   74970  25755  26775   33405   \n",
       "1  170085  ...  138975  141015  125970  172890  102000  63750  81345  111690   \n",
       "2   19890  ...  118320   86955   98175   88995  190485  91035  64770   41565   \n",
       "3   17850  ...   34170   35700     765    5610   10965  19635  69615   39270   \n",
       "4    3570  ...   90780   13515    7650   92310    5865   3825  52020    8415   \n",
       "\n",
       "      27  Class  \n",
       "0  24480      1  \n",
       "1  88740      1  \n",
       "2  37995      1  \n",
       "3  40545      1  \n",
       "4  19380      1  \n",
       "\n",
       "[5 rows x 29 columns]"
      ]
     },
     "metadata": {},
     "output_type": "display_data"
    }
   ],
   "source": [
    "d = pd.read_csv('C:/Users/jingy/Jupyter/Crime/Fight/CDI_Based/Intensity/CSV/Canny_No_Filter.csv',index_col=0)\n",
    "d.Class[d['Class']==1] = -1\n",
    "d.Class[d['Class'] == 0] = 1\n",
    "display(d.head())"
   ]
  },
  {
   "cell_type": "code",
   "execution_count": 23,
   "metadata": {
    "ExecuteTime": {
     "end_time": "2020-09-15T22:18:12.348293Z",
     "start_time": "2020-09-15T22:18:12.320332Z"
    }
   },
   "outputs": [],
   "source": [
    "data = d\n",
    "mask = (data['Class'] == 1)\n",
    "\n",
    "X_train, X_test = train_test_split(data[mask], test_size=0.2, random_state=0)\n",
    "X_train = X_train.drop(['Class'], axis=1)\n",
    "X_test = X_test.drop(['Class'], axis=1)\n",
    "X_fraud = data[~mask].drop(['Class'], axis=1)\n",
    "\n",
    "x_test=np.vstack((X_test,X_fraud))\n",
    "y_test=[1]*len(X_test)+[-1]*len(X_fraud)\n",
    "\n",
    "std =StandardScaler()\n",
    "X_train=std.fit_transform(X_train)\n",
    "x_test=std.transform(x_test)\n"
   ]
  },
  {
   "cell_type": "code",
   "execution_count": 24,
   "metadata": {
    "ExecuteTime": {
     "end_time": "2020-09-15T22:18:12.379174Z",
     "start_time": "2020-09-15T22:18:12.351250Z"
    }
   },
   "outputs": [
    {
     "name": "stdout",
     "output_type": "stream",
     "text": [
      "0.7272727272727273\n",
      "              precision    recall  f1-score   support\n",
      "\n",
      "          -1       0.81      0.82      0.82        89\n",
      "           1       0.48      0.47      0.48        32\n",
      "\n",
      "    accuracy                           0.73       121\n",
      "   macro avg       0.65      0.64      0.65       121\n",
      "weighted avg       0.72      0.73      0.73       121\n",
      "\n"
     ]
    }
   ],
   "source": [
    "clf = svm.OneClassSVM(kernel='rbf',nu=0.6)  \n",
    "clf.fit(X_train)  \n",
    "\n",
    "y_pred = clf.predict(x_test)  \n",
    "y_prob = clf.decision_function(x_test)  # the lower, the more normal\n",
    "\n",
    "fpr,tpr,threshold_svc = metrics.roc_curve(y_test,y_prob)     \n",
    "auc_svc = metrics.auc(fpr,tpr)   \n",
    "\n",
    "precision, recall, _ = precision_recall_curve(y_test,y_prob)\n",
    "pr_auc = auc(recall, precision)\n",
    "\n",
    "score_svc = metrics.accuracy_score(y_test,y_pred)\n",
    "\n",
    "print(score_svc)\n",
    "print(classification_report(y_test, y_pred))"
   ]
  },
  {
   "cell_type": "code",
   "execution_count": 25,
   "metadata": {
    "ExecuteTime": {
     "end_time": "2020-09-15T22:18:12.632524Z",
     "start_time": "2020-09-15T22:18:12.381178Z"
    }
   },
   "outputs": [
    {
     "data": {
      "image/png": "[encoded data removed]",
      "text/plain": [
       "<Figure size 1008x432 with 2 Axes>"
      ]
     },
     "metadata": {},
     "output_type": "display_data"
    }
   ],
   "source": [
    "plt.figure(figsize=(14, 6))\n",
    "plt.subplot(121)\n",
    "#plt.figure(figsize=(14, 6))\n",
    "plt.title('Receiver Operating Characteristic \\nAUC = %0.2f'% auc_svc)   \n",
    "plt.plot(fpr, tpr, c='coral', lw=3)\n",
    "plt.plot([0,1],[0,1], c='dodgerblue', ls='--')\n",
    "plt.ylabel('TPR'); plt.xlabel('FPR')\n",
    "\n",
    "plt.subplot(122)\n",
    "plt.title('Precision-Recall curve based on \\nAUC = %0.2f'% pr_auc)\n",
    "plt.plot(recall[:-2], precision[:-2], c='coral', lw=3)\n",
    "plt.xlabel('Recall'); plt.ylabel('Precision')\n",
    "plt.show()"
   ]
  },
  {
   "cell_type": "code",
   "execution_count": null,
   "metadata": {},
   "outputs": [],
   "source": []
  }
 ],
 "metadata": {
  "kernelspec": {
   "display_name": "Python [conda env:crowd] *",
   "language": "python",
   "name": "conda-env-crowd-py"
  },
  "language_info": {
   "codemirror_mode": {
    "name": "ipython",
    "version": 3
   },
   "file_extension": ".py",
   "mimetype": "text/x-python",
   "name": "python",
   "nbconvert_exporter": "python",
   "pygments_lexer": "ipython3",
   "version": "3.8.3"
  },
  "toc": {
   "base_numbering": 1,
   "nav_menu": {},
   "number_sections": true,
   "sideBar": true,
   "skip_h1_title": false,
   "title_cell": "Table of Contents",
   "title_sidebar": "Contents",
   "toc_cell": false,
   "toc_position": {},
   "toc_section_display": true,
   "toc_window_display": false
  }
 },
 "nbformat": 4,
 "nbformat_minor": 4
}
