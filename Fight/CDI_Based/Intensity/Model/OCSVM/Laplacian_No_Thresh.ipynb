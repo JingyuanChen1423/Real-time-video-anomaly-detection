{
 "cells": [
  {
   "cell_type": "code",
   "execution_count": 6,
   "metadata": {
    "ExecuteTime": {
     "end_time": "2020-09-15T22:21:23.782602Z",
     "start_time": "2020-09-15T22:21:23.750688Z"
    }
   },
   "outputs": [],
   "source": [
    "import numpy as np  \n",
    "import matplotlib.pyplot as plt  \n",
    "import matplotlib.font_manager  \n",
    "import pandas as pd\n",
    "from sklearn import svm  \n",
    "from sklearn.model_selection import train_test_split\n",
    "from sklearn.preprocessing import StandardScaler,MinMaxScaler\n",
    "from sklearn import metrics\n",
    "from sklearn.metrics import roc_curve, auc, precision_recall_curve,confusion_matrix,classification_report\n",
    "plt.style.use('seaborn')"
   ]
  },
  {
   "cell_type": "code",
   "execution_count": 7,
   "metadata": {
    "ExecuteTime": {
     "end_time": "2020-09-15T22:21:23.846464Z",
     "start_time": "2020-09-15T22:21:23.786597Z"
    }
   },
   "outputs": [
    {
     "data": {
      "text/html": [
       "<div>\n",
       "<style scoped>\n",
       "    .dataframe tbody tr th:only-of-type {\n",
       "        vertical-align: middle;\n",
       "    }\n",
       "\n",
       "    .dataframe tbody tr th {\n",
       "        vertical-align: top;\n",
       "    }\n",
       "\n",
       "    .dataframe thead th {\n",
       "        text-align: right;\n",
       "    }\n",
       "</style>\n",
       "<table border=\"1\" class=\"dataframe\">\n",
       "  <thead>\n",
       "    <tr style=\"text-align: right;\">\n",
       "      <th></th>\n",
       "      <th>0</th>\n",
       "      <th>1</th>\n",
       "      <th>2</th>\n",
       "      <th>3</th>\n",
       "      <th>4</th>\n",
       "      <th>5</th>\n",
       "      <th>6</th>\n",
       "      <th>7</th>\n",
       "      <th>8</th>\n",
       "      <th>9</th>\n",
       "      <th>...</th>\n",
       "      <th>19</th>\n",
       "      <th>20</th>\n",
       "      <th>21</th>\n",
       "      <th>22</th>\n",
       "      <th>23</th>\n",
       "      <th>24</th>\n",
       "      <th>25</th>\n",
       "      <th>26</th>\n",
       "      <th>27</th>\n",
       "      <th>Class</th>\n",
       "    </tr>\n",
       "  </thead>\n",
       "  <tbody>\n",
       "    <tr>\n",
       "      <th>0</th>\n",
       "      <td>5412</td>\n",
       "      <td>4168</td>\n",
       "      <td>7519</td>\n",
       "      <td>2175</td>\n",
       "      <td>299</td>\n",
       "      <td>234</td>\n",
       "      <td>263</td>\n",
       "      <td>121</td>\n",
       "      <td>110</td>\n",
       "      <td>62</td>\n",
       "      <td>...</td>\n",
       "      <td>12399</td>\n",
       "      <td>11303</td>\n",
       "      <td>8580</td>\n",
       "      <td>12209</td>\n",
       "      <td>17467</td>\n",
       "      <td>9731</td>\n",
       "      <td>8077</td>\n",
       "      <td>10656</td>\n",
       "      <td>5498</td>\n",
       "      <td>1</td>\n",
       "    </tr>\n",
       "    <tr>\n",
       "      <th>1</th>\n",
       "      <td>39537</td>\n",
       "      <td>36454</td>\n",
       "      <td>44417</td>\n",
       "      <td>40149</td>\n",
       "      <td>27996</td>\n",
       "      <td>35317</td>\n",
       "      <td>45870</td>\n",
       "      <td>41934</td>\n",
       "      <td>44550</td>\n",
       "      <td>53433</td>\n",
       "      <td>...</td>\n",
       "      <td>49965</td>\n",
       "      <td>47204</td>\n",
       "      <td>43427</td>\n",
       "      <td>55202</td>\n",
       "      <td>37512</td>\n",
       "      <td>23799</td>\n",
       "      <td>31261</td>\n",
       "      <td>35287</td>\n",
       "      <td>33041</td>\n",
       "      <td>1</td>\n",
       "    </tr>\n",
       "    <tr>\n",
       "      <th>2</th>\n",
       "      <td>12332</td>\n",
       "      <td>15710</td>\n",
       "      <td>10042</td>\n",
       "      <td>13339</td>\n",
       "      <td>15971</td>\n",
       "      <td>4847</td>\n",
       "      <td>5412</td>\n",
       "      <td>5715</td>\n",
       "      <td>8088</td>\n",
       "      <td>11607</td>\n",
       "      <td>...</td>\n",
       "      <td>36692</td>\n",
       "      <td>23888</td>\n",
       "      <td>20097</td>\n",
       "      <td>22106</td>\n",
       "      <td>53143</td>\n",
       "      <td>28241</td>\n",
       "      <td>14864</td>\n",
       "      <td>9703</td>\n",
       "      <td>8547</td>\n",
       "      <td>1</td>\n",
       "    </tr>\n",
       "    <tr>\n",
       "      <th>3</th>\n",
       "      <td>21136</td>\n",
       "      <td>10036</td>\n",
       "      <td>7868</td>\n",
       "      <td>5926</td>\n",
       "      <td>7761</td>\n",
       "      <td>16621</td>\n",
       "      <td>8867</td>\n",
       "      <td>6472</td>\n",
       "      <td>4450</td>\n",
       "      <td>5385</td>\n",
       "      <td>...</td>\n",
       "      <td>7422</td>\n",
       "      <td>12168</td>\n",
       "      <td>1833</td>\n",
       "      <td>2811</td>\n",
       "      <td>4705</td>\n",
       "      <td>5010</td>\n",
       "      <td>19603</td>\n",
       "      <td>8099</td>\n",
       "      <td>6008</td>\n",
       "      <td>1</td>\n",
       "    </tr>\n",
       "    <tr>\n",
       "      <th>4</th>\n",
       "      <td>12141</td>\n",
       "      <td>28375</td>\n",
       "      <td>4853</td>\n",
       "      <td>2981</td>\n",
       "      <td>27951</td>\n",
       "      <td>6913</td>\n",
       "      <td>3846</td>\n",
       "      <td>34829</td>\n",
       "      <td>2982</td>\n",
       "      <td>3016</td>\n",
       "      <td>...</td>\n",
       "      <td>26108</td>\n",
       "      <td>5299</td>\n",
       "      <td>3198</td>\n",
       "      <td>22882</td>\n",
       "      <td>3097</td>\n",
       "      <td>2470</td>\n",
       "      <td>14989</td>\n",
       "      <td>3706</td>\n",
       "      <td>2596</td>\n",
       "      <td>1</td>\n",
       "    </tr>\n",
       "  </tbody>\n",
       "</table>\n",
       "<p>5 rows × 29 columns</p>\n",
       "</div>"
      ],
      "text/plain": [
       "       0      1      2      3      4      5      6      7      8      9  ...  \\\n",
       "0   5412   4168   7519   2175    299    234    263    121    110     62  ...   \n",
       "1  39537  36454  44417  40149  27996  35317  45870  41934  44550  53433  ...   \n",
       "2  12332  15710  10042  13339  15971   4847   5412   5715   8088  11607  ...   \n",
       "3  21136  10036   7868   5926   7761  16621   8867   6472   4450   5385  ...   \n",
       "4  12141  28375   4853   2981  27951   6913   3846  34829   2982   3016  ...   \n",
       "\n",
       "      19     20     21     22     23     24     25     26     27  Class  \n",
       "0  12399  11303   8580  12209  17467   9731   8077  10656   5498      1  \n",
       "1  49965  47204  43427  55202  37512  23799  31261  35287  33041      1  \n",
       "2  36692  23888  20097  22106  53143  28241  14864   9703   8547      1  \n",
       "3   7422  12168   1833   2811   4705   5010  19603   8099   6008      1  \n",
       "4  26108   5299   3198  22882   3097   2470  14989   3706   2596      1  \n",
       "\n",
       "[5 rows x 29 columns]"
      ]
     },
     "metadata": {},
     "output_type": "display_data"
    }
   ],
   "source": [
    "d = pd.read_csv('C:/Users/jingy/Jupyter/Crime/Fight/CDI_Based/Intensity/CSV/Laplacian_With_Filter.csv',index_col=0)\n",
    "d.Class[d['Class']==1] = -1\n",
    "d.Class[d['Class'] == 0] = 1\n",
    "display(d.head())"
   ]
  },
  {
   "cell_type": "code",
   "execution_count": 8,
   "metadata": {
    "ExecuteTime": {
     "end_time": "2020-09-15T22:21:23.878346Z",
     "start_time": "2020-09-15T22:21:23.848427Z"
    }
   },
   "outputs": [],
   "source": [
    "data = d\n",
    "mask = (data['Class'] == 1)\n",
    "\n",
    "X_train, X_test = train_test_split(data[mask], test_size=0.2, random_state=2)\n",
    "X_train = X_train.drop(['Class'], axis=1)\n",
    "X_test = X_test.drop(['Class'], axis=1)\n",
    "X_fraud = data[~mask].drop(['Class'], axis=1)\n",
    "\n",
    "x_test=np.vstack((X_test,X_fraud))\n",
    "y_test=[1]*len(X_test)+[-1]*len(X_fraud)\n",
    "\n",
    "std =StandardScaler()\n",
    "X_train=std.fit_transform(X_train)\n",
    "x_test=std.transform(x_test)\n"
   ]
  },
  {
   "cell_type": "code",
   "execution_count": 9,
   "metadata": {
    "ExecuteTime": {
     "end_time": "2020-09-15T22:21:23.909265Z",
     "start_time": "2020-09-15T22:21:23.880367Z"
    }
   },
   "outputs": [
    {
     "name": "stdout",
     "output_type": "stream",
     "text": [
      "0.6666666666666666\n",
      "              precision    recall  f1-score   support\n",
      "\n",
      "          -1       0.77      0.78      0.78        88\n",
      "           1       0.37      0.34      0.35        32\n",
      "\n",
      "    accuracy                           0.67       120\n",
      "   macro avg       0.57      0.56      0.57       120\n",
      "weighted avg       0.66      0.67      0.66       120\n",
      "\n"
     ]
    }
   ],
   "source": [
    "clf = svm.OneClassSVM(kernel='rbf',nu=0.6)  \n",
    "clf.fit(X_train)  \n",
    "\n",
    "y_pred = clf.predict(x_test)  \n",
    "y_prob = clf.decision_function(x_test)  # the lower, the more normal\n",
    "\n",
    "fpr,tpr,threshold_svc = metrics.roc_curve(y_test,y_prob)     \n",
    "auc_svc = metrics.auc(fpr,tpr)   \n",
    "\n",
    "precision, recall, _ = precision_recall_curve(y_test,y_prob)\n",
    "pr_auc = auc(recall, precision)\n",
    "\n",
    "score_svc = metrics.accuracy_score(y_test,y_pred)\n",
    "\n",
    "print(score_svc)\n",
    "print(classification_report(y_test, y_pred))"
   ]
  },
  {
   "cell_type": "code",
   "execution_count": 10,
   "metadata": {
    "ExecuteTime": {
     "end_time": "2020-09-15T22:21:24.222437Z",
     "start_time": "2020-09-15T22:21:23.912259Z"
    }
   },
   "outputs": [
    {
     "data": {
      "image/png": "[encoded data removed]",
      "text/plain": [
       "<Figure size 1008x432 with 2 Axes>"
      ]
     },
     "metadata": {},
     "output_type": "display_data"
    }
   ],
   "source": [
    "plt.figure(figsize=(14, 6))\n",
    "plt.subplot(121)\n",
    "#plt.figure(figsize=(14, 6))\n",
    "plt.title('Receiver Operating Characteristic \\nAUC = %0.2f'% auc_svc)   \n",
    "plt.plot(fpr, tpr, c='coral', lw=3)\n",
    "plt.plot([0,1],[0,1], c='dodgerblue', ls='--')\n",
    "plt.ylabel('TPR'); plt.xlabel('FPR')\n",
    "\n",
    "plt.subplot(122)\n",
    "plt.title('Precision-Recall curve based on \\nAUC = %0.2f'% pr_auc)\n",
    "plt.plot(recall[:-2], precision[:-2], c='coral', lw=3)\n",
    "plt.xlabel('Recall'); plt.ylabel('Precision')\n",
    "plt.show()"
   ]
  },
  {
   "cell_type": "code",
   "execution_count": null,
   "metadata": {},
   "outputs": [],
   "source": []
  }
 ],
 "metadata": {
  "kernelspec": {
   "display_name": "Python [conda env:crowd] *",
   "language": "python",
   "name": "conda-env-crowd-py"
  },
  "language_info": {
   "codemirror_mode": {
    "name": "ipython",
    "version": 3
   },
   "file_extension": ".py",
   "mimetype": "text/x-python",
   "name": "python",
   "nbconvert_exporter": "python",
   "pygments_lexer": "ipython3",
   "version": "3.8.3"
  },
  "toc": {
   "base_numbering": 1,
   "nav_menu": {},
   "number_sections": true,
   "sideBar": true,
   "skip_h1_title": false,
   "title_cell": "Table of Contents",
   "title_sidebar": "Contents",
   "toc_cell": false,
   "toc_position": {},
   "toc_section_display": true,
   "toc_window_display": false
  }
 },
 "nbformat": 4,
 "nbformat_minor": 4
}
