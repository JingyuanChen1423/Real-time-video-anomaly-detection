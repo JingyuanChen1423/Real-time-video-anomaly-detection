{
 "cells": [
  {
   "cell_type": "code",
   "execution_count": 18,
   "metadata": {
    "ExecuteTime": {
     "end_time": "2020-09-21T12:12:00.005590Z",
     "start_time": "2020-09-21T12:11:59.969153Z"
    }
   },
   "outputs": [
    {
     "name": "stdout",
     "output_type": "stream",
     "text": [
      "Test: 0.8519 0.8887 | Train: 0.8224 0.9066\n"
     ]
    }
   ],
   "source": [
    "import os\n",
    "import sys\n",
    "import pandas as pd\n",
    "import pandas_profiling\n",
    "import numpy as np\n",
    "from sklearn.model_selection import train_test_split\n",
    "from sklearn.preprocessing import StandardScaler,MinMaxScaler\n",
    "from sklearn.svm import SVC\n",
    "from sklearn import metrics\n",
    "d = pd.read_csv('C:/Users/jingy/Jupyter/Crime/Fire/CDI_Based/Intensity/CSV/Laplacian_No_Filter.csv',index_col=0)\n",
    "\n",
    "\n",
    "data = d\n",
    "\n",
    "X_train, X_test = train_test_split(data, test_size=0.2, random_state=0)\n",
    "Y_train,Y_test=X_train['Class'].values,X_test['Class'].values\n",
    "\n",
    "\n",
    "X_train = X_train.drop(['Class'], axis=1)\n",
    "X_test = X_test.drop(['Class'], axis=1)\n",
    "\n",
    "svc = SVC(kernel='rbf',C=1,degree=2,probability = True).fit(X_train,Y_train)\n",
    "    \n",
    "test_prob = svc.decision_function(X_test) \n",
    "test_pred = svc.predict(X_test)    \n",
    "    \n",
    "train_prob = svc.decision_function(X_train) \n",
    "train_pred = svc.predict(X_train)    \n",
    "    \n",
    "fpr_test,tpr_test,_ = metrics.roc_curve(Y_test,test_prob)     \n",
    "auc_test = metrics.auc(fpr_test,tpr_test)                              \n",
    "score_test = metrics.accuracy_score(Y_test,test_pred)\n",
    "    \n",
    "fpr_train,tpr_train,_ = metrics.roc_curve(Y_train,train_prob)     \n",
    "auc_train = metrics.auc(fpr_train,tpr_train)                              \n",
    "score_train = metrics.accuracy_score(Y_train,train_pred)\n",
    "    \n",
    "print('Test: %.4f' %score_test,'%.4f' %auc_test,'|',\"Train: %.4f\" %score_train,'%.4f' %auc_train)\n"
   ]
  },
  {
   "cell_type": "code",
   "execution_count": 19,
   "metadata": {
    "ExecuteTime": {
     "end_time": "2020-09-21T12:12:00.037477Z",
     "start_time": "2020-09-21T12:12:00.010557Z"
    }
   },
   "outputs": [],
   "source": [
    "d = pd.read_csv('C:/Users/jingy/Jupyter/Crime/Theft/CDI_Based/Intensity/CSV/Laplacian_No_Filter.csv',index_col=0)\n",
    "\n",
    "\n",
    "data = d\n",
    "\n",
    "X_train, X_test = train_test_split(data, test_size=0.2, random_state=0)\n",
    "Y_train,Y_test=X_train['Class'].values,X_test['Class'].values\n",
    "\n",
    "\n",
    "X_train = X_train.drop(['Class'], axis=1)\n",
    "X_test = X_test.drop(['Class'], axis=1)\n"
   ]
  },
  {
   "cell_type": "code",
   "execution_count": 20,
   "metadata": {
    "ExecuteTime": {
     "end_time": "2020-09-21T12:12:00.069393Z",
     "start_time": "2020-09-21T12:12:00.041467Z"
    }
   },
   "outputs": [
    {
     "name": "stdout",
     "output_type": "stream",
     "text": [
      "Test: 0.7222 0.7347 | Train: 0.6168 0.6756\n"
     ]
    }
   ],
   "source": [
    "test_prob = svc.decision_function(X_test) \n",
    "test_pred = svc.predict(X_test)    \n",
    "    \n",
    "train_prob = svc.decision_function(X_train) \n",
    "train_pred = svc.predict(X_train)    \n",
    "    \n",
    "fpr_test,tpr_test,_ = metrics.roc_curve(Y_test,test_prob)     \n",
    "auc_test = metrics.auc(fpr_test,tpr_test)                              \n",
    "score_test = metrics.accuracy_score(Y_test,test_pred)\n",
    "    \n",
    "fpr_train,tpr_train,_ = metrics.roc_curve(Y_train,train_prob)     \n",
    "auc_train = metrics.auc(fpr_train,tpr_train)                              \n",
    "score_train = metrics.accuracy_score(Y_train,train_pred)\n",
    "    \n",
    "print('Test: %.4f' %score_test,'%.4f' %auc_test,'|',\"Train: %.4f\" %score_train,'%.4f' %auc_train)\n"
   ]
  },
  {
   "cell_type": "code",
   "execution_count": null,
   "metadata": {},
   "outputs": [],
   "source": []
  },
  {
   "cell_type": "code",
   "execution_count": null,
   "metadata": {},
   "outputs": [],
   "source": []
  }
 ],
 "metadata": {
  "kernelspec": {
   "display_name": "Python [conda env:crowd] *",
   "language": "python",
   "name": "conda-env-crowd-py"
  },
  "language_info": {
   "codemirror_mode": {
    "name": "ipython",
    "version": 3
   },
   "file_extension": ".py",
   "mimetype": "text/x-python",
   "name": "python",
   "nbconvert_exporter": "python",
   "pygments_lexer": "ipython3",
   "version": "3.8.3"
  },
  "toc": {
   "base_numbering": 1,
   "nav_menu": {},
   "number_sections": true,
   "sideBar": true,
   "skip_h1_title": false,
   "title_cell": "Table of Contents",
   "title_sidebar": "Contents",
   "toc_cell": false,
   "toc_position": {},
   "toc_section_display": true,
   "toc_window_display": false
  }
 },
 "nbformat": 4,
 "nbformat_minor": 4
}
