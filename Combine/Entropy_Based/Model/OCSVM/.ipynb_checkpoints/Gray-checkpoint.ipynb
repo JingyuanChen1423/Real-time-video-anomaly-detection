{
 "cells": [
  {
   "cell_type": "code",
   "execution_count": 75,
   "metadata": {
    "ExecuteTime": {
     "end_time": "2020-09-13T21:19:06.921848Z",
     "start_time": "2020-09-13T21:19:06.901934Z"
    }
   },
   "outputs": [],
   "source": [
    "import numpy as np  \n",
    "import matplotlib.pyplot as plt  \n",
    "import matplotlib.font_manager  \n",
    "import pandas as pd\n",
    "from sklearn import svm  \n",
    "from sklearn.model_selection import train_test_split\n",
    "from sklearn.preprocessing import StandardScaler,MinMaxScaler\n",
    "from sklearn import metrics\n",
    "from sklearn.metrics import roc_curve, auc, precision_recall_curve,confusion_matrix,classification_report\n",
    "plt.style.use('seaborn')"
   ]
  },
  {
   "cell_type": "code",
   "execution_count": 76,
   "metadata": {
    "ExecuteTime": {
     "end_time": "2020-09-13T21:19:06.968723Z",
     "start_time": "2020-09-13T21:19:06.923842Z"
    }
   },
   "outputs": [
    {
     "name": "stderr",
     "output_type": "stream",
     "text": [
      "<ipython-input-76-dd973c1296bd>:2: SettingWithCopyWarning: \n",
      "A value is trying to be set on a copy of a slice from a DataFrame\n",
      "\n",
      "See the caveats in the documentation: https://pandas.pydata.org/pandas-docs/stable/user_guide/indexing.html#returning-a-view-versus-a-copy\n",
      "  d.Class[d['Class']==1] = -1\n",
      "<ipython-input-76-dd973c1296bd>:3: SettingWithCopyWarning: \n",
      "A value is trying to be set on a copy of a slice from a DataFrame\n",
      "\n",
      "See the caveats in the documentation: https://pandas.pydata.org/pandas-docs/stable/user_guide/indexing.html#returning-a-view-versus-a-copy\n",
      "  d.Class[d['Class'] == 0] = 1\n"
     ]
    },
    {
     "data": {
      "text/html": [
       "<div>\n",
       "<style scoped>\n",
       "    .dataframe tbody tr th:only-of-type {\n",
       "        vertical-align: middle;\n",
       "    }\n",
       "\n",
       "    .dataframe tbody tr th {\n",
       "        vertical-align: top;\n",
       "    }\n",
       "\n",
       "    .dataframe thead th {\n",
       "        text-align: right;\n",
       "    }\n",
       "</style>\n",
       "<table border=\"1\" class=\"dataframe\">\n",
       "  <thead>\n",
       "    <tr style=\"text-align: right;\">\n",
       "      <th></th>\n",
       "      <th>0</th>\n",
       "      <th>1</th>\n",
       "      <th>2</th>\n",
       "      <th>3</th>\n",
       "      <th>4</th>\n",
       "      <th>5</th>\n",
       "      <th>6</th>\n",
       "      <th>7</th>\n",
       "      <th>8</th>\n",
       "      <th>9</th>\n",
       "      <th>...</th>\n",
       "      <th>20</th>\n",
       "      <th>21</th>\n",
       "      <th>22</th>\n",
       "      <th>23</th>\n",
       "      <th>24</th>\n",
       "      <th>25</th>\n",
       "      <th>26</th>\n",
       "      <th>27</th>\n",
       "      <th>28</th>\n",
       "      <th>Class</th>\n",
       "    </tr>\n",
       "  </thead>\n",
       "  <tbody>\n",
       "    <tr>\n",
       "      <th>0</th>\n",
       "      <td>1.000000</td>\n",
       "      <td>0.726577</td>\n",
       "      <td>0.522867</td>\n",
       "      <td>0.430642</td>\n",
       "      <td>0.404042</td>\n",
       "      <td>0.379339</td>\n",
       "      <td>0.389135</td>\n",
       "      <td>0.405861</td>\n",
       "      <td>0.413860</td>\n",
       "      <td>0.364799</td>\n",
       "      <td>...</td>\n",
       "      <td>0.008712</td>\n",
       "      <td>0.101175</td>\n",
       "      <td>0.040810</td>\n",
       "      <td>0.036437</td>\n",
       "      <td>0.126752</td>\n",
       "      <td>0.159727</td>\n",
       "      <td>0.127556</td>\n",
       "      <td>0.000000</td>\n",
       "      <td>0.008685</td>\n",
       "      <td>1</td>\n",
       "    </tr>\n",
       "    <tr>\n",
       "      <th>1</th>\n",
       "      <td>0.812173</td>\n",
       "      <td>0.714504</td>\n",
       "      <td>0.649296</td>\n",
       "      <td>0.772462</td>\n",
       "      <td>0.763740</td>\n",
       "      <td>0.756853</td>\n",
       "      <td>0.775406</td>\n",
       "      <td>0.732678</td>\n",
       "      <td>0.799264</td>\n",
       "      <td>0.800155</td>\n",
       "      <td>...</td>\n",
       "      <td>0.666303</td>\n",
       "      <td>0.788695</td>\n",
       "      <td>0.787976</td>\n",
       "      <td>1.000000</td>\n",
       "      <td>0.273576</td>\n",
       "      <td>0.079454</td>\n",
       "      <td>0.034564</td>\n",
       "      <td>0.000000</td>\n",
       "      <td>0.039189</td>\n",
       "      <td>1</td>\n",
       "    </tr>\n",
       "    <tr>\n",
       "      <th>2</th>\n",
       "      <td>0.182183</td>\n",
       "      <td>0.000000</td>\n",
       "      <td>0.095175</td>\n",
       "      <td>0.155034</td>\n",
       "      <td>0.114001</td>\n",
       "      <td>0.041321</td>\n",
       "      <td>0.161995</td>\n",
       "      <td>0.153090</td>\n",
       "      <td>0.071773</td>\n",
       "      <td>0.146319</td>\n",
       "      <td>...</td>\n",
       "      <td>0.679064</td>\n",
       "      <td>0.700861</td>\n",
       "      <td>1.000000</td>\n",
       "      <td>0.774371</td>\n",
       "      <td>0.740627</td>\n",
       "      <td>0.941528</td>\n",
       "      <td>0.904297</td>\n",
       "      <td>0.753192</td>\n",
       "      <td>0.515508</td>\n",
       "      <td>1</td>\n",
       "    </tr>\n",
       "    <tr>\n",
       "      <th>3</th>\n",
       "      <td>1.000000</td>\n",
       "      <td>0.944876</td>\n",
       "      <td>0.898726</td>\n",
       "      <td>0.766116</td>\n",
       "      <td>0.533864</td>\n",
       "      <td>0.380879</td>\n",
       "      <td>0.386371</td>\n",
       "      <td>0.240270</td>\n",
       "      <td>0.369816</td>\n",
       "      <td>0.236237</td>\n",
       "      <td>...</td>\n",
       "      <td>0.554369</td>\n",
       "      <td>0.554701</td>\n",
       "      <td>0.554369</td>\n",
       "      <td>0.554701</td>\n",
       "      <td>0.596500</td>\n",
       "      <td>0.587615</td>\n",
       "      <td>0.592214</td>\n",
       "      <td>0.590990</td>\n",
       "      <td>0.592123</td>\n",
       "      <td>1</td>\n",
       "    </tr>\n",
       "    <tr>\n",
       "      <th>4</th>\n",
       "      <td>0.028810</td>\n",
       "      <td>0.072952</td>\n",
       "      <td>0.062468</td>\n",
       "      <td>0.000000</td>\n",
       "      <td>0.004041</td>\n",
       "      <td>0.037358</td>\n",
       "      <td>0.085742</td>\n",
       "      <td>0.107319</td>\n",
       "      <td>0.140972</td>\n",
       "      <td>0.377110</td>\n",
       "      <td>...</td>\n",
       "      <td>0.971156</td>\n",
       "      <td>1.000000</td>\n",
       "      <td>0.890888</td>\n",
       "      <td>0.831221</td>\n",
       "      <td>0.836959</td>\n",
       "      <td>0.858924</td>\n",
       "      <td>0.903837</td>\n",
       "      <td>0.940615</td>\n",
       "      <td>0.932361</td>\n",
       "      <td>1</td>\n",
       "    </tr>\n",
       "  </tbody>\n",
       "</table>\n",
       "<p>5 rows × 30 columns</p>\n",
       "</div>"
      ],
      "text/plain": [
       "          0         1         2         3         4         5         6  \\\n",
       "0  1.000000  0.726577  0.522867  0.430642  0.404042  0.379339  0.389135   \n",
       "1  0.812173  0.714504  0.649296  0.772462  0.763740  0.756853  0.775406   \n",
       "2  0.182183  0.000000  0.095175  0.155034  0.114001  0.041321  0.161995   \n",
       "3  1.000000  0.944876  0.898726  0.766116  0.533864  0.380879  0.386371   \n",
       "4  0.028810  0.072952  0.062468  0.000000  0.004041  0.037358  0.085742   \n",
       "\n",
       "          7         8         9  ...        20        21        22        23  \\\n",
       "0  0.405861  0.413860  0.364799  ...  0.008712  0.101175  0.040810  0.036437   \n",
       "1  0.732678  0.799264  0.800155  ...  0.666303  0.788695  0.787976  1.000000   \n",
       "2  0.153090  0.071773  0.146319  ...  0.679064  0.700861  1.000000  0.774371   \n",
       "3  0.240270  0.369816  0.236237  ...  0.554369  0.554701  0.554369  0.554701   \n",
       "4  0.107319  0.140972  0.377110  ...  0.971156  1.000000  0.890888  0.831221   \n",
       "\n",
       "         24        25        26        27        28  Class  \n",
       "0  0.126752  0.159727  0.127556  0.000000  0.008685      1  \n",
       "1  0.273576  0.079454  0.034564  0.000000  0.039189      1  \n",
       "2  0.740627  0.941528  0.904297  0.753192  0.515508      1  \n",
       "3  0.596500  0.587615  0.592214  0.590990  0.592123      1  \n",
       "4  0.836959  0.858924  0.903837  0.940615  0.932361      1  \n",
       "\n",
       "[5 rows x 30 columns]"
      ]
     },
     "metadata": {},
     "output_type": "display_data"
    }
   ],
   "source": [
    "d = pd.read_csv('C:/Users/jingy/Jupyter/Crime/Fire/Entropy_Based/CSV/Gray_entropy.csv',index_col=0)\n",
    "d.Class[d['Class']==1] = -1\n",
    "d.Class[d['Class'] == 0] = 1\n",
    "display(d.head())"
   ]
  },
  {
   "cell_type": "code",
   "execution_count": 77,
   "metadata": {
    "ExecuteTime": {
     "end_time": "2020-09-13T21:19:06.984679Z",
     "start_time": "2020-09-13T21:19:06.971715Z"
    }
   },
   "outputs": [],
   "source": [
    "data = d\n",
    "mask = (data['Class'] == 1)\n",
    "\n",
    "X_train, X_test = train_test_split(data[mask], test_size=0.2, random_state=0)\n",
    "X_train = X_train.drop(['Class'], axis=1)\n",
    "X_test = X_test.drop(['Class'], axis=1)\n",
    "X_fraud = data[~mask].drop(['Class'], axis=1)\n",
    "\n",
    "x_test=np.vstack((X_test,X_fraud))\n",
    "y_test=[1]*len(X_test)+[-1]*len(X_fraud)"
   ]
  },
  {
   "cell_type": "code",
   "execution_count": 78,
   "metadata": {
    "ExecuteTime": {
     "end_time": "2020-09-13T21:19:07.015596Z",
     "start_time": "2020-09-13T21:19:06.986675Z"
    }
   },
   "outputs": [
    {
     "name": "stdout",
     "output_type": "stream",
     "text": [
      "0.6964285714285714\n",
      "              precision    recall  f1-score   support\n",
      "\n",
      "          -1       0.92      0.70      0.80       142\n",
      "           1       0.29      0.65      0.40        26\n",
      "\n",
      "    accuracy                           0.70       168\n",
      "   macro avg       0.60      0.68      0.60       168\n",
      "weighted avg       0.82      0.70      0.74       168\n",
      "\n"
     ]
    }
   ],
   "source": [
    "clf = svm.OneClassSVM(kernel='rbf',nu=0.5)  \n",
    "clf.fit(X_train)  \n",
    "\n",
    "y_pred = clf.predict(x_test)  \n",
    "y_prob = clf.decision_function(x_test)  # the lower, the more normal\n",
    "\n",
    "fpr,tpr,threshold_svc = metrics.roc_curve(y_test,y_prob)     \n",
    "auc_svc = metrics.auc(fpr,tpr)   \n",
    "\n",
    "precision, recall, _ = precision_recall_curve(y_test,y_prob)\n",
    "pr_auc = auc(recall, precision)\n",
    "\n",
    "score_svc = metrics.accuracy_score(y_test,y_pred)\n",
    "\n",
    "print(score_svc)\n",
    "print(classification_report(y_test, y_pred))"
   ]
  },
  {
   "cell_type": "code",
   "execution_count": 79,
   "metadata": {
    "ExecuteTime": {
     "end_time": "2020-09-13T21:19:07.252462Z",
     "start_time": "2020-09-13T21:19:07.017623Z"
    }
   },
   "outputs": [
    {
     "data": {
      "image/png": "[encoded data removed]",
      "text/plain": [
       "<Figure size 1008x432 with 2 Axes>"
      ]
     },
     "metadata": {},
     "output_type": "display_data"
    }
   ],
   "source": [
    "plt.figure(figsize=(14, 6))\n",
    "plt.subplot(121)\n",
    "#plt.figure(figsize=(14, 6))\n",
    "plt.title('Receiver Operating Characteristic \\nAUC = %0.2f'% auc_svc)   \n",
    "plt.plot(fpr, tpr, c='coral', lw=3)\n",
    "plt.plot([0,1],[0,1], c='dodgerblue', ls='--')\n",
    "plt.ylabel('TPR'); plt.xlabel('FPR')\n",
    "\n",
    "plt.subplot(122)\n",
    "plt.title('Precision-Recall curve based on \\nAUC = %0.2f'% pr_auc)\n",
    "plt.plot(recall[:-2], precision[:-2], c='coral', lw=3)\n",
    "plt.xlabel('Recall'); plt.ylabel('Precision')\n",
    "plt.show()"
   ]
  },
  {
   "cell_type": "code",
   "execution_count": null,
   "metadata": {},
   "outputs": [],
   "source": []
  }
 ],
 "metadata": {
  "kernelspec": {
   "display_name": "Python [conda env:crowd] *",
   "language": "python",
   "name": "conda-env-crowd-py"
  },
  "language_info": {
   "codemirror_mode": {
    "name": "ipython",
    "version": 3
   },
   "file_extension": ".py",
   "mimetype": "text/x-python",
   "name": "python",
   "nbconvert_exporter": "python",
   "pygments_lexer": "ipython3",
   "version": "3.8.3"
  },
  "toc": {
   "base_numbering": 1,
   "nav_menu": {},
   "number_sections": true,
   "sideBar": true,
   "skip_h1_title": false,
   "title_cell": "Table of Contents",
   "title_sidebar": "Contents",
   "toc_cell": false,
   "toc_position": {},
   "toc_section_display": true,
   "toc_window_display": false
  }
 },
 "nbformat": 4,
 "nbformat_minor": 4
}
