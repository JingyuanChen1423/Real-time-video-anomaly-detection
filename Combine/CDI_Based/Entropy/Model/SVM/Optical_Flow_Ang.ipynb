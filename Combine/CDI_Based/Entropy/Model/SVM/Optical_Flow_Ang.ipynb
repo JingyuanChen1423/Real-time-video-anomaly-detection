{
 "cells": [
  {
   "cell_type": "code",
   "execution_count": 4,
   "metadata": {
    "ExecuteTime": {
     "end_time": "2020-09-21T14:33:52.847341Z",
     "start_time": "2020-09-21T14:32:20.106976Z"
    }
   },
   "outputs": [
    {
     "name": "stdout",
     "output_type": "stream",
     "text": [
      "[60.0, 62.5, 63.3, 65.7, 67.0, 67.4, 67.3, 67.2, 67.0, 67.3, 67.8, 69.8, 69.9, 69.7]\n"
     ]
    }
   ],
   "source": [
    "import os\n",
    "import sys\n",
    "import pandas as pd\n",
    "import pandas_profiling\n",
    "import numpy as np\n",
    "from sklearn.model_selection import train_test_split\n",
    "from sklearn.preprocessing import StandardScaler,MinMaxScaler\n",
    "from sklearn.svm import SVC\n",
    "from sklearn import metrics\n",
    "d = pd.read_csv('C:/Users/jingy/Jupyter/Crime/Road/CDI_Based/Entropy/CSV/Optical_Ang.csv',index_col=0)\n",
    "\n",
    "frame=[13,12,11,10,9,8,7,6,5,4,3,2,1,0]\n",
    "all_score=[]\n",
    "for num in frame:\n",
    "    data=d.iloc[:,num:28-num]\n",
    "    data['Class']=d['Class']\n",
    "\n",
    "    max_score_list=[]\n",
    "    for std in [MinMaxScaler(),StandardScaler()]:\n",
    "        list_score=[]\n",
    "        for i in range(30):\n",
    "            X_train, X_test = train_test_split(data, test_size=0.2, random_state=i)\n",
    "            Y_train,Y_test=X_train['Class'].values,X_test['Class'].values\n",
    "            X_train = X_train.drop(['Class'], axis=1).values\n",
    "            X_test = X_test.drop(['Class'], axis=1).values\n",
    "\n",
    "\n",
    "            X_train=std.fit_transform(X_train)\n",
    "            X_test=std.transform(X_test)\n",
    "            best_score=[]\n",
    "            for j in range(1,10):\n",
    "                svc = SVC(kernel='rbf',C=j,degree=6,probability = True).fit(X_train,Y_train)\n",
    "\n",
    "                test_prob = svc.decision_function(X_test) \n",
    "                test_pred = svc.predict(X_test)    \n",
    "\n",
    "                train_prob = svc.decision_function(X_train) \n",
    "                train_pred = svc.predict(X_train)    \n",
    "\n",
    "                fpr_test,tpr_test,_ = metrics.roc_curve(Y_test,test_prob)     \n",
    "                auc_test = metrics.auc(fpr_test,tpr_test)                              \n",
    "                score_test = metrics.accuracy_score(Y_test,test_pred)\n",
    "\n",
    "                fpr_train,tpr_train,_ = metrics.roc_curve(Y_train,train_prob)     \n",
    "                auc_train = metrics.auc(fpr_train,tpr_train)                              \n",
    "                score_train = metrics.accuracy_score(Y_train,train_pred)\n",
    "                best_score.append(score_test)\n",
    "            score=max(best_score)\n",
    "            list_score.append(score)\n",
    "        \n",
    "        max_score=np.mean(np.array(list_score))\n",
    "        max_score_list.append(max_score)\n",
    "    #print('Test: %.4f' %max_score_list)\n",
    "    final=max(max_score_list)*100\n",
    "    final=round(final,1)\n",
    "    #print(final)\n",
    "    all_score.append(final)\n",
    "print(all_score)"
   ]
  },
  {
   "cell_type": "code",
   "execution_count": null,
   "metadata": {},
   "outputs": [],
   "source": []
  }
 ],
 "metadata": {
  "kernelspec": {
   "display_name": "Python [conda env:crowd] *",
   "language": "python",
   "name": "conda-env-crowd-py"
  },
  "language_info": {
   "codemirror_mode": {
    "name": "ipython",
    "version": 3
   },
   "file_extension": ".py",
   "mimetype": "text/x-python",
   "name": "python",
   "nbconvert_exporter": "python",
   "pygments_lexer": "ipython3",
   "version": "3.8.3"
  },
  "toc": {
   "base_numbering": 1,
   "nav_menu": {},
   "number_sections": true,
   "sideBar": true,
   "skip_h1_title": false,
   "title_cell": "Table of Contents",
   "title_sidebar": "Contents",
   "toc_cell": false,
   "toc_position": {},
   "toc_section_display": true,
   "toc_window_display": false
  }
 },
 "nbformat": 4,
 "nbformat_minor": 4
}
