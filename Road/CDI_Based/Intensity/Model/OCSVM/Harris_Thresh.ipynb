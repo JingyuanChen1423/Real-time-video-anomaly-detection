{
 "cells": [
  {
   "cell_type": "code",
   "execution_count": 8,
   "metadata": {
    "ExecuteTime": {
     "end_time": "2020-09-15T17:15:17.978065Z",
     "start_time": "2020-09-15T17:15:17.973076Z"
    }
   },
   "outputs": [],
   "source": [
    "import numpy as np  \n",
    "import matplotlib.pyplot as plt  \n",
    "import matplotlib.font_manager  \n",
    "import pandas as pd\n",
    "from sklearn import svm  \n",
    "from sklearn.model_selection import train_test_split\n",
    "from sklearn.preprocessing import StandardScaler,MinMaxScaler\n",
    "from sklearn import metrics\n",
    "from sklearn.metrics import roc_curve, auc, precision_recall_curve,confusion_matrix,classification_report\n",
    "plt.style.use('seaborn')"
   ]
  },
  {
   "cell_type": "code",
   "execution_count": 9,
   "metadata": {
    "ExecuteTime": {
     "end_time": "2020-09-15T17:15:18.025900Z",
     "start_time": "2020-09-15T17:15:17.981037Z"
    }
   },
   "outputs": [
    {
     "name": "stderr",
     "output_type": "stream",
     "text": [
      "<ipython-input-9-db7cccc86d9c>:2: SettingWithCopyWarning: \n",
      "A value is trying to be set on a copy of a slice from a DataFrame\n",
      "\n",
      "See the caveats in the documentation: https://pandas.pydata.org/pandas-docs/stable/user_guide/indexing.html#returning-a-view-versus-a-copy\n",
      "  d.Class[d['Class']==1] = -1\n",
      "<ipython-input-9-db7cccc86d9c>:3: SettingWithCopyWarning: \n",
      "A value is trying to be set on a copy of a slice from a DataFrame\n",
      "\n",
      "See the caveats in the documentation: https://pandas.pydata.org/pandas-docs/stable/user_guide/indexing.html#returning-a-view-versus-a-copy\n",
      "  d.Class[d['Class'] == 0] = 1\n"
     ]
    },
    {
     "data": {
      "text/html": [
       "<div>\n",
       "<style scoped>\n",
       "    .dataframe tbody tr th:only-of-type {\n",
       "        vertical-align: middle;\n",
       "    }\n",
       "\n",
       "    .dataframe tbody tr th {\n",
       "        vertical-align: top;\n",
       "    }\n",
       "\n",
       "    .dataframe thead th {\n",
       "        text-align: right;\n",
       "    }\n",
       "</style>\n",
       "<table border=\"1\" class=\"dataframe\">\n",
       "  <thead>\n",
       "    <tr style=\"text-align: right;\">\n",
       "      <th></th>\n",
       "      <th>0</th>\n",
       "      <th>1</th>\n",
       "      <th>2</th>\n",
       "      <th>3</th>\n",
       "      <th>4</th>\n",
       "      <th>5</th>\n",
       "      <th>6</th>\n",
       "      <th>7</th>\n",
       "      <th>8</th>\n",
       "      <th>9</th>\n",
       "      <th>...</th>\n",
       "      <th>19</th>\n",
       "      <th>20</th>\n",
       "      <th>21</th>\n",
       "      <th>22</th>\n",
       "      <th>23</th>\n",
       "      <th>24</th>\n",
       "      <th>25</th>\n",
       "      <th>26</th>\n",
       "      <th>27</th>\n",
       "      <th>Class</th>\n",
       "    </tr>\n",
       "  </thead>\n",
       "  <tbody>\n",
       "    <tr>\n",
       "      <th>0</th>\n",
       "      <td>914175.0</td>\n",
       "      <td>857310.0</td>\n",
       "      <td>839970.0</td>\n",
       "      <td>636735.0</td>\n",
       "      <td>461295.0</td>\n",
       "      <td>337875.0</td>\n",
       "      <td>586755.0</td>\n",
       "      <td>437070.0</td>\n",
       "      <td>306765.0</td>\n",
       "      <td>1228845.0</td>\n",
       "      <td>...</td>\n",
       "      <td>421260.0</td>\n",
       "      <td>212160.0</td>\n",
       "      <td>294015.0</td>\n",
       "      <td>5376930.0</td>\n",
       "      <td>2757315.0</td>\n",
       "      <td>648975.0</td>\n",
       "      <td>521985.0</td>\n",
       "      <td>547485.0</td>\n",
       "      <td>640815.0</td>\n",
       "      <td>1</td>\n",
       "    </tr>\n",
       "    <tr>\n",
       "      <th>1</th>\n",
       "      <td>2281485.0</td>\n",
       "      <td>3077340.0</td>\n",
       "      <td>3157665.0</td>\n",
       "      <td>2425305.0</td>\n",
       "      <td>2842995.0</td>\n",
       "      <td>2621910.0</td>\n",
       "      <td>1108740.0</td>\n",
       "      <td>1240065.0</td>\n",
       "      <td>1398420.0</td>\n",
       "      <td>1041420.0</td>\n",
       "      <td>...</td>\n",
       "      <td>911880.0</td>\n",
       "      <td>1046520.0</td>\n",
       "      <td>950640.0</td>\n",
       "      <td>1292595.0</td>\n",
       "      <td>917745.0</td>\n",
       "      <td>696915.0</td>\n",
       "      <td>967980.0</td>\n",
       "      <td>733890.0</td>\n",
       "      <td>657645.0</td>\n",
       "      <td>1</td>\n",
       "    </tr>\n",
       "    <tr>\n",
       "      <th>2</th>\n",
       "      <td>8054685.0</td>\n",
       "      <td>7903470.0</td>\n",
       "      <td>8472885.0</td>\n",
       "      <td>8902815.0</td>\n",
       "      <td>9350340.0</td>\n",
       "      <td>9374055.0</td>\n",
       "      <td>8512665.0</td>\n",
       "      <td>7941975.0</td>\n",
       "      <td>8657760.0</td>\n",
       "      <td>9606360.0</td>\n",
       "      <td>...</td>\n",
       "      <td>8965800.0</td>\n",
       "      <td>6353070.0</td>\n",
       "      <td>5459805.0</td>\n",
       "      <td>7274895.0</td>\n",
       "      <td>9760635.0</td>\n",
       "      <td>8137305.0</td>\n",
       "      <td>5434305.0</td>\n",
       "      <td>5596995.0</td>\n",
       "      <td>7765515.0</td>\n",
       "      <td>1</td>\n",
       "    </tr>\n",
       "    <tr>\n",
       "      <th>3</th>\n",
       "      <td>7372305.0</td>\n",
       "      <td>6711855.0</td>\n",
       "      <td>9122115.0</td>\n",
       "      <td>8145975.0</td>\n",
       "      <td>5959605.0</td>\n",
       "      <td>3339480.0</td>\n",
       "      <td>3073770.0</td>\n",
       "      <td>4625955.0</td>\n",
       "      <td>4564755.0</td>\n",
       "      <td>1869150.0</td>\n",
       "      <td>...</td>\n",
       "      <td>1800300.0</td>\n",
       "      <td>289935.0</td>\n",
       "      <td>190995.0</td>\n",
       "      <td>3631200.0</td>\n",
       "      <td>4167975.0</td>\n",
       "      <td>2400060.0</td>\n",
       "      <td>1136280.0</td>\n",
       "      <td>1114860.0</td>\n",
       "      <td>807840.0</td>\n",
       "      <td>1</td>\n",
       "    </tr>\n",
       "    <tr>\n",
       "      <th>4</th>\n",
       "      <td>7143315.0</td>\n",
       "      <td>7559220.0</td>\n",
       "      <td>6590475.0</td>\n",
       "      <td>5657175.0</td>\n",
       "      <td>4753965.0</td>\n",
       "      <td>4067505.0</td>\n",
       "      <td>2727990.0</td>\n",
       "      <td>2765985.0</td>\n",
       "      <td>5871375.0</td>\n",
       "      <td>4775385.0</td>\n",
       "      <td>...</td>\n",
       "      <td>3100545.0</td>\n",
       "      <td>3459330.0</td>\n",
       "      <td>3054390.0</td>\n",
       "      <td>3932610.0</td>\n",
       "      <td>5999130.0</td>\n",
       "      <td>5383560.0</td>\n",
       "      <td>4744020.0</td>\n",
       "      <td>3235695.0</td>\n",
       "      <td>2409495.0</td>\n",
       "      <td>1</td>\n",
       "    </tr>\n",
       "  </tbody>\n",
       "</table>\n",
       "<p>5 rows × 29 columns</p>\n",
       "</div>"
      ],
      "text/plain": [
       "           0          1          2          3          4          5  \\\n",
       "0   914175.0   857310.0   839970.0   636735.0   461295.0   337875.0   \n",
       "1  2281485.0  3077340.0  3157665.0  2425305.0  2842995.0  2621910.0   \n",
       "2  8054685.0  7903470.0  8472885.0  8902815.0  9350340.0  9374055.0   \n",
       "3  7372305.0  6711855.0  9122115.0  8145975.0  5959605.0  3339480.0   \n",
       "4  7143315.0  7559220.0  6590475.0  5657175.0  4753965.0  4067505.0   \n",
       "\n",
       "           6          7          8          9  ...         19         20  \\\n",
       "0   586755.0   437070.0   306765.0  1228845.0  ...   421260.0   212160.0   \n",
       "1  1108740.0  1240065.0  1398420.0  1041420.0  ...   911880.0  1046520.0   \n",
       "2  8512665.0  7941975.0  8657760.0  9606360.0  ...  8965800.0  6353070.0   \n",
       "3  3073770.0  4625955.0  4564755.0  1869150.0  ...  1800300.0   289935.0   \n",
       "4  2727990.0  2765985.0  5871375.0  4775385.0  ...  3100545.0  3459330.0   \n",
       "\n",
       "          21         22         23         24         25         26  \\\n",
       "0   294015.0  5376930.0  2757315.0   648975.0   521985.0   547485.0   \n",
       "1   950640.0  1292595.0   917745.0   696915.0   967980.0   733890.0   \n",
       "2  5459805.0  7274895.0  9760635.0  8137305.0  5434305.0  5596995.0   \n",
       "3   190995.0  3631200.0  4167975.0  2400060.0  1136280.0  1114860.0   \n",
       "4  3054390.0  3932610.0  5999130.0  5383560.0  4744020.0  3235695.0   \n",
       "\n",
       "          27  Class  \n",
       "0   640815.0      1  \n",
       "1   657645.0      1  \n",
       "2  7765515.0      1  \n",
       "3   807840.0      1  \n",
       "4  2409495.0      1  \n",
       "\n",
       "[5 rows x 29 columns]"
      ]
     },
     "metadata": {},
     "output_type": "display_data"
    }
   ],
   "source": [
    "d = pd.read_csv('C:/Users/jingy/Jupyter/Crime/Road/CDI_Based/Intensity/CSV/Harris_No_Filter.csv',index_col=0)\n",
    "d.Class[d['Class']==1] = -1\n",
    "d.Class[d['Class'] == 0] = 1\n",
    "display(d.head())"
   ]
  },
  {
   "cell_type": "code",
   "execution_count": 10,
   "metadata": {
    "ExecuteTime": {
     "end_time": "2020-09-15T17:15:18.057587Z",
     "start_time": "2020-09-15T17:15:18.028891Z"
    }
   },
   "outputs": [],
   "source": [
    "data = d\n",
    "mask = (data['Class'] == 1)\n",
    "\n",
    "X_train, X_test = train_test_split(data[mask], test_size=0.2, random_state=0)\n",
    "X_train = X_train.drop(['Class'], axis=1)\n",
    "X_test = X_test.drop(['Class'], axis=1)\n",
    "X_fraud = data[~mask].drop(['Class'], axis=1)\n",
    "\n",
    "x_test=np.vstack((X_test,X_fraud))\n",
    "y_test=[1]*len(X_test)+[-1]*len(X_fraud)\n",
    "\n",
    "std =MinMaxScaler()\n",
    "X_train=std.fit_transform(X_train)\n",
    "x_test=std.transform(x_test)\n"
   ]
  },
  {
   "cell_type": "code",
   "execution_count": 11,
   "metadata": {
    "ExecuteTime": {
     "end_time": "2020-09-15T17:15:18.073621Z",
     "start_time": "2020-09-15T17:15:18.059626Z"
    }
   },
   "outputs": [
    {
     "name": "stdout",
     "output_type": "stream",
     "text": [
      "0.6524822695035462\n",
      "              precision    recall  f1-score   support\n",
      "\n",
      "          -1       0.75      0.78      0.76       101\n",
      "           1       0.37      0.33      0.35        40\n",
      "\n",
      "    accuracy                           0.65       141\n",
      "   macro avg       0.56      0.55      0.55       141\n",
      "weighted avg       0.64      0.65      0.65       141\n",
      "\n"
     ]
    }
   ],
   "source": [
    "clf = svm.OneClassSVM(kernel='rbf',nu=0.6)  \n",
    "clf.fit(X_train)  \n",
    "\n",
    "y_pred = clf.predict(x_test)  \n",
    "y_prob = clf.decision_function(x_test)  # the lower, the more normal\n",
    "\n",
    "fpr,tpr,threshold_svc = metrics.roc_curve(y_test,y_prob)     \n",
    "auc_svc = metrics.auc(fpr,tpr)   \n",
    "\n",
    "precision, recall, _ = precision_recall_curve(y_test,y_prob)\n",
    "pr_auc = auc(recall, precision)\n",
    "\n",
    "score_svc = metrics.accuracy_score(y_test,y_pred)\n",
    "\n",
    "print(score_svc)\n",
    "print(classification_report(y_test, y_pred))"
   ]
  },
  {
   "cell_type": "code",
   "execution_count": 12,
   "metadata": {
    "ExecuteTime": {
     "end_time": "2020-09-15T17:15:18.310414Z",
     "start_time": "2020-09-15T17:15:18.075582Z"
    }
   },
   "outputs": [
    {
     "data": {
      "image/png": "[encoded data removed]",
      "text/plain": [
       "<Figure size 1008x432 with 2 Axes>"
      ]
     },
     "metadata": {},
     "output_type": "display_data"
    }
   ],
   "source": [
    "plt.figure(figsize=(14, 6))\n",
    "plt.subplot(121)\n",
    "#plt.figure(figsize=(14, 6))\n",
    "plt.title('Receiver Operating Characteristic \\nAUC = %0.2f'% auc_svc)   \n",
    "plt.plot(fpr, tpr, c='coral', lw=3)\n",
    "plt.plot([0,1],[0,1], c='dodgerblue', ls='--')\n",
    "plt.ylabel('TPR'); plt.xlabel('FPR')\n",
    "\n",
    "plt.subplot(122)\n",
    "plt.title('Precision-Recall curve based on \\nAUC = %0.2f'% pr_auc)\n",
    "plt.plot(recall[:-2], precision[:-2], c='coral', lw=3)\n",
    "plt.xlabel('Recall'); plt.ylabel('Precision')\n",
    "plt.show()"
   ]
  },
  {
   "cell_type": "code",
   "execution_count": null,
   "metadata": {},
   "outputs": [],
   "source": []
  }
 ],
 "metadata": {
  "kernelspec": {
   "display_name": "Python [conda env:crowd] *",
   "language": "python",
   "name": "conda-env-crowd-py"
  },
  "language_info": {
   "codemirror_mode": {
    "name": "ipython",
    "version": 3
   },
   "file_extension": ".py",
   "mimetype": "text/x-python",
   "name": "python",
   "nbconvert_exporter": "python",
   "pygments_lexer": "ipython3",
   "version": "3.8.3"
  },
  "toc": {
   "base_numbering": 1,
   "nav_menu": {},
   "number_sections": true,
   "sideBar": true,
   "skip_h1_title": false,
   "title_cell": "Table of Contents",
   "title_sidebar": "Contents",
   "toc_cell": false,
   "toc_position": {},
   "toc_section_display": true,
   "toc_window_display": false
  }
 },
 "nbformat": 4,
 "nbformat_minor": 4
}
