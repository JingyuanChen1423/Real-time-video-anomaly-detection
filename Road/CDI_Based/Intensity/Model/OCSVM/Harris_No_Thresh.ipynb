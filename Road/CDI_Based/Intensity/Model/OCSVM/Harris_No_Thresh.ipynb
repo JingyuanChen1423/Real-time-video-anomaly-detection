{
 "cells": [
  {
   "cell_type": "code",
   "execution_count": 11,
   "metadata": {
    "ExecuteTime": {
     "end_time": "2020-09-15T17:17:03.038148Z",
     "start_time": "2020-09-15T17:17:03.032833Z"
    }
   },
   "outputs": [],
   "source": [
    "import numpy as np  \n",
    "import matplotlib.pyplot as plt  \n",
    "import matplotlib.font_manager  \n",
    "import pandas as pd\n",
    "from sklearn import svm  \n",
    "from sklearn.model_selection import train_test_split\n",
    "from sklearn.preprocessing import StandardScaler,MinMaxScaler\n",
    "from sklearn import metrics\n",
    "from sklearn.metrics import roc_curve, auc, precision_recall_curve,confusion_matrix,classification_report\n",
    "plt.style.use('seaborn')"
   ]
  },
  {
   "cell_type": "code",
   "execution_count": 12,
   "metadata": {
    "ExecuteTime": {
     "end_time": "2020-09-15T17:17:03.083648Z",
     "start_time": "2020-09-15T17:17:03.040814Z"
    }
   },
   "outputs": [
    {
     "name": "stderr",
     "output_type": "stream",
     "text": [
      "<ipython-input-12-a54a7c18214b>:2: SettingWithCopyWarning: \n",
      "A value is trying to be set on a copy of a slice from a DataFrame\n",
      "\n",
      "See the caveats in the documentation: https://pandas.pydata.org/pandas-docs/stable/user_guide/indexing.html#returning-a-view-versus-a-copy\n",
      "  d.Class[d['Class']==1] = -1\n",
      "<ipython-input-12-a54a7c18214b>:3: SettingWithCopyWarning: \n",
      "A value is trying to be set on a copy of a slice from a DataFrame\n",
      "\n",
      "See the caveats in the documentation: https://pandas.pydata.org/pandas-docs/stable/user_guide/indexing.html#returning-a-view-versus-a-copy\n",
      "  d.Class[d['Class'] == 0] = 1\n"
     ]
    },
    {
     "data": {
      "text/html": [
       "<div>\n",
       "<style scoped>\n",
       "    .dataframe tbody tr th:only-of-type {\n",
       "        vertical-align: middle;\n",
       "    }\n",
       "\n",
       "    .dataframe tbody tr th {\n",
       "        vertical-align: top;\n",
       "    }\n",
       "\n",
       "    .dataframe thead th {\n",
       "        text-align: right;\n",
       "    }\n",
       "</style>\n",
       "<table border=\"1\" class=\"dataframe\">\n",
       "  <thead>\n",
       "    <tr style=\"text-align: right;\">\n",
       "      <th></th>\n",
       "      <th>0</th>\n",
       "      <th>1</th>\n",
       "      <th>2</th>\n",
       "      <th>3</th>\n",
       "      <th>4</th>\n",
       "      <th>5</th>\n",
       "      <th>6</th>\n",
       "      <th>7</th>\n",
       "      <th>8</th>\n",
       "      <th>9</th>\n",
       "      <th>...</th>\n",
       "      <th>19</th>\n",
       "      <th>20</th>\n",
       "      <th>21</th>\n",
       "      <th>22</th>\n",
       "      <th>23</th>\n",
       "      <th>24</th>\n",
       "      <th>25</th>\n",
       "      <th>26</th>\n",
       "      <th>27</th>\n",
       "      <th>Class</th>\n",
       "    </tr>\n",
       "  </thead>\n",
       "  <tbody>\n",
       "    <tr>\n",
       "      <th>0</th>\n",
       "      <td>0.002060</td>\n",
       "      <td>0.000932</td>\n",
       "      <td>0.002091</td>\n",
       "      <td>0.002628</td>\n",
       "      <td>0.001357</td>\n",
       "      <td>0.000489</td>\n",
       "      <td>0.001099</td>\n",
       "      <td>0.001249</td>\n",
       "      <td>0.001766</td>\n",
       "      <td>0.004993</td>\n",
       "      <td>...</td>\n",
       "      <td>0.001954</td>\n",
       "      <td>0.001539</td>\n",
       "      <td>0.001683</td>\n",
       "      <td>0.009700</td>\n",
       "      <td>0.000651</td>\n",
       "      <td>0.000299</td>\n",
       "      <td>0.001561</td>\n",
       "      <td>0.001816</td>\n",
       "      <td>0.001858</td>\n",
       "      <td>1</td>\n",
       "    </tr>\n",
       "    <tr>\n",
       "      <th>1</th>\n",
       "      <td>0.045637</td>\n",
       "      <td>0.060683</td>\n",
       "      <td>0.056248</td>\n",
       "      <td>0.064797</td>\n",
       "      <td>0.060077</td>\n",
       "      <td>0.045487</td>\n",
       "      <td>0.028009</td>\n",
       "      <td>0.035556</td>\n",
       "      <td>0.023756</td>\n",
       "      <td>0.031816</td>\n",
       "      <td>...</td>\n",
       "      <td>0.047211</td>\n",
       "      <td>0.027080</td>\n",
       "      <td>0.027964</td>\n",
       "      <td>0.049830</td>\n",
       "      <td>0.070174</td>\n",
       "      <td>0.065835</td>\n",
       "      <td>0.036941</td>\n",
       "      <td>0.028811</td>\n",
       "      <td>0.043441</td>\n",
       "      <td>1</td>\n",
       "    </tr>\n",
       "    <tr>\n",
       "      <th>2</th>\n",
       "      <td>0.460397</td>\n",
       "      <td>0.488734</td>\n",
       "      <td>0.599460</td>\n",
       "      <td>0.582167</td>\n",
       "      <td>0.634067</td>\n",
       "      <td>0.625836</td>\n",
       "      <td>0.629815</td>\n",
       "      <td>0.542359</td>\n",
       "      <td>0.326263</td>\n",
       "      <td>0.302863</td>\n",
       "      <td>...</td>\n",
       "      <td>0.282526</td>\n",
       "      <td>0.248250</td>\n",
       "      <td>0.234649</td>\n",
       "      <td>0.281436</td>\n",
       "      <td>0.332933</td>\n",
       "      <td>0.241064</td>\n",
       "      <td>0.213618</td>\n",
       "      <td>0.274977</td>\n",
       "      <td>0.518211</td>\n",
       "      <td>1</td>\n",
       "    </tr>\n",
       "    <tr>\n",
       "      <th>3</th>\n",
       "      <td>0.071231</td>\n",
       "      <td>0.068655</td>\n",
       "      <td>0.813084</td>\n",
       "      <td>0.819467</td>\n",
       "      <td>0.101225</td>\n",
       "      <td>0.038614</td>\n",
       "      <td>0.038915</td>\n",
       "      <td>0.805319</td>\n",
       "      <td>0.845608</td>\n",
       "      <td>0.037186</td>\n",
       "      <td>...</td>\n",
       "      <td>0.033717</td>\n",
       "      <td>0.005615</td>\n",
       "      <td>0.004017</td>\n",
       "      <td>0.909425</td>\n",
       "      <td>0.875821</td>\n",
       "      <td>0.768890</td>\n",
       "      <td>0.017163</td>\n",
       "      <td>0.016047</td>\n",
       "      <td>0.012783</td>\n",
       "      <td>1</td>\n",
       "    </tr>\n",
       "    <tr>\n",
       "      <th>4</th>\n",
       "      <td>0.220322</td>\n",
       "      <td>0.254476</td>\n",
       "      <td>0.182284</td>\n",
       "      <td>0.187489</td>\n",
       "      <td>0.163019</td>\n",
       "      <td>0.142676</td>\n",
       "      <td>0.149381</td>\n",
       "      <td>0.189343</td>\n",
       "      <td>0.218062</td>\n",
       "      <td>0.193886</td>\n",
       "      <td>...</td>\n",
       "      <td>0.221050</td>\n",
       "      <td>0.197585</td>\n",
       "      <td>0.225845</td>\n",
       "      <td>0.327639</td>\n",
       "      <td>0.219883</td>\n",
       "      <td>0.205631</td>\n",
       "      <td>0.213861</td>\n",
       "      <td>0.182392</td>\n",
       "      <td>0.205965</td>\n",
       "      <td>1</td>\n",
       "    </tr>\n",
       "  </tbody>\n",
       "</table>\n",
       "<p>5 rows × 29 columns</p>\n",
       "</div>"
      ],
      "text/plain": [
       "          0         1         2         3         4         5         6  \\\n",
       "0  0.002060  0.000932  0.002091  0.002628  0.001357  0.000489  0.001099   \n",
       "1  0.045637  0.060683  0.056248  0.064797  0.060077  0.045487  0.028009   \n",
       "2  0.460397  0.488734  0.599460  0.582167  0.634067  0.625836  0.629815   \n",
       "3  0.071231  0.068655  0.813084  0.819467  0.101225  0.038614  0.038915   \n",
       "4  0.220322  0.254476  0.182284  0.187489  0.163019  0.142676  0.149381   \n",
       "\n",
       "          7         8         9  ...        19        20        21        22  \\\n",
       "0  0.001249  0.001766  0.004993  ...  0.001954  0.001539  0.001683  0.009700   \n",
       "1  0.035556  0.023756  0.031816  ...  0.047211  0.027080  0.027964  0.049830   \n",
       "2  0.542359  0.326263  0.302863  ...  0.282526  0.248250  0.234649  0.281436   \n",
       "3  0.805319  0.845608  0.037186  ...  0.033717  0.005615  0.004017  0.909425   \n",
       "4  0.189343  0.218062  0.193886  ...  0.221050  0.197585  0.225845  0.327639   \n",
       "\n",
       "         23        24        25        26        27  Class  \n",
       "0  0.000651  0.000299  0.001561  0.001816  0.001858      1  \n",
       "1  0.070174  0.065835  0.036941  0.028811  0.043441      1  \n",
       "2  0.332933  0.241064  0.213618  0.274977  0.518211      1  \n",
       "3  0.875821  0.768890  0.017163  0.016047  0.012783      1  \n",
       "4  0.219883  0.205631  0.213861  0.182392  0.205965      1  \n",
       "\n",
       "[5 rows x 29 columns]"
      ]
     },
     "metadata": {},
     "output_type": "display_data"
    }
   ],
   "source": [
    "d = pd.read_csv('C:/Users/jingy/Jupyter/Crime/Road/CDI_Based/Intensity/CSV/Harris_With_Filter.csv',index_col=0)\n",
    "d.Class[d['Class']==1] = -1\n",
    "d.Class[d['Class'] == 0] = 1\n",
    "display(d.head())"
   ]
  },
  {
   "cell_type": "code",
   "execution_count": 13,
   "metadata": {
    "ExecuteTime": {
     "end_time": "2020-09-15T17:17:03.099576Z",
     "start_time": "2020-09-15T17:17:03.085612Z"
    }
   },
   "outputs": [],
   "source": [
    "data = d\n",
    "mask = (data['Class'] == 1)\n",
    "\n",
    "X_train, X_test = train_test_split(data[mask], test_size=0.2, random_state=0)\n",
    "X_train = X_train.drop(['Class'], axis=1)\n",
    "X_test = X_test.drop(['Class'], axis=1)\n",
    "X_fraud = data[~mask].drop(['Class'], axis=1)\n",
    "\n",
    "x_test=np.vstack((X_test,X_fraud))\n",
    "y_test=[1]*len(X_test)+[-1]*len(X_fraud)\n",
    "\n",
    "std =StandardScaler()\n",
    "X_train=std.fit_transform(X_train)\n",
    "x_test=std.transform(x_test)\n"
   ]
  },
  {
   "cell_type": "code",
   "execution_count": 14,
   "metadata": {
    "ExecuteTime": {
     "end_time": "2020-09-15T17:17:03.130597Z",
     "start_time": "2020-09-15T17:17:03.100572Z"
    }
   },
   "outputs": [
    {
     "name": "stdout",
     "output_type": "stream",
     "text": [
      "0.6170212765957447\n",
      "              precision    recall  f1-score   support\n",
      "\n",
      "          -1       0.72      0.75      0.74       101\n",
      "           1       0.31      0.28      0.29        40\n",
      "\n",
      "    accuracy                           0.62       141\n",
      "   macro avg       0.51      0.51      0.51       141\n",
      "weighted avg       0.61      0.62      0.61       141\n",
      "\n"
     ]
    }
   ],
   "source": [
    "clf = svm.OneClassSVM(kernel='rbf',nu=0.6)  \n",
    "clf.fit(X_train)  \n",
    "\n",
    "y_pred = clf.predict(x_test)  \n",
    "y_prob = clf.decision_function(x_test)  # the lower, the more normal\n",
    "\n",
    "fpr,tpr,threshold_svc = metrics.roc_curve(y_test,y_prob)     \n",
    "auc_svc = metrics.auc(fpr,tpr)   \n",
    "\n",
    "precision, recall, _ = precision_recall_curve(y_test,y_prob)\n",
    "pr_auc = auc(recall, precision)\n",
    "\n",
    "score_svc = metrics.accuracy_score(y_test,y_pred)\n",
    "\n",
    "print(score_svc)\n",
    "print(classification_report(y_test, y_pred))"
   ]
  },
  {
   "cell_type": "code",
   "execution_count": 15,
   "metadata": {
    "ExecuteTime": {
     "end_time": "2020-09-15T17:17:03.368379Z",
     "start_time": "2020-09-15T17:17:03.132507Z"
    }
   },
   "outputs": [
    {
     "data": {
      "image/png": "[encoded data removed]",
      "text/plain": [
       "<Figure size 1008x432 with 2 Axes>"
      ]
     },
     "metadata": {},
     "output_type": "display_data"
    }
   ],
   "source": [
    "plt.figure(figsize=(14, 6))\n",
    "plt.subplot(121)\n",
    "#plt.figure(figsize=(14, 6))\n",
    "plt.title('Receiver Operating Characteristic \\nAUC = %0.2f'% auc_svc)   \n",
    "plt.plot(fpr, tpr, c='coral', lw=3)\n",
    "plt.plot([0,1],[0,1], c='dodgerblue', ls='--')\n",
    "plt.ylabel('TPR'); plt.xlabel('FPR')\n",
    "\n",
    "plt.subplot(122)\n",
    "plt.title('Precision-Recall curve based on \\nAUC = %0.2f'% pr_auc)\n",
    "plt.plot(recall[:-2], precision[:-2], c='coral', lw=3)\n",
    "plt.xlabel('Recall'); plt.ylabel('Precision')\n",
    "plt.show()"
   ]
  },
  {
   "cell_type": "code",
   "execution_count": null,
   "metadata": {},
   "outputs": [],
   "source": []
  }
 ],
 "metadata": {
  "kernelspec": {
   "display_name": "Python [conda env:crowd] *",
   "language": "python",
   "name": "conda-env-crowd-py"
  },
  "language_info": {
   "codemirror_mode": {
    "name": "ipython",
    "version": 3
   },
   "file_extension": ".py",
   "mimetype": "text/x-python",
   "name": "python",
   "nbconvert_exporter": "python",
   "pygments_lexer": "ipython3",
   "version": "3.8.3"
  },
  "toc": {
   "base_numbering": 1,
   "nav_menu": {},
   "number_sections": true,
   "sideBar": true,
   "skip_h1_title": false,
   "title_cell": "Table of Contents",
   "title_sidebar": "Contents",
   "toc_cell": false,
   "toc_position": {},
   "toc_section_display": true,
   "toc_window_display": false
  }
 },
 "nbformat": 4,
 "nbformat_minor": 4
}
