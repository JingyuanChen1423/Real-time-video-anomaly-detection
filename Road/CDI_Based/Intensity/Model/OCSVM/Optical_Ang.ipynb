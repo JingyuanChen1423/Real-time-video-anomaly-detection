{
 "cells": [
  {
   "cell_type": "code",
   "execution_count": 12,
   "metadata": {
    "ExecuteTime": {
     "end_time": "2020-09-15T17:07:09.162424Z",
     "start_time": "2020-09-15T17:07:09.148459Z"
    }
   },
   "outputs": [],
   "source": [
    "import numpy as np  \n",
    "import matplotlib.pyplot as plt  \n",
    "import matplotlib.font_manager  \n",
    "import pandas as pd\n",
    "from sklearn import svm  \n",
    "from sklearn.model_selection import train_test_split\n",
    "from sklearn.preprocessing import StandardScaler,MinMaxScaler\n",
    "from sklearn import metrics\n",
    "from sklearn.metrics import roc_curve, auc, precision_recall_curve,confusion_matrix,classification_report\n",
    "plt.style.use('seaborn')"
   ]
  },
  {
   "cell_type": "code",
   "execution_count": 13,
   "metadata": {
    "ExecuteTime": {
     "end_time": "2020-09-15T17:07:09.194304Z",
     "start_time": "2020-09-15T17:07:09.164385Z"
    }
   },
   "outputs": [
    {
     "name": "stderr",
     "output_type": "stream",
     "text": [
      "<ipython-input-13-58b231eff6bd>:2: SettingWithCopyWarning: \n",
      "A value is trying to be set on a copy of a slice from a DataFrame\n",
      "\n",
      "See the caveats in the documentation: https://pandas.pydata.org/pandas-docs/stable/user_guide/indexing.html#returning-a-view-versus-a-copy\n",
      "  d.Class[d['Class']==1] = -1\n",
      "<ipython-input-13-58b231eff6bd>:3: SettingWithCopyWarning: \n",
      "A value is trying to be set on a copy of a slice from a DataFrame\n",
      "\n",
      "See the caveats in the documentation: https://pandas.pydata.org/pandas-docs/stable/user_guide/indexing.html#returning-a-view-versus-a-copy\n",
      "  d.Class[d['Class'] == 0] = 1\n"
     ]
    },
    {
     "data": {
      "text/html": [
       "<div>\n",
       "<style scoped>\n",
       "    .dataframe tbody tr th:only-of-type {\n",
       "        vertical-align: middle;\n",
       "    }\n",
       "\n",
       "    .dataframe tbody tr th {\n",
       "        vertical-align: top;\n",
       "    }\n",
       "\n",
       "    .dataframe thead th {\n",
       "        text-align: right;\n",
       "    }\n",
       "</style>\n",
       "<table border=\"1\" class=\"dataframe\">\n",
       "  <thead>\n",
       "    <tr style=\"text-align: right;\">\n",
       "      <th></th>\n",
       "      <th>0</th>\n",
       "      <th>1</th>\n",
       "      <th>2</th>\n",
       "      <th>3</th>\n",
       "      <th>4</th>\n",
       "      <th>5</th>\n",
       "      <th>6</th>\n",
       "      <th>7</th>\n",
       "      <th>8</th>\n",
       "      <th>9</th>\n",
       "      <th>...</th>\n",
       "      <th>18</th>\n",
       "      <th>19</th>\n",
       "      <th>20</th>\n",
       "      <th>21</th>\n",
       "      <th>22</th>\n",
       "      <th>23</th>\n",
       "      <th>24</th>\n",
       "      <th>25</th>\n",
       "      <th>26</th>\n",
       "      <th>Class</th>\n",
       "    </tr>\n",
       "  </thead>\n",
       "  <tbody>\n",
       "    <tr>\n",
       "      <th>0</th>\n",
       "      <td>43336.727</td>\n",
       "      <td>33569.940</td>\n",
       "      <td>30666.002</td>\n",
       "      <td>29588.512</td>\n",
       "      <td>29435.867</td>\n",
       "      <td>27627.980</td>\n",
       "      <td>42563.790</td>\n",
       "      <td>35676.754</td>\n",
       "      <td>38029.510</td>\n",
       "      <td>39578.520</td>\n",
       "      <td>...</td>\n",
       "      <td>33282.523</td>\n",
       "      <td>23411.719</td>\n",
       "      <td>22318.283</td>\n",
       "      <td>37298.008</td>\n",
       "      <td>47840.426</td>\n",
       "      <td>40303.223</td>\n",
       "      <td>38673.145</td>\n",
       "      <td>33158.820</td>\n",
       "      <td>40910.800</td>\n",
       "      <td>1</td>\n",
       "    </tr>\n",
       "    <tr>\n",
       "      <th>1</th>\n",
       "      <td>32834.840</td>\n",
       "      <td>38182.830</td>\n",
       "      <td>35685.100</td>\n",
       "      <td>34116.010</td>\n",
       "      <td>35598.727</td>\n",
       "      <td>33035.520</td>\n",
       "      <td>30562.307</td>\n",
       "      <td>32555.066</td>\n",
       "      <td>29933.047</td>\n",
       "      <td>29475.639</td>\n",
       "      <td>...</td>\n",
       "      <td>33522.780</td>\n",
       "      <td>30990.220</td>\n",
       "      <td>36963.510</td>\n",
       "      <td>41474.000</td>\n",
       "      <td>53753.727</td>\n",
       "      <td>27280.700</td>\n",
       "      <td>34868.440</td>\n",
       "      <td>32564.215</td>\n",
       "      <td>33242.670</td>\n",
       "      <td>1</td>\n",
       "    </tr>\n",
       "    <tr>\n",
       "      <th>2</th>\n",
       "      <td>28718.951</td>\n",
       "      <td>31597.617</td>\n",
       "      <td>30235.166</td>\n",
       "      <td>26487.748</td>\n",
       "      <td>31180.646</td>\n",
       "      <td>31568.105</td>\n",
       "      <td>32524.191</td>\n",
       "      <td>32335.613</td>\n",
       "      <td>34583.150</td>\n",
       "      <td>38609.336</td>\n",
       "      <td>...</td>\n",
       "      <td>40954.957</td>\n",
       "      <td>40209.203</td>\n",
       "      <td>36087.785</td>\n",
       "      <td>39053.180</td>\n",
       "      <td>45004.125</td>\n",
       "      <td>40702.950</td>\n",
       "      <td>36783.180</td>\n",
       "      <td>38979.203</td>\n",
       "      <td>34722.004</td>\n",
       "      <td>1</td>\n",
       "    </tr>\n",
       "    <tr>\n",
       "      <th>3</th>\n",
       "      <td>39172.766</td>\n",
       "      <td>31761.213</td>\n",
       "      <td>31054.273</td>\n",
       "      <td>29064.910</td>\n",
       "      <td>34773.652</td>\n",
       "      <td>34544.350</td>\n",
       "      <td>29591.220</td>\n",
       "      <td>33338.260</td>\n",
       "      <td>38961.960</td>\n",
       "      <td>41886.742</td>\n",
       "      <td>...</td>\n",
       "      <td>40806.062</td>\n",
       "      <td>35097.125</td>\n",
       "      <td>38056.746</td>\n",
       "      <td>29876.498</td>\n",
       "      <td>35388.530</td>\n",
       "      <td>37137.790</td>\n",
       "      <td>33483.062</td>\n",
       "      <td>39754.902</td>\n",
       "      <td>45856.996</td>\n",
       "      <td>1</td>\n",
       "    </tr>\n",
       "    <tr>\n",
       "      <th>4</th>\n",
       "      <td>31926.115</td>\n",
       "      <td>37403.490</td>\n",
       "      <td>40343.105</td>\n",
       "      <td>40755.977</td>\n",
       "      <td>34271.973</td>\n",
       "      <td>36751.010</td>\n",
       "      <td>33900.406</td>\n",
       "      <td>36866.945</td>\n",
       "      <td>43540.008</td>\n",
       "      <td>36312.445</td>\n",
       "      <td>...</td>\n",
       "      <td>40656.645</td>\n",
       "      <td>39760.290</td>\n",
       "      <td>40287.190</td>\n",
       "      <td>36524.500</td>\n",
       "      <td>40956.523</td>\n",
       "      <td>37129.260</td>\n",
       "      <td>40142.766</td>\n",
       "      <td>36176.130</td>\n",
       "      <td>36875.992</td>\n",
       "      <td>1</td>\n",
       "    </tr>\n",
       "  </tbody>\n",
       "</table>\n",
       "<p>5 rows × 28 columns</p>\n",
       "</div>"
      ],
      "text/plain": [
       "           0          1          2          3          4          5  \\\n",
       "0  43336.727  33569.940  30666.002  29588.512  29435.867  27627.980   \n",
       "1  32834.840  38182.830  35685.100  34116.010  35598.727  33035.520   \n",
       "2  28718.951  31597.617  30235.166  26487.748  31180.646  31568.105   \n",
       "3  39172.766  31761.213  31054.273  29064.910  34773.652  34544.350   \n",
       "4  31926.115  37403.490  40343.105  40755.977  34271.973  36751.010   \n",
       "\n",
       "           6          7          8          9  ...         18         19  \\\n",
       "0  42563.790  35676.754  38029.510  39578.520  ...  33282.523  23411.719   \n",
       "1  30562.307  32555.066  29933.047  29475.639  ...  33522.780  30990.220   \n",
       "2  32524.191  32335.613  34583.150  38609.336  ...  40954.957  40209.203   \n",
       "3  29591.220  33338.260  38961.960  41886.742  ...  40806.062  35097.125   \n",
       "4  33900.406  36866.945  43540.008  36312.445  ...  40656.645  39760.290   \n",
       "\n",
       "          20         21         22         23         24         25  \\\n",
       "0  22318.283  37298.008  47840.426  40303.223  38673.145  33158.820   \n",
       "1  36963.510  41474.000  53753.727  27280.700  34868.440  32564.215   \n",
       "2  36087.785  39053.180  45004.125  40702.950  36783.180  38979.203   \n",
       "3  38056.746  29876.498  35388.530  37137.790  33483.062  39754.902   \n",
       "4  40287.190  36524.500  40956.523  37129.260  40142.766  36176.130   \n",
       "\n",
       "          26  Class  \n",
       "0  40910.800      1  \n",
       "1  33242.670      1  \n",
       "2  34722.004      1  \n",
       "3  45856.996      1  \n",
       "4  36875.992      1  \n",
       "\n",
       "[5 rows x 28 columns]"
      ]
     },
     "metadata": {},
     "output_type": "display_data"
    }
   ],
   "source": [
    "d = pd.read_csv('C:/Users/jingy/Jupyter/Crime/Road/CDI_Based/Intensity/CSV/Optical_Ang.csv',index_col=0)\n",
    "d.Class[d['Class']==1] = -1\n",
    "d.Class[d['Class'] == 0] = 1\n",
    "display(d.head())"
   ]
  },
  {
   "cell_type": "code",
   "execution_count": 14,
   "metadata": {
    "ExecuteTime": {
     "end_time": "2020-09-15T17:07:09.210262Z",
     "start_time": "2020-09-15T17:07:09.196299Z"
    }
   },
   "outputs": [],
   "source": [
    "data = d\n",
    "mask = (data['Class'] == 1)\n",
    "\n",
    "X_train, X_test = train_test_split(data[mask], test_size=0.2, random_state=0)\n",
    "X_train = X_train.drop(['Class'], axis=1)\n",
    "X_test = X_test.drop(['Class'], axis=1)\n",
    "X_fraud = data[~mask].drop(['Class'], axis=1)\n",
    "\n",
    "x_test=np.vstack((X_test,X_fraud))\n",
    "y_test=[1]*len(X_test)+[-1]*len(X_fraud)\n",
    "\n",
    "std =StandardScaler()\n",
    "X_train=std.fit_transform(X_train)\n",
    "x_test=std.transform(x_test)\n"
   ]
  },
  {
   "cell_type": "code",
   "execution_count": 15,
   "metadata": {
    "ExecuteTime": {
     "end_time": "2020-09-15T17:07:09.242216Z",
     "start_time": "2020-09-15T17:07:09.212289Z"
    }
   },
   "outputs": [
    {
     "name": "stdout",
     "output_type": "stream",
     "text": [
      "0.6879432624113475\n",
      "              precision    recall  f1-score   support\n",
      "\n",
      "          -1       0.81      0.74      0.77       101\n",
      "           1       0.46      0.55      0.50        40\n",
      "\n",
      "    accuracy                           0.69       141\n",
      "   macro avg       0.63      0.65      0.64       141\n",
      "weighted avg       0.71      0.69      0.70       141\n",
      "\n"
     ]
    }
   ],
   "source": [
    "clf = svm.OneClassSVM(kernel='rbf',nu=0.5)  \n",
    "clf.fit(X_train)  \n",
    "\n",
    "y_pred = clf.predict(x_test)  \n",
    "y_prob = clf.decision_function(x_test)  # the lower, the more normal\n",
    "\n",
    "fpr,tpr,threshold_svc = metrics.roc_curve(y_test,y_prob)     \n",
    "auc_svc = metrics.auc(fpr,tpr)   \n",
    "\n",
    "precision, recall, _ = precision_recall_curve(y_test,y_prob)\n",
    "pr_auc = auc(recall, precision)\n",
    "\n",
    "score_svc = metrics.accuracy_score(y_test,y_pred)\n",
    "\n",
    "print(score_svc)\n",
    "print(classification_report(y_test, y_pred))"
   ]
  },
  {
   "cell_type": "code",
   "execution_count": 16,
   "metadata": {
    "ExecuteTime": {
     "end_time": "2020-09-15T17:07:09.475832Z",
     "start_time": "2020-09-15T17:07:09.244213Z"
    }
   },
   "outputs": [
    {
     "data": {
      "image/png": "[encoded data removed]",
      "text/plain": [
       "<Figure size 1008x432 with 2 Axes>"
      ]
     },
     "metadata": {},
     "output_type": "display_data"
    }
   ],
   "source": [
    "plt.figure(figsize=(14, 6))\n",
    "plt.subplot(121)\n",
    "#plt.figure(figsize=(14, 6))\n",
    "plt.title('Receiver Operating Characteristic \\nAUC = %0.2f'% auc_svc)   \n",
    "plt.plot(fpr, tpr, c='coral', lw=3)\n",
    "plt.plot([0,1],[0,1], c='dodgerblue', ls='--')\n",
    "plt.ylabel('TPR'); plt.xlabel('FPR')\n",
    "\n",
    "plt.subplot(122)\n",
    "plt.title('Precision-Recall curve based on \\nAUC = %0.2f'% pr_auc)\n",
    "plt.plot(recall[:-2], precision[:-2], c='coral', lw=3)\n",
    "plt.xlabel('Recall'); plt.ylabel('Precision')\n",
    "plt.show()"
   ]
  },
  {
   "cell_type": "code",
   "execution_count": null,
   "metadata": {},
   "outputs": [],
   "source": []
  }
 ],
 "metadata": {
  "kernelspec": {
   "display_name": "Python [conda env:crowd] *",
   "language": "python",
   "name": "conda-env-crowd-py"
  },
  "language_info": {
   "codemirror_mode": {
    "name": "ipython",
    "version": 3
   },
   "file_extension": ".py",
   "mimetype": "text/x-python",
   "name": "python",
   "nbconvert_exporter": "python",
   "pygments_lexer": "ipython3",
   "version": "3.8.3"
  },
  "toc": {
   "base_numbering": 1,
   "nav_menu": {},
   "number_sections": true,
   "sideBar": true,
   "skip_h1_title": false,
   "title_cell": "Table of Contents",
   "title_sidebar": "Contents",
   "toc_cell": false,
   "toc_position": {},
   "toc_section_display": true,
   "toc_window_display": false
  }
 },
 "nbformat": 4,
 "nbformat_minor": 4
}
