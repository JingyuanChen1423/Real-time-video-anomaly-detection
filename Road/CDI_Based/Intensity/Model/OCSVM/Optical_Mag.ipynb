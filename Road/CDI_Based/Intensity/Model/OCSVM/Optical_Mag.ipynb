{
 "cells": [
  {
   "cell_type": "code",
   "execution_count": 1,
   "metadata": {
    "ExecuteTime": {
     "end_time": "2020-09-15T16:50:50.947754Z",
     "start_time": "2020-09-15T16:50:46.865610Z"
    }
   },
   "outputs": [],
   "source": [
    "import numpy as np  \n",
    "import matplotlib.pyplot as plt  \n",
    "import matplotlib.font_manager  \n",
    "import pandas as pd\n",
    "from sklearn import svm  \n",
    "from sklearn.model_selection import train_test_split\n",
    "from sklearn.preprocessing import StandardScaler,MinMaxScaler\n",
    "from sklearn import metrics\n",
    "from sklearn.metrics import roc_curve, auc, precision_recall_curve,confusion_matrix,classification_report\n",
    "plt.style.use('seaborn')"
   ]
  },
  {
   "cell_type": "code",
   "execution_count": 2,
   "metadata": {
    "ExecuteTime": {
     "end_time": "2020-09-15T16:50:51.010199Z",
     "start_time": "2020-09-15T16:50:50.949765Z"
    }
   },
   "outputs": [
    {
     "name": "stderr",
     "output_type": "stream",
     "text": [
      "<ipython-input-2-51009282fef0>:2: SettingWithCopyWarning: \n",
      "A value is trying to be set on a copy of a slice from a DataFrame\n",
      "\n",
      "See the caveats in the documentation: https://pandas.pydata.org/pandas-docs/stable/user_guide/indexing.html#returning-a-view-versus-a-copy\n",
      "  d.Class[d['Class']==1] = -1\n",
      "<ipython-input-2-51009282fef0>:3: SettingWithCopyWarning: \n",
      "A value is trying to be set on a copy of a slice from a DataFrame\n",
      "\n",
      "See the caveats in the documentation: https://pandas.pydata.org/pandas-docs/stable/user_guide/indexing.html#returning-a-view-versus-a-copy\n",
      "  d.Class[d['Class'] == 0] = 1\n"
     ]
    },
    {
     "data": {
      "text/html": [
       "<div>\n",
       "<style scoped>\n",
       "    .dataframe tbody tr th:only-of-type {\n",
       "        vertical-align: middle;\n",
       "    }\n",
       "\n",
       "    .dataframe tbody tr th {\n",
       "        vertical-align: top;\n",
       "    }\n",
       "\n",
       "    .dataframe thead th {\n",
       "        text-align: right;\n",
       "    }\n",
       "</style>\n",
       "<table border=\"1\" class=\"dataframe\">\n",
       "  <thead>\n",
       "    <tr style=\"text-align: right;\">\n",
       "      <th></th>\n",
       "      <th>0</th>\n",
       "      <th>1</th>\n",
       "      <th>2</th>\n",
       "      <th>3</th>\n",
       "      <th>4</th>\n",
       "      <th>5</th>\n",
       "      <th>6</th>\n",
       "      <th>7</th>\n",
       "      <th>8</th>\n",
       "      <th>9</th>\n",
       "      <th>...</th>\n",
       "      <th>18</th>\n",
       "      <th>19</th>\n",
       "      <th>20</th>\n",
       "      <th>21</th>\n",
       "      <th>22</th>\n",
       "      <th>23</th>\n",
       "      <th>24</th>\n",
       "      <th>25</th>\n",
       "      <th>26</th>\n",
       "      <th>Class</th>\n",
       "    </tr>\n",
       "  </thead>\n",
       "  <tbody>\n",
       "    <tr>\n",
       "      <th>0</th>\n",
       "      <td>988.3669</td>\n",
       "      <td>175.44109</td>\n",
       "      <td>361.91776</td>\n",
       "      <td>247.36005</td>\n",
       "      <td>108.59085</td>\n",
       "      <td>116.81109</td>\n",
       "      <td>755.51210</td>\n",
       "      <td>415.54663</td>\n",
       "      <td>459.68686</td>\n",
       "      <td>439.56410</td>\n",
       "      <td>...</td>\n",
       "      <td>345.47638</td>\n",
       "      <td>67.87378</td>\n",
       "      <td>76.579500</td>\n",
       "      <td>609.87380</td>\n",
       "      <td>2704.8977</td>\n",
       "      <td>596.11110</td>\n",
       "      <td>294.66406</td>\n",
       "      <td>132.17860</td>\n",
       "      <td>343.93466</td>\n",
       "      <td>1</td>\n",
       "    </tr>\n",
       "    <tr>\n",
       "      <th>1</th>\n",
       "      <td>930.0564</td>\n",
       "      <td>1790.42130</td>\n",
       "      <td>1249.79020</td>\n",
       "      <td>1067.55140</td>\n",
       "      <td>1505.53200</td>\n",
       "      <td>467.05390</td>\n",
       "      <td>902.11035</td>\n",
       "      <td>1108.90970</td>\n",
       "      <td>540.39185</td>\n",
       "      <td>537.02990</td>\n",
       "      <td>...</td>\n",
       "      <td>603.08600</td>\n",
       "      <td>578.08770</td>\n",
       "      <td>1551.111600</td>\n",
       "      <td>926.32623</td>\n",
       "      <td>2544.8142</td>\n",
       "      <td>532.60370</td>\n",
       "      <td>1373.94750</td>\n",
       "      <td>699.61945</td>\n",
       "      <td>483.91727</td>\n",
       "      <td>1</td>\n",
       "    </tr>\n",
       "    <tr>\n",
       "      <th>2</th>\n",
       "      <td>3066.5469</td>\n",
       "      <td>3238.57370</td>\n",
       "      <td>2752.17680</td>\n",
       "      <td>1091.76390</td>\n",
       "      <td>1159.73120</td>\n",
       "      <td>1869.87040</td>\n",
       "      <td>1728.60230</td>\n",
       "      <td>1610.73170</td>\n",
       "      <td>915.92730</td>\n",
       "      <td>881.10730</td>\n",
       "      <td>...</td>\n",
       "      <td>723.75476</td>\n",
       "      <td>543.95416</td>\n",
       "      <td>393.835240</td>\n",
       "      <td>440.70917</td>\n",
       "      <td>1096.1488</td>\n",
       "      <td>634.36890</td>\n",
       "      <td>568.96075</td>\n",
       "      <td>591.53920</td>\n",
       "      <td>9152.49700</td>\n",
       "      <td>1</td>\n",
       "    </tr>\n",
       "    <tr>\n",
       "      <th>3</th>\n",
       "      <td>1458.1394</td>\n",
       "      <td>1689.23700</td>\n",
       "      <td>1215.58620</td>\n",
       "      <td>1421.97580</td>\n",
       "      <td>240.49838</td>\n",
       "      <td>212.49644</td>\n",
       "      <td>994.62440</td>\n",
       "      <td>856.21370</td>\n",
       "      <td>2017.43130</td>\n",
       "      <td>544.82825</td>\n",
       "      <td>...</td>\n",
       "      <td>5081.18550</td>\n",
       "      <td>69.44509</td>\n",
       "      <td>44.604267</td>\n",
       "      <td>794.06335</td>\n",
       "      <td>2358.5027</td>\n",
       "      <td>663.01220</td>\n",
       "      <td>757.42084</td>\n",
       "      <td>3496.48400</td>\n",
       "      <td>4767.00630</td>\n",
       "      <td>1</td>\n",
       "    </tr>\n",
       "    <tr>\n",
       "      <th>4</th>\n",
       "      <td>798.3445</td>\n",
       "      <td>571.96800</td>\n",
       "      <td>351.84625</td>\n",
       "      <td>729.98910</td>\n",
       "      <td>162.76010</td>\n",
       "      <td>183.91235</td>\n",
       "      <td>259.22333</td>\n",
       "      <td>349.06876</td>\n",
       "      <td>798.98870</td>\n",
       "      <td>707.75950</td>\n",
       "      <td>...</td>\n",
       "      <td>1399.53600</td>\n",
       "      <td>124.36855</td>\n",
       "      <td>176.134580</td>\n",
       "      <td>284.57736</td>\n",
       "      <td>1291.4895</td>\n",
       "      <td>505.92578</td>\n",
       "      <td>1592.64980</td>\n",
       "      <td>151.43918</td>\n",
       "      <td>317.40497</td>\n",
       "      <td>1</td>\n",
       "    </tr>\n",
       "  </tbody>\n",
       "</table>\n",
       "<p>5 rows × 28 columns</p>\n",
       "</div>"
      ],
      "text/plain": [
       "           0           1           2           3           4           5  \\\n",
       "0   988.3669   175.44109   361.91776   247.36005   108.59085   116.81109   \n",
       "1   930.0564  1790.42130  1249.79020  1067.55140  1505.53200   467.05390   \n",
       "2  3066.5469  3238.57370  2752.17680  1091.76390  1159.73120  1869.87040   \n",
       "3  1458.1394  1689.23700  1215.58620  1421.97580   240.49838   212.49644   \n",
       "4   798.3445   571.96800   351.84625   729.98910   162.76010   183.91235   \n",
       "\n",
       "            6           7           8          9  ...          18         19  \\\n",
       "0   755.51210   415.54663   459.68686  439.56410  ...   345.47638   67.87378   \n",
       "1   902.11035  1108.90970   540.39185  537.02990  ...   603.08600  578.08770   \n",
       "2  1728.60230  1610.73170   915.92730  881.10730  ...   723.75476  543.95416   \n",
       "3   994.62440   856.21370  2017.43130  544.82825  ...  5081.18550   69.44509   \n",
       "4   259.22333   349.06876   798.98870  707.75950  ...  1399.53600  124.36855   \n",
       "\n",
       "            20         21         22         23          24          25  \\\n",
       "0    76.579500  609.87380  2704.8977  596.11110   294.66406   132.17860   \n",
       "1  1551.111600  926.32623  2544.8142  532.60370  1373.94750   699.61945   \n",
       "2   393.835240  440.70917  1096.1488  634.36890   568.96075   591.53920   \n",
       "3    44.604267  794.06335  2358.5027  663.01220   757.42084  3496.48400   \n",
       "4   176.134580  284.57736  1291.4895  505.92578  1592.64980   151.43918   \n",
       "\n",
       "           26  Class  \n",
       "0   343.93466      1  \n",
       "1   483.91727      1  \n",
       "2  9152.49700      1  \n",
       "3  4767.00630      1  \n",
       "4   317.40497      1  \n",
       "\n",
       "[5 rows x 28 columns]"
      ]
     },
     "metadata": {},
     "output_type": "display_data"
    }
   ],
   "source": [
    "d = pd.read_csv('C:/Users/jingy/Jupyter/Crime/Road/CDI_Based/Intensity/CSV/Optical_Mag.csv',index_col=0)\n",
    "d.Class[d['Class']==1] = -1\n",
    "d.Class[d['Class'] == 0] = 1\n",
    "display(d.head())"
   ]
  },
  {
   "cell_type": "code",
   "execution_count": 3,
   "metadata": {
    "ExecuteTime": {
     "end_time": "2020-09-15T16:50:51.040202Z",
     "start_time": "2020-09-15T16:50:51.012162Z"
    }
   },
   "outputs": [],
   "source": [
    "data = d\n",
    "mask = (data['Class'] == 1)\n",
    "\n",
    "X_train, X_test = train_test_split(data[mask], test_size=0.2, random_state=0)\n",
    "X_train = X_train.drop(['Class'], axis=1)\n",
    "X_test = X_test.drop(['Class'], axis=1)\n",
    "X_fraud = data[~mask].drop(['Class'], axis=1)\n",
    "\n",
    "x_test=np.vstack((X_test,X_fraud))\n",
    "y_test=[1]*len(X_test)+[-1]*len(X_fraud)\n",
    "\n",
    "std =StandardScaler()\n",
    "X_train=std.fit_transform(X_train)\n",
    "x_test=std.transform(x_test)\n"
   ]
  },
  {
   "cell_type": "code",
   "execution_count": 4,
   "metadata": {
    "ExecuteTime": {
     "end_time": "2020-09-15T16:50:51.071482Z",
     "start_time": "2020-09-15T16:50:51.042149Z"
    }
   },
   "outputs": [
    {
     "name": "stdout",
     "output_type": "stream",
     "text": [
      "0.75177304964539\n",
      "              precision    recall  f1-score   support\n",
      "\n",
      "          -1       0.79      0.88      0.84       101\n",
      "           1       0.59      0.42      0.49        40\n",
      "\n",
      "    accuracy                           0.75       141\n",
      "   macro avg       0.69      0.65      0.66       141\n",
      "weighted avg       0.74      0.75      0.74       141\n",
      "\n"
     ]
    }
   ],
   "source": [
    "clf = svm.OneClassSVM(kernel='rbf',nu=0.6)  \n",
    "clf.fit(X_train)  \n",
    "\n",
    "y_pred = clf.predict(x_test)  \n",
    "y_prob = clf.decision_function(x_test)  # the lower, the more normal\n",
    "\n",
    "fpr,tpr,threshold_svc = metrics.roc_curve(y_test,y_prob)     \n",
    "auc_svc = metrics.auc(fpr,tpr)   \n",
    "\n",
    "precision, recall, _ = precision_recall_curve(y_test,y_prob)\n",
    "pr_auc = auc(recall, precision)\n",
    "\n",
    "score_svc = metrics.accuracy_score(y_test,y_pred)\n",
    "\n",
    "print(score_svc)\n",
    "print(classification_report(y_test, y_pred))"
   ]
  },
  {
   "cell_type": "code",
   "execution_count": 5,
   "metadata": {
    "ExecuteTime": {
     "end_time": "2020-09-15T16:50:51.354581Z",
     "start_time": "2020-09-15T16:50:51.073479Z"
    }
   },
   "outputs": [
    {
     "data": {
      "image/png": "[encoded data removed]",
      "text/plain": [
       "<Figure size 1008x432 with 2 Axes>"
      ]
     },
     "metadata": {},
     "output_type": "display_data"
    }
   ],
   "source": [
    "plt.figure(figsize=(14, 6))\n",
    "plt.subplot(121)\n",
    "#plt.figure(figsize=(14, 6))\n",
    "plt.title('Receiver Operating Characteristic \\nAUC = %0.2f'% auc_svc)   \n",
    "plt.plot(fpr, tpr, c='coral', lw=3)\n",
    "plt.plot([0,1],[0,1], c='dodgerblue', ls='--')\n",
    "plt.ylabel('TPR'); plt.xlabel('FPR')\n",
    "\n",
    "plt.subplot(122)\n",
    "plt.title('Precision-Recall curve based on \\nAUC = %0.2f'% pr_auc)\n",
    "plt.plot(recall[:-2], precision[:-2], c='coral', lw=3)\n",
    "plt.xlabel('Recall'); plt.ylabel('Precision')\n",
    "plt.show()"
   ]
  },
  {
   "cell_type": "code",
   "execution_count": null,
   "metadata": {},
   "outputs": [],
   "source": []
  }
 ],
 "metadata": {
  "kernelspec": {
   "display_name": "Python [conda env:crowd] *",
   "language": "python",
   "name": "conda-env-crowd-py"
  },
  "language_info": {
   "codemirror_mode": {
    "name": "ipython",
    "version": 3
   },
   "file_extension": ".py",
   "mimetype": "text/x-python",
   "name": "python",
   "nbconvert_exporter": "python",
   "pygments_lexer": "ipython3",
   "version": "3.8.3"
  },
  "toc": {
   "base_numbering": 1,
   "nav_menu": {},
   "number_sections": true,
   "sideBar": true,
   "skip_h1_title": false,
   "title_cell": "Table of Contents",
   "title_sidebar": "Contents",
   "toc_cell": false,
   "toc_position": {},
   "toc_section_display": true,
   "toc_window_display": false
  }
 },
 "nbformat": 4,
 "nbformat_minor": 4
}
