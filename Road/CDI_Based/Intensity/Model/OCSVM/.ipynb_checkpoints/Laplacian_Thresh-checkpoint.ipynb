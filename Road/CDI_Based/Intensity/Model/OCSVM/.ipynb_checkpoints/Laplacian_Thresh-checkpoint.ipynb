{
 "cells": [
  {
   "cell_type": "code",
   "execution_count": 16,
   "metadata": {
    "ExecuteTime": {
     "end_time": "2020-09-15T17:13:32.186124Z",
     "start_time": "2020-09-15T17:13:32.174157Z"
    }
   },
   "outputs": [],
   "source": [
    "import numpy as np  \n",
    "import matplotlib.pyplot as plt  \n",
    "import matplotlib.font_manager  \n",
    "import pandas as pd\n",
    "from sklearn import svm  \n",
    "from sklearn.model_selection import train_test_split\n",
    "from sklearn.preprocessing import StandardScaler,MinMaxScaler\n",
    "from sklearn import metrics\n",
    "from sklearn.metrics import roc_curve, auc, precision_recall_curve,confusion_matrix,classification_report\n",
    "plt.style.use('seaborn')"
   ]
  },
  {
   "cell_type": "code",
   "execution_count": 17,
   "metadata": {
    "ExecuteTime": {
     "end_time": "2020-09-15T17:13:32.263915Z",
     "start_time": "2020-09-15T17:13:32.233032Z"
    }
   },
   "outputs": [
    {
     "data": {
      "text/html": [
       "<div>\n",
       "<style scoped>\n",
       "    .dataframe tbody tr th:only-of-type {\n",
       "        vertical-align: middle;\n",
       "    }\n",
       "\n",
       "    .dataframe tbody tr th {\n",
       "        vertical-align: top;\n",
       "    }\n",
       "\n",
       "    .dataframe thead th {\n",
       "        text-align: right;\n",
       "    }\n",
       "</style>\n",
       "<table border=\"1\" class=\"dataframe\">\n",
       "  <thead>\n",
       "    <tr style=\"text-align: right;\">\n",
       "      <th></th>\n",
       "      <th>0</th>\n",
       "      <th>1</th>\n",
       "      <th>2</th>\n",
       "      <th>3</th>\n",
       "      <th>4</th>\n",
       "      <th>5</th>\n",
       "      <th>6</th>\n",
       "      <th>7</th>\n",
       "      <th>8</th>\n",
       "      <th>9</th>\n",
       "      <th>...</th>\n",
       "      <th>19</th>\n",
       "      <th>20</th>\n",
       "      <th>21</th>\n",
       "      <th>22</th>\n",
       "      <th>23</th>\n",
       "      <th>24</th>\n",
       "      <th>25</th>\n",
       "      <th>26</th>\n",
       "      <th>27</th>\n",
       "      <th>Class</th>\n",
       "    </tr>\n",
       "  </thead>\n",
       "  <tbody>\n",
       "    <tr>\n",
       "      <th>0</th>\n",
       "      <td>218535</td>\n",
       "      <td>263415</td>\n",
       "      <td>228225</td>\n",
       "      <td>167025</td>\n",
       "      <td>111690</td>\n",
       "      <td>98175</td>\n",
       "      <td>134895</td>\n",
       "      <td>107100</td>\n",
       "      <td>83895</td>\n",
       "      <td>344505</td>\n",
       "      <td>...</td>\n",
       "      <td>107610</td>\n",
       "      <td>48195</td>\n",
       "      <td>72165</td>\n",
       "      <td>1675095</td>\n",
       "      <td>924120</td>\n",
       "      <td>217260</td>\n",
       "      <td>154785</td>\n",
       "      <td>161670</td>\n",
       "      <td>180540</td>\n",
       "      <td>1</td>\n",
       "    </tr>\n",
       "    <tr>\n",
       "      <th>1</th>\n",
       "      <td>763980</td>\n",
       "      <td>1062075</td>\n",
       "      <td>1083240</td>\n",
       "      <td>798405</td>\n",
       "      <td>941970</td>\n",
       "      <td>919785</td>\n",
       "      <td>387600</td>\n",
       "      <td>445995</td>\n",
       "      <td>489855</td>\n",
       "      <td>374850</td>\n",
       "      <td>...</td>\n",
       "      <td>340425</td>\n",
       "      <td>384285</td>\n",
       "      <td>341955</td>\n",
       "      <td>493935</td>\n",
       "      <td>370260</td>\n",
       "      <td>282540</td>\n",
       "      <td>387855</td>\n",
       "      <td>286110</td>\n",
       "      <td>261120</td>\n",
       "      <td>1</td>\n",
       "    </tr>\n",
       "    <tr>\n",
       "      <th>2</th>\n",
       "      <td>3030675</td>\n",
       "      <td>2944995</td>\n",
       "      <td>3269100</td>\n",
       "      <td>3486615</td>\n",
       "      <td>3661800</td>\n",
       "      <td>3644715</td>\n",
       "      <td>3258390</td>\n",
       "      <td>2977635</td>\n",
       "      <td>3288225</td>\n",
       "      <td>3724275</td>\n",
       "      <td>...</td>\n",
       "      <td>3330045</td>\n",
       "      <td>2167245</td>\n",
       "      <td>1841355</td>\n",
       "      <td>2659650</td>\n",
       "      <td>3837495</td>\n",
       "      <td>2828970</td>\n",
       "      <td>1811775</td>\n",
       "      <td>1934175</td>\n",
       "      <td>2877675</td>\n",
       "      <td>1</td>\n",
       "    </tr>\n",
       "    <tr>\n",
       "      <th>3</th>\n",
       "      <td>2416635</td>\n",
       "      <td>2022150</td>\n",
       "      <td>3387165</td>\n",
       "      <td>3057960</td>\n",
       "      <td>1956360</td>\n",
       "      <td>901680</td>\n",
       "      <td>837675</td>\n",
       "      <td>1635060</td>\n",
       "      <td>1680960</td>\n",
       "      <td>571965</td>\n",
       "      <td>...</td>\n",
       "      <td>589305</td>\n",
       "      <td>80325</td>\n",
       "      <td>54570</td>\n",
       "      <td>1420095</td>\n",
       "      <td>1612110</td>\n",
       "      <td>971550</td>\n",
       "      <td>370260</td>\n",
       "      <td>352920</td>\n",
       "      <td>252960</td>\n",
       "      <td>1</td>\n",
       "    </tr>\n",
       "    <tr>\n",
       "      <th>4</th>\n",
       "      <td>2656845</td>\n",
       "      <td>2857275</td>\n",
       "      <td>2366910</td>\n",
       "      <td>1902555</td>\n",
       "      <td>1536885</td>\n",
       "      <td>1220175</td>\n",
       "      <td>785910</td>\n",
       "      <td>831045</td>\n",
       "      <td>2013225</td>\n",
       "      <td>1589925</td>\n",
       "      <td>...</td>\n",
       "      <td>965940</td>\n",
       "      <td>1072020</td>\n",
       "      <td>980220</td>\n",
       "      <td>1380570</td>\n",
       "      <td>2193510</td>\n",
       "      <td>1810755</td>\n",
       "      <td>1552185</td>\n",
       "      <td>966705</td>\n",
       "      <td>736440</td>\n",
       "      <td>1</td>\n",
       "    </tr>\n",
       "  </tbody>\n",
       "</table>\n",
       "<p>5 rows × 29 columns</p>\n",
       "</div>"
      ],
      "text/plain": [
       "         0        1        2        3        4        5        6        7  \\\n",
       "0   218535   263415   228225   167025   111690    98175   134895   107100   \n",
       "1   763980  1062075  1083240   798405   941970   919785   387600   445995   \n",
       "2  3030675  2944995  3269100  3486615  3661800  3644715  3258390  2977635   \n",
       "3  2416635  2022150  3387165  3057960  1956360   901680   837675  1635060   \n",
       "4  2656845  2857275  2366910  1902555  1536885  1220175   785910   831045   \n",
       "\n",
       "         8        9  ...       19       20       21       22       23  \\\n",
       "0    83895   344505  ...   107610    48195    72165  1675095   924120   \n",
       "1   489855   374850  ...   340425   384285   341955   493935   370260   \n",
       "2  3288225  3724275  ...  3330045  2167245  1841355  2659650  3837495   \n",
       "3  1680960   571965  ...   589305    80325    54570  1420095  1612110   \n",
       "4  2013225  1589925  ...   965940  1072020   980220  1380570  2193510   \n",
       "\n",
       "        24       25       26       27  Class  \n",
       "0   217260   154785   161670   180540      1  \n",
       "1   282540   387855   286110   261120      1  \n",
       "2  2828970  1811775  1934175  2877675      1  \n",
       "3   971550   370260   352920   252960      1  \n",
       "4  1810755  1552185   966705   736440      1  \n",
       "\n",
       "[5 rows x 29 columns]"
      ]
     },
     "metadata": {},
     "output_type": "display_data"
    }
   ],
   "source": [
    "d = pd.read_csv('C:/Users/jingy/Jupyter/Crime/Road/CDI_Based/Intensity/CSV/Laplacian_No_Filter.csv',index_col=0)\n",
    "d.Class[d['Class']==1] = -1\n",
    "d.Class[d['Class'] == 0] = 1\n",
    "display(d.head())"
   ]
  },
  {
   "cell_type": "code",
   "execution_count": 18,
   "metadata": {
    "ExecuteTime": {
     "end_time": "2020-09-15T17:13:32.279874Z",
     "start_time": "2020-09-15T17:13:32.265911Z"
    }
   },
   "outputs": [],
   "source": [
    "data = d\n",
    "mask = (data['Class'] == 1)\n",
    "\n",
    "X_train, X_test = train_test_split(data[mask], test_size=0.2, random_state=2)\n",
    "X_train = X_train.drop(['Class'], axis=1)\n",
    "X_test = X_test.drop(['Class'], axis=1)\n",
    "X_fraud = data[~mask].drop(['Class'], axis=1)\n",
    "\n",
    "x_test=np.vstack((X_test,X_fraud))\n",
    "y_test=[1]*len(X_test)+[-1]*len(X_fraud)\n",
    "\n",
    "std =StandardScaler()\n",
    "X_train=std.fit_transform(X_train)\n",
    "x_test=std.transform(x_test)\n"
   ]
  },
  {
   "cell_type": "code",
   "execution_count": 19,
   "metadata": {
    "ExecuteTime": {
     "end_time": "2020-09-15T17:13:32.295833Z",
     "start_time": "2020-09-15T17:13:32.281869Z"
    }
   },
   "outputs": [
    {
     "name": "stdout",
     "output_type": "stream",
     "text": [
      "0.7021276595744681\n",
      "              precision    recall  f1-score   support\n",
      "\n",
      "          -1       0.76      0.85      0.80       101\n",
      "           1       0.46      0.33      0.38        40\n",
      "\n",
      "    accuracy                           0.70       141\n",
      "   macro avg       0.61      0.59      0.59       141\n",
      "weighted avg       0.68      0.70      0.68       141\n",
      "\n"
     ]
    }
   ],
   "source": [
    "clf = svm.OneClassSVM(kernel='rbf',nu=0.6)  \n",
    "clf.fit(X_train)  \n",
    "\n",
    "y_pred = clf.predict(x_test)  \n",
    "y_prob = clf.decision_function(x_test)  # the lower, the more normal\n",
    "\n",
    "fpr,tpr,threshold_svc = metrics.roc_curve(y_test,y_prob)     \n",
    "auc_svc = metrics.auc(fpr,tpr)   \n",
    "\n",
    "precision, recall, _ = precision_recall_curve(y_test,y_prob)\n",
    "pr_auc = auc(recall, precision)\n",
    "\n",
    "score_svc = metrics.accuracy_score(y_test,y_pred)\n",
    "\n",
    "print(score_svc)\n",
    "print(classification_report(y_test, y_pred))"
   ]
  },
  {
   "cell_type": "code",
   "execution_count": 20,
   "metadata": {
    "ExecuteTime": {
     "end_time": "2020-09-15T17:13:32.327811Z",
     "start_time": "2020-09-15T17:13:32.297826Z"
    }
   },
   "outputs": [
    {
     "name": "stderr",
     "output_type": "stream",
     "text": [
      "<ipython-input-20-d46e5107568c>:13: UserWarning: Matplotlib is currently using agg, which is a non-GUI backend, so cannot show the figure.\n",
      "  plt.show()\n"
     ]
    }
   ],
   "source": [
    "plt.figure(figsize=(14, 6))\n",
    "plt.subplot(121)\n",
    "#plt.figure(figsize=(14, 6))\n",
    "plt.title('Receiver Operating Characteristic \\nAUC = %0.2f'% auc_svc)   \n",
    "plt.plot(fpr, tpr, c='coral', lw=3)\n",
    "plt.plot([0,1],[0,1], c='dodgerblue', ls='--')\n",
    "plt.ylabel('TPR'); plt.xlabel('FPR')\n",
    "\n",
    "plt.subplot(122)\n",
    "plt.title('Precision-Recall curve based on \\nAUC = %0.2f'% pr_auc)\n",
    "plt.plot(recall[:-2], precision[:-2], c='coral', lw=3)\n",
    "plt.xlabel('Recall'); plt.ylabel('Precision')\n",
    "plt.show()"
   ]
  },
  {
   "cell_type": "code",
   "execution_count": null,
   "metadata": {},
   "outputs": [],
   "source": []
  }
 ],
 "metadata": {
  "kernelspec": {
   "display_name": "Python [conda env:crowd] *",
   "language": "python",
   "name": "conda-env-crowd-py"
  },
  "language_info": {
   "codemirror_mode": {
    "name": "ipython",
    "version": 3
   },
   "file_extension": ".py",
   "mimetype": "text/x-python",
   "name": "python",
   "nbconvert_exporter": "python",
   "pygments_lexer": "ipython3",
   "version": "3.8.3"
  },
  "toc": {
   "base_numbering": 1,
   "nav_menu": {},
   "number_sections": true,
   "sideBar": true,
   "skip_h1_title": false,
   "title_cell": "Table of Contents",
   "title_sidebar": "Contents",
   "toc_cell": false,
   "toc_position": {},
   "toc_section_display": true,
   "toc_window_display": false
  }
 },
 "nbformat": 4,
 "nbformat_minor": 4
}
