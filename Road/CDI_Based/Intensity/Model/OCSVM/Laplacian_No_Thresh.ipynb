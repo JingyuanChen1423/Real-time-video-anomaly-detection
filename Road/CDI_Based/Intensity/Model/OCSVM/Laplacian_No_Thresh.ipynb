{
 "cells": [
  {
   "cell_type": "code",
   "execution_count": 12,
   "metadata": {
    "ExecuteTime": {
     "end_time": "2020-09-15T17:13:29.998188Z",
     "start_time": "2020-09-15T17:13:29.987217Z"
    }
   },
   "outputs": [],
   "source": [
    "import numpy as np  \n",
    "import matplotlib.pyplot as plt  \n",
    "import matplotlib.font_manager  \n",
    "import pandas as pd\n",
    "from sklearn import svm  \n",
    "from sklearn.model_selection import train_test_split\n",
    "from sklearn.preprocessing import StandardScaler,MinMaxScaler\n",
    "from sklearn import metrics\n",
    "from sklearn.metrics import roc_curve, auc, precision_recall_curve,confusion_matrix,classification_report\n",
    "plt.style.use('seaborn')"
   ]
  },
  {
   "cell_type": "code",
   "execution_count": 13,
   "metadata": {
    "ExecuteTime": {
     "end_time": "2020-09-15T17:13:30.028108Z",
     "start_time": "2020-09-15T17:13:29.999217Z"
    }
   },
   "outputs": [
    {
     "data": {
      "text/html": [
       "<div>\n",
       "<style scoped>\n",
       "    .dataframe tbody tr th:only-of-type {\n",
       "        vertical-align: middle;\n",
       "    }\n",
       "\n",
       "    .dataframe tbody tr th {\n",
       "        vertical-align: top;\n",
       "    }\n",
       "\n",
       "    .dataframe thead th {\n",
       "        text-align: right;\n",
       "    }\n",
       "</style>\n",
       "<table border=\"1\" class=\"dataframe\">\n",
       "  <thead>\n",
       "    <tr style=\"text-align: right;\">\n",
       "      <th></th>\n",
       "      <th>0</th>\n",
       "      <th>1</th>\n",
       "      <th>2</th>\n",
       "      <th>3</th>\n",
       "      <th>4</th>\n",
       "      <th>5</th>\n",
       "      <th>6</th>\n",
       "      <th>7</th>\n",
       "      <th>8</th>\n",
       "      <th>9</th>\n",
       "      <th>...</th>\n",
       "      <th>19</th>\n",
       "      <th>20</th>\n",
       "      <th>21</th>\n",
       "      <th>22</th>\n",
       "      <th>23</th>\n",
       "      <th>24</th>\n",
       "      <th>25</th>\n",
       "      <th>26</th>\n",
       "      <th>27</th>\n",
       "      <th>Class</th>\n",
       "    </tr>\n",
       "  </thead>\n",
       "  <tbody>\n",
       "    <tr>\n",
       "      <th>0</th>\n",
       "      <td>1074</td>\n",
       "      <td>1321</td>\n",
       "      <td>1119</td>\n",
       "      <td>1017</td>\n",
       "      <td>641</td>\n",
       "      <td>516</td>\n",
       "      <td>739</td>\n",
       "      <td>488</td>\n",
       "      <td>528</td>\n",
       "      <td>2001</td>\n",
       "      <td>...</td>\n",
       "      <td>487</td>\n",
       "      <td>215</td>\n",
       "      <td>398</td>\n",
       "      <td>8972</td>\n",
       "      <td>4795</td>\n",
       "      <td>1125</td>\n",
       "      <td>893</td>\n",
       "      <td>1120</td>\n",
       "      <td>1040</td>\n",
       "      <td>1</td>\n",
       "    </tr>\n",
       "    <tr>\n",
       "      <th>1</th>\n",
       "      <td>7576</td>\n",
       "      <td>10171</td>\n",
       "      <td>10343</td>\n",
       "      <td>8763</td>\n",
       "      <td>9941</td>\n",
       "      <td>9413</td>\n",
       "      <td>5300</td>\n",
       "      <td>6376</td>\n",
       "      <td>5899</td>\n",
       "      <td>5800</td>\n",
       "      <td>...</td>\n",
       "      <td>7131</td>\n",
       "      <td>6631</td>\n",
       "      <td>6397</td>\n",
       "      <td>8175</td>\n",
       "      <td>8018</td>\n",
       "      <td>6910</td>\n",
       "      <td>7164</td>\n",
       "      <td>5510</td>\n",
       "      <td>6540</td>\n",
       "      <td>1</td>\n",
       "    </tr>\n",
       "    <tr>\n",
       "      <th>2</th>\n",
       "      <td>53278</td>\n",
       "      <td>53234</td>\n",
       "      <td>69372</td>\n",
       "      <td>72007</td>\n",
       "      <td>75511</td>\n",
       "      <td>73747</td>\n",
       "      <td>70448</td>\n",
       "      <td>62495</td>\n",
       "      <td>43791</td>\n",
       "      <td>45607</td>\n",
       "      <td>...</td>\n",
       "      <td>40124</td>\n",
       "      <td>28053</td>\n",
       "      <td>26904</td>\n",
       "      <td>33205</td>\n",
       "      <td>43384</td>\n",
       "      <td>31893</td>\n",
       "      <td>25258</td>\n",
       "      <td>35229</td>\n",
       "      <td>63726</td>\n",
       "      <td>1</td>\n",
       "    </tr>\n",
       "    <tr>\n",
       "      <th>3</th>\n",
       "      <td>17785</td>\n",
       "      <td>13114</td>\n",
       "      <td>62713</td>\n",
       "      <td>62284</td>\n",
       "      <td>15054</td>\n",
       "      <td>5559</td>\n",
       "      <td>5506</td>\n",
       "      <td>51215</td>\n",
       "      <td>54895</td>\n",
       "      <td>4182</td>\n",
       "      <td>...</td>\n",
       "      <td>4634</td>\n",
       "      <td>597</td>\n",
       "      <td>385</td>\n",
       "      <td>55820</td>\n",
       "      <td>57752</td>\n",
       "      <td>46603</td>\n",
       "      <td>2946</td>\n",
       "      <td>2824</td>\n",
       "      <td>1888</td>\n",
       "      <td>1</td>\n",
       "    </tr>\n",
       "    <tr>\n",
       "      <th>4</th>\n",
       "      <td>27003</td>\n",
       "      <td>27613</td>\n",
       "      <td>20871</td>\n",
       "      <td>18814</td>\n",
       "      <td>16686</td>\n",
       "      <td>11882</td>\n",
       "      <td>10807</td>\n",
       "      <td>15429</td>\n",
       "      <td>22022</td>\n",
       "      <td>17655</td>\n",
       "      <td>...</td>\n",
       "      <td>16114</td>\n",
       "      <td>15777</td>\n",
       "      <td>15620</td>\n",
       "      <td>19524</td>\n",
       "      <td>25247</td>\n",
       "      <td>22502</td>\n",
       "      <td>20136</td>\n",
       "      <td>13621</td>\n",
       "      <td>15005</td>\n",
       "      <td>1</td>\n",
       "    </tr>\n",
       "  </tbody>\n",
       "</table>\n",
       "<p>5 rows × 29 columns</p>\n",
       "</div>"
      ],
      "text/plain": [
       "       0      1      2      3      4      5      6      7      8      9  ...  \\\n",
       "0   1074   1321   1119   1017    641    516    739    488    528   2001  ...   \n",
       "1   7576  10171  10343   8763   9941   9413   5300   6376   5899   5800  ...   \n",
       "2  53278  53234  69372  72007  75511  73747  70448  62495  43791  45607  ...   \n",
       "3  17785  13114  62713  62284  15054   5559   5506  51215  54895   4182  ...   \n",
       "4  27003  27613  20871  18814  16686  11882  10807  15429  22022  17655  ...   \n",
       "\n",
       "      19     20     21     22     23     24     25     26     27  Class  \n",
       "0    487    215    398   8972   4795   1125    893   1120   1040      1  \n",
       "1   7131   6631   6397   8175   8018   6910   7164   5510   6540      1  \n",
       "2  40124  28053  26904  33205  43384  31893  25258  35229  63726      1  \n",
       "3   4634    597    385  55820  57752  46603   2946   2824   1888      1  \n",
       "4  16114  15777  15620  19524  25247  22502  20136  13621  15005      1  \n",
       "\n",
       "[5 rows x 29 columns]"
      ]
     },
     "metadata": {},
     "output_type": "display_data"
    }
   ],
   "source": [
    "d = pd.read_csv('C:/Users/jingy/Jupyter/Crime/Road/CDI_Based/Intensity/CSV/Laplacian_With_Filter.csv',index_col=0)\n",
    "d.Class[d['Class']==1] = -1\n",
    "d.Class[d['Class'] == 0] = 1\n",
    "display(d.head())"
   ]
  },
  {
   "cell_type": "code",
   "execution_count": 14,
   "metadata": {
    "ExecuteTime": {
     "end_time": "2020-09-15T17:13:30.044065Z",
     "start_time": "2020-09-15T17:13:30.030104Z"
    }
   },
   "outputs": [],
   "source": [
    "data = d\n",
    "mask = (data['Class'] == 1)\n",
    "\n",
    "X_train, X_test = train_test_split(data[mask], test_size=0.2, random_state=2)\n",
    "X_train = X_train.drop(['Class'], axis=1)\n",
    "X_test = X_test.drop(['Class'], axis=1)\n",
    "X_fraud = data[~mask].drop(['Class'], axis=1)\n",
    "\n",
    "x_test=np.vstack((X_test,X_fraud))\n",
    "y_test=[1]*len(X_test)+[-1]*len(X_fraud)\n",
    "\n",
    "std =StandardScaler()\n",
    "X_train=std.fit_transform(X_train)\n",
    "x_test=std.transform(x_test)\n"
   ]
  },
  {
   "cell_type": "code",
   "execution_count": 15,
   "metadata": {
    "ExecuteTime": {
     "end_time": "2020-09-15T17:13:30.074988Z",
     "start_time": "2020-09-15T17:13:30.047058Z"
    }
   },
   "outputs": [
    {
     "name": "stdout",
     "output_type": "stream",
     "text": [
      "0.6524822695035462\n",
      "              precision    recall  f1-score   support\n",
      "\n",
      "          -1       0.74      0.79      0.77       101\n",
      "           1       0.36      0.30      0.33        40\n",
      "\n",
      "    accuracy                           0.65       141\n",
      "   macro avg       0.55      0.55      0.55       141\n",
      "weighted avg       0.63      0.65      0.64       141\n",
      "\n"
     ]
    }
   ],
   "source": [
    "clf = svm.OneClassSVM(kernel='rbf',nu=0.6)  \n",
    "clf.fit(X_train)  \n",
    "\n",
    "y_pred = clf.predict(x_test)  \n",
    "y_prob = clf.decision_function(x_test)  # the lower, the more normal\n",
    "\n",
    "fpr,tpr,threshold_svc = metrics.roc_curve(y_test,y_prob)     \n",
    "auc_svc = metrics.auc(fpr,tpr)   \n",
    "\n",
    "precision, recall, _ = precision_recall_curve(y_test,y_prob)\n",
    "pr_auc = auc(recall, precision)\n",
    "\n",
    "score_svc = metrics.accuracy_score(y_test,y_pred)\n",
    "\n",
    "print(score_svc)\n",
    "print(classification_report(y_test, y_pred))"
   ]
  },
  {
   "cell_type": "code",
   "execution_count": 16,
   "metadata": {
    "ExecuteTime": {
     "end_time": "2020-09-15T17:13:30.327018Z",
     "start_time": "2020-09-15T17:13:30.078008Z"
    }
   },
   "outputs": [
    {
     "data": {
      "image/png": "[encoded data removed]",
      "text/plain": [
       "<Figure size 1008x432 with 2 Axes>"
      ]
     },
     "metadata": {},
     "output_type": "display_data"
    }
   ],
   "source": [
    "plt.figure(figsize=(14, 6))\n",
    "plt.subplot(121)\n",
    "#plt.figure(figsize=(14, 6))\n",
    "plt.title('Receiver Operating Characteristic \\nAUC = %0.2f'% auc_svc)   \n",
    "plt.plot(fpr, tpr, c='coral', lw=3)\n",
    "plt.plot([0,1],[0,1], c='dodgerblue', ls='--')\n",
    "plt.ylabel('TPR'); plt.xlabel('FPR')\n",
    "\n",
    "plt.subplot(122)\n",
    "plt.title('Precision-Recall curve based on \\nAUC = %0.2f'% pr_auc)\n",
    "plt.plot(recall[:-2], precision[:-2], c='coral', lw=3)\n",
    "plt.xlabel('Recall'); plt.ylabel('Precision')\n",
    "plt.show()"
   ]
  },
  {
   "cell_type": "code",
   "execution_count": null,
   "metadata": {},
   "outputs": [],
   "source": []
  }
 ],
 "metadata": {
  "kernelspec": {
   "display_name": "Python [conda env:crowd] *",
   "language": "python",
   "name": "conda-env-crowd-py"
  },
  "language_info": {
   "codemirror_mode": {
    "name": "ipython",
    "version": 3
   },
   "file_extension": ".py",
   "mimetype": "text/x-python",
   "name": "python",
   "nbconvert_exporter": "python",
   "pygments_lexer": "ipython3",
   "version": "3.8.3"
  },
  "toc": {
   "base_numbering": 1,
   "nav_menu": {},
   "number_sections": true,
   "sideBar": true,
   "skip_h1_title": false,
   "title_cell": "Table of Contents",
   "title_sidebar": "Contents",
   "toc_cell": false,
   "toc_position": {},
   "toc_section_display": true,
   "toc_window_display": false
  }
 },
 "nbformat": 4,
 "nbformat_minor": 4
}
