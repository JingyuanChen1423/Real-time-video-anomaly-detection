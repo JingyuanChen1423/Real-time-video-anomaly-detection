{
 "cells": [
  {
   "cell_type": "code",
   "execution_count": 6,
   "metadata": {
    "ExecuteTime": {
     "end_time": "2020-09-18T18:34:14.483907Z",
     "start_time": "2020-09-18T18:34:14.474923Z"
    }
   },
   "outputs": [],
   "source": [
    "import numpy as np  \n",
    "import matplotlib.pyplot as plt  \n",
    "import matplotlib.font_manager  \n",
    "import pandas as pd\n",
    "from sklearn import svm  \n",
    "from sklearn.model_selection import train_test_split\n",
    "from sklearn.preprocessing import StandardScaler,MinMaxScaler\n",
    "from sklearn import metrics\n",
    "from sklearn.metrics import roc_curve, auc, precision_recall_curve,confusion_matrix,classification_report\n",
    "plt.style.use('seaborn')"
   ]
  },
  {
   "cell_type": "code",
   "execution_count": 7,
   "metadata": {
    "ExecuteTime": {
     "end_time": "2020-09-18T18:34:14.530772Z",
     "start_time": "2020-09-18T18:34:14.485894Z"
    }
   },
   "outputs": [
    {
     "name": "stderr",
     "output_type": "stream",
     "text": [
      "<ipython-input-7-b7f3764a6b2d>:2: SettingWithCopyWarning: \n",
      "A value is trying to be set on a copy of a slice from a DataFrame\n",
      "\n",
      "See the caveats in the documentation: https://pandas.pydata.org/pandas-docs/stable/user_guide/indexing.html#returning-a-view-versus-a-copy\n",
      "  d.Class[d['Class']==1] = -1\n",
      "<ipython-input-7-b7f3764a6b2d>:3: SettingWithCopyWarning: \n",
      "A value is trying to be set on a copy of a slice from a DataFrame\n",
      "\n",
      "See the caveats in the documentation: https://pandas.pydata.org/pandas-docs/stable/user_guide/indexing.html#returning-a-view-versus-a-copy\n",
      "  d.Class[d['Class'] == 0] = 1\n"
     ]
    },
    {
     "data": {
      "text/html": [
       "<div>\n",
       "<style scoped>\n",
       "    .dataframe tbody tr th:only-of-type {\n",
       "        vertical-align: middle;\n",
       "    }\n",
       "\n",
       "    .dataframe tbody tr th {\n",
       "        vertical-align: top;\n",
       "    }\n",
       "\n",
       "    .dataframe thead th {\n",
       "        text-align: right;\n",
       "    }\n",
       "</style>\n",
       "<table border=\"1\" class=\"dataframe\">\n",
       "  <thead>\n",
       "    <tr style=\"text-align: right;\">\n",
       "      <th></th>\n",
       "      <th>0</th>\n",
       "      <th>1</th>\n",
       "      <th>2</th>\n",
       "      <th>3</th>\n",
       "      <th>4</th>\n",
       "      <th>5</th>\n",
       "      <th>6</th>\n",
       "      <th>7</th>\n",
       "      <th>8</th>\n",
       "      <th>9</th>\n",
       "      <th>...</th>\n",
       "      <th>18</th>\n",
       "      <th>19</th>\n",
       "      <th>20</th>\n",
       "      <th>21</th>\n",
       "      <th>22</th>\n",
       "      <th>23</th>\n",
       "      <th>24</th>\n",
       "      <th>25</th>\n",
       "      <th>26</th>\n",
       "      <th>Class</th>\n",
       "    </tr>\n",
       "  </thead>\n",
       "  <tbody>\n",
       "    <tr>\n",
       "      <th>0</th>\n",
       "      <td>586.76105</td>\n",
       "      <td>570.88837</td>\n",
       "      <td>629.165200</td>\n",
       "      <td>746.37870</td>\n",
       "      <td>466.95877</td>\n",
       "      <td>649.67650</td>\n",
       "      <td>402.60876</td>\n",
       "      <td>516.51040</td>\n",
       "      <td>609.10840</td>\n",
       "      <td>368.98330</td>\n",
       "      <td>...</td>\n",
       "      <td>247.69357</td>\n",
       "      <td>227.145510</td>\n",
       "      <td>218.513820</td>\n",
       "      <td>230.525900</td>\n",
       "      <td>1273.88810</td>\n",
       "      <td>514.76480</td>\n",
       "      <td>413.46637</td>\n",
       "      <td>512.99720</td>\n",
       "      <td>796.40045</td>\n",
       "      <td>1</td>\n",
       "    </tr>\n",
       "    <tr>\n",
       "      <th>1</th>\n",
       "      <td>1487.08200</td>\n",
       "      <td>1482.38800</td>\n",
       "      <td>1221.876500</td>\n",
       "      <td>1487.72390</td>\n",
       "      <td>1682.68050</td>\n",
       "      <td>1135.69380</td>\n",
       "      <td>969.54770</td>\n",
       "      <td>1131.09940</td>\n",
       "      <td>1065.94470</td>\n",
       "      <td>1057.59640</td>\n",
       "      <td>...</td>\n",
       "      <td>820.69340</td>\n",
       "      <td>1010.535770</td>\n",
       "      <td>1073.447300</td>\n",
       "      <td>1230.768200</td>\n",
       "      <td>1961.50560</td>\n",
       "      <td>925.31274</td>\n",
       "      <td>855.35930</td>\n",
       "      <td>1132.36540</td>\n",
       "      <td>919.54300</td>\n",
       "      <td>1</td>\n",
       "    </tr>\n",
       "    <tr>\n",
       "      <th>2</th>\n",
       "      <td>3997.08640</td>\n",
       "      <td>4725.29440</td>\n",
       "      <td>2437.333000</td>\n",
       "      <td>2418.62100</td>\n",
       "      <td>2322.39800</td>\n",
       "      <td>2069.42750</td>\n",
       "      <td>2468.61330</td>\n",
       "      <td>1780.41320</td>\n",
       "      <td>1530.24220</td>\n",
       "      <td>1308.26530</td>\n",
       "      <td>...</td>\n",
       "      <td>1101.30200</td>\n",
       "      <td>1289.206000</td>\n",
       "      <td>1427.282000</td>\n",
       "      <td>1021.977050</td>\n",
       "      <td>1281.87680</td>\n",
       "      <td>904.46893</td>\n",
       "      <td>667.50560</td>\n",
       "      <td>561.97450</td>\n",
       "      <td>860.41034</td>\n",
       "      <td>1</td>\n",
       "    </tr>\n",
       "    <tr>\n",
       "      <th>3</th>\n",
       "      <td>627.12085</td>\n",
       "      <td>236.43054</td>\n",
       "      <td>233.085770</td>\n",
       "      <td>587.63470</td>\n",
       "      <td>345.72708</td>\n",
       "      <td>296.34213</td>\n",
       "      <td>574.97205</td>\n",
       "      <td>246.12138</td>\n",
       "      <td>194.81125</td>\n",
       "      <td>632.93740</td>\n",
       "      <td>...</td>\n",
       "      <td>578.80237</td>\n",
       "      <td>151.095630</td>\n",
       "      <td>160.488170</td>\n",
       "      <td>541.474060</td>\n",
       "      <td>1093.96780</td>\n",
       "      <td>182.53750</td>\n",
       "      <td>469.53372</td>\n",
       "      <td>203.77255</td>\n",
       "      <td>296.88330</td>\n",
       "      <td>1</td>\n",
       "    </tr>\n",
       "    <tr>\n",
       "      <th>4</th>\n",
       "      <td>219.91739</td>\n",
       "      <td>146.82297</td>\n",
       "      <td>110.280876</td>\n",
       "      <td>179.04475</td>\n",
       "      <td>194.71243</td>\n",
       "      <td>153.23369</td>\n",
       "      <td>198.42319</td>\n",
       "      <td>133.17293</td>\n",
       "      <td>148.48108</td>\n",
       "      <td>149.94809</td>\n",
       "      <td>...</td>\n",
       "      <td>95.28019</td>\n",
       "      <td>75.054344</td>\n",
       "      <td>70.148544</td>\n",
       "      <td>106.647766</td>\n",
       "      <td>851.65466</td>\n",
       "      <td>100.52083</td>\n",
       "      <td>99.84924</td>\n",
       "      <td>131.67190</td>\n",
       "      <td>81.38464</td>\n",
       "      <td>1</td>\n",
       "    </tr>\n",
       "  </tbody>\n",
       "</table>\n",
       "<p>5 rows × 28 columns</p>\n",
       "</div>"
      ],
      "text/plain": [
       "            0           1            2           3           4           5  \\\n",
       "0   586.76105   570.88837   629.165200   746.37870   466.95877   649.67650   \n",
       "1  1487.08200  1482.38800  1221.876500  1487.72390  1682.68050  1135.69380   \n",
       "2  3997.08640  4725.29440  2437.333000  2418.62100  2322.39800  2069.42750   \n",
       "3   627.12085   236.43054   233.085770   587.63470   345.72708   296.34213   \n",
       "4   219.91739   146.82297   110.280876   179.04475   194.71243   153.23369   \n",
       "\n",
       "            6           7           8           9  ...          18  \\\n",
       "0   402.60876   516.51040   609.10840   368.98330  ...   247.69357   \n",
       "1   969.54770  1131.09940  1065.94470  1057.59640  ...   820.69340   \n",
       "2  2468.61330  1780.41320  1530.24220  1308.26530  ...  1101.30200   \n",
       "3   574.97205   246.12138   194.81125   632.93740  ...   578.80237   \n",
       "4   198.42319   133.17293   148.48108   149.94809  ...    95.28019   \n",
       "\n",
       "            19           20           21          22         23         24  \\\n",
       "0   227.145510   218.513820   230.525900  1273.88810  514.76480  413.46637   \n",
       "1  1010.535770  1073.447300  1230.768200  1961.50560  925.31274  855.35930   \n",
       "2  1289.206000  1427.282000  1021.977050  1281.87680  904.46893  667.50560   \n",
       "3   151.095630   160.488170   541.474060  1093.96780  182.53750  469.53372   \n",
       "4    75.054344    70.148544   106.647766   851.65466  100.52083   99.84924   \n",
       "\n",
       "           25         26  Class  \n",
       "0   512.99720  796.40045      1  \n",
       "1  1132.36540  919.54300      1  \n",
       "2   561.97450  860.41034      1  \n",
       "3   203.77255  296.88330      1  \n",
       "4   131.67190   81.38464      1  \n",
       "\n",
       "[5 rows x 28 columns]"
      ]
     },
     "metadata": {},
     "output_type": "display_data"
    }
   ],
   "source": [
    "d = pd.read_csv('C:/Users/jingy/Jupyter/Crime/Theft/CDI_Based/Intensity/CSV/Optical_Mag.csv',index_col=0)\n",
    "d.Class[d['Class']==1] = -1\n",
    "d.Class[d['Class'] == 0] = 1\n",
    "display(d.head())"
   ]
  },
  {
   "cell_type": "code",
   "execution_count": 8,
   "metadata": {
    "ExecuteTime": {
     "end_time": "2020-09-18T18:34:14.561736Z",
     "start_time": "2020-09-18T18:34:14.532800Z"
    }
   },
   "outputs": [],
   "source": [
    "data = d\n",
    "mask = (data['Class'] == 1)\n",
    "\n",
    "X_train, X_test = train_test_split(data[mask], test_size=0.2, random_state=0)\n",
    "X_train = X_train.drop(['Class'], axis=1)\n",
    "X_test = X_test.drop(['Class'], axis=1)\n",
    "X_fraud = data[~mask].drop(['Class'], axis=1)\n",
    "\n",
    "x_test=np.vstack((X_test,X_fraud))\n",
    "y_test=[1]*len(X_test)+[-1]*len(X_fraud)\n",
    "\n",
    "std =StandardScaler()\n",
    "X_train=std.fit_transform(X_train)\n",
    "x_test=std.transform(x_test)\n"
   ]
  },
  {
   "cell_type": "code",
   "execution_count": 9,
   "metadata": {
    "ExecuteTime": {
     "end_time": "2020-09-18T18:34:14.577626Z",
     "start_time": "2020-09-18T18:34:14.563663Z"
    }
   },
   "outputs": [
    {
     "name": "stdout",
     "output_type": "stream",
     "text": [
      "0.8618421052631579\n",
      "              precision    recall  f1-score   support\n",
      "\n",
      "          -1       0.88      0.97      0.92       123\n",
      "           1       0.75      0.41      0.53        29\n",
      "\n",
      "    accuracy                           0.86       152\n",
      "   macro avg       0.81      0.69      0.73       152\n",
      "weighted avg       0.85      0.86      0.85       152\n",
      "\n"
     ]
    }
   ],
   "source": [
    "clf = svm.OneClassSVM(kernel='rbf',nu=0.6)  \n",
    "clf.fit(X_train)  \n",
    "\n",
    "y_pred = clf.predict(x_test)  \n",
    "y_prob = clf.decision_function(x_test)  # the lower, the more normal\n",
    "\n",
    "fpr,tpr,threshold_svc = metrics.roc_curve(y_test,y_prob)     \n",
    "auc_svc = metrics.auc(fpr,tpr)   \n",
    "\n",
    "precision, recall, _ = precision_recall_curve(y_test,y_prob)\n",
    "pr_auc = auc(recall, precision)\n",
    "\n",
    "score_svc = metrics.accuracy_score(y_test,y_pred)\n",
    "\n",
    "print(score_svc)\n",
    "print(classification_report(y_test, y_pred))"
   ]
  },
  {
   "cell_type": "code",
   "execution_count": 10,
   "metadata": {
    "ExecuteTime": {
     "end_time": "2020-09-18T18:34:14.824286Z",
     "start_time": "2020-09-18T18:34:14.578657Z"
    }
   },
   "outputs": [
    {
     "data": {
      "image/png": "[encoded data removed]",
      "text/plain": [
       "<Figure size 1008x432 with 2 Axes>"
      ]
     },
     "metadata": {},
     "output_type": "display_data"
    }
   ],
   "source": [
    "plt.figure(figsize=(14, 6))\n",
    "plt.subplot(121)\n",
    "#plt.figure(figsize=(14, 6))\n",
    "plt.title('Receiver Operating Characteristic \\nAUC = %0.2f'% auc_svc)   \n",
    "plt.plot(fpr, tpr, c='coral', lw=3)\n",
    "plt.plot([0,1],[0,1], c='dodgerblue', ls='--')\n",
    "plt.ylabel('TPR'); plt.xlabel('FPR')\n",
    "\n",
    "plt.subplot(122)\n",
    "plt.title('Precision-Recall curve based on \\nAUC = %0.2f'% pr_auc)\n",
    "plt.plot(recall[:-2], precision[:-2], c='coral', lw=3)\n",
    "plt.xlabel('Recall'); plt.ylabel('Precision')\n",
    "plt.show()"
   ]
  },
  {
   "cell_type": "code",
   "execution_count": null,
   "metadata": {},
   "outputs": [],
   "source": []
  }
 ],
 "metadata": {
  "kernelspec": {
   "display_name": "Python [conda env:crowd] *",
   "language": "python",
   "name": "conda-env-crowd-py"
  },
  "language_info": {
   "codemirror_mode": {
    "name": "ipython",
    "version": 3
   },
   "file_extension": ".py",
   "mimetype": "text/x-python",
   "name": "python",
   "nbconvert_exporter": "python",
   "pygments_lexer": "ipython3",
   "version": "3.8.3"
  },
  "toc": {
   "base_numbering": 1,
   "nav_menu": {},
   "number_sections": true,
   "sideBar": true,
   "skip_h1_title": false,
   "title_cell": "Table of Contents",
   "title_sidebar": "Contents",
   "toc_cell": false,
   "toc_position": {},
   "toc_section_display": true,
   "toc_window_display": false
  }
 },
 "nbformat": 4,
 "nbformat_minor": 4
}
