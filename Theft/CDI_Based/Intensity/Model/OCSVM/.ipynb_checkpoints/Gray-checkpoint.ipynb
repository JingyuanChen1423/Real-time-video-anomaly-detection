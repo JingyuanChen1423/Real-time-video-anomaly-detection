{
 "cells": [
  {
   "cell_type": "code",
   "execution_count": 17,
   "metadata": {
    "ExecuteTime": {
     "end_time": "2020-09-18T18:23:26.621337Z",
     "start_time": "2020-09-18T18:23:26.609346Z"
    }
   },
   "outputs": [],
   "source": [
    "import numpy as np  \n",
    "import matplotlib.pyplot as plt  \n",
    "import matplotlib.font_manager  \n",
    "import pandas as pd\n",
    "from sklearn import svm  \n",
    "from sklearn.model_selection import train_test_split\n",
    "from sklearn.preprocessing import StandardScaler,MinMaxScaler\n",
    "from sklearn import metrics\n",
    "from sklearn.metrics import roc_curve, auc, precision_recall_curve,confusion_matrix,classification_report\n",
    "plt.style.use('seaborn')"
   ]
  },
  {
   "cell_type": "code",
   "execution_count": 18,
   "metadata": {
    "ExecuteTime": {
     "end_time": "2020-09-18T18:23:26.652260Z",
     "start_time": "2020-09-18T18:23:26.624307Z"
    }
   },
   "outputs": [
    {
     "data": {
      "text/html": [
       "<div>\n",
       "<style scoped>\n",
       "    .dataframe tbody tr th:only-of-type {\n",
       "        vertical-align: middle;\n",
       "    }\n",
       "\n",
       "    .dataframe tbody tr th {\n",
       "        vertical-align: top;\n",
       "    }\n",
       "\n",
       "    .dataframe thead th {\n",
       "        text-align: right;\n",
       "    }\n",
       "</style>\n",
       "<table border=\"1\" class=\"dataframe\">\n",
       "  <thead>\n",
       "    <tr style=\"text-align: right;\">\n",
       "      <th></th>\n",
       "      <th>0</th>\n",
       "      <th>1</th>\n",
       "      <th>2</th>\n",
       "      <th>3</th>\n",
       "      <th>4</th>\n",
       "      <th>5</th>\n",
       "      <th>6</th>\n",
       "      <th>7</th>\n",
       "      <th>8</th>\n",
       "      <th>9</th>\n",
       "      <th>...</th>\n",
       "      <th>19</th>\n",
       "      <th>20</th>\n",
       "      <th>21</th>\n",
       "      <th>22</th>\n",
       "      <th>23</th>\n",
       "      <th>24</th>\n",
       "      <th>25</th>\n",
       "      <th>26</th>\n",
       "      <th>27</th>\n",
       "      <th>Class</th>\n",
       "    </tr>\n",
       "  </thead>\n",
       "  <tbody>\n",
       "    <tr>\n",
       "      <th>0</th>\n",
       "      <td>3702090</td>\n",
       "      <td>2739720</td>\n",
       "      <td>2854980</td>\n",
       "      <td>3068160</td>\n",
       "      <td>2649960</td>\n",
       "      <td>2485995</td>\n",
       "      <td>2292195</td>\n",
       "      <td>1809990</td>\n",
       "      <td>2019345</td>\n",
       "      <td>2029035</td>\n",
       "      <td>...</td>\n",
       "      <td>1352010</td>\n",
       "      <td>1405815</td>\n",
       "      <td>1255110</td>\n",
       "      <td>2045100</td>\n",
       "      <td>4018545</td>\n",
       "      <td>1769190</td>\n",
       "      <td>1391280</td>\n",
       "      <td>1431315</td>\n",
       "      <td>1565955</td>\n",
       "      <td>1</td>\n",
       "    </tr>\n",
       "    <tr>\n",
       "      <th>1</th>\n",
       "      <td>4819245</td>\n",
       "      <td>4985505</td>\n",
       "      <td>4026705</td>\n",
       "      <td>3560055</td>\n",
       "      <td>4313835</td>\n",
       "      <td>3674805</td>\n",
       "      <td>2872575</td>\n",
       "      <td>3439695</td>\n",
       "      <td>4167975</td>\n",
       "      <td>3625335</td>\n",
       "      <td>...</td>\n",
       "      <td>4057050</td>\n",
       "      <td>5041860</td>\n",
       "      <td>4095045</td>\n",
       "      <td>4891665</td>\n",
       "      <td>4077705</td>\n",
       "      <td>3265020</td>\n",
       "      <td>3961935</td>\n",
       "      <td>2515830</td>\n",
       "      <td>2644605</td>\n",
       "      <td>1</td>\n",
       "    </tr>\n",
       "    <tr>\n",
       "      <th>2</th>\n",
       "      <td>7851195</td>\n",
       "      <td>4989840</td>\n",
       "      <td>4395945</td>\n",
       "      <td>6646065</td>\n",
       "      <td>6017745</td>\n",
       "      <td>3166335</td>\n",
       "      <td>3502425</td>\n",
       "      <td>5639325</td>\n",
       "      <td>3554955</td>\n",
       "      <td>4317915</td>\n",
       "      <td>...</td>\n",
       "      <td>1700085</td>\n",
       "      <td>2575245</td>\n",
       "      <td>4141200</td>\n",
       "      <td>4669560</td>\n",
       "      <td>7806315</td>\n",
       "      <td>3707955</td>\n",
       "      <td>1455795</td>\n",
       "      <td>1919895</td>\n",
       "      <td>4278390</td>\n",
       "      <td>1</td>\n",
       "    </tr>\n",
       "    <tr>\n",
       "      <th>3</th>\n",
       "      <td>3223965</td>\n",
       "      <td>1369350</td>\n",
       "      <td>1163310</td>\n",
       "      <td>1288260</td>\n",
       "      <td>2551530</td>\n",
       "      <td>3422610</td>\n",
       "      <td>3066885</td>\n",
       "      <td>2726715</td>\n",
       "      <td>2315145</td>\n",
       "      <td>1997670</td>\n",
       "      <td>...</td>\n",
       "      <td>1544535</td>\n",
       "      <td>1584060</td>\n",
       "      <td>1582275</td>\n",
       "      <td>2380680</td>\n",
       "      <td>2619615</td>\n",
       "      <td>1415505</td>\n",
       "      <td>1608285</td>\n",
       "      <td>2062695</td>\n",
       "      <td>1886490</td>\n",
       "      <td>1</td>\n",
       "    </tr>\n",
       "    <tr>\n",
       "      <th>4</th>\n",
       "      <td>2728755</td>\n",
       "      <td>1524135</td>\n",
       "      <td>600525</td>\n",
       "      <td>733125</td>\n",
       "      <td>2108085</td>\n",
       "      <td>2439075</td>\n",
       "      <td>2296785</td>\n",
       "      <td>1847730</td>\n",
       "      <td>1401480</td>\n",
       "      <td>1156170</td>\n",
       "      <td>...</td>\n",
       "      <td>867000</td>\n",
       "      <td>817785</td>\n",
       "      <td>984555</td>\n",
       "      <td>2402355</td>\n",
       "      <td>2595390</td>\n",
       "      <td>1166880</td>\n",
       "      <td>961095</td>\n",
       "      <td>853740</td>\n",
       "      <td>777495</td>\n",
       "      <td>1</td>\n",
       "    </tr>\n",
       "  </tbody>\n",
       "</table>\n",
       "<p>5 rows × 29 columns</p>\n",
       "</div>"
      ],
      "text/plain": [
       "         0        1        2        3        4        5        6        7  \\\n",
       "0  3702090  2739720  2854980  3068160  2649960  2485995  2292195  1809990   \n",
       "1  4819245  4985505  4026705  3560055  4313835  3674805  2872575  3439695   \n",
       "2  7851195  4989840  4395945  6646065  6017745  3166335  3502425  5639325   \n",
       "3  3223965  1369350  1163310  1288260  2551530  3422610  3066885  2726715   \n",
       "4  2728755  1524135   600525   733125  2108085  2439075  2296785  1847730   \n",
       "\n",
       "         8        9  ...       19       20       21       22       23  \\\n",
       "0  2019345  2029035  ...  1352010  1405815  1255110  2045100  4018545   \n",
       "1  4167975  3625335  ...  4057050  5041860  4095045  4891665  4077705   \n",
       "2  3554955  4317915  ...  1700085  2575245  4141200  4669560  7806315   \n",
       "3  2315145  1997670  ...  1544535  1584060  1582275  2380680  2619615   \n",
       "4  1401480  1156170  ...   867000   817785   984555  2402355  2595390   \n",
       "\n",
       "        24       25       26       27  Class  \n",
       "0  1769190  1391280  1431315  1565955      1  \n",
       "1  3265020  3961935  2515830  2644605      1  \n",
       "2  3707955  1455795  1919895  4278390      1  \n",
       "3  1415505  1608285  2062695  1886490      1  \n",
       "4  1166880   961095   853740   777495      1  \n",
       "\n",
       "[5 rows x 29 columns]"
      ]
     },
     "metadata": {},
     "output_type": "display_data"
    }
   ],
   "source": [
    "d = pd.read_csv('C:/Users/jingy/Jupyter/Crime/Theft/CDI_Based/Intensity/CSV/Gray.csv',index_col=0)\n",
    "d.Class[d['Class']==1] = -1\n",
    "d.Class[d['Class'] == 0] = 1\n",
    "display(d.head())"
   ]
  },
  {
   "cell_type": "code",
   "execution_count": 19,
   "metadata": {
    "ExecuteTime": {
     "end_time": "2020-09-18T18:23:26.668188Z",
     "start_time": "2020-09-18T18:23:26.654226Z"
    }
   },
   "outputs": [],
   "source": [
    "data = d\n",
    "mask = (data['Class'] == 1)\n",
    "\n",
    "X_train, X_test = train_test_split(data[mask], test_size=0.2, random_state=0)\n",
    "X_train = X_train.drop(['Class'], axis=1)\n",
    "X_test = X_test.drop(['Class'], axis=1)\n",
    "X_nega = data[~mask].drop(['Class'], axis=1)\n",
    "\n",
    "x_test=np.vstack((X_test,X_nega))\n",
    "y_test=[1]*len(X_test)+[-1]*len(X_nega)"
   ]
  },
  {
   "cell_type": "code",
   "execution_count": 20,
   "metadata": {
    "ExecuteTime": {
     "end_time": "2020-09-18T18:23:26.699142Z",
     "start_time": "2020-09-18T18:23:26.672179Z"
    }
   },
   "outputs": [
    {
     "name": "stdout",
     "output_type": "stream",
     "text": [
      "0.7894736842105263\n",
      "              precision    recall  f1-score   support\n",
      "\n",
      "          -1       0.88      0.86      0.87       123\n",
      "           1       0.45      0.48      0.47        29\n",
      "\n",
      "    accuracy                           0.79       152\n",
      "   macro avg       0.66      0.67      0.67       152\n",
      "weighted avg       0.80      0.79      0.79       152\n",
      "\n"
     ]
    }
   ],
   "source": [
    "clf = svm.OneClassSVM(kernel='rbf',nu=0.6)  \n",
    "clf.fit(X_train)  \n",
    "\n",
    "y_pred = clf.predict(x_test)  \n",
    "y_prob = clf.decision_function(x_test)  # the lower, the more normal\n",
    "\n",
    "fpr,tpr,threshold_svc = metrics.roc_curve(y_test,y_prob)     \n",
    "auc_svc = metrics.auc(fpr,tpr)   \n",
    "\n",
    "precision, recall, _ = precision_recall_curve(y_test,y_prob)\n",
    "pr_auc = auc(recall, precision)\n",
    "\n",
    "score_svc = metrics.accuracy_score(y_test,y_pred)\n",
    "\n",
    "print(score_svc)\n",
    "print(classification_report(y_test, y_pred))"
   ]
  },
  {
   "cell_type": "code",
   "execution_count": 21,
   "metadata": {
    "ExecuteTime": {
     "end_time": "2020-09-18T18:23:26.998818Z",
     "start_time": "2020-09-18T18:23:26.701125Z"
    }
   },
   "outputs": [
    {
     "data": {
      "image/png": "[encoded data removed]",
      "text/plain": [
       "<Figure size 1008x432 with 2 Axes>"
      ]
     },
     "metadata": {},
     "output_type": "display_data"
    }
   ],
   "source": [
    "plt.figure(figsize=(14, 6))\n",
    "plt.subplot(121)\n",
    "#plt.figure(figsize=(14, 6))\n",
    "plt.title('Receiver Operating Characteristic \\nAUC = %0.2f'% auc_svc)   \n",
    "plt.plot(fpr, tpr, c='coral', lw=3)\n",
    "plt.plot([0,1],[0,1], c='dodgerblue', ls='--')\n",
    "plt.ylabel('TPR'); plt.xlabel('FPR')\n",
    "\n",
    "plt.subplot(122)\n",
    "plt.title('Precision-Recall curve based on \\nAUC = %0.2f'% pr_auc)\n",
    "plt.plot(recall[:-2], precision[:-2], c='coral', lw=3)\n",
    "plt.xlabel('Recall'); plt.ylabel('Precision')\n",
    "plt.show()"
   ]
  },
  {
   "cell_type": "code",
   "execution_count": null,
   "metadata": {},
   "outputs": [],
   "source": []
  }
 ],
 "metadata": {
  "kernelspec": {
   "display_name": "Python [conda env:crowd] *",
   "language": "python",
   "name": "conda-env-crowd-py"
  },
  "language_info": {
   "codemirror_mode": {
    "name": "ipython",
    "version": 3
   },
   "file_extension": ".py",
   "mimetype": "text/x-python",
   "name": "python",
   "nbconvert_exporter": "python",
   "pygments_lexer": "ipython3",
   "version": "3.8.3"
  },
  "toc": {
   "base_numbering": 1,
   "nav_menu": {},
   "number_sections": true,
   "sideBar": true,
   "skip_h1_title": false,
   "title_cell": "Table of Contents",
   "title_sidebar": "Contents",
   "toc_cell": false,
   "toc_position": {},
   "toc_section_display": true,
   "toc_window_display": false
  }
 },
 "nbformat": 4,
 "nbformat_minor": 4
}
