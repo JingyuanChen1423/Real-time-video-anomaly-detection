{
 "cells": [
  {
   "cell_type": "code",
   "execution_count": 1,
   "metadata": {
    "ExecuteTime": {
     "end_time": "2020-09-18T18:30:34.721809Z",
     "start_time": "2020-09-18T18:30:32.335323Z"
    }
   },
   "outputs": [],
   "source": [
    "import numpy as np  \n",
    "import matplotlib.pyplot as plt  \n",
    "import matplotlib.font_manager  \n",
    "import pandas as pd\n",
    "from sklearn import svm  \n",
    "from sklearn.model_selection import train_test_split\n",
    "from sklearn.preprocessing import StandardScaler,MinMaxScaler\n",
    "from sklearn import metrics\n",
    "from sklearn.metrics import roc_curve, auc, precision_recall_curve,confusion_matrix,classification_report\n",
    "plt.style.use('seaborn')"
   ]
  },
  {
   "cell_type": "code",
   "execution_count": 2,
   "metadata": {
    "ExecuteTime": {
     "end_time": "2020-09-18T18:30:34.767705Z",
     "start_time": "2020-09-18T18:30:34.724786Z"
    }
   },
   "outputs": [
    {
     "data": {
      "text/html": [
       "<div>\n",
       "<style scoped>\n",
       "    .dataframe tbody tr th:only-of-type {\n",
       "        vertical-align: middle;\n",
       "    }\n",
       "\n",
       "    .dataframe tbody tr th {\n",
       "        vertical-align: top;\n",
       "    }\n",
       "\n",
       "    .dataframe thead th {\n",
       "        text-align: right;\n",
       "    }\n",
       "</style>\n",
       "<table border=\"1\" class=\"dataframe\">\n",
       "  <thead>\n",
       "    <tr style=\"text-align: right;\">\n",
       "      <th></th>\n",
       "      <th>0</th>\n",
       "      <th>1</th>\n",
       "      <th>2</th>\n",
       "      <th>3</th>\n",
       "      <th>4</th>\n",
       "      <th>5</th>\n",
       "      <th>6</th>\n",
       "      <th>7</th>\n",
       "      <th>8</th>\n",
       "      <th>9</th>\n",
       "      <th>...</th>\n",
       "      <th>19</th>\n",
       "      <th>20</th>\n",
       "      <th>21</th>\n",
       "      <th>22</th>\n",
       "      <th>23</th>\n",
       "      <th>24</th>\n",
       "      <th>25</th>\n",
       "      <th>26</th>\n",
       "      <th>27</th>\n",
       "      <th>Class</th>\n",
       "    </tr>\n",
       "  </thead>\n",
       "  <tbody>\n",
       "    <tr>\n",
       "      <th>0</th>\n",
       "      <td>110160</td>\n",
       "      <td>106845</td>\n",
       "      <td>110415</td>\n",
       "      <td>108375</td>\n",
       "      <td>182835</td>\n",
       "      <td>149175</td>\n",
       "      <td>107355</td>\n",
       "      <td>82110</td>\n",
       "      <td>107100</td>\n",
       "      <td>48450</td>\n",
       "      <td>...</td>\n",
       "      <td>48195</td>\n",
       "      <td>58395</td>\n",
       "      <td>52785</td>\n",
       "      <td>82110</td>\n",
       "      <td>100470</td>\n",
       "      <td>68085</td>\n",
       "      <td>63750</td>\n",
       "      <td>76500</td>\n",
       "      <td>64260</td>\n",
       "      <td>1</td>\n",
       "    </tr>\n",
       "    <tr>\n",
       "      <th>1</th>\n",
       "      <td>159630</td>\n",
       "      <td>184365</td>\n",
       "      <td>178755</td>\n",
       "      <td>190230</td>\n",
       "      <td>198645</td>\n",
       "      <td>147645</td>\n",
       "      <td>147135</td>\n",
       "      <td>151215</td>\n",
       "      <td>183600</td>\n",
       "      <td>148410</td>\n",
       "      <td>...</td>\n",
       "      <td>123675</td>\n",
       "      <td>167025</td>\n",
       "      <td>159630</td>\n",
       "      <td>188445</td>\n",
       "      <td>169575</td>\n",
       "      <td>120615</td>\n",
       "      <td>128775</td>\n",
       "      <td>109650</td>\n",
       "      <td>128775</td>\n",
       "      <td>1</td>\n",
       "    </tr>\n",
       "    <tr>\n",
       "      <th>2</th>\n",
       "      <td>327930</td>\n",
       "      <td>202215</td>\n",
       "      <td>208080</td>\n",
       "      <td>259335</td>\n",
       "      <td>216495</td>\n",
       "      <td>157590</td>\n",
       "      <td>193290</td>\n",
       "      <td>264435</td>\n",
       "      <td>154530</td>\n",
       "      <td>135150</td>\n",
       "      <td>...</td>\n",
       "      <td>62985</td>\n",
       "      <td>84915</td>\n",
       "      <td>104040</td>\n",
       "      <td>113730</td>\n",
       "      <td>280500</td>\n",
       "      <td>110160</td>\n",
       "      <td>51510</td>\n",
       "      <td>53295</td>\n",
       "      <td>107610</td>\n",
       "      <td>1</td>\n",
       "    </tr>\n",
       "    <tr>\n",
       "      <th>3</th>\n",
       "      <td>68850</td>\n",
       "      <td>39015</td>\n",
       "      <td>35190</td>\n",
       "      <td>25245</td>\n",
       "      <td>65280</td>\n",
       "      <td>85425</td>\n",
       "      <td>81090</td>\n",
       "      <td>59670</td>\n",
       "      <td>70890</td>\n",
       "      <td>42075</td>\n",
       "      <td>...</td>\n",
       "      <td>51765</td>\n",
       "      <td>71910</td>\n",
       "      <td>57630</td>\n",
       "      <td>70890</td>\n",
       "      <td>66810</td>\n",
       "      <td>51510</td>\n",
       "      <td>48195</td>\n",
       "      <td>53040</td>\n",
       "      <td>56355</td>\n",
       "      <td>1</td>\n",
       "    </tr>\n",
       "    <tr>\n",
       "      <th>4</th>\n",
       "      <td>128265</td>\n",
       "      <td>60180</td>\n",
       "      <td>28560</td>\n",
       "      <td>22695</td>\n",
       "      <td>79050</td>\n",
       "      <td>93840</td>\n",
       "      <td>70890</td>\n",
       "      <td>60180</td>\n",
       "      <td>34680</td>\n",
       "      <td>33150</td>\n",
       "      <td>...</td>\n",
       "      <td>20400</td>\n",
       "      <td>31620</td>\n",
       "      <td>24225</td>\n",
       "      <td>47430</td>\n",
       "      <td>60435</td>\n",
       "      <td>30600</td>\n",
       "      <td>22695</td>\n",
       "      <td>31875</td>\n",
       "      <td>20145</td>\n",
       "      <td>1</td>\n",
       "    </tr>\n",
       "  </tbody>\n",
       "</table>\n",
       "<p>5 rows × 29 columns</p>\n",
       "</div>"
      ],
      "text/plain": [
       "        0       1       2       3       4       5       6       7       8  \\\n",
       "0  110160  106845  110415  108375  182835  149175  107355   82110  107100   \n",
       "1  159630  184365  178755  190230  198645  147645  147135  151215  183600   \n",
       "2  327930  202215  208080  259335  216495  157590  193290  264435  154530   \n",
       "3   68850   39015   35190   25245   65280   85425   81090   59670   70890   \n",
       "4  128265   60180   28560   22695   79050   93840   70890   60180   34680   \n",
       "\n",
       "        9  ...      19      20      21      22      23      24      25  \\\n",
       "0   48450  ...   48195   58395   52785   82110  100470   68085   63750   \n",
       "1  148410  ...  123675  167025  159630  188445  169575  120615  128775   \n",
       "2  135150  ...   62985   84915  104040  113730  280500  110160   51510   \n",
       "3   42075  ...   51765   71910   57630   70890   66810   51510   48195   \n",
       "4   33150  ...   20400   31620   24225   47430   60435   30600   22695   \n",
       "\n",
       "       26      27  Class  \n",
       "0   76500   64260      1  \n",
       "1  109650  128775      1  \n",
       "2   53295  107610      1  \n",
       "3   53040   56355      1  \n",
       "4   31875   20145      1  \n",
       "\n",
       "[5 rows x 29 columns]"
      ]
     },
     "metadata": {},
     "output_type": "display_data"
    }
   ],
   "source": [
    "d = pd.read_csv('C:/Users/jingy/Jupyter/Crime/Theft/CDI_Based/Intensity/CSV/Canny_No_Filter.csv',index_col=0)\n",
    "d.Class[d['Class']==1] = -1\n",
    "d.Class[d['Class'] == 0] = 1\n",
    "display(d.head())"
   ]
  },
  {
   "cell_type": "code",
   "execution_count": 3,
   "metadata": {
    "ExecuteTime": {
     "end_time": "2020-09-18T18:30:34.798664Z",
     "start_time": "2020-09-18T18:30:34.770692Z"
    }
   },
   "outputs": [],
   "source": [
    "data = d\n",
    "mask = (data['Class'] == 1)\n",
    "\n",
    "X_train, X_test = train_test_split(data[mask], test_size=0.2, random_state=0)\n",
    "X_train = X_train.drop(['Class'], axis=1)\n",
    "X_test = X_test.drop(['Class'], axis=1)\n",
    "X_fraud = data[~mask].drop(['Class'], axis=1)\n",
    "\n",
    "x_test=np.vstack((X_test,X_fraud))\n",
    "y_test=[1]*len(X_test)+[-1]*len(X_fraud)\n",
    "\n",
    "std =StandardScaler()\n",
    "X_train=std.fit_transform(X_train)\n",
    "x_test=std.transform(x_test)\n"
   ]
  },
  {
   "cell_type": "code",
   "execution_count": 4,
   "metadata": {
    "ExecuteTime": {
     "end_time": "2020-09-18T18:30:34.829588Z",
     "start_time": "2020-09-18T18:30:34.802660Z"
    }
   },
   "outputs": [
    {
     "name": "stdout",
     "output_type": "stream",
     "text": [
      "0.8223684210526315\n",
      "              precision    recall  f1-score   support\n",
      "\n",
      "          -1       0.90      0.88      0.89       123\n",
      "           1       0.53      0.59      0.56        29\n",
      "\n",
      "    accuracy                           0.82       152\n",
      "   macro avg       0.72      0.73      0.72       152\n",
      "weighted avg       0.83      0.82      0.83       152\n",
      "\n"
     ]
    }
   ],
   "source": [
    "clf = svm.OneClassSVM(kernel='rbf',nu=0.6)  \n",
    "clf.fit(X_train)  \n",
    "\n",
    "y_pred = clf.predict(x_test)  \n",
    "y_prob = clf.decision_function(x_test)  # the lower, the more normal\n",
    "\n",
    "fpr,tpr,threshold_svc = metrics.roc_curve(y_test,y_prob)     \n",
    "auc_svc = metrics.auc(fpr,tpr)   \n",
    "\n",
    "precision, recall, _ = precision_recall_curve(y_test,y_prob)\n",
    "pr_auc = auc(recall, precision)\n",
    "\n",
    "score_svc = metrics.accuracy_score(y_test,y_pred)\n",
    "\n",
    "print(score_svc)\n",
    "print(classification_report(y_test, y_pred))"
   ]
  },
  {
   "cell_type": "code",
   "execution_count": 5,
   "metadata": {
    "ExecuteTime": {
     "end_time": "2020-09-18T18:30:35.128813Z",
     "start_time": "2020-09-18T18:30:34.832629Z"
    }
   },
   "outputs": [
    {
     "data": {
      "image/png": "[encoded data removed]",
      "text/plain": [
       "<Figure size 1008x432 with 2 Axes>"
      ]
     },
     "metadata": {},
     "output_type": "display_data"
    }
   ],
   "source": [
    "plt.figure(figsize=(14, 6))\n",
    "plt.subplot(121)\n",
    "#plt.figure(figsize=(14, 6))\n",
    "plt.title('Receiver Operating Characteristic \\nAUC = %0.2f'% auc_svc)   \n",
    "plt.plot(fpr, tpr, c='coral', lw=3)\n",
    "plt.plot([0,1],[0,1], c='dodgerblue', ls='--')\n",
    "plt.ylabel('TPR'); plt.xlabel('FPR')\n",
    "\n",
    "plt.subplot(122)\n",
    "plt.title('Precision-Recall curve based on \\nAUC = %0.2f'% pr_auc)\n",
    "plt.plot(recall[:-2], precision[:-2], c='coral', lw=3)\n",
    "plt.xlabel('Recall'); plt.ylabel('Precision')\n",
    "plt.show()"
   ]
  },
  {
   "cell_type": "code",
   "execution_count": null,
   "metadata": {},
   "outputs": [],
   "source": []
  }
 ],
 "metadata": {
  "kernelspec": {
   "display_name": "Python [conda env:crowd] *",
   "language": "python",
   "name": "conda-env-crowd-py"
  },
  "language_info": {
   "codemirror_mode": {
    "name": "ipython",
    "version": 3
   },
   "file_extension": ".py",
   "mimetype": "text/x-python",
   "name": "python",
   "nbconvert_exporter": "python",
   "pygments_lexer": "ipython3",
   "version": "3.8.3"
  },
  "toc": {
   "base_numbering": 1,
   "nav_menu": {},
   "number_sections": true,
   "sideBar": true,
   "skip_h1_title": false,
   "title_cell": "Table of Contents",
   "title_sidebar": "Contents",
   "toc_cell": false,
   "toc_position": {},
   "toc_section_display": true,
   "toc_window_display": false
  }
 },
 "nbformat": 4,
 "nbformat_minor": 4
}
