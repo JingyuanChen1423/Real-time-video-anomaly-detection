{
 "cells": [
  {
   "cell_type": "code",
   "execution_count": 11,
   "metadata": {
    "ExecuteTime": {
     "end_time": "2020-09-18T18:39:02.808420Z",
     "start_time": "2020-09-18T18:39:02.789462Z"
    }
   },
   "outputs": [],
   "source": [
    "import numpy as np  \n",
    "import matplotlib.pyplot as plt  \n",
    "import matplotlib.font_manager  \n",
    "import pandas as pd\n",
    "from sklearn import svm  \n",
    "from sklearn.model_selection import train_test_split\n",
    "from sklearn.preprocessing import StandardScaler,MinMaxScaler\n",
    "from sklearn import metrics\n",
    "from sklearn.metrics import roc_curve, auc, precision_recall_curve,confusion_matrix,classification_report\n",
    "plt.style.use('seaborn')"
   ]
  },
  {
   "cell_type": "code",
   "execution_count": 12,
   "metadata": {
    "ExecuteTime": {
     "end_time": "2020-09-18T18:39:02.840328Z",
     "start_time": "2020-09-18T18:39:02.810408Z"
    }
   },
   "outputs": [
    {
     "data": {
      "text/html": [
       "<div>\n",
       "<style scoped>\n",
       "    .dataframe tbody tr th:only-of-type {\n",
       "        vertical-align: middle;\n",
       "    }\n",
       "\n",
       "    .dataframe tbody tr th {\n",
       "        vertical-align: top;\n",
       "    }\n",
       "\n",
       "    .dataframe thead th {\n",
       "        text-align: right;\n",
       "    }\n",
       "</style>\n",
       "<table border=\"1\" class=\"dataframe\">\n",
       "  <thead>\n",
       "    <tr style=\"text-align: right;\">\n",
       "      <th></th>\n",
       "      <th>0</th>\n",
       "      <th>1</th>\n",
       "      <th>2</th>\n",
       "      <th>3</th>\n",
       "      <th>4</th>\n",
       "      <th>5</th>\n",
       "      <th>6</th>\n",
       "      <th>7</th>\n",
       "      <th>8</th>\n",
       "      <th>9</th>\n",
       "      <th>...</th>\n",
       "      <th>19</th>\n",
       "      <th>20</th>\n",
       "      <th>21</th>\n",
       "      <th>22</th>\n",
       "      <th>23</th>\n",
       "      <th>24</th>\n",
       "      <th>25</th>\n",
       "      <th>26</th>\n",
       "      <th>27</th>\n",
       "      <th>Class</th>\n",
       "    </tr>\n",
       "  </thead>\n",
       "  <tbody>\n",
       "    <tr>\n",
       "      <th>0</th>\n",
       "      <td>37208</td>\n",
       "      <td>27523</td>\n",
       "      <td>29267</td>\n",
       "      <td>28191</td>\n",
       "      <td>25634</td>\n",
       "      <td>23761</td>\n",
       "      <td>20077</td>\n",
       "      <td>16766</td>\n",
       "      <td>18566</td>\n",
       "      <td>17725</td>\n",
       "      <td>...</td>\n",
       "      <td>15095</td>\n",
       "      <td>15266</td>\n",
       "      <td>13690</td>\n",
       "      <td>18737</td>\n",
       "      <td>36712</td>\n",
       "      <td>20046</td>\n",
       "      <td>18186</td>\n",
       "      <td>18757</td>\n",
       "      <td>20919</td>\n",
       "      <td>1</td>\n",
       "    </tr>\n",
       "    <tr>\n",
       "      <th>1</th>\n",
       "      <td>40946</td>\n",
       "      <td>40271</td>\n",
       "      <td>34884</td>\n",
       "      <td>38205</td>\n",
       "      <td>47269</td>\n",
       "      <td>31681</td>\n",
       "      <td>27444</td>\n",
       "      <td>31777</td>\n",
       "      <td>34207</td>\n",
       "      <td>30239</td>\n",
       "      <td>...</td>\n",
       "      <td>32130</td>\n",
       "      <td>41666</td>\n",
       "      <td>32158</td>\n",
       "      <td>39627</td>\n",
       "      <td>38028</td>\n",
       "      <td>28537</td>\n",
       "      <td>33103</td>\n",
       "      <td>20589</td>\n",
       "      <td>24352</td>\n",
       "      <td>1</td>\n",
       "    </tr>\n",
       "    <tr>\n",
       "      <th>2</th>\n",
       "      <td>64645</td>\n",
       "      <td>43410</td>\n",
       "      <td>42101</td>\n",
       "      <td>54628</td>\n",
       "      <td>49504</td>\n",
       "      <td>32717</td>\n",
       "      <td>34553</td>\n",
       "      <td>42646</td>\n",
       "      <td>30434</td>\n",
       "      <td>29159</td>\n",
       "      <td>...</td>\n",
       "      <td>13557</td>\n",
       "      <td>17819</td>\n",
       "      <td>26003</td>\n",
       "      <td>29021</td>\n",
       "      <td>58100</td>\n",
       "      <td>23590</td>\n",
       "      <td>10961</td>\n",
       "      <td>13159</td>\n",
       "      <td>24743</td>\n",
       "      <td>1</td>\n",
       "    </tr>\n",
       "    <tr>\n",
       "      <th>3</th>\n",
       "      <td>27571</td>\n",
       "      <td>13720</td>\n",
       "      <td>14127</td>\n",
       "      <td>13369</td>\n",
       "      <td>24089</td>\n",
       "      <td>33179</td>\n",
       "      <td>27421</td>\n",
       "      <td>24685</td>\n",
       "      <td>23695</td>\n",
       "      <td>19929</td>\n",
       "      <td>...</td>\n",
       "      <td>17001</td>\n",
       "      <td>19606</td>\n",
       "      <td>17652</td>\n",
       "      <td>22545</td>\n",
       "      <td>27734</td>\n",
       "      <td>16455</td>\n",
       "      <td>18121</td>\n",
       "      <td>24482</td>\n",
       "      <td>19792</td>\n",
       "      <td>1</td>\n",
       "    </tr>\n",
       "    <tr>\n",
       "      <th>4</th>\n",
       "      <td>21140</td>\n",
       "      <td>12649</td>\n",
       "      <td>5324</td>\n",
       "      <td>6083</td>\n",
       "      <td>16993</td>\n",
       "      <td>20555</td>\n",
       "      <td>19698</td>\n",
       "      <td>16037</td>\n",
       "      <td>12156</td>\n",
       "      <td>10699</td>\n",
       "      <td>...</td>\n",
       "      <td>9169</td>\n",
       "      <td>8933</td>\n",
       "      <td>10656</td>\n",
       "      <td>19450</td>\n",
       "      <td>21212</td>\n",
       "      <td>11611</td>\n",
       "      <td>10744</td>\n",
       "      <td>9760</td>\n",
       "      <td>8479</td>\n",
       "      <td>1</td>\n",
       "    </tr>\n",
       "  </tbody>\n",
       "</table>\n",
       "<p>5 rows × 29 columns</p>\n",
       "</div>"
      ],
      "text/plain": [
       "       0      1      2      3      4      5      6      7      8      9  ...  \\\n",
       "0  37208  27523  29267  28191  25634  23761  20077  16766  18566  17725  ...   \n",
       "1  40946  40271  34884  38205  47269  31681  27444  31777  34207  30239  ...   \n",
       "2  64645  43410  42101  54628  49504  32717  34553  42646  30434  29159  ...   \n",
       "3  27571  13720  14127  13369  24089  33179  27421  24685  23695  19929  ...   \n",
       "4  21140  12649   5324   6083  16993  20555  19698  16037  12156  10699  ...   \n",
       "\n",
       "      19     20     21     22     23     24     25     26     27  Class  \n",
       "0  15095  15266  13690  18737  36712  20046  18186  18757  20919      1  \n",
       "1  32130  41666  32158  39627  38028  28537  33103  20589  24352      1  \n",
       "2  13557  17819  26003  29021  58100  23590  10961  13159  24743      1  \n",
       "3  17001  19606  17652  22545  27734  16455  18121  24482  19792      1  \n",
       "4   9169   8933  10656  19450  21212  11611  10744   9760   8479      1  \n",
       "\n",
       "[5 rows x 29 columns]"
      ]
     },
     "metadata": {},
     "output_type": "display_data"
    }
   ],
   "source": [
    "d = pd.read_csv('C:/Users/jingy/Jupyter/Crime/Theft/CDI_Based/Intensity/CSV/Laplacian_With_Filter.csv',index_col=0)\n",
    "d.Class[d['Class']==1] = -1\n",
    "d.Class[d['Class'] == 0] = 1\n",
    "display(d.head())"
   ]
  },
  {
   "cell_type": "code",
   "execution_count": 13,
   "metadata": {
    "ExecuteTime": {
     "end_time": "2020-09-18T18:39:02.872311Z",
     "start_time": "2020-09-18T18:39:02.843325Z"
    }
   },
   "outputs": [],
   "source": [
    "data = d\n",
    "mask = (data['Class'] == 1)\n",
    "\n",
    "X_train, X_test = train_test_split(data[mask], test_size=0.2, random_state=0)\n",
    "X_train = X_train.drop(['Class'], axis=1)\n",
    "X_test = X_test.drop(['Class'], axis=1)\n",
    "X_fraud = data[~mask].drop(['Class'], axis=1)\n",
    "\n",
    "x_test=np.vstack((X_test,X_fraud))\n",
    "y_test=[1]*len(X_test)+[-1]*len(X_fraud)\n",
    "\n",
    "std =StandardScaler()\n",
    "X_train=std.fit_transform(X_train)\n",
    "x_test=std.transform(x_test)\n"
   ]
  },
  {
   "cell_type": "code",
   "execution_count": 14,
   "metadata": {
    "ExecuteTime": {
     "end_time": "2020-09-18T18:39:02.903206Z",
     "start_time": "2020-09-18T18:39:02.875256Z"
    }
   },
   "outputs": [
    {
     "name": "stdout",
     "output_type": "stream",
     "text": [
      "0.7828947368421053\n",
      "              precision    recall  f1-score   support\n",
      "\n",
      "          -1       0.89      0.84      0.86       123\n",
      "           1       0.44      0.55      0.49        29\n",
      "\n",
      "    accuracy                           0.78       152\n",
      "   macro avg       0.67      0.69      0.68       152\n",
      "weighted avg       0.80      0.78      0.79       152\n",
      "\n"
     ]
    }
   ],
   "source": [
    "clf = svm.OneClassSVM(kernel='rbf',nu=0.6)  \n",
    "clf.fit(X_train)  \n",
    "\n",
    "y_pred = clf.predict(x_test)  \n",
    "y_prob = clf.decision_function(x_test)  # the lower, the more normal\n",
    "\n",
    "fpr,tpr,threshold_svc = metrics.roc_curve(y_test,y_prob)     \n",
    "auc_svc = metrics.auc(fpr,tpr)   \n",
    "\n",
    "precision, recall, _ = precision_recall_curve(y_test,y_prob)\n",
    "pr_auc = auc(recall, precision)\n",
    "\n",
    "score_svc = metrics.accuracy_score(y_test,y_pred)\n",
    "\n",
    "print(score_svc)\n",
    "print(classification_report(y_test, y_pred))"
   ]
  },
  {
   "cell_type": "code",
   "execution_count": 15,
   "metadata": {
    "ExecuteTime": {
     "end_time": "2020-09-18T18:39:03.215168Z",
     "start_time": "2020-09-18T18:39:02.906142Z"
    }
   },
   "outputs": [
    {
     "data": {
      "image/png": "[encoded data removed]",
      "text/plain": [
       "<Figure size 1008x432 with 2 Axes>"
      ]
     },
     "metadata": {},
     "output_type": "display_data"
    }
   ],
   "source": [
    "plt.figure(figsize=(14, 6))\n",
    "plt.subplot(121)\n",
    "#plt.figure(figsize=(14, 6))\n",
    "plt.title('Receiver Operating Characteristic \\nAUC = %0.2f'% auc_svc)   \n",
    "plt.plot(fpr, tpr, c='coral', lw=3)\n",
    "plt.plot([0,1],[0,1], c='dodgerblue', ls='--')\n",
    "plt.ylabel('TPR'); plt.xlabel('FPR')\n",
    "\n",
    "plt.subplot(122)\n",
    "plt.title('Precision-Recall curve based on \\nAUC = %0.2f'% pr_auc)\n",
    "plt.plot(recall[:-2], precision[:-2], c='coral', lw=3)\n",
    "plt.xlabel('Recall'); plt.ylabel('Precision')\n",
    "plt.show()"
   ]
  },
  {
   "cell_type": "code",
   "execution_count": null,
   "metadata": {},
   "outputs": [],
   "source": []
  }
 ],
 "metadata": {
  "kernelspec": {
   "display_name": "Python [conda env:crowd] *",
   "language": "python",
   "name": "conda-env-crowd-py"
  },
  "language_info": {
   "codemirror_mode": {
    "name": "ipython",
    "version": 3
   },
   "file_extension": ".py",
   "mimetype": "text/x-python",
   "name": "python",
   "nbconvert_exporter": "python",
   "pygments_lexer": "ipython3",
   "version": "3.8.3"
  },
  "toc": {
   "base_numbering": 1,
   "nav_menu": {},
   "number_sections": true,
   "sideBar": true,
   "skip_h1_title": false,
   "title_cell": "Table of Contents",
   "title_sidebar": "Contents",
   "toc_cell": false,
   "toc_position": {},
   "toc_section_display": true,
   "toc_window_display": false
  }
 },
 "nbformat": 4,
 "nbformat_minor": 4
}
