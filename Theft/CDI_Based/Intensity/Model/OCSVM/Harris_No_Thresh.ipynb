{
 "cells": [
  {
   "cell_type": "code",
   "execution_count": 6,
   "metadata": {
    "ExecuteTime": {
     "end_time": "2020-09-18T18:51:59.826434Z",
     "start_time": "2020-09-18T18:51:59.807515Z"
    }
   },
   "outputs": [],
   "source": [
    "import numpy as np  \n",
    "import matplotlib.pyplot as plt  \n",
    "import matplotlib.font_manager  \n",
    "import pandas as pd\n",
    "from sklearn import svm  \n",
    "from sklearn.model_selection import train_test_split\n",
    "from sklearn.preprocessing import StandardScaler,MinMaxScaler\n",
    "from sklearn import metrics\n",
    "from sklearn.metrics import roc_curve, auc, precision_recall_curve,confusion_matrix,classification_report\n",
    "plt.style.use('seaborn')"
   ]
  },
  {
   "cell_type": "code",
   "execution_count": 7,
   "metadata": {
    "ExecuteTime": {
     "end_time": "2020-09-18T18:51:59.873307Z",
     "start_time": "2020-09-18T18:51:59.828429Z"
    }
   },
   "outputs": [
    {
     "name": "stderr",
     "output_type": "stream",
     "text": [
      "<ipython-input-7-6b6e63f4b6ea>:2: SettingWithCopyWarning: \n",
      "A value is trying to be set on a copy of a slice from a DataFrame\n",
      "\n",
      "See the caveats in the documentation: https://pandas.pydata.org/pandas-docs/stable/user_guide/indexing.html#returning-a-view-versus-a-copy\n",
      "  d.Class[d['Class']==1] = -1\n",
      "<ipython-input-7-6b6e63f4b6ea>:3: SettingWithCopyWarning: \n",
      "A value is trying to be set on a copy of a slice from a DataFrame\n",
      "\n",
      "See the caveats in the documentation: https://pandas.pydata.org/pandas-docs/stable/user_guide/indexing.html#returning-a-view-versus-a-copy\n",
      "  d.Class[d['Class'] == 0] = 1\n"
     ]
    },
    {
     "data": {
      "text/html": [
       "<div>\n",
       "<style scoped>\n",
       "    .dataframe tbody tr th:only-of-type {\n",
       "        vertical-align: middle;\n",
       "    }\n",
       "\n",
       "    .dataframe tbody tr th {\n",
       "        vertical-align: top;\n",
       "    }\n",
       "\n",
       "    .dataframe thead th {\n",
       "        text-align: right;\n",
       "    }\n",
       "</style>\n",
       "<table border=\"1\" class=\"dataframe\">\n",
       "  <thead>\n",
       "    <tr style=\"text-align: right;\">\n",
       "      <th></th>\n",
       "      <th>0</th>\n",
       "      <th>1</th>\n",
       "      <th>2</th>\n",
       "      <th>3</th>\n",
       "      <th>4</th>\n",
       "      <th>5</th>\n",
       "      <th>6</th>\n",
       "      <th>7</th>\n",
       "      <th>8</th>\n",
       "      <th>9</th>\n",
       "      <th>...</th>\n",
       "      <th>19</th>\n",
       "      <th>20</th>\n",
       "      <th>21</th>\n",
       "      <th>22</th>\n",
       "      <th>23</th>\n",
       "      <th>24</th>\n",
       "      <th>25</th>\n",
       "      <th>26</th>\n",
       "      <th>27</th>\n",
       "      <th>Class</th>\n",
       "    </tr>\n",
       "  </thead>\n",
       "  <tbody>\n",
       "    <tr>\n",
       "      <th>0</th>\n",
       "      <td>0.186051</td>\n",
       "      <td>0.115734</td>\n",
       "      <td>0.105940</td>\n",
       "      <td>0.090340</td>\n",
       "      <td>0.067587</td>\n",
       "      <td>0.068618</td>\n",
       "      <td>0.043177</td>\n",
       "      <td>0.037379</td>\n",
       "      <td>0.098534</td>\n",
       "      <td>0.045211</td>\n",
       "      <td>...</td>\n",
       "      <td>0.043724</td>\n",
       "      <td>0.035154</td>\n",
       "      <td>0.034212</td>\n",
       "      <td>0.048864</td>\n",
       "      <td>0.103818</td>\n",
       "      <td>0.060057</td>\n",
       "      <td>0.095416</td>\n",
       "      <td>0.083675</td>\n",
       "      <td>0.118494</td>\n",
       "      <td>1</td>\n",
       "    </tr>\n",
       "    <tr>\n",
       "      <th>1</th>\n",
       "      <td>0.264520</td>\n",
       "      <td>0.245998</td>\n",
       "      <td>0.179000</td>\n",
       "      <td>0.202320</td>\n",
       "      <td>0.551074</td>\n",
       "      <td>0.155879</td>\n",
       "      <td>0.107621</td>\n",
       "      <td>0.191412</td>\n",
       "      <td>0.165450</td>\n",
       "      <td>0.140616</td>\n",
       "      <td>...</td>\n",
       "      <td>0.151866</td>\n",
       "      <td>0.191549</td>\n",
       "      <td>0.202102</td>\n",
       "      <td>0.187331</td>\n",
       "      <td>0.149520</td>\n",
       "      <td>0.148131</td>\n",
       "      <td>0.176308</td>\n",
       "      <td>0.093307</td>\n",
       "      <td>0.099042</td>\n",
       "      <td>1</td>\n",
       "    </tr>\n",
       "    <tr>\n",
       "      <th>2</th>\n",
       "      <td>0.505563</td>\n",
       "      <td>0.445211</td>\n",
       "      <td>0.443958</td>\n",
       "      <td>0.388431</td>\n",
       "      <td>0.354374</td>\n",
       "      <td>0.279811</td>\n",
       "      <td>0.251286</td>\n",
       "      <td>0.315936</td>\n",
       "      <td>0.218632</td>\n",
       "      <td>0.219587</td>\n",
       "      <td>...</td>\n",
       "      <td>0.086878</td>\n",
       "      <td>0.124352</td>\n",
       "      <td>0.173191</td>\n",
       "      <td>0.179403</td>\n",
       "      <td>0.338928</td>\n",
       "      <td>0.179622</td>\n",
       "      <td>0.075383</td>\n",
       "      <td>0.076057</td>\n",
       "      <td>0.145270</td>\n",
       "      <td>1</td>\n",
       "    </tr>\n",
       "    <tr>\n",
       "      <th>3</th>\n",
       "      <td>0.129045</td>\n",
       "      <td>0.085439</td>\n",
       "      <td>0.137238</td>\n",
       "      <td>0.102048</td>\n",
       "      <td>0.135956</td>\n",
       "      <td>0.185653</td>\n",
       "      <td>0.136973</td>\n",
       "      <td>0.127998</td>\n",
       "      <td>0.153883</td>\n",
       "      <td>0.113305</td>\n",
       "      <td>...</td>\n",
       "      <td>0.101442</td>\n",
       "      <td>0.135760</td>\n",
       "      <td>0.101806</td>\n",
       "      <td>0.120929</td>\n",
       "      <td>0.143993</td>\n",
       "      <td>0.084423</td>\n",
       "      <td>0.091170</td>\n",
       "      <td>0.134081</td>\n",
       "      <td>0.093282</td>\n",
       "      <td>1</td>\n",
       "    </tr>\n",
       "    <tr>\n",
       "      <th>4</th>\n",
       "      <td>0.055969</td>\n",
       "      <td>0.040589</td>\n",
       "      <td>0.023734</td>\n",
       "      <td>0.024738</td>\n",
       "      <td>0.052652</td>\n",
       "      <td>0.059079</td>\n",
       "      <td>0.057321</td>\n",
       "      <td>0.046508</td>\n",
       "      <td>0.036479</td>\n",
       "      <td>0.033322</td>\n",
       "      <td>...</td>\n",
       "      <td>0.024607</td>\n",
       "      <td>0.029323</td>\n",
       "      <td>0.027043</td>\n",
       "      <td>0.046598</td>\n",
       "      <td>0.043938</td>\n",
       "      <td>0.026282</td>\n",
       "      <td>0.027995</td>\n",
       "      <td>0.027177</td>\n",
       "      <td>0.023622</td>\n",
       "      <td>1</td>\n",
       "    </tr>\n",
       "  </tbody>\n",
       "</table>\n",
       "<p>5 rows × 29 columns</p>\n",
       "</div>"
      ],
      "text/plain": [
       "          0         1         2         3         4         5         6  \\\n",
       "0  0.186051  0.115734  0.105940  0.090340  0.067587  0.068618  0.043177   \n",
       "1  0.264520  0.245998  0.179000  0.202320  0.551074  0.155879  0.107621   \n",
       "2  0.505563  0.445211  0.443958  0.388431  0.354374  0.279811  0.251286   \n",
       "3  0.129045  0.085439  0.137238  0.102048  0.135956  0.185653  0.136973   \n",
       "4  0.055969  0.040589  0.023734  0.024738  0.052652  0.059079  0.057321   \n",
       "\n",
       "          7         8         9  ...        19        20        21        22  \\\n",
       "0  0.037379  0.098534  0.045211  ...  0.043724  0.035154  0.034212  0.048864   \n",
       "1  0.191412  0.165450  0.140616  ...  0.151866  0.191549  0.202102  0.187331   \n",
       "2  0.315936  0.218632  0.219587  ...  0.086878  0.124352  0.173191  0.179403   \n",
       "3  0.127998  0.153883  0.113305  ...  0.101442  0.135760  0.101806  0.120929   \n",
       "4  0.046508  0.036479  0.033322  ...  0.024607  0.029323  0.027043  0.046598   \n",
       "\n",
       "         23        24        25        26        27  Class  \n",
       "0  0.103818  0.060057  0.095416  0.083675  0.118494      1  \n",
       "1  0.149520  0.148131  0.176308  0.093307  0.099042      1  \n",
       "2  0.338928  0.179622  0.075383  0.076057  0.145270      1  \n",
       "3  0.143993  0.084423  0.091170  0.134081  0.093282      1  \n",
       "4  0.043938  0.026282  0.027995  0.027177  0.023622      1  \n",
       "\n",
       "[5 rows x 29 columns]"
      ]
     },
     "metadata": {},
     "output_type": "display_data"
    }
   ],
   "source": [
    "d = pd.read_csv('C:/Users/jingy/Jupyter/Crime/Theft/CDI_Based/Intensity/CSV/Harris_With_Filter.csv',index_col=0)\n",
    "d.Class[d['Class']==1] = -1\n",
    "d.Class[d['Class'] == 0] = 1\n",
    "display(d.head())"
   ]
  },
  {
   "cell_type": "code",
   "execution_count": 8,
   "metadata": {
    "ExecuteTime": {
     "end_time": "2020-09-18T18:51:59.903389Z",
     "start_time": "2020-09-18T18:51:59.875302Z"
    }
   },
   "outputs": [],
   "source": [
    "data = d\n",
    "mask = (data['Class'] == 1)\n",
    "\n",
    "X_train, X_test = train_test_split(data[mask], test_size=0.2, random_state=0)\n",
    "X_train = X_train.drop(['Class'], axis=1)\n",
    "X_test = X_test.drop(['Class'], axis=1)\n",
    "X_fraud = data[~mask].drop(['Class'], axis=1)\n",
    "\n",
    "x_test=np.vstack((X_test,X_fraud))\n",
    "y_test=[1]*len(X_test)+[-1]*len(X_fraud)\n",
    "\n",
    "std =StandardScaler()\n",
    "X_train=std.fit_transform(X_train)\n",
    "x_test=std.transform(x_test)\n"
   ]
  },
  {
   "cell_type": "code",
   "execution_count": 9,
   "metadata": {
    "ExecuteTime": {
     "end_time": "2020-09-18T18:51:59.919314Z",
     "start_time": "2020-09-18T18:51:59.905325Z"
    }
   },
   "outputs": [
    {
     "name": "stdout",
     "output_type": "stream",
     "text": [
      "0.75\n",
      "              precision    recall  f1-score   support\n",
      "\n",
      "          -1       0.85      0.84      0.84       123\n",
      "           1       0.35      0.38      0.37        29\n",
      "\n",
      "    accuracy                           0.75       152\n",
      "   macro avg       0.60      0.61      0.61       152\n",
      "weighted avg       0.76      0.75      0.75       152\n",
      "\n"
     ]
    }
   ],
   "source": [
    "clf = svm.OneClassSVM(kernel='rbf',nu=0.6)  \n",
    "clf.fit(X_train)  \n",
    "\n",
    "y_pred = clf.predict(x_test)  \n",
    "y_prob = clf.decision_function(x_test)  # the lower, the more normal\n",
    "\n",
    "fpr,tpr,threshold_svc = metrics.roc_curve(y_test,y_prob)     \n",
    "auc_svc = metrics.auc(fpr,tpr)   \n",
    "\n",
    "precision, recall, _ = precision_recall_curve(y_test,y_prob)\n",
    "pr_auc = auc(recall, precision)\n",
    "\n",
    "score_svc = metrics.accuracy_score(y_test,y_pred)\n",
    "\n",
    "print(score_svc)\n",
    "print(classification_report(y_test, y_pred))"
   ]
  },
  {
   "cell_type": "code",
   "execution_count": 10,
   "metadata": {
    "ExecuteTime": {
     "end_time": "2020-09-18T18:52:00.188719Z",
     "start_time": "2020-09-18T18:51:59.920334Z"
    }
   },
   "outputs": [
    {
     "data": {
      "image/png": "[encoded data removed]",
      "text/plain": [
       "<Figure size 1008x432 with 2 Axes>"
      ]
     },
     "metadata": {},
     "output_type": "display_data"
    }
   ],
   "source": [
    "plt.figure(figsize=(14, 6))\n",
    "plt.subplot(121)\n",
    "#plt.figure(figsize=(14, 6))\n",
    "plt.title('Receiver Operating Characteristic \\nAUC = %0.2f'% auc_svc)   \n",
    "plt.plot(fpr, tpr, c='coral', lw=3)\n",
    "plt.plot([0,1],[0,1], c='dodgerblue', ls='--')\n",
    "plt.ylabel('TPR'); plt.xlabel('FPR')\n",
    "\n",
    "plt.subplot(122)\n",
    "plt.title('Precision-Recall curve based on \\nAUC = %0.2f'% pr_auc)\n",
    "plt.plot(recall[:-2], precision[:-2], c='coral', lw=3)\n",
    "plt.xlabel('Recall'); plt.ylabel('Precision')\n",
    "plt.show()"
   ]
  },
  {
   "cell_type": "code",
   "execution_count": null,
   "metadata": {},
   "outputs": [],
   "source": []
  }
 ],
 "metadata": {
  "kernelspec": {
   "display_name": "Python [conda env:crowd] *",
   "language": "python",
   "name": "conda-env-crowd-py"
  },
  "language_info": {
   "codemirror_mode": {
    "name": "ipython",
    "version": 3
   },
   "file_extension": ".py",
   "mimetype": "text/x-python",
   "name": "python",
   "nbconvert_exporter": "python",
   "pygments_lexer": "ipython3",
   "version": "3.8.3"
  },
  "toc": {
   "base_numbering": 1,
   "nav_menu": {},
   "number_sections": true,
   "sideBar": true,
   "skip_h1_title": false,
   "title_cell": "Table of Contents",
   "title_sidebar": "Contents",
   "toc_cell": false,
   "toc_position": {},
   "toc_section_display": true,
   "toc_window_display": false
  }
 },
 "nbformat": 4,
 "nbformat_minor": 4
}
