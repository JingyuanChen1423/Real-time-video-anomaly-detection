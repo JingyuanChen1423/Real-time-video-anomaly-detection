{
 "cells": [
  {
   "cell_type": "code",
   "execution_count": 1,
   "metadata": {
    "ExecuteTime": {
     "end_time": "2020-09-18T19:10:33.570299Z",
     "start_time": "2020-09-18T19:10:31.016661Z"
    }
   },
   "outputs": [],
   "source": [
    "import numpy as np  \n",
    "import matplotlib.pyplot as plt  \n",
    "import matplotlib.font_manager  \n",
    "import pandas as pd\n",
    "from sklearn import svm  \n",
    "from sklearn.model_selection import train_test_split\n",
    "from sklearn.preprocessing import StandardScaler,MinMaxScaler\n",
    "from sklearn import metrics\n",
    "from sklearn.metrics import roc_curve, auc, precision_recall_curve,confusion_matrix,classification_report\n",
    "plt.style.use('seaborn')"
   ]
  },
  {
   "cell_type": "code",
   "execution_count": 2,
   "metadata": {
    "ExecuteTime": {
     "end_time": "2020-09-18T19:10:33.648556Z",
     "start_time": "2020-09-18T19:10:33.574289Z"
    }
   },
   "outputs": [
    {
     "name": "stderr",
     "output_type": "stream",
     "text": [
      "<ipython-input-2-d5f417f79c76>:2: SettingWithCopyWarning: \n",
      "A value is trying to be set on a copy of a slice from a DataFrame\n",
      "\n",
      "See the caveats in the documentation: https://pandas.pydata.org/pandas-docs/stable/user_guide/indexing.html#returning-a-view-versus-a-copy\n",
      "  d.Class[d['Class']==1] = -1\n",
      "<ipython-input-2-d5f417f79c76>:3: SettingWithCopyWarning: \n",
      "A value is trying to be set on a copy of a slice from a DataFrame\n",
      "\n",
      "See the caveats in the documentation: https://pandas.pydata.org/pandas-docs/stable/user_guide/indexing.html#returning-a-view-versus-a-copy\n",
      "  d.Class[d['Class'] == 0] = 1\n"
     ]
    },
    {
     "data": {
      "text/html": [
       "<div>\n",
       "<style scoped>\n",
       "    .dataframe tbody tr th:only-of-type {\n",
       "        vertical-align: middle;\n",
       "    }\n",
       "\n",
       "    .dataframe tbody tr th {\n",
       "        vertical-align: top;\n",
       "    }\n",
       "\n",
       "    .dataframe thead th {\n",
       "        text-align: right;\n",
       "    }\n",
       "</style>\n",
       "<table border=\"1\" class=\"dataframe\">\n",
       "  <thead>\n",
       "    <tr style=\"text-align: right;\">\n",
       "      <th></th>\n",
       "      <th>0</th>\n",
       "      <th>1</th>\n",
       "      <th>2</th>\n",
       "      <th>3</th>\n",
       "      <th>4</th>\n",
       "      <th>5</th>\n",
       "      <th>6</th>\n",
       "      <th>7</th>\n",
       "      <th>8</th>\n",
       "      <th>9</th>\n",
       "      <th>...</th>\n",
       "      <th>18</th>\n",
       "      <th>19</th>\n",
       "      <th>20</th>\n",
       "      <th>21</th>\n",
       "      <th>22</th>\n",
       "      <th>23</th>\n",
       "      <th>24</th>\n",
       "      <th>25</th>\n",
       "      <th>26</th>\n",
       "      <th>Class</th>\n",
       "    </tr>\n",
       "  </thead>\n",
       "  <tbody>\n",
       "    <tr>\n",
       "      <th>0</th>\n",
       "      <td>41823.715</td>\n",
       "      <td>41563.625</td>\n",
       "      <td>37476.820</td>\n",
       "      <td>41042.082</td>\n",
       "      <td>42095.730</td>\n",
       "      <td>40019.664</td>\n",
       "      <td>47015.406</td>\n",
       "      <td>43000.530</td>\n",
       "      <td>39471.367</td>\n",
       "      <td>36874.945</td>\n",
       "      <td>...</td>\n",
       "      <td>40521.580</td>\n",
       "      <td>38558.277</td>\n",
       "      <td>41658.590</td>\n",
       "      <td>39041.824</td>\n",
       "      <td>43815.758</td>\n",
       "      <td>41836.590</td>\n",
       "      <td>42522.973</td>\n",
       "      <td>42072.740</td>\n",
       "      <td>43587.980</td>\n",
       "      <td>1</td>\n",
       "    </tr>\n",
       "    <tr>\n",
       "      <th>1</th>\n",
       "      <td>43518.508</td>\n",
       "      <td>49504.777</td>\n",
       "      <td>44105.477</td>\n",
       "      <td>43600.540</td>\n",
       "      <td>43151.164</td>\n",
       "      <td>36914.094</td>\n",
       "      <td>43724.055</td>\n",
       "      <td>47598.996</td>\n",
       "      <td>51543.240</td>\n",
       "      <td>40687.820</td>\n",
       "      <td>...</td>\n",
       "      <td>44826.840</td>\n",
       "      <td>40914.420</td>\n",
       "      <td>41197.152</td>\n",
       "      <td>40435.797</td>\n",
       "      <td>52056.137</td>\n",
       "      <td>38308.348</td>\n",
       "      <td>38849.523</td>\n",
       "      <td>42279.547</td>\n",
       "      <td>33997.140</td>\n",
       "      <td>1</td>\n",
       "    </tr>\n",
       "    <tr>\n",
       "      <th>2</th>\n",
       "      <td>35669.863</td>\n",
       "      <td>34998.965</td>\n",
       "      <td>35991.562</td>\n",
       "      <td>37525.260</td>\n",
       "      <td>38528.754</td>\n",
       "      <td>37674.734</td>\n",
       "      <td>35113.530</td>\n",
       "      <td>35564.855</td>\n",
       "      <td>37459.320</td>\n",
       "      <td>34255.918</td>\n",
       "      <td>...</td>\n",
       "      <td>38394.570</td>\n",
       "      <td>40916.510</td>\n",
       "      <td>37921.105</td>\n",
       "      <td>37410.080</td>\n",
       "      <td>41592.258</td>\n",
       "      <td>34784.336</td>\n",
       "      <td>39358.715</td>\n",
       "      <td>41374.137</td>\n",
       "      <td>38443.860</td>\n",
       "      <td>1</td>\n",
       "    </tr>\n",
       "    <tr>\n",
       "      <th>3</th>\n",
       "      <td>39280.543</td>\n",
       "      <td>35480.996</td>\n",
       "      <td>32072.943</td>\n",
       "      <td>32681.535</td>\n",
       "      <td>33530.332</td>\n",
       "      <td>41302.000</td>\n",
       "      <td>38464.402</td>\n",
       "      <td>39647.945</td>\n",
       "      <td>38139.156</td>\n",
       "      <td>39574.586</td>\n",
       "      <td>...</td>\n",
       "      <td>38144.340</td>\n",
       "      <td>41048.740</td>\n",
       "      <td>43753.855</td>\n",
       "      <td>41195.203</td>\n",
       "      <td>42834.836</td>\n",
       "      <td>36491.535</td>\n",
       "      <td>40469.453</td>\n",
       "      <td>42898.870</td>\n",
       "      <td>42189.152</td>\n",
       "      <td>1</td>\n",
       "    </tr>\n",
       "    <tr>\n",
       "      <th>4</th>\n",
       "      <td>41922.047</td>\n",
       "      <td>39251.040</td>\n",
       "      <td>39793.890</td>\n",
       "      <td>39247.730</td>\n",
       "      <td>39775.805</td>\n",
       "      <td>39056.723</td>\n",
       "      <td>38552.440</td>\n",
       "      <td>38444.996</td>\n",
       "      <td>41459.754</td>\n",
       "      <td>40050.562</td>\n",
       "      <td>...</td>\n",
       "      <td>45682.133</td>\n",
       "      <td>43115.465</td>\n",
       "      <td>40289.080</td>\n",
       "      <td>39425.207</td>\n",
       "      <td>39668.312</td>\n",
       "      <td>37328.070</td>\n",
       "      <td>42138.820</td>\n",
       "      <td>41106.855</td>\n",
       "      <td>41546.480</td>\n",
       "      <td>1</td>\n",
       "    </tr>\n",
       "  </tbody>\n",
       "</table>\n",
       "<p>5 rows × 28 columns</p>\n",
       "</div>"
      ],
      "text/plain": [
       "           0          1          2          3          4          5  \\\n",
       "0  41823.715  41563.625  37476.820  41042.082  42095.730  40019.664   \n",
       "1  43518.508  49504.777  44105.477  43600.540  43151.164  36914.094   \n",
       "2  35669.863  34998.965  35991.562  37525.260  38528.754  37674.734   \n",
       "3  39280.543  35480.996  32072.943  32681.535  33530.332  41302.000   \n",
       "4  41922.047  39251.040  39793.890  39247.730  39775.805  39056.723   \n",
       "\n",
       "           6          7          8          9  ...         18         19  \\\n",
       "0  47015.406  43000.530  39471.367  36874.945  ...  40521.580  38558.277   \n",
       "1  43724.055  47598.996  51543.240  40687.820  ...  44826.840  40914.420   \n",
       "2  35113.530  35564.855  37459.320  34255.918  ...  38394.570  40916.510   \n",
       "3  38464.402  39647.945  38139.156  39574.586  ...  38144.340  41048.740   \n",
       "4  38552.440  38444.996  41459.754  40050.562  ...  45682.133  43115.465   \n",
       "\n",
       "          20         21         22         23         24         25  \\\n",
       "0  41658.590  39041.824  43815.758  41836.590  42522.973  42072.740   \n",
       "1  41197.152  40435.797  52056.137  38308.348  38849.523  42279.547   \n",
       "2  37921.105  37410.080  41592.258  34784.336  39358.715  41374.137   \n",
       "3  43753.855  41195.203  42834.836  36491.535  40469.453  42898.870   \n",
       "4  40289.080  39425.207  39668.312  37328.070  42138.820  41106.855   \n",
       "\n",
       "          26  Class  \n",
       "0  43587.980      1  \n",
       "1  33997.140      1  \n",
       "2  38443.860      1  \n",
       "3  42189.152      1  \n",
       "4  41546.480      1  \n",
       "\n",
       "[5 rows x 28 columns]"
      ]
     },
     "metadata": {},
     "output_type": "display_data"
    }
   ],
   "source": [
    "d = pd.read_csv('C:/Users/jingy/Jupyter/Crime/Theft/CDI_Based/Intensity/CSV/Optical_Ang.csv',index_col=0)\n",
    "d.Class[d['Class']==1] = -1\n",
    "d.Class[d['Class'] == 0] = 1\n",
    "display(d.head())"
   ]
  },
  {
   "cell_type": "code",
   "execution_count": 3,
   "metadata": {
    "ExecuteTime": {
     "end_time": "2020-09-18T19:10:33.695397Z",
     "start_time": "2020-09-18T19:10:33.654506Z"
    }
   },
   "outputs": [],
   "source": [
    "data = d\n",
    "mask = (data['Class'] == 1)\n",
    "\n",
    "X_train, X_test = train_test_split(data[mask], test_size=0.2, random_state=0)\n",
    "X_train = X_train.drop(['Class'], axis=1)\n",
    "X_test = X_test.drop(['Class'], axis=1)\n",
    "X_fraud = data[~mask].drop(['Class'], axis=1)\n",
    "\n",
    "x_test=np.vstack((X_test,X_fraud))\n",
    "y_test=[1]*len(X_test)+[-1]*len(X_fraud)\n",
    "\n",
    "std =StandardScaler()\n",
    "X_train=std.fit_transform(X_train)\n",
    "x_test=std.transform(x_test)\n"
   ]
  },
  {
   "cell_type": "code",
   "execution_count": 4,
   "metadata": {
    "ExecuteTime": {
     "end_time": "2020-09-18T19:10:33.727312Z",
     "start_time": "2020-09-18T19:10:33.698392Z"
    }
   },
   "outputs": [
    {
     "name": "stdout",
     "output_type": "stream",
     "text": [
      "0.6776315789473685\n",
      "              precision    recall  f1-score   support\n",
      "\n",
      "          -1       0.84      0.74      0.79       123\n",
      "           1       0.27      0.41      0.33        29\n",
      "\n",
      "    accuracy                           0.68       152\n",
      "   macro avg       0.56      0.58      0.56       152\n",
      "weighted avg       0.73      0.68      0.70       152\n",
      "\n"
     ]
    }
   ],
   "source": [
    "clf = svm.OneClassSVM(kernel='rbf',nu=0.5)  \n",
    "clf.fit(X_train)  \n",
    "\n",
    "y_pred = clf.predict(x_test)  \n",
    "y_prob = clf.decision_function(x_test)  # the lower, the more normal\n",
    "\n",
    "fpr,tpr,threshold_svc = metrics.roc_curve(y_test,y_prob)     \n",
    "auc_svc = metrics.auc(fpr,tpr)   \n",
    "\n",
    "precision, recall, _ = precision_recall_curve(y_test,y_prob)\n",
    "pr_auc = auc(recall, precision)\n",
    "\n",
    "score_svc = metrics.accuracy_score(y_test,y_pred)\n",
    "\n",
    "print(score_svc)\n",
    "print(classification_report(y_test, y_pred))"
   ]
  },
  {
   "cell_type": "code",
   "execution_count": 5,
   "metadata": {
    "ExecuteTime": {
     "end_time": "2020-09-18T19:10:34.041379Z",
     "start_time": "2020-09-18T19:10:33.731303Z"
    }
   },
   "outputs": [
    {
     "data": {
      "image/png": "[encoded data removed]",
      "text/plain": [
       "<Figure size 1008x432 with 2 Axes>"
      ]
     },
     "metadata": {},
     "output_type": "display_data"
    }
   ],
   "source": [
    "plt.figure(figsize=(14, 6))\n",
    "plt.subplot(121)\n",
    "#plt.figure(figsize=(14, 6))\n",
    "plt.title('Receiver Operating Characteristic \\nAUC = %0.2f'% auc_svc)   \n",
    "plt.plot(fpr, tpr, c='coral', lw=3)\n",
    "plt.plot([0,1],[0,1], c='dodgerblue', ls='--')\n",
    "plt.ylabel('TPR'); plt.xlabel('FPR')\n",
    "\n",
    "plt.subplot(122)\n",
    "plt.title('Precision-Recall curve based on \\nAUC = %0.2f'% pr_auc)\n",
    "plt.plot(recall[:-2], precision[:-2], c='coral', lw=3)\n",
    "plt.xlabel('Recall'); plt.ylabel('Precision')\n",
    "plt.show()"
   ]
  },
  {
   "cell_type": "code",
   "execution_count": null,
   "metadata": {},
   "outputs": [],
   "source": []
  }
 ],
 "metadata": {
  "kernelspec": {
   "display_name": "Python [conda env:crowd] *",
   "language": "python",
   "name": "conda-env-crowd-py"
  },
  "language_info": {
   "codemirror_mode": {
    "name": "ipython",
    "version": 3
   },
   "file_extension": ".py",
   "mimetype": "text/x-python",
   "name": "python",
   "nbconvert_exporter": "python",
   "pygments_lexer": "ipython3",
   "version": "3.8.3"
  },
  "toc": {
   "base_numbering": 1,
   "nav_menu": {},
   "number_sections": true,
   "sideBar": true,
   "skip_h1_title": false,
   "title_cell": "Table of Contents",
   "title_sidebar": "Contents",
   "toc_cell": false,
   "toc_position": {},
   "toc_section_display": true,
   "toc_window_display": false
  }
 },
 "nbformat": 4,
 "nbformat_minor": 4
}
