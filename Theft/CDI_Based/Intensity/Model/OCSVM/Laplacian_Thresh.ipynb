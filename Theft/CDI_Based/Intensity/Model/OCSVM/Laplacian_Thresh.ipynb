{
 "cells": [
  {
   "cell_type": "code",
   "execution_count": 16,
   "metadata": {
    "ExecuteTime": {
     "end_time": "2020-09-18T18:39:10.321135Z",
     "start_time": "2020-09-18T18:39:10.251321Z"
    }
   },
   "outputs": [],
   "source": [
    "import numpy as np  \n",
    "import matplotlib.pyplot as plt  \n",
    "import matplotlib.font_manager  \n",
    "import pandas as pd\n",
    "from sklearn import svm  \n",
    "from sklearn.model_selection import train_test_split\n",
    "from sklearn.preprocessing import StandardScaler,MinMaxScaler\n",
    "from sklearn import metrics\n",
    "from sklearn.metrics import roc_curve, auc, precision_recall_curve,confusion_matrix,classification_report\n",
    "plt.style.use('seaborn')"
   ]
  },
  {
   "cell_type": "code",
   "execution_count": 17,
   "metadata": {
    "ExecuteTime": {
     "end_time": "2020-09-18T18:39:10.352053Z",
     "start_time": "2020-09-18T18:39:10.323129Z"
    }
   },
   "outputs": [
    {
     "data": {
      "text/html": [
       "<div>\n",
       "<style scoped>\n",
       "    .dataframe tbody tr th:only-of-type {\n",
       "        vertical-align: middle;\n",
       "    }\n",
       "\n",
       "    .dataframe tbody tr th {\n",
       "        vertical-align: top;\n",
       "    }\n",
       "\n",
       "    .dataframe thead th {\n",
       "        text-align: right;\n",
       "    }\n",
       "</style>\n",
       "<table border=\"1\" class=\"dataframe\">\n",
       "  <thead>\n",
       "    <tr style=\"text-align: right;\">\n",
       "      <th></th>\n",
       "      <th>0</th>\n",
       "      <th>1</th>\n",
       "      <th>2</th>\n",
       "      <th>3</th>\n",
       "      <th>4</th>\n",
       "      <th>5</th>\n",
       "      <th>6</th>\n",
       "      <th>7</th>\n",
       "      <th>8</th>\n",
       "      <th>9</th>\n",
       "      <th>...</th>\n",
       "      <th>19</th>\n",
       "      <th>20</th>\n",
       "      <th>21</th>\n",
       "      <th>22</th>\n",
       "      <th>23</th>\n",
       "      <th>24</th>\n",
       "      <th>25</th>\n",
       "      <th>26</th>\n",
       "      <th>27</th>\n",
       "      <th>Class</th>\n",
       "    </tr>\n",
       "  </thead>\n",
       "  <tbody>\n",
       "    <tr>\n",
       "      <th>0</th>\n",
       "      <td>3366000</td>\n",
       "      <td>2755020</td>\n",
       "      <td>2829990</td>\n",
       "      <td>3029655</td>\n",
       "      <td>2665260</td>\n",
       "      <td>2501550</td>\n",
       "      <td>2368950</td>\n",
       "      <td>2014245</td>\n",
       "      <td>2236095</td>\n",
       "      <td>2193255</td>\n",
       "      <td>...</td>\n",
       "      <td>1522350</td>\n",
       "      <td>1613130</td>\n",
       "      <td>1410405</td>\n",
       "      <td>1977780</td>\n",
       "      <td>3449895</td>\n",
       "      <td>1872465</td>\n",
       "      <td>1432590</td>\n",
       "      <td>1382355</td>\n",
       "      <td>1500420</td>\n",
       "      <td>1</td>\n",
       "    </tr>\n",
       "    <tr>\n",
       "      <th>1</th>\n",
       "      <td>3734730</td>\n",
       "      <td>3889515</td>\n",
       "      <td>3425160</td>\n",
       "      <td>3070455</td>\n",
       "      <td>3432300</td>\n",
       "      <td>3095700</td>\n",
       "      <td>2603550</td>\n",
       "      <td>2936835</td>\n",
       "      <td>3349170</td>\n",
       "      <td>3108195</td>\n",
       "      <td>...</td>\n",
       "      <td>3253035</td>\n",
       "      <td>3924705</td>\n",
       "      <td>3319845</td>\n",
       "      <td>3701580</td>\n",
       "      <td>3317295</td>\n",
       "      <td>2895780</td>\n",
       "      <td>3369825</td>\n",
       "      <td>2334525</td>\n",
       "      <td>2401080</td>\n",
       "      <td>1</td>\n",
       "    </tr>\n",
       "    <tr>\n",
       "      <th>2</th>\n",
       "      <td>5408550</td>\n",
       "      <td>3895890</td>\n",
       "      <td>3554190</td>\n",
       "      <td>4857750</td>\n",
       "      <td>4553790</td>\n",
       "      <td>2768790</td>\n",
       "      <td>2930205</td>\n",
       "      <td>4293435</td>\n",
       "      <td>3209940</td>\n",
       "      <td>3612330</td>\n",
       "      <td>...</td>\n",
       "      <td>1567230</td>\n",
       "      <td>2275365</td>\n",
       "      <td>3617175</td>\n",
       "      <td>3869115</td>\n",
       "      <td>5447565</td>\n",
       "      <td>3243345</td>\n",
       "      <td>1443300</td>\n",
       "      <td>1833705</td>\n",
       "      <td>3740085</td>\n",
       "      <td>1</td>\n",
       "    </tr>\n",
       "    <tr>\n",
       "      <th>3</th>\n",
       "      <td>2826165</td>\n",
       "      <td>1355070</td>\n",
       "      <td>986595</td>\n",
       "      <td>1118940</td>\n",
       "      <td>2388075</td>\n",
       "      <td>3125280</td>\n",
       "      <td>2862120</td>\n",
       "      <td>2587230</td>\n",
       "      <td>2222325</td>\n",
       "      <td>1919130</td>\n",
       "      <td>...</td>\n",
       "      <td>1489200</td>\n",
       "      <td>1496595</td>\n",
       "      <td>1511385</td>\n",
       "      <td>2094570</td>\n",
       "      <td>2360280</td>\n",
       "      <td>1448400</td>\n",
       "      <td>1611345</td>\n",
       "      <td>1974210</td>\n",
       "      <td>1839825</td>\n",
       "      <td>1</td>\n",
       "    </tr>\n",
       "    <tr>\n",
       "      <th>4</th>\n",
       "      <td>2869005</td>\n",
       "      <td>1819425</td>\n",
       "      <td>776985</td>\n",
       "      <td>901935</td>\n",
       "      <td>2347530</td>\n",
       "      <td>2623185</td>\n",
       "      <td>2521185</td>\n",
       "      <td>2110380</td>\n",
       "      <td>1627665</td>\n",
       "      <td>1379040</td>\n",
       "      <td>...</td>\n",
       "      <td>1108485</td>\n",
       "      <td>1072530</td>\n",
       "      <td>1251285</td>\n",
       "      <td>2336310</td>\n",
       "      <td>2557650</td>\n",
       "      <td>1523625</td>\n",
       "      <td>1317585</td>\n",
       "      <td>1125060</td>\n",
       "      <td>1027395</td>\n",
       "      <td>1</td>\n",
       "    </tr>\n",
       "  </tbody>\n",
       "</table>\n",
       "<p>5 rows × 29 columns</p>\n",
       "</div>"
      ],
      "text/plain": [
       "         0        1        2        3        4        5        6        7  \\\n",
       "0  3366000  2755020  2829990  3029655  2665260  2501550  2368950  2014245   \n",
       "1  3734730  3889515  3425160  3070455  3432300  3095700  2603550  2936835   \n",
       "2  5408550  3895890  3554190  4857750  4553790  2768790  2930205  4293435   \n",
       "3  2826165  1355070   986595  1118940  2388075  3125280  2862120  2587230   \n",
       "4  2869005  1819425   776985   901935  2347530  2623185  2521185  2110380   \n",
       "\n",
       "         8        9  ...       19       20       21       22       23  \\\n",
       "0  2236095  2193255  ...  1522350  1613130  1410405  1977780  3449895   \n",
       "1  3349170  3108195  ...  3253035  3924705  3319845  3701580  3317295   \n",
       "2  3209940  3612330  ...  1567230  2275365  3617175  3869115  5447565   \n",
       "3  2222325  1919130  ...  1489200  1496595  1511385  2094570  2360280   \n",
       "4  1627665  1379040  ...  1108485  1072530  1251285  2336310  2557650   \n",
       "\n",
       "        24       25       26       27  Class  \n",
       "0  1872465  1432590  1382355  1500420      1  \n",
       "1  2895780  3369825  2334525  2401080      1  \n",
       "2  3243345  1443300  1833705  3740085      1  \n",
       "3  1448400  1611345  1974210  1839825      1  \n",
       "4  1523625  1317585  1125060  1027395      1  \n",
       "\n",
       "[5 rows x 29 columns]"
      ]
     },
     "metadata": {},
     "output_type": "display_data"
    }
   ],
   "source": [
    "d = pd.read_csv('C:/Users/jingy/Jupyter/Crime/Theft/CDI_Based/Intensity/CSV/Laplacian_No_Filter.csv',index_col=0)\n",
    "d.Class[d['Class']==1] = -1\n",
    "d.Class[d['Class'] == 0] = 1\n",
    "display(d.head())"
   ]
  },
  {
   "cell_type": "code",
   "execution_count": 18,
   "metadata": {
    "ExecuteTime": {
     "end_time": "2020-09-18T18:39:10.381973Z",
     "start_time": "2020-09-18T18:39:10.355045Z"
    }
   },
   "outputs": [],
   "source": [
    "data = d\n",
    "mask = (data['Class'] == 1)\n",
    "\n",
    "X_train, X_test = train_test_split(data[mask], test_size=0.2, random_state=0)\n",
    "X_train = X_train.drop(['Class'], axis=1)\n",
    "X_test = X_test.drop(['Class'], axis=1)\n",
    "X_fraud = data[~mask].drop(['Class'], axis=1)\n",
    "\n",
    "x_test=np.vstack((X_test,X_fraud))\n",
    "y_test=[1]*len(X_test)+[-1]*len(X_fraud)\n",
    "\n",
    "std =StandardScaler()\n",
    "X_train=std.fit_transform(X_train)\n",
    "x_test=std.transform(x_test)\n"
   ]
  },
  {
   "cell_type": "code",
   "execution_count": 19,
   "metadata": {
    "ExecuteTime": {
     "end_time": "2020-09-18T18:39:10.412891Z",
     "start_time": "2020-09-18T18:39:10.383968Z"
    }
   },
   "outputs": [
    {
     "name": "stdout",
     "output_type": "stream",
     "text": [
      "0.8092105263157895\n",
      "              precision    recall  f1-score   support\n",
      "\n",
      "          -1       0.87      0.90      0.88       123\n",
      "           1       0.50      0.41      0.45        29\n",
      "\n",
      "    accuracy                           0.81       152\n",
      "   macro avg       0.68      0.66      0.67       152\n",
      "weighted avg       0.80      0.81      0.80       152\n",
      "\n"
     ]
    }
   ],
   "source": [
    "clf = svm.OneClassSVM(kernel='rbf',nu=0.6)  \n",
    "clf.fit(X_train)  \n",
    "\n",
    "y_pred = clf.predict(x_test)  \n",
    "y_prob = clf.decision_function(x_test)  # the lower, the more normal\n",
    "\n",
    "fpr,tpr,threshold_svc = metrics.roc_curve(y_test,y_prob)     \n",
    "auc_svc = metrics.auc(fpr,tpr)   \n",
    "\n",
    "precision, recall, _ = precision_recall_curve(y_test,y_prob)\n",
    "pr_auc = auc(recall, precision)\n",
    "\n",
    "score_svc = metrics.accuracy_score(y_test,y_pred)\n",
    "\n",
    "print(score_svc)\n",
    "print(classification_report(y_test, y_pred))"
   ]
  },
  {
   "cell_type": "code",
   "execution_count": 20,
   "metadata": {
    "ExecuteTime": {
     "end_time": "2020-09-18T18:39:10.665215Z",
     "start_time": "2020-09-18T18:39:10.415882Z"
    }
   },
   "outputs": [
    {
     "data": {
      "image/png": "[encoded data removed]",
      "text/plain": [
       "<Figure size 1008x432 with 2 Axes>"
      ]
     },
     "metadata": {},
     "output_type": "display_data"
    }
   ],
   "source": [
    "plt.figure(figsize=(14, 6))\n",
    "plt.subplot(121)\n",
    "#plt.figure(figsize=(14, 6))\n",
    "plt.title('Receiver Operating Characteristic \\nAUC = %0.2f'% auc_svc)   \n",
    "plt.plot(fpr, tpr, c='coral', lw=3)\n",
    "plt.plot([0,1],[0,1], c='dodgerblue', ls='--')\n",
    "plt.ylabel('TPR'); plt.xlabel('FPR')\n",
    "\n",
    "plt.subplot(122)\n",
    "plt.title('Precision-Recall curve based on \\nAUC = %0.2f'% pr_auc)\n",
    "plt.plot(recall[:-2], precision[:-2], c='coral', lw=3)\n",
    "plt.xlabel('Recall'); plt.ylabel('Precision')\n",
    "plt.show()"
   ]
  },
  {
   "cell_type": "code",
   "execution_count": null,
   "metadata": {},
   "outputs": [],
   "source": []
  }
 ],
 "metadata": {
  "kernelspec": {
   "display_name": "Python [conda env:crowd] *",
   "language": "python",
   "name": "conda-env-crowd-py"
  },
  "language_info": {
   "codemirror_mode": {
    "name": "ipython",
    "version": 3
   },
   "file_extension": ".py",
   "mimetype": "text/x-python",
   "name": "python",
   "nbconvert_exporter": "python",
   "pygments_lexer": "ipython3",
   "version": "3.8.3"
  },
  "toc": {
   "base_numbering": 1,
   "nav_menu": {},
   "number_sections": true,
   "sideBar": true,
   "skip_h1_title": false,
   "title_cell": "Table of Contents",
   "title_sidebar": "Contents",
   "toc_cell": false,
   "toc_position": {},
   "toc_section_display": true,
   "toc_window_display": false
  }
 },
 "nbformat": 4,
 "nbformat_minor": 4
}
