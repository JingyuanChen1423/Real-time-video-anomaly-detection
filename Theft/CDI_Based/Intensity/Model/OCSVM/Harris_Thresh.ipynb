{
 "cells": [
  {
   "cell_type": "code",
   "execution_count": 6,
   "metadata": {
    "ExecuteTime": {
     "end_time": "2020-09-18T18:49:00.320960Z",
     "start_time": "2020-09-18T18:49:00.311474Z"
    }
   },
   "outputs": [],
   "source": [
    "import numpy as np  \n",
    "import matplotlib.pyplot as plt  \n",
    "import matplotlib.font_manager  \n",
    "import pandas as pd\n",
    "from sklearn import svm  \n",
    "from sklearn.model_selection import train_test_split\n",
    "from sklearn.preprocessing import StandardScaler,MinMaxScaler\n",
    "from sklearn import metrics\n",
    "from sklearn.metrics import roc_curve, auc, precision_recall_curve,confusion_matrix,classification_report\n",
    "plt.style.use('seaborn')"
   ]
  },
  {
   "cell_type": "code",
   "execution_count": 7,
   "metadata": {
    "ExecuteTime": {
     "end_time": "2020-09-18T18:49:00.366837Z",
     "start_time": "2020-09-18T18:49:00.323952Z"
    }
   },
   "outputs": [
    {
     "name": "stderr",
     "output_type": "stream",
     "text": [
      "<ipython-input-7-aaf7616243a6>:2: SettingWithCopyWarning: \n",
      "A value is trying to be set on a copy of a slice from a DataFrame\n",
      "\n",
      "See the caveats in the documentation: https://pandas.pydata.org/pandas-docs/stable/user_guide/indexing.html#returning-a-view-versus-a-copy\n",
      "  d.Class[d['Class']==1] = -1\n",
      "<ipython-input-7-aaf7616243a6>:3: SettingWithCopyWarning: \n",
      "A value is trying to be set on a copy of a slice from a DataFrame\n",
      "\n",
      "See the caveats in the documentation: https://pandas.pydata.org/pandas-docs/stable/user_guide/indexing.html#returning-a-view-versus-a-copy\n",
      "  d.Class[d['Class'] == 0] = 1\n"
     ]
    },
    {
     "data": {
      "text/html": [
       "<div>\n",
       "<style scoped>\n",
       "    .dataframe tbody tr th:only-of-type {\n",
       "        vertical-align: middle;\n",
       "    }\n",
       "\n",
       "    .dataframe tbody tr th {\n",
       "        vertical-align: top;\n",
       "    }\n",
       "\n",
       "    .dataframe thead th {\n",
       "        text-align: right;\n",
       "    }\n",
       "</style>\n",
       "<table border=\"1\" class=\"dataframe\">\n",
       "  <thead>\n",
       "    <tr style=\"text-align: right;\">\n",
       "      <th></th>\n",
       "      <th>0</th>\n",
       "      <th>1</th>\n",
       "      <th>2</th>\n",
       "      <th>3</th>\n",
       "      <th>4</th>\n",
       "      <th>5</th>\n",
       "      <th>6</th>\n",
       "      <th>7</th>\n",
       "      <th>8</th>\n",
       "      <th>9</th>\n",
       "      <th>...</th>\n",
       "      <th>19</th>\n",
       "      <th>20</th>\n",
       "      <th>21</th>\n",
       "      <th>22</th>\n",
       "      <th>23</th>\n",
       "      <th>24</th>\n",
       "      <th>25</th>\n",
       "      <th>26</th>\n",
       "      <th>27</th>\n",
       "      <th>Class</th>\n",
       "    </tr>\n",
       "  </thead>\n",
       "  <tbody>\n",
       "    <tr>\n",
       "      <th>0</th>\n",
       "      <td>8702895.0</td>\n",
       "      <td>7822125.0</td>\n",
       "      <td>7977165.0</td>\n",
       "      <td>8336715.0</td>\n",
       "      <td>7543665.0</td>\n",
       "      <td>7204770.0</td>\n",
       "      <td>7019640.0</td>\n",
       "      <td>6174570.0</td>\n",
       "      <td>6573900.0</td>\n",
       "      <td>6584355.0</td>\n",
       "      <td>...</td>\n",
       "      <td>4850865.0</td>\n",
       "      <td>5131110.0</td>\n",
       "      <td>4438530.0</td>\n",
       "      <td>5480205.0</td>\n",
       "      <td>8476455.0</td>\n",
       "      <td>5380755.0</td>\n",
       "      <td>4319955.0</td>\n",
       "      <td>4103205.0</td>\n",
       "      <td>4357695.0</td>\n",
       "      <td>1</td>\n",
       "    </tr>\n",
       "    <tr>\n",
       "      <th>1</th>\n",
       "      <td>9272055.0</td>\n",
       "      <td>9612990.0</td>\n",
       "      <td>8949480.0</td>\n",
       "      <td>8290560.0</td>\n",
       "      <td>8668470.0</td>\n",
       "      <td>8069475.0</td>\n",
       "      <td>7088490.0</td>\n",
       "      <td>7715025.0</td>\n",
       "      <td>8439990.0</td>\n",
       "      <td>8129910.0</td>\n",
       "      <td>...</td>\n",
       "      <td>8204625.0</td>\n",
       "      <td>9601770.0</td>\n",
       "      <td>8300250.0</td>\n",
       "      <td>8825805.0</td>\n",
       "      <td>8180145.0</td>\n",
       "      <td>7635975.0</td>\n",
       "      <td>8716155.0</td>\n",
       "      <td>6454815.0</td>\n",
       "      <td>6523665.0</td>\n",
       "      <td>1</td>\n",
       "    </tr>\n",
       "    <tr>\n",
       "      <th>2</th>\n",
       "      <td>12299925.0</td>\n",
       "      <td>10031955.0</td>\n",
       "      <td>9532410.0</td>\n",
       "      <td>11581335.0</td>\n",
       "      <td>11438280.0</td>\n",
       "      <td>7724715.0</td>\n",
       "      <td>7944780.0</td>\n",
       "      <td>11011155.0</td>\n",
       "      <td>9040005.0</td>\n",
       "      <td>9620130.0</td>\n",
       "      <td>...</td>\n",
       "      <td>4928640.0</td>\n",
       "      <td>6581295.0</td>\n",
       "      <td>10021245.0</td>\n",
       "      <td>10227285.0</td>\n",
       "      <td>12263715.0</td>\n",
       "      <td>9085395.0</td>\n",
       "      <td>4619580.0</td>\n",
       "      <td>5410335.0</td>\n",
       "      <td>10280070.0</td>\n",
       "      <td>1</td>\n",
       "    </tr>\n",
       "    <tr>\n",
       "      <th>3</th>\n",
       "      <td>7505670.0</td>\n",
       "      <td>4026705.0</td>\n",
       "      <td>2764710.0</td>\n",
       "      <td>3217845.0</td>\n",
       "      <td>6535650.0</td>\n",
       "      <td>8089110.0</td>\n",
       "      <td>7637250.0</td>\n",
       "      <td>7196355.0</td>\n",
       "      <td>6361230.0</td>\n",
       "      <td>5555685.0</td>\n",
       "      <td>...</td>\n",
       "      <td>4403340.0</td>\n",
       "      <td>4432410.0</td>\n",
       "      <td>4456125.0</td>\n",
       "      <td>5669160.0</td>\n",
       "      <td>6325530.0</td>\n",
       "      <td>4359990.0</td>\n",
       "      <td>4788900.0</td>\n",
       "      <td>5636265.0</td>\n",
       "      <td>5230050.0</td>\n",
       "      <td>1</td>\n",
       "    </tr>\n",
       "    <tr>\n",
       "      <th>4</th>\n",
       "      <td>7991955.0</td>\n",
       "      <td>5726280.0</td>\n",
       "      <td>2689995.0</td>\n",
       "      <td>3049545.0</td>\n",
       "      <td>6869955.0</td>\n",
       "      <td>7474050.0</td>\n",
       "      <td>7209105.0</td>\n",
       "      <td>6322980.0</td>\n",
       "      <td>5264475.0</td>\n",
       "      <td>4516560.0</td>\n",
       "      <td>...</td>\n",
       "      <td>3757170.0</td>\n",
       "      <td>3598050.0</td>\n",
       "      <td>4082040.0</td>\n",
       "      <td>6345420.0</td>\n",
       "      <td>7001535.0</td>\n",
       "      <td>5038290.0</td>\n",
       "      <td>4502535.0</td>\n",
       "      <td>3825000.0</td>\n",
       "      <td>3552150.0</td>\n",
       "      <td>1</td>\n",
       "    </tr>\n",
       "  </tbody>\n",
       "</table>\n",
       "<p>5 rows × 29 columns</p>\n",
       "</div>"
      ],
      "text/plain": [
       "            0           1          2           3           4          5  \\\n",
       "0   8702895.0   7822125.0  7977165.0   8336715.0   7543665.0  7204770.0   \n",
       "1   9272055.0   9612990.0  8949480.0   8290560.0   8668470.0  8069475.0   \n",
       "2  12299925.0  10031955.0  9532410.0  11581335.0  11438280.0  7724715.0   \n",
       "3   7505670.0   4026705.0  2764710.0   3217845.0   6535650.0  8089110.0   \n",
       "4   7991955.0   5726280.0  2689995.0   3049545.0   6869955.0  7474050.0   \n",
       "\n",
       "           6           7          8          9  ...         19         20  \\\n",
       "0  7019640.0   6174570.0  6573900.0  6584355.0  ...  4850865.0  5131110.0   \n",
       "1  7088490.0   7715025.0  8439990.0  8129910.0  ...  8204625.0  9601770.0   \n",
       "2  7944780.0  11011155.0  9040005.0  9620130.0  ...  4928640.0  6581295.0   \n",
       "3  7637250.0   7196355.0  6361230.0  5555685.0  ...  4403340.0  4432410.0   \n",
       "4  7209105.0   6322980.0  5264475.0  4516560.0  ...  3757170.0  3598050.0   \n",
       "\n",
       "           21          22          23         24         25         26  \\\n",
       "0   4438530.0   5480205.0   8476455.0  5380755.0  4319955.0  4103205.0   \n",
       "1   8300250.0   8825805.0   8180145.0  7635975.0  8716155.0  6454815.0   \n",
       "2  10021245.0  10227285.0  12263715.0  9085395.0  4619580.0  5410335.0   \n",
       "3   4456125.0   5669160.0   6325530.0  4359990.0  4788900.0  5636265.0   \n",
       "4   4082040.0   6345420.0   7001535.0  5038290.0  4502535.0  3825000.0   \n",
       "\n",
       "           27  Class  \n",
       "0   4357695.0      1  \n",
       "1   6523665.0      1  \n",
       "2  10280070.0      1  \n",
       "3   5230050.0      1  \n",
       "4   3552150.0      1  \n",
       "\n",
       "[5 rows x 29 columns]"
      ]
     },
     "metadata": {},
     "output_type": "display_data"
    }
   ],
   "source": [
    "d = pd.read_csv('C:/Users/jingy/Jupyter/Crime/Theft/CDI_Based/Intensity/CSV/Harris_No_Filter.csv',index_col=0)\n",
    "d.Class[d['Class']==1] = -1\n",
    "d.Class[d['Class'] == 0] = 1\n",
    "display(d.head())"
   ]
  },
  {
   "cell_type": "code",
   "execution_count": 8,
   "metadata": {
    "ExecuteTime": {
     "end_time": "2020-09-18T18:49:00.398631Z",
     "start_time": "2020-09-18T18:49:00.368834Z"
    }
   },
   "outputs": [],
   "source": [
    "data = d\n",
    "mask = (data['Class'] == 1)\n",
    "\n",
    "X_train, X_test = train_test_split(data[mask], test_size=0.2, random_state=0)\n",
    "X_train = X_train.drop(['Class'], axis=1)\n",
    "X_test = X_test.drop(['Class'], axis=1)\n",
    "X_fraud = data[~mask].drop(['Class'], axis=1)\n",
    "\n",
    "x_test=np.vstack((X_test,X_fraud))\n",
    "y_test=[1]*len(X_test)+[-1]*len(X_fraud)\n",
    "\n",
    "std =MinMaxScaler()\n",
    "X_train=std.fit_transform(X_train)\n",
    "x_test=std.transform(x_test)\n"
   ]
  },
  {
   "cell_type": "code",
   "execution_count": 9,
   "metadata": {
    "ExecuteTime": {
     "end_time": "2020-09-18T18:49:00.430183Z",
     "start_time": "2020-09-18T18:49:00.400626Z"
    }
   },
   "outputs": [
    {
     "name": "stdout",
     "output_type": "stream",
     "text": [
      "0.7302631578947368\n",
      "              precision    recall  f1-score   support\n",
      "\n",
      "          -1       0.84      0.82      0.83       123\n",
      "           1       0.31      0.34      0.33        29\n",
      "\n",
      "    accuracy                           0.73       152\n",
      "   macro avg       0.58      0.58      0.58       152\n",
      "weighted avg       0.74      0.73      0.74       152\n",
      "\n"
     ]
    }
   ],
   "source": [
    "clf = svm.OneClassSVM(kernel='rbf',nu=0.6)  \n",
    "clf.fit(X_train)  \n",
    "\n",
    "y_pred = clf.predict(x_test)  \n",
    "y_prob = clf.decision_function(x_test)  # the lower, the more normal\n",
    "\n",
    "fpr,tpr,threshold_svc = metrics.roc_curve(y_test,y_prob)     \n",
    "auc_svc = metrics.auc(fpr,tpr)   \n",
    "\n",
    "precision, recall, _ = precision_recall_curve(y_test,y_prob)\n",
    "pr_auc = auc(recall, precision)\n",
    "\n",
    "score_svc = metrics.accuracy_score(y_test,y_pred)\n",
    "\n",
    "print(score_svc)\n",
    "print(classification_report(y_test, y_pred))"
   ]
  },
  {
   "cell_type": "code",
   "execution_count": 10,
   "metadata": {
    "ExecuteTime": {
     "end_time": "2020-09-18T18:49:00.696720Z",
     "start_time": "2020-09-18T18:49:00.433224Z"
    }
   },
   "outputs": [
    {
     "data": {
      "image/png": "[encoded data removed]",
      "text/plain": [
       "<Figure size 1008x432 with 2 Axes>"
      ]
     },
     "metadata": {},
     "output_type": "display_data"
    }
   ],
   "source": [
    "plt.figure(figsize=(14, 6))\n",
    "plt.subplot(121)\n",
    "#plt.figure(figsize=(14, 6))\n",
    "plt.title('Receiver Operating Characteristic \\nAUC = %0.2f'% auc_svc)   \n",
    "plt.plot(fpr, tpr, c='coral', lw=3)\n",
    "plt.plot([0,1],[0,1], c='dodgerblue', ls='--')\n",
    "plt.ylabel('TPR'); plt.xlabel('FPR')\n",
    "\n",
    "plt.subplot(122)\n",
    "plt.title('Precision-Recall curve based on \\nAUC = %0.2f'% pr_auc)\n",
    "plt.plot(recall[:-2], precision[:-2], c='coral', lw=3)\n",
    "plt.xlabel('Recall'); plt.ylabel('Precision')\n",
    "plt.show()"
   ]
  },
  {
   "cell_type": "code",
   "execution_count": null,
   "metadata": {},
   "outputs": [],
   "source": []
  }
 ],
 "metadata": {
  "kernelspec": {
   "display_name": "Python [conda env:crowd] *",
   "language": "python",
   "name": "conda-env-crowd-py"
  },
  "language_info": {
   "codemirror_mode": {
    "name": "ipython",
    "version": 3
   },
   "file_extension": ".py",
   "mimetype": "text/x-python",
   "name": "python",
   "nbconvert_exporter": "python",
   "pygments_lexer": "ipython3",
   "version": "3.8.3"
  },
  "toc": {
   "base_numbering": 1,
   "nav_menu": {},
   "number_sections": true,
   "sideBar": true,
   "skip_h1_title": false,
   "title_cell": "Table of Contents",
   "title_sidebar": "Contents",
   "toc_cell": false,
   "toc_position": {},
   "toc_section_display": true,
   "toc_window_display": false
  }
 },
 "nbformat": 4,
 "nbformat_minor": 4
}
