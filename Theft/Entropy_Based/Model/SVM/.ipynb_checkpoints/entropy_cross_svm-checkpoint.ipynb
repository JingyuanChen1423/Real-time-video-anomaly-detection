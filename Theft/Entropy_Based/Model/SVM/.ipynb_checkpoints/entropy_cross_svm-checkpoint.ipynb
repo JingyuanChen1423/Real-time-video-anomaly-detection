{
 "cells": [
  {
   "cell_type": "code",
   "execution_count": 9,
   "metadata": {
    "ExecuteTime": {
     "end_time": "2020-09-13T19:30:37.849742Z",
     "start_time": "2020-09-13T19:30:37.820820Z"
    }
   },
   "outputs": [],
   "source": [
    "import os\n",
    "import sys\n",
    "import pandas as pd\n",
    "import pandas_profiling\n",
    "import numpy as np\n",
    "from sklearn.model_selection import train_test_split\n",
    "from sklearn.preprocessing import StandardScaler,MinMaxScaler\n",
    "\n",
    "d = pd.read_csv('C:/Users/jingy/Jupyter/Crime/Fire/Entropy_Based/CSV/Gray_entropy.csv',index_col=0)\n",
    "#display(d.head())"
   ]
  },
  {
   "cell_type": "code",
   "execution_count": 10,
   "metadata": {
    "ExecuteTime": {
     "end_time": "2020-09-13T19:30:37.864675Z",
     "start_time": "2020-09-13T19:30:37.852735Z"
    }
   },
   "outputs": [],
   "source": [
    "data = d\n",
    "X_train, X_test = train_test_split(data, test_size=0.2, random_state=0)\n",
    "Y_train,Y_test=X_train['Class'].values,X_test['Class'].values\n",
    "X_train = X_train.drop(['Class'], axis=1).values\n",
    "X_test = X_test.drop(['Class'], axis=1).values\n",
    "\n",
    "std=StandardScaler()\n",
    "X_train=std.fit_transform(X_train)\n",
    "X_test=std.transform(X_test)"
   ]
  },
  {
   "cell_type": "code",
   "execution_count": 11,
   "metadata": {
    "ExecuteTime": {
     "end_time": "2020-09-13T19:30:38.006326Z",
     "start_time": "2020-09-13T19:30:37.868660Z"
    }
   },
   "outputs": [
    {
     "name": "stdout",
     "output_type": "stream",
     "text": [
      "Test: 0.6667 0.6470 | Train: 0.7897 0.8870\n",
      "Test: 0.6296 0.6429 | Train: 0.8598 0.9416\n",
      "Test: 0.6296 0.6332 | Train: 0.8972 0.9674\n",
      "Test: 0.6111 0.6346 | Train: 0.9252 0.9800\n",
      "Test: 0.6296 0.6442 | Train: 0.9346 0.9878\n",
      "Test: 0.6667 0.6456 | Train: 0.9393 0.9912\n",
      "Test: 0.6667 0.6484 | Train: 0.9439 0.9937\n"
     ]
    }
   ],
   "source": [
    "from sklearn.svm import SVC\n",
    "from sklearn import metrics\n",
    "for i in range(1,8):\n",
    "    svc = SVC(kernel='rbf',C=i,degree=3,probability = True).fit(X_train,Y_train)\n",
    "    \n",
    "    test_prob = svc.decision_function(X_test) \n",
    "    test_pred = svc.predict(X_test)    \n",
    "    \n",
    "    train_prob = svc.decision_function(X_train) \n",
    "    train_pred = svc.predict(X_train)    \n",
    "    \n",
    "    fpr_test,tpr_test,_ = metrics.roc_curve(Y_test,test_prob)     \n",
    "    auc_test = metrics.auc(fpr_test,tpr_test)                              \n",
    "    score_test = metrics.accuracy_score(Y_test,test_pred)\n",
    "    \n",
    "    fpr_train,tpr_train,_ = metrics.roc_curve(Y_train,train_prob)     \n",
    "    auc_train = metrics.auc(fpr_train,tpr_train)                              \n",
    "    score_train = metrics.accuracy_score(Y_train,train_pred)\n",
    "    \n",
    "    print('Test: %.4f' %score_test,'%.4f' %auc_test,'|',\"Train: %.4f\" %score_train,'%.4f' %auc_train)"
   ]
  },
  {
   "cell_type": "code",
   "execution_count": 12,
   "metadata": {
    "ExecuteTime": {
     "end_time": "2020-09-13T19:30:42.782993Z",
     "start_time": "2020-09-13T19:30:38.008292Z"
    }
   },
   "outputs": [
    {
     "name": "stdout",
     "output_type": "stream",
     "text": [
      "Test: 0.6481\n",
      "Test: 0.6852\n",
      "Test: 0.5556\n",
      "Test: 0.6296\n",
      "Test: 0.6296\n",
      "Test: 0.6667\n",
      "Test: 0.7037\n",
      "Test: 0.7222\n",
      "Test: 0.6667\n",
      "Test: 0.5926\n",
      "Test: 0.6111\n",
      "Test: 0.6296\n",
      "Test: 0.6111\n",
      "Test: 0.6481\n",
      "Test: 0.5000\n",
      "Test: 0.6111\n",
      "Test: 0.6852\n",
      "Test: 0.6852\n",
      "Test: 0.5556\n",
      "Test: 0.6852\n",
      "Test: 0.6667\n",
      "Test: 0.7593\n",
      "Test: 0.6296\n",
      "Test: 0.6852\n",
      "Test: 0.6667\n",
      "Test: 0.7407\n",
      "Test: 0.6296\n",
      "Test: 0.7593\n",
      "Test: 0.6111\n",
      "Test: 0.7037\n",
      "0.6524691358024691\n"
     ]
    }
   ],
   "source": [
    "list_score=[]\n",
    "for i in range(30):\n",
    "    X_train, X_test = train_test_split(data, test_size=0.2, random_state=i)\n",
    "    Y_train,Y_test=X_train['Class'].values,X_test['Class'].values\n",
    "    X_train = X_train.drop(['Class'], axis=1).values\n",
    "    X_test = X_test.drop(['Class'], axis=1).values\n",
    "\n",
    "    std=MinMaxScaler()\n",
    "    X_train=std.fit_transform(X_train)\n",
    "    X_test=std.transform(X_test)\n",
    "    best_score=[]\n",
    "    for j in range(1,10):\n",
    "        svc = SVC(kernel='rbf',C=j,degree=6,probability = True).fit(X_train,Y_train)\n",
    "\n",
    "        test_prob = svc.decision_function(X_test) \n",
    "        test_pred = svc.predict(X_test)    \n",
    "\n",
    "        train_prob = svc.decision_function(X_train) \n",
    "        train_pred = svc.predict(X_train)    \n",
    "\n",
    "        fpr_test,tpr_test,_ = metrics.roc_curve(Y_test,test_prob)     \n",
    "        auc_test = metrics.auc(fpr_test,tpr_test)                              \n",
    "        score_test = metrics.accuracy_score(Y_test,test_pred)\n",
    "\n",
    "        fpr_train,tpr_train,_ = metrics.roc_curve(Y_train,train_prob)     \n",
    "        auc_train = metrics.auc(fpr_train,tpr_train)                              \n",
    "        score_train = metrics.accuracy_score(Y_train,train_pred)\n",
    "        best_score.append(score_test)\n",
    "    score=max(best_score)\n",
    "    list_score.append(score)\n",
    "        #print('Test: %.4f' %score_test,'%.4f' %auc_test,'|',\"Train: %.4f\" %score_train,'%.4f' %auc_train)\n",
    "    print('Test: %.4f' %score)\n",
    "print(np.mean(np.array(list_score)))"
   ]
  },
  {
   "cell_type": "code",
   "execution_count": 13,
   "metadata": {
    "ExecuteTime": {
     "end_time": "2020-09-13T19:30:42.814947Z",
     "start_time": "2020-09-13T19:30:42.784990Z"
    }
   },
   "outputs": [],
   "source": [
    "d = pd.read_csv('C:/Users/jingy/Jupyter/Crime/Fire/Entropy_Based/CSV/Gray_cross.csv',index_col=0)\n",
    "#display(d.head())"
   ]
  },
  {
   "cell_type": "code",
   "execution_count": 14,
   "metadata": {
    "ExecuteTime": {
     "end_time": "2020-09-13T19:30:42.830896Z",
     "start_time": "2020-09-13T19:30:42.816904Z"
    }
   },
   "outputs": [],
   "source": [
    "data = d\n",
    "X_train, X_test = train_test_split(data, test_size=0.2, random_state=0)\n",
    "Y_train,Y_test=X_train['Class'].values,X_test['Class'].values\n",
    "X_train = X_train.drop(['Class'], axis=1).values\n",
    "X_test = X_test.drop(['Class'], axis=1).values\n",
    "std=StandardScaler()\n",
    "X_train=std.fit_transform(X_train)\n",
    "X_test=std.transform(X_test)"
   ]
  },
  {
   "cell_type": "code",
   "execution_count": 15,
   "metadata": {
    "ExecuteTime": {
     "end_time": "2020-09-13T19:30:43.004403Z",
     "start_time": "2020-09-13T19:30:42.833893Z"
    }
   },
   "outputs": [
    {
     "name": "stdout",
     "output_type": "stream",
     "text": [
      "Test: 0.6667 0.7390 | Train: 0.8411 0.9227\n",
      "Test: 0.6667 0.7527 | Train: 0.9065 0.9670\n",
      "Test: 0.6667 0.7527 | Train: 0.9112 0.9791\n",
      "Test: 0.6667 0.7445 | Train: 0.9299 0.9867\n",
      "Test: 0.6667 0.7555 | Train: 0.9439 0.9935\n",
      "Test: 0.6852 0.7486 | Train: 0.9673 0.9964\n",
      "Test: 0.6852 0.7431 | Train: 0.9720 0.9981\n"
     ]
    }
   ],
   "source": [
    "from sklearn.svm import SVC\n",
    "from sklearn import metrics\n",
    "for i in range(1,8):\n",
    "    svc = SVC(kernel='rbf',C=i,degree=3,probability = True).fit(X_train,Y_train)\n",
    "    \n",
    "    test_prob = svc.decision_function(X_test) \n",
    "    test_pred = svc.predict(X_test)    \n",
    "    \n",
    "    train_prob = svc.decision_function(X_train) \n",
    "    train_pred = svc.predict(X_train)    \n",
    "    \n",
    "    fpr_test,tpr_test,_ = metrics.roc_curve(Y_test,test_prob)     \n",
    "    auc_test = metrics.auc(fpr_test,tpr_test)                              \n",
    "    score_test = metrics.accuracy_score(Y_test,test_pred)\n",
    "    \n",
    "    fpr_train,tpr_train,_ = metrics.roc_curve(Y_train,train_prob)     \n",
    "    auc_train = metrics.auc(fpr_train,tpr_train)                              \n",
    "    score_train = metrics.accuracy_score(Y_train,train_pred)\n",
    "    \n",
    "    print('Test: %.4f' %score_test,'%.4f' %auc_test,'|',\"Train: %.4f\" %score_train,'%.4f' %auc_train)"
   ]
  },
  {
   "cell_type": "code",
   "execution_count": 16,
   "metadata": {
    "ExecuteTime": {
     "end_time": "2020-09-13T19:30:47.860038Z",
     "start_time": "2020-09-13T19:30:43.007395Z"
    }
   },
   "outputs": [
    {
     "name": "stdout",
     "output_type": "stream",
     "text": [
      "Test: 0.6852\n",
      "Test: 0.7037\n",
      "Test: 0.6111\n",
      "Test: 0.7037\n",
      "Test: 0.6481\n",
      "Test: 0.6296\n",
      "Test: 0.7222\n",
      "Test: 0.7222\n",
      "Test: 0.7593\n",
      "Test: 0.6852\n",
      "Test: 0.6852\n",
      "Test: 0.6852\n",
      "Test: 0.6481\n",
      "Test: 0.7037\n",
      "Test: 0.6481\n",
      "Test: 0.7407\n",
      "Test: 0.7593\n",
      "Test: 0.7778\n",
      "Test: 0.6481\n",
      "Test: 0.7037\n",
      "Test: 0.6296\n",
      "Test: 0.7407\n",
      "Test: 0.7037\n",
      "Test: 0.7407\n",
      "Test: 0.7593\n",
      "Test: 0.6481\n",
      "Test: 0.7037\n",
      "Test: 0.7407\n",
      "Test: 0.7222\n",
      "Test: 0.7593\n",
      "0.7006172839506172\n"
     ]
    }
   ],
   "source": [
    "list_score=[]\n",
    "for i in range(30):\n",
    "    X_train, X_test = train_test_split(data, test_size=0.2, random_state=i)\n",
    "    Y_train,Y_test=X_train['Class'].values,X_test['Class'].values\n",
    "    X_train = X_train.drop(['Class'], axis=1).values\n",
    "    X_test = X_test.drop(['Class'], axis=1).values\n",
    "\n",
    "    std=StandardScaler()\n",
    "    X_train=std.fit_transform(X_train)\n",
    "    X_test=std.transform(X_test)\n",
    "    best_score=[]\n",
    "    for j in range(1,10):\n",
    "        svc = SVC(kernel='rbf',C=j,degree=6,probability = True).fit(X_train,Y_train)\n",
    "\n",
    "        test_prob = svc.decision_function(X_test) \n",
    "        test_pred = svc.predict(X_test)    \n",
    "\n",
    "        train_prob = svc.decision_function(X_train) \n",
    "        train_pred = svc.predict(X_train)    \n",
    "\n",
    "        fpr_test,tpr_test,_ = metrics.roc_curve(Y_test,test_prob)     \n",
    "        auc_test = metrics.auc(fpr_test,tpr_test)                              \n",
    "        score_test = metrics.accuracy_score(Y_test,test_pred)\n",
    "\n",
    "        fpr_train,tpr_train,_ = metrics.roc_curve(Y_train,train_prob)     \n",
    "        auc_train = metrics.auc(fpr_train,tpr_train)                              \n",
    "        score_train = metrics.accuracy_score(Y_train,train_pred)\n",
    "        best_score.append(score_test)\n",
    "    score=max(best_score)\n",
    "    list_score.append(score)\n",
    "        #print('Test: %.4f' %score_test,'%.4f' %auc_test,'|',\"Train: %.4f\" %score_train,'%.4f' %auc_train)\n",
    "    print('Test: %.4f' %score)\n",
    "print(np.mean(np.array(list_score)))"
   ]
  }
 ],
 "metadata": {
  "kernelspec": {
   "display_name": "Python [conda env:crowd] *",
   "language": "python",
   "name": "conda-env-crowd-py"
  },
  "language_info": {
   "codemirror_mode": {
    "name": "ipython",
    "version": 3
   },
   "file_extension": ".py",
   "mimetype": "text/x-python",
   "name": "python",
   "nbconvert_exporter": "python",
   "pygments_lexer": "ipython3",
   "version": "3.8.3"
  },
  "toc": {
   "base_numbering": 1,
   "nav_menu": {},
   "number_sections": true,
   "sideBar": true,
   "skip_h1_title": false,
   "title_cell": "Table of Contents",
   "title_sidebar": "Contents",
   "toc_cell": false,
   "toc_position": {},
   "toc_section_display": true,
   "toc_window_display": false
  }
 },
 "nbformat": 4,
 "nbformat_minor": 4
}
